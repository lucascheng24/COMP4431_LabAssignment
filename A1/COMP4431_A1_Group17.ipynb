{
 "cells": [
  {
   "cell_type": "code",
   "execution_count": 1,
   "metadata": {},
   "outputs": [],
   "source": [
    "import networkx as nx\n",
    "from typing import List\n",
    "import matplotlib.pyplot as plt\n",
    "\n",
    "def solve(transmissions: List[List[int]], num_servers: int) -> int: \n",
    "\n",
    "    G = nx.DiGraph()\n",
    "    G.add_nodes_from(range(num_servers))\n",
    "\n",
    "    # Add edges\n",
    "    for transmission in transmissions:\n",
    "        G.add_edge(transmission[0], transmission[1])\n",
    "\n",
    "    counter = 0\n",
    "    parent_Nodes: set = {0}\n",
    "    current_Nodes = set({0})\n",
    "    node_children_set = set()\n",
    "\n",
    "    # find the children node of targeted nodes\n",
    "    # do while\n",
    "    while True:\n",
    "\n",
    "        for node in current_Nodes:\n",
    "            # find children of parent_Nodes\n",
    "            targeted_node_ins = G.in_edges(node)\n",
    "            targeted_node_outs = G.out_edges(node)\n",
    "\n",
    "            # handle in edges\n",
    "            for pointingIn_edge in list(targeted_node_ins):\n",
    "                a, b = pointingIn_edge\n",
    "                if (a not in parent_Nodes):\n",
    "                    node_children_set.add(a)\n",
    "\n",
    "            # handle out edges\n",
    "            for pointingOut_edge in list(targeted_node_outs):\n",
    "                a, b = pointingOut_edge\n",
    "                # do some checking\n",
    "                if (b not in parent_Nodes):\n",
    "                    print('change arrow direction from (', a, \"->\", b, \") to (\", b, \"->\", a, \")\")\n",
    "                    G.remove_edge(a, b)\n",
    "                    G.add_edge(b, a)\n",
    "                    node_children_set.add(b)\n",
    "                    counter+=1\n",
    "            \n",
    "        # update node \n",
    "        parent_Nodes  =  current_Nodes\n",
    "        current_Nodes = node_children_set\n",
    "        node_children_set = set()\n",
    "\n",
    "        # break the loop when next current node is empty\n",
    "        if current_Nodes == None or len(current_Nodes) == 0:\n",
    "            break\n",
    "            \n",
    "    print(\"\\nNumber of changed edge: \", counter)\n",
    "\n",
    "    # check if all node point to 0\n",
    "    unconnected_list = []\n",
    "    # Check if central server has a path to every other server\n",
    "    for i in range(num_servers):\n",
    "        if nx.has_path(G, i, 0) == False:\n",
    "            unconnected_list.append(i)\n",
    "\n",
    "    print(\"\\nNumber of node cannot point to source[0]: \", len(unconnected_list))\n",
    "    \n",
    "\n",
    "    if len(unconnected_list) > 0:\n",
    "        print(\"Nodes that cannot point to source[0]: \", unconnected_list)\n",
    "        return -1\n",
    "\n",
    "    return counter"
   ]
  },
  {
   "cell_type": "code",
   "execution_count": 2,
   "metadata": {},
   "outputs": [
    {
     "name": "stdout",
     "output_type": "stream",
     "text": [
      "change arrow direction from ( 1 -> 2 ) to ( 2 -> 1 )\n",
      "change arrow direction from ( 4 -> 5 ) to ( 5 -> 4 )\n",
      "\n",
      "Number of changed edge:  2\n",
      "\n",
      "Number of node cannot point to source[0]:  0\n",
      "Passed test case 1...\n"
     ]
    }
   ],
   "source": [
    "# test case 1\n",
    "transmissions = [[1, 0], [3, 1], [1, 2], [4,0], [4,5]]\n",
    "num_servers = 6\n",
    "answer = 2\n",
    "result = solve(transmissions, num_servers)\n",
    "assert result == answer, f\"Test case 1: expected {answer}, got {result}\"\n",
    "print('Passed test case 1...')"
   ]
  },
  {
   "cell_type": "code",
   "execution_count": 3,
   "metadata": {},
   "outputs": [
    {
     "name": "stdout",
     "output_type": "stream",
     "text": [
      "\n",
      "Number of changed edge:  0\n",
      "\n",
      "Number of node cannot point to source[0]:  0\n",
      "Passed test case 2...\n"
     ]
    }
   ],
   "source": [
    "# test case 2\n",
    "transmissions = [[1, 0], [3, 1], [2, 3]]\n",
    "num_servers = 4\n",
    "answer = 0\n",
    "result = solve(transmissions, num_servers)\n",
    "assert result == answer, f\"Test case 2: expected {answer}, got {result}\"\n",
    "print('Passed test case 2...')"
   ]
  },
  {
   "cell_type": "code",
   "execution_count": 4,
   "metadata": {},
   "outputs": [
    {
     "name": "stdout",
     "output_type": "stream",
     "text": [
      "change arrow direction from ( 0 -> 4 ) to ( 4 -> 0 )\n",
      "change arrow direction from ( 1 -> 6 ) to ( 6 -> 1 )\n",
      "change arrow direction from ( 2 -> 3 ) to ( 3 -> 2 )\n",
      "change arrow direction from ( 6 -> 7 ) to ( 7 -> 6 )\n",
      "\n",
      "Number of changed edge:  4\n",
      "\n",
      "Number of node cannot point to source[0]:  0\n",
      "Passed test case 3...\n"
     ]
    }
   ],
   "source": [
    "# test case 3\n",
    "transmissions = [[1, 0], [0,4], [2,4], [5,1], [1,6], [2,3], [6,7]]\n",
    "num_servers = 8\n",
    "answer = 4\n",
    "result = solve(transmissions, num_servers)\n",
    "assert result == answer, f\"Test case 3: expected {answer}, got {result}\"\n",
    "print('Passed test case 3...')"
   ]
  },
  {
   "cell_type": "code",
   "execution_count": 5,
   "metadata": {},
   "outputs": [
    {
     "name": "stdout",
     "output_type": "stream",
     "text": [
      "change arrow direction from ( 0 -> 4 ) to ( 4 -> 0 )\n",
      "change arrow direction from ( 1 -> 6 ) to ( 6 -> 1 )\n",
      "change arrow direction from ( 2 -> 3 ) to ( 3 -> 2 )\n",
      "change arrow direction from ( 6 -> 7 ) to ( 7 -> 6 )\n",
      "\n",
      "Number of changed edge:  4\n",
      "\n",
      "Number of node cannot point to source[0]:  2\n",
      "Nodes that cannot point to source[0]:  [8, 9]\n",
      "Passed test case 4...\n"
     ]
    }
   ],
   "source": [
    "# test case 4\n",
    "transmissions = [[1, 0], [0,4], [2,4], [5,1], [1,6], [2,3], [6,7], [8,9]]\n",
    "num_servers = 10\n",
    "answer = -1\n",
    "result = solve(transmissions, num_servers)\n",
    "assert result == answer, f\"Test case 4: expected {answer}, got {result}\"\n",
    "print('Passed test case 4...')"
   ]
  }
 ],
 "metadata": {
  "kernelspec": {
   "display_name": "Python 3",
   "language": "python",
   "name": "python3"
  },
  "language_info": {
   "codemirror_mode": {
    "name": "ipython",
    "version": 3
   },
   "file_extension": ".py",
   "mimetype": "text/x-python",
   "name": "python",
   "nbconvert_exporter": "python",
   "pygments_lexer": "ipython3",
   "version": "3.11.4"
  }
 },
 "nbformat": 4,
 "nbformat_minor": 2
}
