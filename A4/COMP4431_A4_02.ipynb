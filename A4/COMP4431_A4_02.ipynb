{
 "cells": [
  {
   "cell_type": "code",
   "execution_count": 1,
   "metadata": {},
   "outputs": [],
   "source": [
    "import os\n",
    "import numpy as np\n",
    "import pandas as pd\n",
    "from PIL import Image\n",
    "import matplotlib.pyplot as plt\n",
    "from sklearn import preprocessing\n",
    "from scipy.spatial import distance\n",
    "from sklearn.cluster import KMeans\n",
    "from sklearn.metrics import silhouette_score\n",
    "from sklearn.preprocessing import MinMaxScaler\n",
    "from sklearn.metrics import pairwise_distances\n",
    "from sklearn.metrics import adjusted_rand_score\n",
    "from sklearn.metrics import davies_bouldin_score\n",
    "from sklearn.neighbors import KNeighborsClassifier\n",
    "from sklearn.cluster import AgglomerativeClustering\n"
   ]
  },
  {
   "cell_type": "code",
   "execution_count": 2,
   "metadata": {},
   "outputs": [
    {
     "name": "stdout",
     "output_type": "stream",
     "text": [
      "Shape of X_public: (3000, 784)\n"
     ]
    }
   ],
   "source": [
    "def read_data_from_csv(path):\n",
    "    \"\"\"Load datasets from CSV files.\n",
    "    Args:\n",
    "        path (str): Path to the CSV file.\n",
    "    Returns:\n",
    "        X (np.ndarray): Features of samples.\n",
    "        y (np.ndarray): Labels of samples, only provided in the public datasets.\n",
    "    \"\"\"\n",
    "    assert os.path.exists(path), f'File not found: {path}!'\n",
    "    assert os.path.splitext(path)[\n",
    "        -1] == '.csv', f'Unsupported file type {os.path.splitext(path)[-1]}!'\n",
    "\n",
    "    data = pd.read_csv(path)\n",
    "    column_list = data.columns.values.tolist()\n",
    "\n",
    "    if 'Label' in column_list:\n",
    "        # for the public dataset, label column is provided.\n",
    "        column_list.remove('Label')\n",
    "        X = data[column_list].values\n",
    "        y = data['Label'].astype('int').values\n",
    "        return X, y\n",
    "    else:\n",
    "        # for the private dataset, label column is not provided.\n",
    "        X = data[column_list].values\n",
    "        return X\n",
    "\n",
    "X_public = read_data_from_csv('assignment_4_public.csv')\n",
    "print('Shape of X_public:', X_public.shape)\n",
    "\n",
    "\n",
    "# Our implement code\n",
    "scaler = MinMaxScaler()\n",
    "X_normalized = scaler.fit_transform(X_public)\n",
    "\n",
    "\n",
    "\n",
    "\n",
    "# export the result to csv\n",
    "submission = pd.DataFrame({'Label': preds})\n",
    "submission.to_csv('assignment_4.csv', index=True, index_label='Id')"
   ]
  },
  {
   "cell_type": "code",
   "execution_count": 3,
   "metadata": {},
   "outputs": [],
   "source": [
    "kmeans = KMeans(n_clusters=7, random_state=0, n_init=10)\n",
    "# kmeans = KMeans(n_clusters=5, random_state=0)\n",
    "\n",
    "\n",
    "kmeans.fit(X_normalized)\n",
    "preds = kmeans.labels_"
   ]
  },
  {
   "cell_type": "code",
   "execution_count": 4,
   "metadata": {},
   "outputs": [],
   "source": [
    "def run_silScore_Kmeans(start, end, x_data):\n",
    "\n",
    "    for i in range(start, end+1):\n",
    "        #  Run model\n",
    "        kmeans = KMeans(n_clusters=i, random_state=0, n_init=10)\n",
    "        kmeans.fit(x_data)\n",
    "        preds = kmeans.labels_\n",
    "\n",
    "        silhouette_avg = silhouette_score(x_data, preds)\n",
    "        print(\"The Silhouette score of \",  i, \" clustering is:\", silhouette_avg)"
   ]
  },
  {
   "cell_type": "code",
   "execution_count": 5,
   "metadata": {},
   "outputs": [
    {
     "name": "stdout",
     "output_type": "stream",
     "text": [
      "The Silhouette score of  2  clustering is: 0.2021366100910641\n",
      "The Silhouette score of  3  clustering is: 0.19218709632654576\n",
      "The Silhouette score of  4  clustering is: 0.19619066770730031\n",
      "The Silhouette score of  5  clustering is: 0.16340727177454903\n",
      "The Silhouette score of  6  clustering is: 0.15726491876408735\n",
      "The Silhouette score of  7  clustering is: 0.15263987653918293\n",
      "The Silhouette score of  8  clustering is: 0.14060211178682744\n",
      "The Silhouette score of  9  clustering is: 0.13517294682517436\n",
      "The Silhouette score of  10  clustering is: 0.13822270938928588\n",
      "The Silhouette score of  11  clustering is: 0.12990498463572428\n"
     ]
    }
   ],
   "source": [
    "run_silScore_Kmeans(2, 11, X_normalized)"
   ]
  },
  {
   "cell_type": "code",
   "execution_count": 6,
   "metadata": {},
   "outputs": [],
   "source": [
    "# try hierarchical clustering\n",
    "def run_silScore_Hierar(start, end, X_public):\n",
    "\n",
    "    for i in range(start, end+1):\n",
    "        #  Run model\n",
    "        agg_clustering = AgglomerativeClustering(n_clusters=i)\n",
    "        agg_clustering.fit(X_public)\n",
    "        preds = agg_clustering.labels_\n",
    "\n",
    "        silhouette_avg = silhouette_score(X_public, preds)\n",
    "        print(\"The Silhouette score of \",  i, \" clustering is:\", silhouette_avg)\n"
   ]
  },
  {
   "cell_type": "code",
   "execution_count": 7,
   "metadata": {},
   "outputs": [
    {
     "name": "stdout",
     "output_type": "stream",
     "text": [
      "The Silhouette score of  2  clustering is: 0.17139249952972613\n",
      "The Silhouette score of  3  clustering is: 0.16806957137240286\n",
      "The Silhouette score of  4  clustering is: 0.17827236111183653\n",
      "The Silhouette score of  5  clustering is: 0.1593330984274979\n",
      "The Silhouette score of  6  clustering is: 0.17328816455371748\n",
      "The Silhouette score of  7  clustering is: 0.13028257047495287\n",
      "The Silhouette score of  8  clustering is: 0.10917634085821112\n",
      "The Silhouette score of  9  clustering is: 0.10563334060469272\n",
      "The Silhouette score of  10  clustering is: 0.11205942065952319\n",
      "The Silhouette score of  11  clustering is: 0.10770343636092493\n"
     ]
    }
   ],
   "source": [
    "run_silScore_Hierar(2, 11, X_public)"
   ]
  },
  {
   "cell_type": "markdown",
   "metadata": {},
   "source": [
    "For hierarchical clustering, 4 and 6 seem the best.<br>\n",
    "And K-mean, 2, 4 and 5 are also good clusters"
   ]
  },
  {
   "cell_type": "code",
   "execution_count": 8,
   "metadata": {},
   "outputs": [],
   "source": [
    "def comparsionIndex(num_cluster, x_data, preds):\n",
    "    print(\"\\n\\nClustering result/score of \", num_cluster, \": \")\n",
    "    # Calculate Silhouette Coefficient\n",
    "    silhouette_avg = silhouette_score(x_data, preds)\n",
    "    print(\"Silhouette Coefficient:\", silhouette_avg)\n",
    "\n",
    "    # Calculate Davies-Bouldin Index\n",
    "    davies_bouldin_index = davies_bouldin_score(x_data, preds)\n",
    "    print(\"Davies-Bouldin Index:\", davies_bouldin_index)\n",
    "\n",
    "    # Calculate Dunn Index\n",
    "    distances = pairwise_distances(x_data)\n",
    "    min_inter_cluster_distance = distance.cdist(x_data, x_data)[preds != preds[:, None]].min()\n",
    "    max_intra_cluster_distance = distances[preds == preds[:, None]].max()\n",
    "    dunn_index = min_inter_cluster_distance / max_intra_cluster_distance\n",
    "    print(\"Dunn Index:\", dunn_index)"
   ]
  },
  {
   "cell_type": "markdown",
   "metadata": {},
   "source": [
    "Silhouette Coefficient: in between 1 and -1. It is better when closer to 1.\n",
    "\n",
    "Davies-Bouldin Index: is the <b>lower</b> the better clustering.\n",
    "\n",
    "Dunn Index: is the <b>higher</b> the better\n"
   ]
  },
  {
   "cell_type": "code",
   "execution_count": 9,
   "metadata": {},
   "outputs": [
    {
     "name": "stdout",
     "output_type": "stream",
     "text": [
      "\n",
      "\n",
      "Clustering result/score of  2 : \n",
      "Silhouette Coefficient: 0.2021366100910641\n",
      "Davies-Bouldin Index: 1.7695002307827108\n",
      "Dunn Index: 0.12236488554632793\n",
      "\n",
      "\n",
      "Clustering result/score of  3 : \n",
      "Silhouette Coefficient: 0.19218709632654576\n",
      "Davies-Bouldin Index: 1.7381384681926655\n",
      "Dunn Index: 0.12051730760191069\n",
      "\n",
      "\n",
      "Clustering result/score of  4 : \n",
      "Silhouette Coefficient: 0.19619066770730031\n",
      "Davies-Bouldin Index: 1.824353488486126\n",
      "Dunn Index: 0.12194701435017224\n",
      "\n",
      "\n",
      "Clustering result/score of  5 : \n",
      "Silhouette Coefficient: 0.16340727177454903\n",
      "Davies-Bouldin Index: 1.9229197080888256\n",
      "Dunn Index: 0.14494718187781444\n",
      "\n",
      "\n",
      "Clustering result/score of  6 : \n",
      "Silhouette Coefficient: 0.15726491876408735\n",
      "Davies-Bouldin Index: 1.904549178087236\n",
      "Dunn Index: 0.11391932734150427\n",
      "\n",
      "\n",
      "Clustering result/score of  7 : \n",
      "Silhouette Coefficient: 0.15263987653918293\n",
      "Davies-Bouldin Index: 1.8728248355981292\n",
      "Dunn Index: 0.10018454147161485\n",
      "\n",
      "\n",
      "Clustering result/score of  8 : \n",
      "Silhouette Coefficient: 0.14060211178682744\n",
      "Davies-Bouldin Index: 1.9723511009179218\n",
      "Dunn Index: 0.11701569137761732\n",
      "\n",
      "\n",
      "Clustering result/score of  9 : \n",
      "Silhouette Coefficient: 0.13517294682517436\n",
      "Davies-Bouldin Index: 1.9223167552209688\n",
      "Dunn Index: 0.13664348520240427\n"
     ]
    }
   ],
   "source": [
    "# the scores of Kmeans\n",
    "KM_clustering_list = [2, 3, 4, 5, 6, 7, 8, 9]\n",
    "\n",
    "#  Run model\n",
    "for i in KM_clustering_list:\n",
    "        kmeans = KMeans(n_clusters=i, random_state=0, n_init=10)\n",
    "        kmeans.fit(X_normalized)\n",
    "        preds = kmeans.labels_\n",
    "        comparsionIndex(i, X_normalized, preds)\n",
    "\n"
   ]
  },
  {
   "cell_type": "code",
   "execution_count": 10,
   "metadata": {},
   "outputs": [
    {
     "name": "stdout",
     "output_type": "stream",
     "text": [
      "\n",
      "\n",
      "Clustering result/score of  4 : \n",
      "Silhouette Coefficient: 0.17827236111183653\n",
      "Davies-Bouldin Index: 1.9264056895507702\n",
      "Dunn Index: 0.16355222884327095\n",
      "\n",
      "\n",
      "Clustering result/score of  6 : \n",
      "Silhouette Coefficient: 0.17328816455371748\n",
      "Davies-Bouldin Index: 1.6770835203576937\n",
      "Dunn Index: 0.17947883637871917\n",
      "\n",
      "\n",
      "Clustering result/score of  8 : \n",
      "Silhouette Coefficient: 0.10917634085821112\n",
      "Davies-Bouldin Index: 2.135054633829895\n",
      "Dunn Index: 0.1818786931627627\n",
      "\n",
      "\n",
      "Clustering result/score of  9 : \n",
      "Silhouette Coefficient: 0.10563334060469272\n",
      "Davies-Bouldin Index: 2.2513469329628197\n",
      "Dunn Index: 0.1818786931627627\n"
     ]
    }
   ],
   "source": [
    "X_public = read_data_from_csv('assignment_4_public.csv')\n",
    "\n",
    "# the scores of hierarchical clustering\n",
    "Hier_clustering_list = [4, 6, 8, 9]\n",
    "\n",
    "#  Run model\n",
    "for i in Hier_clustering_list:\n",
    "        agg_clustering = AgglomerativeClustering(n_clusters=i)\n",
    "        agg_clustering.fit(X_public)\n",
    "        preds = agg_clustering.labels_\n",
    "        comparsionIndex(i, X_public, preds)"
   ]
  }
 ],
 "metadata": {
  "kernelspec": {
   "display_name": "Python 3",
   "language": "python",
   "name": "python3"
  },
  "language_info": {
   "codemirror_mode": {
    "name": "ipython",
    "version": 3
   },
   "file_extension": ".py",
   "mimetype": "text/x-python",
   "name": "python",
   "nbconvert_exporter": "python",
   "pygments_lexer": "ipython3",
   "version": "3.11.4"
  }
 },
 "nbformat": 4,
 "nbformat_minor": 2
}
