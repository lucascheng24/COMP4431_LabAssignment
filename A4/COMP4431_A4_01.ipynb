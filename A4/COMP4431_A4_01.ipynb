{
 "cells": [
  {
   "cell_type": "code",
   "execution_count": 17,
   "metadata": {},
   "outputs": [],
   "source": [
    "import os\n",
    "import numpy as np\n",
    "import pandas as pd\n",
    "from PIL import Image\n",
    "import matplotlib.pyplot as plt\n",
    "from sklearn import preprocessing\n",
    "from scipy.spatial import distance\n",
    "from sklearn.cluster import KMeans\n",
    "from sklearn.metrics import silhouette_score\n",
    "from sklearn.metrics import pairwise_distances\n",
    "from sklearn.metrics import adjusted_rand_score\n",
    "from sklearn.metrics import davies_bouldin_score\n",
    "from sklearn.neighbors import KNeighborsClassifier\n",
    "from sklearn.cluster import AgglomerativeClustering\n",
    "\n",
    "\n"
   ]
  },
  {
   "cell_type": "markdown",
   "metadata": {},
   "source": [
    "As an artificial intelligence expert, a fashion company has invited you to help cluster the clothing images. You will be provided with a dataset with each sample corresponding to an image. Each image measures 28 pixels in height and 28 pixels in width, totaling 784 pixels.\n",
    "These images are stored in a table, representing the pixels across 784 columns. Each column has a single pixel value, which is an integer ranging from 0 (black) to 255 (white).\n",
    "To locate a pixel on the image, suppose we have the pixel at row j and column k of a 28×28 matrix; we can find its pixel value at the i-th column of the table, where i = j×28 + k where j and k are integers between 0 and 27.\n",
    "\n",
    "\n",
    "Your task is to use clustering algorithms to cluster these images. For example, you may find some images belonging to the cluster of pants, while others may be T-shirts, etc.\n",
    "In the training stage, you will be provided with a public dataset comprising 3000 samples. The goal is to cluster these samples and assign the clustering results to each sample. In the test stage, your predictions will be evaluated using the adjusted rand score as the final performance. Please note that using any pre-trained models is not allowed, nor is the use of any form of external data permitted.\n",
    "Hint: The number of clothing clusters is unknown. You need to determine the cluster number via analysis.\n",
    "Hint: You can try various clustering algorithms to find the most suitable one.\n",
    "Hint: You can use internal evaluation metrics, like the Davies-Bouldin Index, Dunn Index, and Silhouette Coefficient, to fine-tune hyperparameters."
   ]
  },
  {
   "cell_type": "code",
   "execution_count": 3,
   "metadata": {},
   "outputs": [
    {
     "name": "stdout",
     "output_type": "stream",
     "text": [
      "Shape of X_public: (3000, 784)\n"
     ]
    }
   ],
   "source": [
    "def read_data_from_csv(path):\n",
    "    \"\"\"Load datasets from CSV files.\n",
    "    Args:\n",
    "        path (str): Path to the CSV file.\n",
    "    Returns:\n",
    "        X (np.ndarray): Features of samples.\n",
    "        y (np.ndarray): Labels of samples, only provided in the public datasets.\n",
    "    \"\"\"\n",
    "    assert os.path.exists(path), f'File not found: {path}!'\n",
    "    assert os.path.splitext(path)[\n",
    "        -1] == '.csv', f'Unsupported file type {os.path.splitext(path)[-1]}!'\n",
    "\n",
    "    data = pd.read_csv(path)\n",
    "    column_list = data.columns.values.tolist()\n",
    "\n",
    "    if 'Label' in column_list:\n",
    "        # for the public dataset, label column is provided.\n",
    "        column_list.remove('Label')\n",
    "        X = data[column_list].values\n",
    "        y = data['Label'].astype('int').values\n",
    "        return X, y\n",
    "    else:\n",
    "        # for the private dataset, label column is not provided.\n",
    "        X = data[column_list].values\n",
    "        return X\n",
    "\n",
    "X_public = read_data_from_csv('assignment_4_public.csv')\n",
    "print('Shape of X_public:', X_public.shape)\n",
    "\n"
   ]
  },
  {
   "cell_type": "code",
   "execution_count": 4,
   "metadata": {},
   "outputs": [
    {
     "name": "stderr",
     "output_type": "stream",
     "text": [
      "c:\\Users\\lucas\\AppData\\Local\\Programs\\Python\\Python311\\Lib\\site-packages\\sklearn\\cluster\\_kmeans.py:1412: FutureWarning: The default value of `n_init` will change from 10 to 'auto' in 1.4. Set the value of `n_init` explicitly to suppress the warning\n",
      "  super()._check_params_vs_input(X, default_n_init=10)\n",
      "c:\\Users\\lucas\\AppData\\Local\\Programs\\Python\\Python311\\Lib\\site-packages\\sklearn\\cluster\\_kmeans.py:1412: FutureWarning: The default value of `n_init` will change from 10 to 'auto' in 1.4. Set the value of `n_init` explicitly to suppress the warning\n",
      "  super()._check_params_vs_input(X, default_n_init=10)\n",
      "c:\\Users\\lucas\\AppData\\Local\\Programs\\Python\\Python311\\Lib\\site-packages\\sklearn\\cluster\\_kmeans.py:1412: FutureWarning: The default value of `n_init` will change from 10 to 'auto' in 1.4. Set the value of `n_init` explicitly to suppress the warning\n",
      "  super()._check_params_vs_input(X, default_n_init=10)\n",
      "c:\\Users\\lucas\\AppData\\Local\\Programs\\Python\\Python311\\Lib\\site-packages\\sklearn\\cluster\\_kmeans.py:1412: FutureWarning: The default value of `n_init` will change from 10 to 'auto' in 1.4. Set the value of `n_init` explicitly to suppress the warning\n",
      "  super()._check_params_vs_input(X, default_n_init=10)\n",
      "c:\\Users\\lucas\\AppData\\Local\\Programs\\Python\\Python311\\Lib\\site-packages\\sklearn\\cluster\\_kmeans.py:1412: FutureWarning: The default value of `n_init` will change from 10 to 'auto' in 1.4. Set the value of `n_init` explicitly to suppress the warning\n",
      "  super()._check_params_vs_input(X, default_n_init=10)\n",
      "c:\\Users\\lucas\\AppData\\Local\\Programs\\Python\\Python311\\Lib\\site-packages\\sklearn\\cluster\\_kmeans.py:1412: FutureWarning: The default value of `n_init` will change from 10 to 'auto' in 1.4. Set the value of `n_init` explicitly to suppress the warning\n",
      "  super()._check_params_vs_input(X, default_n_init=10)\n",
      "c:\\Users\\lucas\\AppData\\Local\\Programs\\Python\\Python311\\Lib\\site-packages\\sklearn\\cluster\\_kmeans.py:1412: FutureWarning: The default value of `n_init` will change from 10 to 'auto' in 1.4. Set the value of `n_init` explicitly to suppress the warning\n",
      "  super()._check_params_vs_input(X, default_n_init=10)\n",
      "c:\\Users\\lucas\\AppData\\Local\\Programs\\Python\\Python311\\Lib\\site-packages\\sklearn\\cluster\\_kmeans.py:1412: FutureWarning: The default value of `n_init` will change from 10 to 'auto' in 1.4. Set the value of `n_init` explicitly to suppress the warning\n",
      "  super()._check_params_vs_input(X, default_n_init=10)\n",
      "c:\\Users\\lucas\\AppData\\Local\\Programs\\Python\\Python311\\Lib\\site-packages\\sklearn\\cluster\\_kmeans.py:1412: FutureWarning: The default value of `n_init` will change from 10 to 'auto' in 1.4. Set the value of `n_init` explicitly to suppress the warning\n",
      "  super()._check_params_vs_input(X, default_n_init=10)\n",
      "c:\\Users\\lucas\\AppData\\Local\\Programs\\Python\\Python311\\Lib\\site-packages\\sklearn\\cluster\\_kmeans.py:1412: FutureWarning: The default value of `n_init` will change from 10 to 'auto' in 1.4. Set the value of `n_init` explicitly to suppress the warning\n",
      "  super()._check_params_vs_input(X, default_n_init=10)\n"
     ]
    },
    {
     "data": {
      "image/png": "[encoded data removed]",
      "text/plain": [
       "<Figure size 640x480 with 1 Axes>"
      ]
     },
     "metadata": {},
     "output_type": "display_data"
    }
   ],
   "source": [
    "inertia = []\n",
    "for k in range(1, 11):\n",
    "    kmeans = KMeans(n_clusters=k, random_state=0)\n",
    "    kmeans.fit(X_public)\n",
    "    inertia.append(kmeans.inertia_)\n",
    "\n",
    "\n",
    "\n",
    "plt.plot(range(1, 11), inertia)\n",
    "plt.xlabel('Number of clusters')\n",
    "plt.ylabel('Inertia')\n",
    "plt.title('Elbow Method')\n",
    "plt.show()"
   ]
  },
  {
   "cell_type": "code",
   "execution_count": 5,
   "metadata": {},
   "outputs": [
    {
     "data": {
      "text/plain": [
       "[13195286859.006666,\n",
       " 10164536960.889872,\n",
       " 8690277146.459085,\n",
       " 7992604470.689368,\n",
       " 7531190180.330644,\n",
       " 7136032490.20536,\n",
       " 6793582844.262023,\n",
       " 6545405323.716737,\n",
       " 6357355400.606327,\n",
       " 6181554392.678978]"
      ]
     },
     "execution_count": 5,
     "metadata": {},
     "output_type": "execute_result"
    }
   ],
   "source": [
    "inertia"
   ]
  },
  {
   "cell_type": "code",
   "execution_count": 6,
   "metadata": {},
   "outputs": [
    {
     "name": "stderr",
     "output_type": "stream",
     "text": [
      "c:\\Users\\lucas\\AppData\\Local\\Programs\\Python\\Python311\\Lib\\site-packages\\sklearn\\cluster\\_kmeans.py:1412: FutureWarning: The default value of `n_init` will change from 10 to 'auto' in 1.4. Set the value of `n_init` explicitly to suppress the warning\n",
      "  super()._check_params_vs_input(X, default_n_init=10)\n"
     ]
    }
   ],
   "source": [
    "kmeans = KMeans(n_clusters=7, random_state=0)\n",
    "# kmeans = KMeans(n_clusters=5, random_state=0)\n",
    "\n",
    "\n",
    "kmeans.fit(X_public)\n",
    "preds = kmeans.labels_"
   ]
  },
  {
   "cell_type": "code",
   "execution_count": 11,
   "metadata": {},
   "outputs": [],
   "source": [
    "def run_silScore_Kmeans(start, end, X_public):\n",
    "\n",
    "    for i in range(start, end+1):\n",
    "        #  Run model\n",
    "        kmeans = KMeans(n_clusters=i, random_state=0, n_init=10)\n",
    "        kmeans.fit(X_public)\n",
    "        preds = kmeans.labels_\n",
    "\n",
    "        silhouette_avg = silhouette_score(X_public, preds)\n",
    "        print(\"The Silhouette score of \",  i, \" clustering is:\", silhouette_avg)"
   ]
  },
  {
   "cell_type": "code",
   "execution_count": 15,
   "metadata": {},
   "outputs": [
    {
     "name": "stdout",
     "output_type": "stream",
     "text": [
      "The Silhouette score of  2  clustering is: 0.2026107201165615\n",
      "The Silhouette score of  3  clustering is: 0.19308876417498327\n",
      "The Silhouette score of  4  clustering is: 0.1965708629153709\n",
      "The Silhouette score of  5  clustering is: 0.16399110655560173\n",
      "The Silhouette score of  6  clustering is: 0.15770232389054809\n",
      "The Silhouette score of  7  clustering is: 0.15328161992553768\n",
      "The Silhouette score of  8  clustering is: 0.1415518649833058\n",
      "The Silhouette score of  9  clustering is: 0.13888297471146957\n",
      "The Silhouette score of  10  clustering is: 0.13822060782747259\n",
      "The Silhouette score of  11  clustering is: 0.13073595108283598\n"
     ]
    }
   ],
   "source": [
    "run_silScore_Kmeans(2, 11, X_public)"
   ]
  },
  {
   "cell_type": "code",
   "execution_count": 18,
   "metadata": {},
   "outputs": [],
   "source": [
    "# try hierarchical clustering\n",
    "def run_silScore_Hierar(start, end, X_public):\n",
    "\n",
    "    for i in range(start, end+1):\n",
    "        #  Run model\n",
    "        agg_clustering = AgglomerativeClustering(n_clusters=i)\n",
    "        agg_clustering.fit(X_public)\n",
    "        preds = agg_clustering.labels_\n",
    "\n",
    "        silhouette_avg = silhouette_score(X_public, preds)\n",
    "        print(\"The Silhouette score of \",  i, \" clustering is:\", silhouette_avg)\n"
   ]
  },
  {
   "cell_type": "code",
   "execution_count": 20,
   "metadata": {},
   "outputs": [
    {
     "name": "stdout",
     "output_type": "stream",
     "text": [
      "The Silhouette score of  2  clustering is: 0.17139249952972613\n",
      "The Silhouette score of  3  clustering is: 0.16806957137240286\n",
      "The Silhouette score of  4  clustering is: 0.17827236111183653\n",
      "The Silhouette score of  5  clustering is: 0.1593330984274979\n",
      "The Silhouette score of  6  clustering is: 0.17328816455371748\n",
      "The Silhouette score of  7  clustering is: 0.13028257047495287\n",
      "The Silhouette score of  8  clustering is: 0.10917634085821112\n",
      "The Silhouette score of  9  clustering is: 0.10563334060469272\n",
      "The Silhouette score of  10  clustering is: 0.11205942065952319\n",
      "The Silhouette score of  11  clustering is: 0.10770343636092493\n"
     ]
    }
   ],
   "source": [
    "run_silScore_Hierar(2, 11, X_public)"
   ]
  },
  {
   "cell_type": "markdown",
   "metadata": {},
   "source": [
    "For hierarchical clustering, 4 and 6 seem the best.<br>\n",
    "And K-mean, 2, 4 and 5 are also good clusters"
   ]
  },
  {
   "cell_type": "code",
   "execution_count": null,
   "metadata": {},
   "outputs": [],
   "source": [
    "# # Assuming you have the ground truth labels for the public dataset\n",
    "# ground_truth_labels = pd.read_csv('ground_truth_labels.csv')['Label'].values\n",
    "# score = adjusted_rand_score(ground_truth_labels, preds)\n",
    "# print('Adjusted Rand Score:', score)"
   ]
  },
  {
   "cell_type": "code",
   "execution_count": 21,
   "metadata": {},
   "outputs": [],
   "source": [
    "def comparsionIndex(num_cluster, X_public, preds):\n",
    "    print(\"\\n\\nClustering result/score of \", num_cluster, \": \")\n",
    "    # Calculate Silhouette Coefficient\n",
    "    silhouette_avg = silhouette_score(X_public, preds)\n",
    "    print(\"Silhouette Coefficient:\", silhouette_avg)\n",
    "\n",
    "    # Calculate Davies-Bouldin Index\n",
    "    davies_bouldin_index = davies_bouldin_score(X_public, preds)\n",
    "    print(\"Davies-Bouldin Index:\", davies_bouldin_index)\n",
    "\n",
    "    # Calculate Dunn Index\n",
    "    distances = pairwise_distances(X_public)\n",
    "    min_inter_cluster_distance = distance.cdist(X_public, X_public)[preds != preds[:, None]].min()\n",
    "    max_intra_cluster_distance = distances[preds == preds[:, None]].max()\n",
    "    dunn_index = min_inter_cluster_distance / max_intra_cluster_distance\n",
    "    print(\"Dunn Index:\", dunn_index)"
   ]
  },
  {
   "cell_type": "markdown",
   "metadata": {},
   "source": [
    "Silhouette Coefficient: in between 1 and -1. It is better when closer to 1.\n",
    "\n",
    "Davies-Bouldin Index: is the <b>lower</b> the better clustering.\n",
    "\n",
    "Dunn Index: is the <b>higher</b> the better\n"
   ]
  },
  {
   "cell_type": "code",
   "execution_count": 22,
   "metadata": {},
   "outputs": [
    {
     "name": "stdout",
     "output_type": "stream",
     "text": [
      "\n",
      "\n",
      "Clustering result/score of  2 : \n",
      "Silhouette Coefficient: 0.2026107201165615\n",
      "Davies-Bouldin Index: 1.7663648981811169\n",
      "Dunn Index: 0.12248059859156706\n",
      "\n",
      "\n",
      "Clustering result/score of  4 : \n",
      "Silhouette Coefficient: 0.1965708629153709\n",
      "Davies-Bouldin Index: 1.8203265429490025\n",
      "Dunn Index: 0.12180347400304746\n",
      "\n",
      "\n",
      "Clustering result/score of  5 : \n",
      "Silhouette Coefficient: 0.16399110655560173\n",
      "Davies-Bouldin Index: 1.91891679843169\n",
      "Dunn Index: 0.14468747405053484\n"
     ]
    }
   ],
   "source": [
    "X_public = read_data_from_csv('assignment_4_public.csv')\n",
    "\n",
    "# the scores of Kmeans\n",
    "KM_clustering_list = [2, 4, 5]\n",
    "\n",
    "#  Run model\n",
    "for i in KM_clustering_list:\n",
    "        kmeans = KMeans(n_clusters=i, random_state=0, n_init=10)\n",
    "        kmeans.fit(X_public)\n",
    "        preds = kmeans.labels_\n",
    "        comparsionIndex(i, X_public, preds)\n",
    "\n"
   ]
  },
  {
   "cell_type": "code",
   "execution_count": 23,
   "metadata": {},
   "outputs": [
    {
     "name": "stdout",
     "output_type": "stream",
     "text": [
      "\n",
      "\n",
      "Clustering result/score of  4 : \n",
      "Silhouette Coefficient: 0.17827236111183653\n",
      "Davies-Bouldin Index: 1.9264056895507702\n",
      "Dunn Index: 0.16355222884327095\n",
      "\n",
      "\n",
      "Clustering result/score of  6 : \n",
      "Silhouette Coefficient: 0.17328816455371748\n",
      "Davies-Bouldin Index: 1.6770835203576937\n",
      "Dunn Index: 0.17947883637871917\n"
     ]
    }
   ],
   "source": [
    "X_public = read_data_from_csv('assignment_4_public.csv')\n",
    "\n",
    "# the scores of hierarchical clustering\n",
    "Hier_clustering_list = [4, 6]\n",
    "\n",
    "#  Run model\n",
    "for i in Hier_clustering_list:\n",
    "        agg_clustering = AgglomerativeClustering(n_clusters=i)\n",
    "        agg_clustering.fit(X_public)\n",
    "        preds = agg_clustering.labels_\n",
    "        comparsionIndex(i, X_public, preds)"
   ]
  },
  {
   "cell_type": "code",
   "execution_count": 47,
   "metadata": {},
   "outputs": [
    {
     "data": {
      "image/png": "[encoded data removed]",
      "text/plain": [
       "<Figure size 640x480 with 1 Axes>"
      ]
     },
     "metadata": {},
     "output_type": "display_data"
    }
   ],
   "source": [
    "#   reformate the columns to image. rowNo is the No. n of records in 3000 samples\n",
    "# choose a number in between 0 and 3000\n",
    "rowNo = 113\n",
    "xpublic = pd.DataFrame(X_public)\n",
    "image_row = xpublic.iloc[rowNo].values\n",
    "image_matrix = image_row.reshape(28, 28)\n",
    "\n",
    "plt.imshow(image_matrix, cmap='gray')\n",
    "plt.axis('off')\n",
    "plt.show()"
   ]
  },
  {
   "cell_type": "code",
   "execution_count": 18,
   "metadata": {},
   "outputs": [],
   "source": [
    "submission = pd.DataFrame({'Label': preds})\n",
    "submission.to_csv('assignment_4.csv', index=True, index_label='Id')"
   ]
  }
 ],
 "metadata": {
  "kernelspec": {
   "display_name": "Python 3",
   "language": "python",
   "name": "python3"
  },
  "language_info": {
   "codemirror_mode": {
    "name": "ipython",
    "version": 3
   },
   "file_extension": ".py",
   "mimetype": "text/x-python",
   "name": "python",
   "nbconvert_exporter": "python",
   "pygments_lexer": "ipython3",
   "version": "3.11.4"
  }
 },
 "nbformat": 4,
 "nbformat_minor": 2
}
