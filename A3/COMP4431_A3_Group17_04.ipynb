{
  "cells": [
    {
      "cell_type": "code",
      "execution_count": 1,
      "metadata": {
        "colab": {
          "base_uri": "https://localhost:8080/"
        },
        "id": "_3PAj6ptovR3",
        "outputId": "c7adbd26-2e11-44a1-c29e-ba63cbaedb9c"
      },
      "outputs": [
        {
          "name": "stdout",
          "output_type": "stream",
          "text": [
            "Cross Validation Scores:  [0.86486486 0.85135135 0.78378378 0.89189189 0.83783784 0.7972973\n",
            " 0.79452055 0.8630137 ]\n",
            "Average CV Score:  0.8355701592002962\n"
          ]
        }
      ],
      "source": [
        "import os\n",
        "import pandas as pd\n",
        "import numpy as np\n",
        "from sklearn import preprocessing\n",
        "from sklearn.model_selection import train_test_split\n",
        "from sklearn.tree import DecisionTreeClassifier\n",
        "from sklearn.metrics import accuracy_score\n",
        "from sklearn.model_selection import RepeatedStratifiedKFold\n",
        "from sklearn.model_selection import GridSearchCV\n",
        "from sklearn.preprocessing import MinMaxScaler\n",
        "from sklearn.model_selection import KFold, cross_val_score\n",
        "\n",
        "def read_data_from_csv(path):\n",
        "  assert os.path.exists(path), f'File not found: {path}!'\n",
        "  assert os.path.splitext(path)[-1] == '.csv', f'Unsupported file type {os.path.splitext(path)[-1]}!'\n",
        "  data = pd.read_csv(path)\n",
        "  column_list = data.columns.values.tolist()\n",
        "  if 'Label' in column_list:\n",
        "    # for the public dataset, label column is provided.\n",
        "    column_list.remove('Label')\n",
        "    X = data[column_list].values\n",
        "    y = data['Label'].astype('int').values\n",
        "    return X, y\n",
        "  else:\n",
        "    # for the private dataset, label column is not provided.\n",
        "    X = data[column_list].values\n",
        "    return X\n",
        "\n",
        "# Load the Features and Labels from the public dataset\n",
        "X_public, y_public = read_data_from_csv('A3_dataset/assignment_3_public.csv')\n",
        "\n",
        "# Normalize the Features\n",
        "scaler = MinMaxScaler()\n",
        "normalized_X_public = scaler.fit_transform(X_public)\n",
        "\n",
        "# Split the public dataset into training and testing sets\n",
        "# X_train, X_test, y_train, y_test = train_test_split(normalized_X_public, y_public, test_size=0.2, random_state=42)\n",
        "\n",
        "\n",
        "# param_grid = {\n",
        "#     'criterion': ['gini', 'entropy'],\n",
        "#     'splitter': ['best'],\n",
        "#     'max_depth': [4, 5, 6, 7, 8, 9],\n",
        "#     'min_samples_leaf': [4, 5, 6, 7, 8, 9],\n",
        "#     'min_samples_split': [4, 5, 6, 7, 8, 9]\n",
        "# }\n",
        "\n",
        "# grid_search = GridSearchCV(estimator=DecisionTreeClassifier(), param_grid=param_grid, cv=8)\n",
        "\n",
        "# After the comparsion of GridSearch, the best parameters is the below one.\n",
        "\n",
        "X_train = normalized_X_public\n",
        "y_train = y_public\n",
        "\n",
        "tree_clf = DecisionTreeClassifier(\n",
        "    criterion='gini',\n",
        "    max_depth= 5,\n",
        "    min_samples_leaf= 3,\n",
        "    min_samples_split= 5,\n",
        "    splitter= 'best'\n",
        ")\n",
        "\n",
        "k_folds = KFold(n_splits = 8)\n",
        "\n",
        "scores = cross_val_score(tree_clf, X_train, y_train, cv = k_folds)\n",
        "print(\"Cross Validation Scores: \", scores)\n",
        "print(\"Average CV Score: \", scores.mean())\n",
        "\n",
        "\n",
        "tree_clf.fit(X_train, y_train)\n",
        "\n",
        "\n",
        "\n",
        "\n"
      ]
    },
    {
      "cell_type": "code",
      "execution_count": 4,
      "metadata": {},
      "outputs": [
        {
          "name": "stdout",
          "output_type": "stream",
          "text": [
            "Count of '0': 38\n",
            "Count of '1': 62\n"
          ]
        }
      ],
      "source": [
        "# Use the pruned model to make predictions on the testing set\n",
        "X_private = read_data_from_csv('A3_dataset/assignment_3_private.csv')\n",
        "preds = tree_clf.predict(X_private)\n",
        "\n",
        "# # Count the number of '0' and '1'\n",
        "# count_0 = (preds == 0).sum()\n",
        "# count_1 = (preds == 1).sum()\n",
        "\n",
        "# # Print the counts\n",
        "# print(\"Count of '0':\", count_0)\n",
        "# print(\"Count of '1':\", count_1)\n",
        "\n",
        "submission = pd.DataFrame({'Label': preds})\n",
        "submission.to_csv('assignment_3.csv', index=True, index_label='Id')"
      ]
    }
  ],
  "metadata": {
    "colab": {
      "provenance": []
    },
    "kernelspec": {
      "display_name": "Python 3",
      "name": "python3"
    },
    "language_info": {
      "codemirror_mode": {
        "name": "ipython",
        "version": 3
      },
      "file_extension": ".py",
      "mimetype": "text/x-python",
      "name": "python",
      "nbconvert_exporter": "python",
      "pygments_lexer": "ipython3",
      "version": "3.11.4"
    }
  },
  "nbformat": 4,
  "nbformat_minor": 0
}
