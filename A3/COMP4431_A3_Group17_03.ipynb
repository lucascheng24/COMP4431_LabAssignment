{
  "cells": [
    {
      "cell_type": "code",
      "execution_count": 82,
      "metadata": {
        "colab": {
          "base_uri": "https://localhost:8080/"
        },
        "id": "_3PAj6ptovR3",
        "outputId": "c7adbd26-2e11-44a1-c29e-ba63cbaedb9c"
      },
      "outputs": [],
      "source": [
        "import os\n",
        "import pandas as pd\n",
        "import numpy as np\n",
        "from sklearn import preprocessing\n",
        "from sklearn.model_selection import train_test_split\n",
        "from sklearn.tree import DecisionTreeClassifier\n",
        "from sklearn.metrics import accuracy_score\n",
        "from sklearn.model_selection import RepeatedStratifiedKFold\n",
        "from sklearn.model_selection import GridSearchCV\n",
        "from sklearn.preprocessing import MinMaxScaler\n",
        "from sklearn.model_selection import KFold, cross_val_score\n",
        "\n",
        "def read_data_from_csv(path):\n",
        "  assert os.path.exists(path), f'File not found: {path}!'\n",
        "  assert os.path.splitext(path)[-1] == '.csv', f'Unsupported file type {os.path.splitext(path)[-1]}!'\n",
        "  data = pd.read_csv(path)\n",
        "  column_list = data.columns.values.tolist()\n",
        "  if 'Label' in column_list:\n",
        "    # for the public dataset, label column is provided.\n",
        "    column_list.remove('Label')\n",
        "    X = data[column_list].values\n",
        "    y = data['Label'].astype('int').values\n",
        "    return X, y\n",
        "  else:\n",
        "    # for the private dataset, label column is not provided.\n",
        "    X = data[column_list].values\n",
        "    return X\n",
        "\n",
        "# Load the Features and Labels from the public dataset\n",
        "X_public, y_public = read_data_from_csv('A3_dataset/assignment_3_public.csv')\n",
        "\n",
        "# Normalize the Features\n",
        "scaler = MinMaxScaler()\n",
        "normalized_X_public = scaler.fit_transform(X_public)\n",
        "\n",
        "# Split the public dataset into training and testing sets\n",
        "# X_train, X_test, y_train, y_test = train_test_split(normalized_X_public, y_public, test_size=0.2, random_state=42)\n",
        "\n",
        "\n",
        "param_grid = {\n",
        "    'criterion': ['gini', 'entropy'],\n",
        "    'splitter': ['best', 'random'],\n",
        "    'max_depth': [3, 4, 5, 6, 7, 8, 9],\n",
        "    'min_samples_leaf': [2, 3, 4, 5, 6, 7, 8, 9],\n",
        "    'min_samples_split': [2, 3, 4, 5, 6, 7, 8, 9]\n",
        "}\n",
        "\n",
        "grid_search = GridSearchCV(estimator=DecisionTreeClassifier(), param_grid=param_grid, cv=5)\n",
        "\n",
        "X_train = normalized_X_public\n",
        "y_train = y_public\n",
        "grid_search.fit(X_train, y_train)\n",
        "\n",
        "# Get the best parameters and model\n",
        "best_params = grid_search.best_params_\n",
        "best_model = grid_search.best_estimator_\n",
        "\n",
        "# Use the pruned model to make predictions on the testing set\n",
        "# predictions = best_model.predict(X_test)\n",
        "\n",
        "# Calculate the accuracy\n",
        "# accuracy = accuracy_score(y_test, predictions)\n",
        "# print(\"Best parameters:\", best_params)\n",
        "# print(\"Accuracy:\", accuracy)\n",
        "\n",
        "# X_private = read_data_from_csv('A3_dataset/assignment_3_private.csv')\n",
        "\n",
        "# preds = best_model.predict(X_private)\n",
        "\n",
        "# submission = pd.DataFrame({'Label': preds})\n",
        "# submission.to_csv('assignment_3.csv', index=True, index_label='Id')"
      ]
    },
    {
      "cell_type": "code",
      "execution_count": 83,
      "metadata": {},
      "outputs": [
        {
          "data": {
            "text/plain": [
              "{'criterion': 'gini',\n",
              " 'max_depth': 8,\n",
              " 'min_samples_leaf': 8,\n",
              " 'min_samples_split': 9,\n",
              " 'splitter': 'random'}"
            ]
          },
          "execution_count": 83,
          "metadata": {},
          "output_type": "execute_result"
        }
      ],
      "source": [
        "grid_search.best_params_\n",
        "# 1\n",
        "# {'criterion': 'gini',\n",
        "#  'max_depth': 5,\n",
        "#  'min_samples_leaf': 4,\n",
        "#  'min_samples_split': 7,\n",
        "#  'splitter': 'random'}\n",
        "\n",
        "\n",
        "# 2\n",
        "# {'criterion': 'gini',\n",
        "#  'max_depth': 5,\n",
        "#  'min_samples_leaf': 3,\n",
        "#  'min_samples_split': 5,\n",
        "#  'splitter': 'random'}\n",
        "\n",
        "# 3\n",
        "# {'criterion': 'entropy',\n",
        "#  'max_depth': 7,\n",
        "#  'min_samples_leaf': 7,\n",
        "#  'min_samples_split': 4,\n",
        "#  'splitter': 'random'}"
      ]
    },
    {
      "cell_type": "code",
      "execution_count": 136,
      "metadata": {},
      "outputs": [],
      "source": [
        "def validatingModel(tree_cv: DecisionTreeClassifier):\n",
        "    k_folds = KFold(n_splits = 5)\n",
        "\n",
        "    scores = cross_val_score(tree_cv, X_train, y_train, cv = k_folds)\n",
        "    print(\"Cross Validation Scores: \", scores)\n",
        "    print(\"Average CV Score: \", scores.mean())\n",
        "\n",
        "    tree_cv.fit(X_train, y_train)\n",
        "\n",
        "    X_private = read_data_from_csv('A3_dataset/assignment_3_private.csv')\n",
        "    preds = tree_cv.predict(X_private)\n",
        "\n",
        "    # Count the number of '0' and '1'\n",
        "    count_0 = (preds == 0).sum()\n",
        "    count_1 = (preds == 1).sum()\n",
        "\n",
        "    # Print the counts\n",
        "    print(\"Count of '0':\", count_0)\n",
        "    print(\"Count of '1':\", count_1)"
      ]
    },
    {
      "cell_type": "markdown",
      "metadata": {},
      "source": [
        "# test different cases "
      ]
    },
    {
      "cell_type": "code",
      "execution_count": 209,
      "metadata": {},
      "outputs": [
        {
          "name": "stdout",
          "output_type": "stream",
          "text": [
            "Cross Validation Scores:  [0.8220339  0.81355932 0.87288136 0.79661017 0.8559322 ]\n",
            "Average CV Score:  0.8322033898305085\n",
            "Count of '0': 38\n",
            "Count of '1': 62\n"
          ]
        }
      ],
      "source": [
        "tree01_cv = DecisionTreeClassifier(\n",
        "    criterion='gini',\n",
        "    max_depth= 5,\n",
        "    min_samples_leaf= 4,\n",
        "    min_samples_split= 7,\n",
        "    splitter= 'best'\n",
        ")\n",
        "\n",
        "validatingModel(tree01_cv)"
      ]
    },
    {
      "cell_type": "code",
      "execution_count": 228,
      "metadata": {},
      "outputs": [
        {
          "name": "stdout",
          "output_type": "stream",
          "text": [
            "Cross Validation Scores:  [0.8220339  0.81355932 0.86440678 0.79661017 0.8559322 ]\n",
            "Average CV Score:  0.8305084745762713\n",
            "Count of '0': 38\n",
            "Count of '1': 62\n"
          ]
        }
      ],
      "source": [
        "tree02_cv = DecisionTreeClassifier(\n",
        "    criterion='gini',\n",
        "    max_depth= 5,\n",
        "    min_samples_leaf= 3,\n",
        "    min_samples_split= 5,\n",
        "    splitter= 'best'\n",
        ")\n",
        "\n",
        "validatingModel(tree02_cv)"
      ]
    },
    {
      "cell_type": "code",
      "execution_count": 234,
      "metadata": {},
      "outputs": [
        {
          "name": "stdout",
          "output_type": "stream",
          "text": [
            "Cross Validation Scores:  [0.86440678 0.81355932 0.80508475 0.78813559 0.84745763]\n",
            "Average CV Score:  0.8237288135593221\n",
            "Count of '0': 37\n",
            "Count of '1': 63\n"
          ]
        }
      ],
      "source": [
        "tree03_cv = DecisionTreeClassifier(\n",
        "    criterion='entropy',\n",
        "    max_depth= 7,\n",
        "    min_samples_leaf= 7,\n",
        "    min_samples_split= 4,\n",
        "    splitter= 'best'\n",
        ")\n",
        "\n",
        "validatingModel(tree03_cv)\n"
      ]
    }
  ],
  "metadata": {
    "colab": {
      "provenance": []
    },
    "kernelspec": {
      "display_name": "Python 3",
      "name": "python3"
    },
    "language_info": {
      "codemirror_mode": {
        "name": "ipython",
        "version": 3
      },
      "file_extension": ".py",
      "mimetype": "text/x-python",
      "name": "python",
      "nbconvert_exporter": "python",
      "pygments_lexer": "ipython3",
      "version": "3.11.4"
    }
  },
  "nbformat": 4,
  "nbformat_minor": 0
}
