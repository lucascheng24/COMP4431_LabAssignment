{
  "cells": [
    {
      "cell_type": "code",
      "source": [
        "import os\n",
        "import pandas as pd\n",
        "from sklearn import datasets\n",
        "from sklearn.tree import DecisionTreeRegressor\n",
        "from sklearn.metrics import accuracy_score"
      ],
      "metadata": {
        "id": "9Ji54FRqshjX"
      },
      "id": "9Ji54FRqshjX",
      "execution_count": 19,
      "outputs": []
    },
    {
      "cell_type": "code",
      "source": [
        "def read_data_from_csv(path):\n",
        "    \"\"\"Load datasets from CSV files.\n",
        "    Args:\n",
        "        path (str): Path to the CSV file.\n",
        "    Returns:\n",
        "        X (np.ndarray): Features of samples.\n",
        "        y (np.ndarray): Labels of samples, only provided in the public datasets.\n",
        "    \"\"\"\n",
        "    assert os.path.exists(path), f'File not found: {path}!'\n",
        "    assert os.path.splitext(path)[-1] == '.csv', f'Unsupported file type {os.path.splitext(path)[-1]}!'\n",
        "\n",
        "    data = pd.read_csv(path)\n",
        "    column_list = data.columns.values.tolist()\n",
        "\n",
        "    if 'Label' in column_list:\n",
        "        # for the public dataset, label column is provided.\n",
        "        column_list.remove('Label')\n",
        "        X = data[column_list].values\n",
        "        y = data['Label'].astype('int').values\n",
        "        return X, y\n",
        "    else:\n",
        "        # for the private dataset, label column is not provided.\n",
        "        X = data[column_list].values\n",
        "        return X\n",
        "\n",
        "\n",
        "X_public, y_public = read_data_from_csv('assignment_3_public.csv')\n",
        "print('Shape of X_public:', X_public.shape)  # n_sample, m_feature (590, 14)\n",
        "print('Shape of y_public:', y_public.shape)  # n_sample (590,)\n",
        "\n",
        "'''\n",
        "CODE HERE!\n",
        "'''\n",
        "\n",
        "# Build the Regression tree\n",
        "reg_tree = DecisionTreeRegressor(criterion='squared_error', splitter='best', max_depth=5, min_samples_split=10)\n",
        "\n",
        "# Fit the model to the training data\n",
        "reg_tree.fit(X_public, y_public)\n",
        "\n",
        "\n",
        "X_private = read_data_from_csv('assignment_3_private.csv')\n",
        "print('Shape of X_private:', X_private.shape)  # k_sample, m_feature (100, 14)\n",
        "\n",
        "\n",
        "\n",
        "# Predict on the testing set\n",
        "preds = reg_tree.predict(X_private)\n",
        "\n",
        "'''\n",
        "CODE HERE!\n",
        "e.g.,\n",
        "preds = np.full(len(X_private), -1, dtype=int)\n",
        "'''\n",
        "\n",
        "submission = pd.DataFrame({'Label': preds})\n",
        "submission.to_csv('assignment_3.csv', index=True, index_label='Id')"
      ],
      "metadata": {
        "id": "06R-8_3SqvIv",
        "outputId": "e4f269ec-0a27-4db3-c621-e9cc0825a84e",
        "colab": {
          "base_uri": "https://localhost:8080/"
        }
      },
      "id": "06R-8_3SqvIv",
      "execution_count": 18,
      "outputs": [
        {
          "output_type": "stream",
          "name": "stdout",
          "text": [
            "Shape of X_public: (590, 14)\n",
            "Shape of y_public: (590,)\n",
            "Shape of X_private: (100, 14)\n"
          ]
        }
      ]
    }
  ],
  "metadata": {
    "kernelspec": {
      "display_name": "Python 3 (ipykernel)",
      "language": "python",
      "name": "python3"
    },
    "language_info": {
      "codemirror_mode": {
        "name": "ipython",
        "version": 3
      },
      "file_extension": ".py",
      "mimetype": "text/x-python",
      "name": "python",
      "nbconvert_exporter": "python",
      "pygments_lexer": "ipython3",
      "version": "3.9.13"
    },
    "colab": {
      "provenance": []
    }
  },
  "nbformat": 4,
  "nbformat_minor": 5
}