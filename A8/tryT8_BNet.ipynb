{
 "cells": [
  {
   "cell_type": "code",
   "execution_count": 1,
   "metadata": {},
   "outputs": [],
   "source": [
    "import os\n",
    "import numpy as np\n",
    "import pandas as pd\n",
    "from pgmpy.models import BayesianModel\n",
    "from pgmpy.models import BayesianNetwork\n",
    "from sklearn.metrics import accuracy_score\n",
    "from pgmpy.factors.discrete import TabularCPD\n",
    "from pgmpy.inference import VariableElimination\n",
    "from pgmpy.estimators import HillClimbSearch, BicScore\n",
    "from pgmpy.estimators import MaximumLikelihoodEstimator"
   ]
  },
  {
   "cell_type": "code",
   "execution_count": 2,
   "metadata": {},
   "outputs": [],
   "source": [
    "\n",
    "\n",
    "def read_data_from_csv(path):\n",
    "    \"\"\"Load datasets from CSV files.\n",
    "    Args:\n",
    "        path (str): Path to the CSV file.\n",
    "    Returns:\n",
    "        X (np.ndarray): Features of samples.\n",
    "        y (np.ndarray): Labels of samples, only provided in the public datasets.\n",
    "    \"\"\"\n",
    "    assert os.path.exists(path), f'File not found: {path}!'\n",
    "    assert os.path.splitext(path)[\n",
    "        -1] == '.csv', f'Unsupported file type {os.path.splitext(path)[-1]}!'\n",
    "\n",
    "    data = pd.read_csv(path)\n",
    "    column_list = data.columns.values.tolist()\n",
    "\n",
    "    if 'Label' in column_list:\n",
    "        # for the public dataset, label column is provided.\n",
    "        column_list.remove('Label')\n",
    "        X = data[column_list].values\n",
    "        y = data['Label'].values\n",
    "        return X, y\n",
    "    else:\n",
    "        # for the private dataset, label column is not provided.\n",
    "        X = data[column_list].values\n",
    "        return X\n",
    "    "
   ]
  },
  {
   "cell_type": "code",
   "execution_count": 3,
   "metadata": {},
   "outputs": [
    {
     "name": "stdout",
     "output_type": "stream",
     "text": [
      "Shape of X_public: (6499, 22)\n",
      "Shape of y_public: (6499,)\n"
     ]
    }
   ],
   "source": [
    "X_public, y_public = read_data_from_csv('assignment_8_public.csv')\n",
    "print('Shape of X_public:', X_public.shape)  # n_sample, m_feature (6499, 22)\n",
    "print('Shape of y_public:', y_public.shape)  # n_sample (6499,)"
   ]
  },
  {
   "cell_type": "code",
   "execution_count": 4,
   "metadata": {},
   "outputs": [
    {
     "data": {
      "text/html": [
       "<div>\n",
       "<style scoped>\n",
       "    .dataframe tbody tr th:only-of-type {\n",
       "        vertical-align: middle;\n",
       "    }\n",
       "\n",
       "    .dataframe tbody tr th {\n",
       "        vertical-align: top;\n",
       "    }\n",
       "\n",
       "    .dataframe thead th {\n",
       "        text-align: right;\n",
       "    }\n",
       "</style>\n",
       "<table border=\"1\" class=\"dataframe\">\n",
       "  <thead>\n",
       "    <tr style=\"text-align: right;\">\n",
       "      <th></th>\n",
       "      <th>cap-shape</th>\n",
       "      <th>cap-surface</th>\n",
       "      <th>cap-color</th>\n",
       "      <th>bruises</th>\n",
       "      <th>odor</th>\n",
       "      <th>gill-attachment</th>\n",
       "      <th>gill-spacing</th>\n",
       "      <th>gill-size</th>\n",
       "      <th>gill-color</th>\n",
       "      <th>stalk-shape</th>\n",
       "      <th>...</th>\n",
       "      <th>stalk-color-above-ring</th>\n",
       "      <th>stalk-color-below-ring</th>\n",
       "      <th>veil-type</th>\n",
       "      <th>veil-color</th>\n",
       "      <th>ring-number</th>\n",
       "      <th>ring-type</th>\n",
       "      <th>spore-print-color</th>\n",
       "      <th>population</th>\n",
       "      <th>habitat</th>\n",
       "      <th>Label</th>\n",
       "    </tr>\n",
       "  </thead>\n",
       "  <tbody>\n",
       "    <tr>\n",
       "      <th>0</th>\n",
       "      <td>convex</td>\n",
       "      <td>fibrous</td>\n",
       "      <td>gray</td>\n",
       "      <td>no</td>\n",
       "      <td>foul</td>\n",
       "      <td>free</td>\n",
       "      <td>close</td>\n",
       "      <td>broad</td>\n",
       "      <td>chocolate</td>\n",
       "      <td>enlarging</td>\n",
       "      <td>...</td>\n",
       "      <td>pink</td>\n",
       "      <td>brown</td>\n",
       "      <td>partial</td>\n",
       "      <td>white</td>\n",
       "      <td>one</td>\n",
       "      <td>large</td>\n",
       "      <td>chocolate</td>\n",
       "      <td>solitary</td>\n",
       "      <td>woods</td>\n",
       "      <td>poisonous</td>\n",
       "    </tr>\n",
       "    <tr>\n",
       "      <th>1</th>\n",
       "      <td>knobbed</td>\n",
       "      <td>smooth</td>\n",
       "      <td>red</td>\n",
       "      <td>no</td>\n",
       "      <td>spicy</td>\n",
       "      <td>free</td>\n",
       "      <td>close</td>\n",
       "      <td>narrow</td>\n",
       "      <td>buff</td>\n",
       "      <td>tapering</td>\n",
       "      <td>...</td>\n",
       "      <td>pink</td>\n",
       "      <td>white</td>\n",
       "      <td>partial</td>\n",
       "      <td>white</td>\n",
       "      <td>one</td>\n",
       "      <td>evanescent</td>\n",
       "      <td>white</td>\n",
       "      <td>several</td>\n",
       "      <td>leaves</td>\n",
       "      <td>poisonous</td>\n",
       "    </tr>\n",
       "    <tr>\n",
       "      <th>2</th>\n",
       "      <td>convex</td>\n",
       "      <td>fibrous</td>\n",
       "      <td>white</td>\n",
       "      <td>no</td>\n",
       "      <td>none</td>\n",
       "      <td>free</td>\n",
       "      <td>crowded</td>\n",
       "      <td>broad</td>\n",
       "      <td>pink</td>\n",
       "      <td>tapering</td>\n",
       "      <td>...</td>\n",
       "      <td>white</td>\n",
       "      <td>white</td>\n",
       "      <td>partial</td>\n",
       "      <td>white</td>\n",
       "      <td>one</td>\n",
       "      <td>evanescent</td>\n",
       "      <td>brown</td>\n",
       "      <td>abundant</td>\n",
       "      <td>grasses</td>\n",
       "      <td>edible</td>\n",
       "    </tr>\n",
       "    <tr>\n",
       "      <th>3</th>\n",
       "      <td>flat</td>\n",
       "      <td>smooth</td>\n",
       "      <td>gray</td>\n",
       "      <td>no</td>\n",
       "      <td>none</td>\n",
       "      <td>free</td>\n",
       "      <td>crowded</td>\n",
       "      <td>broad</td>\n",
       "      <td>chocolate</td>\n",
       "      <td>tapering</td>\n",
       "      <td>...</td>\n",
       "      <td>white</td>\n",
       "      <td>white</td>\n",
       "      <td>partial</td>\n",
       "      <td>white</td>\n",
       "      <td>one</td>\n",
       "      <td>evanescent</td>\n",
       "      <td>brown</td>\n",
       "      <td>abundant</td>\n",
       "      <td>grasses</td>\n",
       "      <td>edible</td>\n",
       "    </tr>\n",
       "    <tr>\n",
       "      <th>4</th>\n",
       "      <td>convex</td>\n",
       "      <td>smooth</td>\n",
       "      <td>gray</td>\n",
       "      <td>no</td>\n",
       "      <td>none</td>\n",
       "      <td>free</td>\n",
       "      <td>crowded</td>\n",
       "      <td>broad</td>\n",
       "      <td>chocolate</td>\n",
       "      <td>tapering</td>\n",
       "      <td>...</td>\n",
       "      <td>white</td>\n",
       "      <td>white</td>\n",
       "      <td>partial</td>\n",
       "      <td>white</td>\n",
       "      <td>one</td>\n",
       "      <td>evanescent</td>\n",
       "      <td>brown</td>\n",
       "      <td>scattered</td>\n",
       "      <td>grasses</td>\n",
       "      <td>edible</td>\n",
       "    </tr>\n",
       "    <tr>\n",
       "      <th>...</th>\n",
       "      <td>...</td>\n",
       "      <td>...</td>\n",
       "      <td>...</td>\n",
       "      <td>...</td>\n",
       "      <td>...</td>\n",
       "      <td>...</td>\n",
       "      <td>...</td>\n",
       "      <td>...</td>\n",
       "      <td>...</td>\n",
       "      <td>...</td>\n",
       "      <td>...</td>\n",
       "      <td>...</td>\n",
       "      <td>...</td>\n",
       "      <td>...</td>\n",
       "      <td>...</td>\n",
       "      <td>...</td>\n",
       "      <td>...</td>\n",
       "      <td>...</td>\n",
       "      <td>...</td>\n",
       "      <td>...</td>\n",
       "      <td>...</td>\n",
       "    </tr>\n",
       "    <tr>\n",
       "      <th>6494</th>\n",
       "      <td>bell</td>\n",
       "      <td>smooth</td>\n",
       "      <td>gray</td>\n",
       "      <td>no</td>\n",
       "      <td>none</td>\n",
       "      <td>free</td>\n",
       "      <td>crowded</td>\n",
       "      <td>broad</td>\n",
       "      <td>gray</td>\n",
       "      <td>enlarging</td>\n",
       "      <td>...</td>\n",
       "      <td>white</td>\n",
       "      <td>white</td>\n",
       "      <td>partial</td>\n",
       "      <td>white</td>\n",
       "      <td>two</td>\n",
       "      <td>pendant</td>\n",
       "      <td>white</td>\n",
       "      <td>numerous</td>\n",
       "      <td>grasses</td>\n",
       "      <td>edible</td>\n",
       "    </tr>\n",
       "    <tr>\n",
       "      <th>6495</th>\n",
       "      <td>convex</td>\n",
       "      <td>scaly</td>\n",
       "      <td>gray</td>\n",
       "      <td>no</td>\n",
       "      <td>foul</td>\n",
       "      <td>free</td>\n",
       "      <td>close</td>\n",
       "      <td>broad</td>\n",
       "      <td>chocolate</td>\n",
       "      <td>enlarging</td>\n",
       "      <td>...</td>\n",
       "      <td>pink</td>\n",
       "      <td>brown</td>\n",
       "      <td>partial</td>\n",
       "      <td>white</td>\n",
       "      <td>one</td>\n",
       "      <td>large</td>\n",
       "      <td>chocolate</td>\n",
       "      <td>solitary</td>\n",
       "      <td>grasses</td>\n",
       "      <td>poisonous</td>\n",
       "    </tr>\n",
       "    <tr>\n",
       "      <th>6496</th>\n",
       "      <td>bell</td>\n",
       "      <td>scaly</td>\n",
       "      <td>yellow</td>\n",
       "      <td>bruises</td>\n",
       "      <td>almond</td>\n",
       "      <td>free</td>\n",
       "      <td>close</td>\n",
       "      <td>broad</td>\n",
       "      <td>black</td>\n",
       "      <td>enlarging</td>\n",
       "      <td>...</td>\n",
       "      <td>white</td>\n",
       "      <td>white</td>\n",
       "      <td>partial</td>\n",
       "      <td>white</td>\n",
       "      <td>one</td>\n",
       "      <td>pendant</td>\n",
       "      <td>black</td>\n",
       "      <td>scattered</td>\n",
       "      <td>meadows</td>\n",
       "      <td>edible</td>\n",
       "    </tr>\n",
       "    <tr>\n",
       "      <th>6497</th>\n",
       "      <td>convex</td>\n",
       "      <td>scaly</td>\n",
       "      <td>red</td>\n",
       "      <td>no</td>\n",
       "      <td>spicy</td>\n",
       "      <td>free</td>\n",
       "      <td>close</td>\n",
       "      <td>narrow</td>\n",
       "      <td>buff</td>\n",
       "      <td>tapering</td>\n",
       "      <td>...</td>\n",
       "      <td>white</td>\n",
       "      <td>white</td>\n",
       "      <td>partial</td>\n",
       "      <td>white</td>\n",
       "      <td>one</td>\n",
       "      <td>evanescent</td>\n",
       "      <td>white</td>\n",
       "      <td>several</td>\n",
       "      <td>paths</td>\n",
       "      <td>poisonous</td>\n",
       "    </tr>\n",
       "    <tr>\n",
       "      <th>6498</th>\n",
       "      <td>convex</td>\n",
       "      <td>fibrous</td>\n",
       "      <td>red</td>\n",
       "      <td>bruises</td>\n",
       "      <td>none</td>\n",
       "      <td>free</td>\n",
       "      <td>close</td>\n",
       "      <td>broad</td>\n",
       "      <td>purple</td>\n",
       "      <td>tapering</td>\n",
       "      <td>...</td>\n",
       "      <td>gray</td>\n",
       "      <td>pink</td>\n",
       "      <td>partial</td>\n",
       "      <td>white</td>\n",
       "      <td>one</td>\n",
       "      <td>pendant</td>\n",
       "      <td>black</td>\n",
       "      <td>solitary</td>\n",
       "      <td>woods</td>\n",
       "      <td>edible</td>\n",
       "    </tr>\n",
       "  </tbody>\n",
       "</table>\n",
       "<p>6499 rows × 23 columns</p>\n",
       "</div>"
      ],
      "text/plain": [
       "     cap-shape cap-surface cap-color  bruises    odor gill-attachment  \\\n",
       "0       convex     fibrous      gray       no    foul            free   \n",
       "1      knobbed      smooth       red       no   spicy            free   \n",
       "2       convex     fibrous     white       no    none            free   \n",
       "3         flat      smooth      gray       no    none            free   \n",
       "4       convex      smooth      gray       no    none            free   \n",
       "...        ...         ...       ...      ...     ...             ...   \n",
       "6494      bell      smooth      gray       no    none            free   \n",
       "6495    convex       scaly      gray       no    foul            free   \n",
       "6496      bell       scaly    yellow  bruises  almond            free   \n",
       "6497    convex       scaly       red       no   spicy            free   \n",
       "6498    convex     fibrous       red  bruises    none            free   \n",
       "\n",
       "     gill-spacing gill-size gill-color stalk-shape  ...  \\\n",
       "0           close     broad  chocolate   enlarging  ...   \n",
       "1           close    narrow       buff    tapering  ...   \n",
       "2         crowded     broad       pink    tapering  ...   \n",
       "3         crowded     broad  chocolate    tapering  ...   \n",
       "4         crowded     broad  chocolate    tapering  ...   \n",
       "...           ...       ...        ...         ...  ...   \n",
       "6494      crowded     broad       gray   enlarging  ...   \n",
       "6495        close     broad  chocolate   enlarging  ...   \n",
       "6496        close     broad      black   enlarging  ...   \n",
       "6497        close    narrow       buff    tapering  ...   \n",
       "6498        close     broad     purple    tapering  ...   \n",
       "\n",
       "     stalk-color-above-ring stalk-color-below-ring veil-type veil-color  \\\n",
       "0                      pink                  brown   partial      white   \n",
       "1                      pink                  white   partial      white   \n",
       "2                     white                  white   partial      white   \n",
       "3                     white                  white   partial      white   \n",
       "4                     white                  white   partial      white   \n",
       "...                     ...                    ...       ...        ...   \n",
       "6494                  white                  white   partial      white   \n",
       "6495                   pink                  brown   partial      white   \n",
       "6496                  white                  white   partial      white   \n",
       "6497                  white                  white   partial      white   \n",
       "6498                   gray                   pink   partial      white   \n",
       "\n",
       "     ring-number   ring-type spore-print-color population  habitat      Label  \n",
       "0            one       large         chocolate   solitary    woods  poisonous  \n",
       "1            one  evanescent             white    several   leaves  poisonous  \n",
       "2            one  evanescent             brown   abundant  grasses     edible  \n",
       "3            one  evanescent             brown   abundant  grasses     edible  \n",
       "4            one  evanescent             brown  scattered  grasses     edible  \n",
       "...          ...         ...               ...        ...      ...        ...  \n",
       "6494         two     pendant             white   numerous  grasses     edible  \n",
       "6495         one       large         chocolate   solitary  grasses  poisonous  \n",
       "6496         one     pendant             black  scattered  meadows     edible  \n",
       "6497         one  evanescent             white    several    paths  poisonous  \n",
       "6498         one     pendant             black   solitary    woods     edible  \n",
       "\n",
       "[6499 rows x 23 columns]"
      ]
     },
     "execution_count": 4,
     "metadata": {},
     "output_type": "execute_result"
    }
   ],
   "source": [
    "# Create a dictionary to map old column names to new column names\n",
    "# cap-shape\tcap-surface\tcap-color\tbruises\todor\tgill-attachment\tgill-spacing\tgill-size\tgill-color\tstalk-shape\tstalk-root\tstalk-surface-above-ring\tstalk-surface-below-ring\tstalk-color-above-ring\tstalk-color-below-ring\tveil-type\tveil-color\tring-number\tring-type\tspore-print-color\tpopulation\thabitat\n",
    "\n",
    "new_column_names = {\n",
    "    0: \"cap-shape\",\n",
    "    1: \"cap-surface\",\n",
    "    2: \"cap-color\",\n",
    "    3: \"bruises\",\n",
    "    4: \"odor\",\n",
    "    5: \"gill-attachment\",\n",
    "    6: \"gill-spacing\",\n",
    "    7: \"gill-size\",\n",
    "    8: \"gill-color\",\n",
    "    9: \"stalk-shape\",\n",
    "    10: \"stalk-root\",\n",
    "    11: \"stalk-surface-above-ring\",\n",
    "    12: \"stalk-surface-below-ring\",\n",
    "    13: \"stalk-color-above-ring\",\n",
    "    14: \"stalk-color-below-ring\",\n",
    "    15: \"veil-type\",\n",
    "    16: \"veil-color\",\n",
    "    17: \"ring-number\",\n",
    "    18: \"ring-type\",\n",
    "    19: \"spore-print-color\",\n",
    "    20: \"population\",\n",
    "    21: \"habitat\"\n",
    "}\n",
    "\n",
    "# Use the rename() method to change the column names\n",
    "df_x = pd.DataFrame(X_public).rename(columns=new_column_names)\n",
    "df_y = pd.DataFrame(y_public).rename(columns={0: 'Label'})\n",
    "\n",
    "df_public = pd.concat([df_x, df_y], axis=1).replace('?',np.nan)\n",
    "\n",
    "df_public"
   ]
  },
  {
   "cell_type": "code",
   "execution_count": 5,
   "metadata": {},
   "outputs": [
    {
     "data": {
      "text/plain": [
       "1974"
      ]
     },
     "execution_count": 5,
     "metadata": {},
     "output_type": "execute_result"
    }
   ],
   "source": [
    "df_public.isna().sum().sum()"
   ]
  },
  {
   "cell_type": "code",
   "execution_count": 6,
   "metadata": {},
   "outputs": [
    {
     "data": {
      "text/html": [
       "<div>\n",
       "<style scoped>\n",
       "    .dataframe tbody tr th:only-of-type {\n",
       "        vertical-align: middle;\n",
       "    }\n",
       "\n",
       "    .dataframe tbody tr th {\n",
       "        vertical-align: top;\n",
       "    }\n",
       "\n",
       "    .dataframe thead th {\n",
       "        text-align: right;\n",
       "    }\n",
       "</style>\n",
       "<table border=\"1\" class=\"dataframe\">\n",
       "  <thead>\n",
       "    <tr style=\"text-align: right;\">\n",
       "      <th></th>\n",
       "      <th>count</th>\n",
       "    </tr>\n",
       "    <tr>\n",
       "      <th>Label</th>\n",
       "      <th></th>\n",
       "    </tr>\n",
       "  </thead>\n",
       "  <tbody>\n",
       "    <tr>\n",
       "      <th>edible</th>\n",
       "      <td>3359</td>\n",
       "    </tr>\n",
       "    <tr>\n",
       "      <th>poisonous</th>\n",
       "      <td>3140</td>\n",
       "    </tr>\n",
       "  </tbody>\n",
       "</table>\n",
       "</div>"
      ],
      "text/plain": [
       "           count\n",
       "Label           \n",
       "edible      3359\n",
       "poisonous   3140"
      ]
     },
     "execution_count": 6,
     "metadata": {},
     "output_type": "execute_result"
    }
   ],
   "source": [
    "df_public.value_counts(['Label']).sort_index(ascending=True).to_frame()"
   ]
  },
  {
   "cell_type": "code",
   "execution_count": 7,
   "metadata": {},
   "outputs": [
    {
     "data": {
      "text/plain": [
       "['stalk-color-above-ring', 'stalk-color-below-ring']"
      ]
     },
     "execution_count": 7,
     "metadata": {},
     "output_type": "execute_result"
    }
   ],
   "source": [
    "# guessing stalk-root\n",
    "'cap-shape', \n",
    "'odor', \n",
    "'gill-spacing', \n",
    "['stalk-surface-above-ring', 'stalk-surface-below-ring'],\n",
    "['stalk-color-above-ring', 'stalk-color-below-ring']"
   ]
  },
  {
   "cell_type": "markdown",
   "metadata": {},
   "source": [
    "By above analysis on stalk-root, we can fill the missing data with the rule:\n",
    "1. odor(foul) --> bulbous\n",
    "2. stalk-color-above-ring(brown | buff | gray | pink) --> bulbous\n",
    "3. stalk-surface-above-ring(silky) & stalk-surface-below-ring(silky) --> bulbous\n",
    "4. odor(pungent) --> equal\n",
    "\n"
   ]
  },
  {
   "cell_type": "code",
   "execution_count": 8,
   "metadata": {},
   "outputs": [],
   "source": [
    "df_puNew = df_public\n",
    "\n",
    "# Fill missing values based on mappings\n",
    "df_puNew.loc[(df_puNew['odor'] == 'foul') & (df_puNew['stalk-root'].isna()), 'stalk-root'] = 'bulbous'\n",
    "df_puNew.loc[(df_puNew['stalk-color-above-ring'].isin(['brown', 'buff', 'gray', 'pink'])) & (df_puNew['stalk-root'].isna()), 'stalk-root'] = 'bulbous'\n",
    "df_puNew.loc[(df_puNew['stalk-surface-above-ring'] == 'silky') & (df_puNew['stalk-surface-below-ring'] == 'silky') & (df_puNew['stalk-root'].isna()), 'stalk-root'] = 'bulbous'\n",
    "df_puNew.loc[(df_puNew['odor'] == 'pungent') & (df_puNew['stalk-root'].isna()), 'stalk-root'] = 'equal'\n",
    "\n",
    "\n",
    "df_puNew.loc[(df_puNew['gill-spacing'] == 'close') & (df_puNew['stalk-root'].isna()), 'stalk-root'] = 'bulbous'\n",
    "df_puNew.loc[(df_puNew['stalk-root'].isna()), 'stalk-root'] = 'equal'\n"
   ]
  },
  {
   "cell_type": "code",
   "execution_count": 9,
   "metadata": {},
   "outputs": [
    {
     "data": {
      "text/plain": [
       "0"
      ]
     },
     "execution_count": 9,
     "metadata": {},
     "output_type": "execute_result"
    }
   ],
   "source": [
    "df_puNew.isna().sum().sum()"
   ]
  },
  {
   "cell_type": "code",
   "execution_count": 32,
   "metadata": {},
   "outputs": [
    {
     "data": {
      "text/html": [
       "<div>\n",
       "<style scoped>\n",
       "    .dataframe tbody tr th:only-of-type {\n",
       "        vertical-align: middle;\n",
       "    }\n",
       "\n",
       "    .dataframe tbody tr th {\n",
       "        vertical-align: top;\n",
       "    }\n",
       "\n",
       "    .dataframe thead th {\n",
       "        text-align: right;\n",
       "    }\n",
       "</style>\n",
       "<table border=\"1\" class=\"dataframe\">\n",
       "  <thead>\n",
       "    <tr style=\"text-align: right;\">\n",
       "      <th></th>\n",
       "      <th>cap-shape</th>\n",
       "      <th>cap-surface</th>\n",
       "      <th>cap-color</th>\n",
       "      <th>bruises</th>\n",
       "      <th>odor</th>\n",
       "      <th>gill-attachment</th>\n",
       "      <th>gill-spacing</th>\n",
       "      <th>gill-size</th>\n",
       "      <th>gill-color</th>\n",
       "      <th>stalk-shape</th>\n",
       "      <th>...</th>\n",
       "      <th>stalk-color-above-ring</th>\n",
       "      <th>stalk-color-below-ring</th>\n",
       "      <th>veil-type</th>\n",
       "      <th>veil-color</th>\n",
       "      <th>ring-number</th>\n",
       "      <th>ring-type</th>\n",
       "      <th>spore-print-color</th>\n",
       "      <th>population</th>\n",
       "      <th>habitat</th>\n",
       "      <th>Label</th>\n",
       "    </tr>\n",
       "  </thead>\n",
       "  <tbody>\n",
       "    <tr>\n",
       "      <th>0</th>\n",
       "      <td>convex</td>\n",
       "      <td>fibrous</td>\n",
       "      <td>gray</td>\n",
       "      <td>no</td>\n",
       "      <td>foul</td>\n",
       "      <td>free</td>\n",
       "      <td>close</td>\n",
       "      <td>broad</td>\n",
       "      <td>chocolate</td>\n",
       "      <td>enlarging</td>\n",
       "      <td>...</td>\n",
       "      <td>pink</td>\n",
       "      <td>brown</td>\n",
       "      <td>partial</td>\n",
       "      <td>white</td>\n",
       "      <td>one</td>\n",
       "      <td>large</td>\n",
       "      <td>chocolate</td>\n",
       "      <td>solitary</td>\n",
       "      <td>woods</td>\n",
       "      <td>poisonous</td>\n",
       "    </tr>\n",
       "    <tr>\n",
       "      <th>1</th>\n",
       "      <td>knobbed</td>\n",
       "      <td>smooth</td>\n",
       "      <td>red</td>\n",
       "      <td>no</td>\n",
       "      <td>spicy</td>\n",
       "      <td>free</td>\n",
       "      <td>close</td>\n",
       "      <td>narrow</td>\n",
       "      <td>buff</td>\n",
       "      <td>tapering</td>\n",
       "      <td>...</td>\n",
       "      <td>pink</td>\n",
       "      <td>white</td>\n",
       "      <td>partial</td>\n",
       "      <td>white</td>\n",
       "      <td>one</td>\n",
       "      <td>evanescent</td>\n",
       "      <td>white</td>\n",
       "      <td>several</td>\n",
       "      <td>leaves</td>\n",
       "      <td>poisonous</td>\n",
       "    </tr>\n",
       "    <tr>\n",
       "      <th>2</th>\n",
       "      <td>convex</td>\n",
       "      <td>fibrous</td>\n",
       "      <td>white</td>\n",
       "      <td>no</td>\n",
       "      <td>none</td>\n",
       "      <td>free</td>\n",
       "      <td>crowded</td>\n",
       "      <td>broad</td>\n",
       "      <td>pink</td>\n",
       "      <td>tapering</td>\n",
       "      <td>...</td>\n",
       "      <td>white</td>\n",
       "      <td>white</td>\n",
       "      <td>partial</td>\n",
       "      <td>white</td>\n",
       "      <td>one</td>\n",
       "      <td>evanescent</td>\n",
       "      <td>brown</td>\n",
       "      <td>abundant</td>\n",
       "      <td>grasses</td>\n",
       "      <td>edible</td>\n",
       "    </tr>\n",
       "    <tr>\n",
       "      <th>3</th>\n",
       "      <td>flat</td>\n",
       "      <td>smooth</td>\n",
       "      <td>gray</td>\n",
       "      <td>no</td>\n",
       "      <td>none</td>\n",
       "      <td>free</td>\n",
       "      <td>crowded</td>\n",
       "      <td>broad</td>\n",
       "      <td>chocolate</td>\n",
       "      <td>tapering</td>\n",
       "      <td>...</td>\n",
       "      <td>white</td>\n",
       "      <td>white</td>\n",
       "      <td>partial</td>\n",
       "      <td>white</td>\n",
       "      <td>one</td>\n",
       "      <td>evanescent</td>\n",
       "      <td>brown</td>\n",
       "      <td>abundant</td>\n",
       "      <td>grasses</td>\n",
       "      <td>edible</td>\n",
       "    </tr>\n",
       "    <tr>\n",
       "      <th>4</th>\n",
       "      <td>convex</td>\n",
       "      <td>smooth</td>\n",
       "      <td>gray</td>\n",
       "      <td>no</td>\n",
       "      <td>none</td>\n",
       "      <td>free</td>\n",
       "      <td>crowded</td>\n",
       "      <td>broad</td>\n",
       "      <td>chocolate</td>\n",
       "      <td>tapering</td>\n",
       "      <td>...</td>\n",
       "      <td>white</td>\n",
       "      <td>white</td>\n",
       "      <td>partial</td>\n",
       "      <td>white</td>\n",
       "      <td>one</td>\n",
       "      <td>evanescent</td>\n",
       "      <td>brown</td>\n",
       "      <td>scattered</td>\n",
       "      <td>grasses</td>\n",
       "      <td>edible</td>\n",
       "    </tr>\n",
       "    <tr>\n",
       "      <th>...</th>\n",
       "      <td>...</td>\n",
       "      <td>...</td>\n",
       "      <td>...</td>\n",
       "      <td>...</td>\n",
       "      <td>...</td>\n",
       "      <td>...</td>\n",
       "      <td>...</td>\n",
       "      <td>...</td>\n",
       "      <td>...</td>\n",
       "      <td>...</td>\n",
       "      <td>...</td>\n",
       "      <td>...</td>\n",
       "      <td>...</td>\n",
       "      <td>...</td>\n",
       "      <td>...</td>\n",
       "      <td>...</td>\n",
       "      <td>...</td>\n",
       "      <td>...</td>\n",
       "      <td>...</td>\n",
       "      <td>...</td>\n",
       "      <td>...</td>\n",
       "    </tr>\n",
       "    <tr>\n",
       "      <th>6494</th>\n",
       "      <td>bell</td>\n",
       "      <td>smooth</td>\n",
       "      <td>gray</td>\n",
       "      <td>no</td>\n",
       "      <td>none</td>\n",
       "      <td>free</td>\n",
       "      <td>crowded</td>\n",
       "      <td>broad</td>\n",
       "      <td>gray</td>\n",
       "      <td>enlarging</td>\n",
       "      <td>...</td>\n",
       "      <td>white</td>\n",
       "      <td>white</td>\n",
       "      <td>partial</td>\n",
       "      <td>white</td>\n",
       "      <td>two</td>\n",
       "      <td>pendant</td>\n",
       "      <td>white</td>\n",
       "      <td>numerous</td>\n",
       "      <td>grasses</td>\n",
       "      <td>edible</td>\n",
       "    </tr>\n",
       "    <tr>\n",
       "      <th>6495</th>\n",
       "      <td>convex</td>\n",
       "      <td>scaly</td>\n",
       "      <td>gray</td>\n",
       "      <td>no</td>\n",
       "      <td>foul</td>\n",
       "      <td>free</td>\n",
       "      <td>close</td>\n",
       "      <td>broad</td>\n",
       "      <td>chocolate</td>\n",
       "      <td>enlarging</td>\n",
       "      <td>...</td>\n",
       "      <td>pink</td>\n",
       "      <td>brown</td>\n",
       "      <td>partial</td>\n",
       "      <td>white</td>\n",
       "      <td>one</td>\n",
       "      <td>large</td>\n",
       "      <td>chocolate</td>\n",
       "      <td>solitary</td>\n",
       "      <td>grasses</td>\n",
       "      <td>poisonous</td>\n",
       "    </tr>\n",
       "    <tr>\n",
       "      <th>6496</th>\n",
       "      <td>bell</td>\n",
       "      <td>scaly</td>\n",
       "      <td>yellow</td>\n",
       "      <td>bruises</td>\n",
       "      <td>almond</td>\n",
       "      <td>free</td>\n",
       "      <td>close</td>\n",
       "      <td>broad</td>\n",
       "      <td>black</td>\n",
       "      <td>enlarging</td>\n",
       "      <td>...</td>\n",
       "      <td>white</td>\n",
       "      <td>white</td>\n",
       "      <td>partial</td>\n",
       "      <td>white</td>\n",
       "      <td>one</td>\n",
       "      <td>pendant</td>\n",
       "      <td>black</td>\n",
       "      <td>scattered</td>\n",
       "      <td>meadows</td>\n",
       "      <td>edible</td>\n",
       "    </tr>\n",
       "    <tr>\n",
       "      <th>6497</th>\n",
       "      <td>convex</td>\n",
       "      <td>scaly</td>\n",
       "      <td>red</td>\n",
       "      <td>no</td>\n",
       "      <td>spicy</td>\n",
       "      <td>free</td>\n",
       "      <td>close</td>\n",
       "      <td>narrow</td>\n",
       "      <td>buff</td>\n",
       "      <td>tapering</td>\n",
       "      <td>...</td>\n",
       "      <td>white</td>\n",
       "      <td>white</td>\n",
       "      <td>partial</td>\n",
       "      <td>white</td>\n",
       "      <td>one</td>\n",
       "      <td>evanescent</td>\n",
       "      <td>white</td>\n",
       "      <td>several</td>\n",
       "      <td>paths</td>\n",
       "      <td>poisonous</td>\n",
       "    </tr>\n",
       "    <tr>\n",
       "      <th>6498</th>\n",
       "      <td>convex</td>\n",
       "      <td>fibrous</td>\n",
       "      <td>red</td>\n",
       "      <td>bruises</td>\n",
       "      <td>none</td>\n",
       "      <td>free</td>\n",
       "      <td>close</td>\n",
       "      <td>broad</td>\n",
       "      <td>purple</td>\n",
       "      <td>tapering</td>\n",
       "      <td>...</td>\n",
       "      <td>gray</td>\n",
       "      <td>pink</td>\n",
       "      <td>partial</td>\n",
       "      <td>white</td>\n",
       "      <td>one</td>\n",
       "      <td>pendant</td>\n",
       "      <td>black</td>\n",
       "      <td>solitary</td>\n",
       "      <td>woods</td>\n",
       "      <td>edible</td>\n",
       "    </tr>\n",
       "  </tbody>\n",
       "</table>\n",
       "<p>6499 rows × 23 columns</p>\n",
       "</div>"
      ],
      "text/plain": [
       "     cap-shape cap-surface cap-color  bruises    odor gill-attachment  \\\n",
       "0       convex     fibrous      gray       no    foul            free   \n",
       "1      knobbed      smooth       red       no   spicy            free   \n",
       "2       convex     fibrous     white       no    none            free   \n",
       "3         flat      smooth      gray       no    none            free   \n",
       "4       convex      smooth      gray       no    none            free   \n",
       "...        ...         ...       ...      ...     ...             ...   \n",
       "6494      bell      smooth      gray       no    none            free   \n",
       "6495    convex       scaly      gray       no    foul            free   \n",
       "6496      bell       scaly    yellow  bruises  almond            free   \n",
       "6497    convex       scaly       red       no   spicy            free   \n",
       "6498    convex     fibrous       red  bruises    none            free   \n",
       "\n",
       "     gill-spacing gill-size gill-color stalk-shape  ...  \\\n",
       "0           close     broad  chocolate   enlarging  ...   \n",
       "1           close    narrow       buff    tapering  ...   \n",
       "2         crowded     broad       pink    tapering  ...   \n",
       "3         crowded     broad  chocolate    tapering  ...   \n",
       "4         crowded     broad  chocolate    tapering  ...   \n",
       "...           ...       ...        ...         ...  ...   \n",
       "6494      crowded     broad       gray   enlarging  ...   \n",
       "6495        close     broad  chocolate   enlarging  ...   \n",
       "6496        close     broad      black   enlarging  ...   \n",
       "6497        close    narrow       buff    tapering  ...   \n",
       "6498        close     broad     purple    tapering  ...   \n",
       "\n",
       "     stalk-color-above-ring stalk-color-below-ring veil-type veil-color  \\\n",
       "0                      pink                  brown   partial      white   \n",
       "1                      pink                  white   partial      white   \n",
       "2                     white                  white   partial      white   \n",
       "3                     white                  white   partial      white   \n",
       "4                     white                  white   partial      white   \n",
       "...                     ...                    ...       ...        ...   \n",
       "6494                  white                  white   partial      white   \n",
       "6495                   pink                  brown   partial      white   \n",
       "6496                  white                  white   partial      white   \n",
       "6497                  white                  white   partial      white   \n",
       "6498                   gray                   pink   partial      white   \n",
       "\n",
       "     ring-number   ring-type spore-print-color population  habitat      Label  \n",
       "0            one       large         chocolate   solitary    woods  poisonous  \n",
       "1            one  evanescent             white    several   leaves  poisonous  \n",
       "2            one  evanescent             brown   abundant  grasses     edible  \n",
       "3            one  evanescent             brown   abundant  grasses     edible  \n",
       "4            one  evanescent             brown  scattered  grasses     edible  \n",
       "...          ...         ...               ...        ...      ...        ...  \n",
       "6494         two     pendant             white   numerous  grasses     edible  \n",
       "6495         one       large         chocolate   solitary  grasses  poisonous  \n",
       "6496         one     pendant             black  scattered  meadows     edible  \n",
       "6497         one  evanescent             white    several    paths  poisonous  \n",
       "6498         one     pendant             black   solitary    woods     edible  \n",
       "\n",
       "[6499 rows x 23 columns]"
      ]
     },
     "execution_count": 32,
     "metadata": {},
     "output_type": "execute_result"
    }
   ],
   "source": [
    "df_puNew"
   ]
  },
  {
   "cell_type": "code",
   "execution_count": 10,
   "metadata": {},
   "outputs": [],
   "source": [
    "# Convert categorical variables to numerical labels\n",
    "data_encoded = df_puNew.apply(lambda x: pd.factorize(x)[0])\n",
    "\n",
    "# Split the dataset into features and target\n",
    "features = data_encoded.drop('Label', axis=1)\n",
    "target = data_encoded['Label']"
   ]
  },
  {
   "cell_type": "code",
   "execution_count": 14,
   "metadata": {},
   "outputs": [],
   "source": [
    "\n",
    "\n",
    "# Define the structure\n",
    "model= BayesianNetwork([\n",
    "    ('spore-print-color','Label'),\n",
    "    ('ring-type','Label'),\n",
    "    ('stalk-surface-below-ring','Label'),\n",
    "    ('gill-size','Label'),\n",
    "    ('stalk-surface-above-ring','Label'),\n",
    "    ('bruises','Label'),\n",
    "])\n",
    "\n",
    "model.fit(df_puNew, estimator=MaximumLikelihoodEstimator)"
   ]
  },
  {
   "cell_type": "code",
   "execution_count": 18,
   "metadata": {},
   "outputs": [
    {
     "name": "stdout",
     "output_type": "stream",
     "text": [
      "\n",
      "Probability of mushroom given evidence: {'spore-print-color': 'brown', 'ring-type': 'flaring'}\n",
      "+------------------+--------------+\n",
      "| Label            |   phi(Label) |\n",
      "+==================+==============+\n",
      "| Label(edible)    |       0.5000 |\n",
      "+------------------+--------------+\n",
      "| Label(poisonous) |       0.5000 |\n",
      "+------------------+--------------+\n"
     ]
    },
    {
     "data": {
      "application/vnd.jupyter.widget-view+json": {
       "model_id": "7f6a5a094efd48d4ad4ae8eefcc1d4b7",
       "version_major": 2,
       "version_minor": 0
      },
      "text/plain": [
       "  0%|          | 0/4 [00:00<?, ?it/s]"
      ]
     },
     "metadata": {},
     "output_type": "display_data"
    },
    {
     "data": {
      "application/vnd.jupyter.widget-view+json": {
       "model_id": "cc33c9793c984efbae8cb3def8f53823",
       "version_major": 2,
       "version_minor": 0
      },
      "text/plain": [
       "  0%|          | 0/4 [00:00<?, ?it/s]"
      ]
     },
     "metadata": {},
     "output_type": "display_data"
    },
    {
     "name": "stdout",
     "output_type": "stream",
     "text": [
      "Predicted label: edible\n"
     ]
    }
   ],
   "source": [
    "\n",
    "# Create an inference object\n",
    "infer = VariableElimination(model)\n",
    "\n",
    "# Define the evidence with valid state names\n",
    "evidence = {'spore-print-color': 'brown', 'ring-type': 'flaring'}\n",
    "\n",
    "# Perform inference\n",
    "print('\\nProbability of mushroom given evidence:', evidence)\n",
    "q = infer.query(variables=['Label'], evidence=evidence)\n",
    "print(q)\n",
    "\n",
    "# Make the prediction\n",
    "prediction = infer.map_query(variables=['Label'], evidence=evidence)\n",
    "print('Predicted label:', prediction['Label'])"
   ]
  },
  {
   "cell_type": "code",
   "execution_count": 19,
   "metadata": {},
   "outputs": [
    {
     "data": {
      "application/vnd.jupyter.widget-view+json": {
       "model_id": "ff6ae2b068c04dc9bce2eb7d9fdd8baa",
       "version_major": 2,
       "version_minor": 0
      },
      "text/plain": [
       "  0%|          | 0/1000000 [00:00<?, ?it/s]"
      ]
     },
     "metadata": {},
     "output_type": "display_data"
    },
    {
     "name": "stdout",
     "output_type": "stream",
     "text": [
      "\n",
      "Edges in the model:\n",
      "('cap-color', 'odor')\n",
      "('cap-color', 'stalk-shape')\n",
      "('odor', 'Label')\n",
      "('odor', 'spore-print-color')\n",
      "('odor', 'stalk-root')\n",
      "('odor', 'gill-spacing')\n",
      "('odor', 'stalk-shape')\n",
      "('odor', 'gill-size')\n",
      "('odor', 'cap-surface')\n",
      "('odor', 'bruises')\n",
      "('stalk-shape', 'spore-print-color')\n",
      "('stalk-shape', 'gill-color')\n",
      "('stalk-shape', 'bruises')\n",
      "('stalk-shape', 'stalk-color-above-ring')\n",
      "('stalk-shape', 'stalk-color-below-ring')\n",
      "('stalk-shape', 'ring-type')\n",
      "('stalk-shape', 'population')\n",
      "('stalk-shape', 'cap-shape')\n",
      "('stalk-shape', 'habitat')\n",
      "('stalk-shape', 'Label')\n",
      "('stalk-shape', 'gill-size')\n",
      "('bruises', 'habitat')\n",
      "('habitat', 'ring-number')\n",
      "('Label', 'habitat')\n",
      "('Label', 'population')\n",
      "('Label', 'stalk-color-above-ring')\n",
      "('Label', 'stalk-surface-above-ring')\n",
      "('Label', 'stalk-surface-below-ring')\n",
      "('spore-print-color', 'gill-color')\n",
      "('spore-print-color', 'ring-type')\n",
      "('spore-print-color', 'cap-shape')\n",
      "('spore-print-color', 'ring-number')\n",
      "('stalk-root', 'population')\n",
      "('stalk-root', 'stalk-surface-below-ring')\n",
      "('gill-spacing', 'ring-type')\n",
      "('gill-spacing', 'stalk-surface-above-ring')\n",
      "('gill-size', 'population')\n",
      "('gill-size', 'stalk-root')\n",
      "('ring-type', 'stalk-color-above-ring')\n",
      "('ring-type', 'stalk-surface-below-ring')\n",
      "('ring-type', 'bruises')\n",
      "('ring-type', 'stalk-surface-above-ring')\n",
      "('population', 'habitat')\n",
      "('population', 'gill-spacing')\n",
      "('population', 'cap-surface')\n",
      "('gill-color', 'gill-size')\n",
      "('stalk-color-above-ring', 'stalk-color-below-ring')\n",
      "('stalk-color-above-ring', 'gill-attachment')\n",
      "('stalk-color-above-ring', 'veil-color')\n"
     ]
    }
   ],
   "source": [
    "# Learn the structure\n",
    "hc = HillClimbSearch(df_puNew)\n",
    "best_model_structure = hc.estimate(scoring_method=BicScore(df_puNew))\n",
    "\n",
    "# Convert the learned structure to a BayesianModel\n",
    "best_model = BayesianNetwork(best_model_structure.edges())\n",
    "\n",
    "# Learn the parameters\n",
    "best_model.fit(df_puNew, estimator=MaximumLikelihoodEstimator)\n",
    "\n",
    "# Print the edges of the model\n",
    "print(\"\\nEdges in the model:\")\n",
    "for edge in best_model.edges():\n",
    "    print(edge)"
   ]
  },
  {
   "cell_type": "code",
   "execution_count": null,
   "metadata": {},
   "outputs": [],
   "source": [
    "# # Create an inference object\n",
    "# infer = VariableElimination(best_model)\n",
    "\n",
    "# # Define the evidence\n",
    "# evidence = {'restecg': 1, 'cp': 2}\n",
    "\n",
    "# # Remove evidence variables not in the model\n",
    "# evidence_ = {var: val for var, val in evidence.items() if var in best_model.nodes()}\n",
    "\n",
    "# # Perform inference\n",
    "# print('\\nProbability of HeartDisease given evidence= ' + str(evidence))\n",
    "# q = infer.query(variables=['heartdisease'], evidence=evidence_)\n",
    "# print(q)\n",
    "\n",
    "# # Make the prediction\n",
    "# print(infer.map_query(variables=['heartdisease'], evidence=evidence_))"
   ]
  },
  {
   "cell_type": "code",
   "execution_count": null,
   "metadata": {},
   "outputs": [],
   "source": [
    "from tqdm import tqdm\n",
    "# Define the test dataset\n",
    "test_data = df_puNew.sample(400)\n",
    "actual_values = test_data['Label']\n",
    "test_data = test_data.drop(['Label'], axis=1)\n",
    "\n",
    "# Create an inference object\n",
    "infer = VariableElimination(best_model)\n",
    "\n",
    "# Predict the 'Label' column\n",
    "predictions = []\n",
    "for index, data_point in tqdm(test_data.iterrows(), total=len(test_data), desc='Predicting', disable=True):\n",
    "    evidence = data_point.to_dict()\n",
    "    evidence_ = {var: val for var, val in evidence.items() if var in best_model.nodes() and pd.isna(val) == False}\n",
    "    prediction = infer.map_query(variables=['Label'], evidence=evidence_)\n",
    "    predictions.append(prediction['Label'])\n",
    "\n"
   ]
  },
  {
   "cell_type": "code",
   "execution_count": 23,
   "metadata": {},
   "outputs": [
    {
     "data": {
      "text/plain": [
       "1.0"
      ]
     },
     "execution_count": 23,
     "metadata": {},
     "output_type": "execute_result"
    }
   ],
   "source": [
    "# Calculate the accuracy\n",
    "accuracy = accuracy_score(actual_values, predictions)\n",
    "accuracy"
   ]
  },
  {
   "cell_type": "code",
   "execution_count": 25,
   "metadata": {},
   "outputs": [
    {
     "name": "stdout",
     "output_type": "stream",
     "text": [
      "{'cap-shape': 'knobbed', 'cap-surface': 'smooth', 'cap-color': 'brown', 'bruises': 'no', 'odor': 'fishy', 'gill-attachment': 'free', 'gill-spacing': 'close', 'gill-size': 'narrow', 'gill-color': 'buff', 'stalk-shape': 'tapering', 'stalk-root': 'bulbous', 'stalk-surface-above-ring': 'silky', 'stalk-surface-below-ring': 'silky', 'stalk-color-above-ring': 'pink', 'stalk-color-below-ring': 'pink', 'veil-color': 'white', 'ring-number': 'one', 'ring-type': 'evanescent', 'spore-print-color': 'white', 'population': 'several', 'habitat': 'woods'}\n"
     ]
    },
    {
     "data": {
      "application/vnd.jupyter.widget-view+json": {
       "model_id": "96aadf0ac91e431ca0ecfe205b73edc5",
       "version_major": 2,
       "version_minor": 0
      },
      "text/plain": [
       "0it [00:00, ?it/s]"
      ]
     },
     "metadata": {},
     "output_type": "display_data"
    },
    {
     "data": {
      "application/vnd.jupyter.widget-view+json": {
       "model_id": "cb3b46ed5bee460d8e2c68a8e4b22011",
       "version_major": 2,
       "version_minor": 0
      },
      "text/plain": [
       "0it [00:00, ?it/s]"
      ]
     },
     "metadata": {},
     "output_type": "display_data"
    },
    {
     "name": "stdout",
     "output_type": "stream",
     "text": [
      "{'cap-shape': 'convex', 'cap-surface': 'fibrous', 'cap-color': 'brown', 'bruises': 'bruises', 'odor': 'none', 'gill-attachment': 'free', 'gill-spacing': 'close', 'gill-size': 'broad', 'gill-color': 'white', 'stalk-shape': 'tapering', 'stalk-root': 'bulbous', 'stalk-surface-above-ring': 'smooth', 'stalk-surface-below-ring': 'smooth', 'stalk-color-above-ring': 'white', 'stalk-color-below-ring': 'white', 'veil-color': 'white', 'ring-number': 'one', 'ring-type': 'pendant', 'spore-print-color': 'black', 'population': 'solitary', 'habitat': 'woods'}\n"
     ]
    },
    {
     "data": {
      "application/vnd.jupyter.widget-view+json": {
       "model_id": "fe2dabe579c64bdba14f74b61c7b6da1",
       "version_major": 2,
       "version_minor": 0
      },
      "text/plain": [
       "0it [00:00, ?it/s]"
      ]
     },
     "metadata": {},
     "output_type": "display_data"
    },
    {
     "data": {
      "application/vnd.jupyter.widget-view+json": {
       "model_id": "b94d2f8eb0d04ed49c10d117d0dbc584",
       "version_major": 2,
       "version_minor": 0
      },
      "text/plain": [
       "0it [00:00, ?it/s]"
      ]
     },
     "metadata": {},
     "output_type": "display_data"
    },
    {
     "name": "stdout",
     "output_type": "stream",
     "text": [
      "{'cap-shape': 'convex', 'cap-surface': 'fibrous', 'cap-color': 'brown', 'bruises': 'bruises', 'odor': 'none', 'gill-attachment': 'free', 'gill-spacing': 'close', 'gill-size': 'broad', 'gill-color': 'purple', 'stalk-shape': 'tapering', 'stalk-root': 'bulbous', 'stalk-surface-above-ring': 'smooth', 'stalk-surface-below-ring': 'smooth', 'stalk-color-above-ring': 'white', 'stalk-color-below-ring': 'gray', 'veil-color': 'white', 'ring-number': 'one', 'ring-type': 'pendant', 'spore-print-color': 'black', 'population': 'solitary', 'habitat': 'woods'}\n"
     ]
    },
    {
     "data": {
      "application/vnd.jupyter.widget-view+json": {
       "model_id": "c5c70b4c20584a43878b2c82b3ebc2d8",
       "version_major": 2,
       "version_minor": 0
      },
      "text/plain": [
       "0it [00:00, ?it/s]"
      ]
     },
     "metadata": {},
     "output_type": "display_data"
    },
    {
     "data": {
      "application/vnd.jupyter.widget-view+json": {
       "model_id": "f8624044622b4a84a2f4f42c8547db56",
       "version_major": 2,
       "version_minor": 0
      },
      "text/plain": [
       "0it [00:00, ?it/s]"
      ]
     },
     "metadata": {},
     "output_type": "display_data"
    },
    {
     "name": "stdout",
     "output_type": "stream",
     "text": [
      "{'cap-shape': 'flat', 'cap-surface': 'fibrous', 'cap-color': 'gray', 'bruises': 'no', 'odor': 'none', 'gill-attachment': 'free', 'gill-spacing': 'close', 'gill-size': 'narrow', 'gill-color': 'black', 'stalk-shape': 'enlarging', 'stalk-root': 'equal', 'stalk-surface-above-ring': 'smooth', 'stalk-surface-below-ring': 'smooth', 'stalk-color-above-ring': 'white', 'stalk-color-below-ring': 'white', 'veil-color': 'white', 'ring-number': 'one', 'ring-type': 'pendant', 'spore-print-color': 'brown', 'population': 'several', 'habitat': 'urban'}\n"
     ]
    },
    {
     "data": {
      "application/vnd.jupyter.widget-view+json": {
       "model_id": "002ae821d006417a8bffd309f15a65d2",
       "version_major": 2,
       "version_minor": 0
      },
      "text/plain": [
       "0it [00:00, ?it/s]"
      ]
     },
     "metadata": {},
     "output_type": "display_data"
    },
    {
     "data": {
      "application/vnd.jupyter.widget-view+json": {
       "model_id": "25e89621439d4b2393058b78455a45fc",
       "version_major": 2,
       "version_minor": 0
      },
      "text/plain": [
       "0it [00:00, ?it/s]"
      ]
     },
     "metadata": {},
     "output_type": "display_data"
    },
    {
     "name": "stdout",
     "output_type": "stream",
     "text": [
      "{'cap-shape': 'flat', 'cap-surface': 'fibrous', 'cap-color': 'gray', 'bruises': 'no', 'odor': 'none', 'gill-attachment': 'free', 'gill-spacing': 'crowded', 'gill-size': 'broad', 'gill-color': 'black', 'stalk-shape': 'tapering', 'stalk-root': 'equal', 'stalk-surface-above-ring': 'smooth', 'stalk-surface-below-ring': 'smooth', 'stalk-color-above-ring': 'white', 'stalk-color-below-ring': 'white', 'veil-color': 'white', 'ring-number': 'one', 'ring-type': 'evanescent', 'spore-print-color': 'brown', 'population': 'scattered', 'habitat': 'grasses'}\n"
     ]
    },
    {
     "data": {
      "application/vnd.jupyter.widget-view+json": {
       "model_id": "596e21f1a645450ea60fa053e8adaed0",
       "version_major": 2,
       "version_minor": 0
      },
      "text/plain": [
       "0it [00:00, ?it/s]"
      ]
     },
     "metadata": {},
     "output_type": "display_data"
    },
    {
     "data": {
      "application/vnd.jupyter.widget-view+json": {
       "model_id": "1326a29cbe0441da9b6f2aca82394906",
       "version_major": 2,
       "version_minor": 0
      },
      "text/plain": [
       "0it [00:00, ?it/s]"
      ]
     },
     "metadata": {},
     "output_type": "display_data"
    },
    {
     "name": "stdout",
     "output_type": "stream",
     "text": [
      "{'cap-shape': 'flat', 'cap-surface': 'smooth', 'cap-color': 'white', 'bruises': 'bruises', 'odor': 'almond', 'gill-attachment': 'free', 'gill-spacing': 'crowded', 'gill-size': 'narrow', 'gill-color': 'white', 'stalk-shape': 'tapering', 'stalk-root': 'bulbous', 'stalk-surface-above-ring': 'smooth', 'stalk-surface-below-ring': 'smooth', 'stalk-color-above-ring': 'white', 'stalk-color-below-ring': 'white', 'veil-color': 'white', 'ring-number': 'one', 'ring-type': 'pendant', 'spore-print-color': 'brown', 'population': 'several', 'habitat': 'woods'}\n"
     ]
    },
    {
     "data": {
      "application/vnd.jupyter.widget-view+json": {
       "model_id": "12c9f62068ee45c18289bc14f73cc1ea",
       "version_major": 2,
       "version_minor": 0
      },
      "text/plain": [
       "0it [00:00, ?it/s]"
      ]
     },
     "metadata": {},
     "output_type": "display_data"
    },
    {
     "data": {
      "application/vnd.jupyter.widget-view+json": {
       "model_id": "a8e045ed52ac4bc5ba5fecb1628fe70e",
       "version_major": 2,
       "version_minor": 0
      },
      "text/plain": [
       "0it [00:00, ?it/s]"
      ]
     },
     "metadata": {},
     "output_type": "display_data"
    },
    {
     "name": "stdout",
     "output_type": "stream",
     "text": [
      "{'cap-shape': 'flat', 'cap-surface': 'smooth', 'cap-color': 'gray', 'bruises': 'no', 'odor': 'none', 'gill-attachment': 'free', 'gill-spacing': 'crowded', 'gill-size': 'broad', 'gill-color': 'black', 'stalk-shape': 'tapering', 'stalk-root': 'equal', 'stalk-surface-above-ring': 'smooth', 'stalk-surface-below-ring': 'fibrous', 'stalk-color-above-ring': 'white', 'stalk-color-below-ring': 'white', 'veil-color': 'white', 'ring-number': 'one', 'ring-type': 'evanescent', 'spore-print-color': 'brown', 'population': 'abundant', 'habitat': 'grasses'}\n"
     ]
    },
    {
     "data": {
      "application/vnd.jupyter.widget-view+json": {
       "model_id": "f9d16f1643af42ba8077cc0edb4f7c89",
       "version_major": 2,
       "version_minor": 0
      },
      "text/plain": [
       "0it [00:00, ?it/s]"
      ]
     },
     "metadata": {},
     "output_type": "display_data"
    },
    {
     "data": {
      "application/vnd.jupyter.widget-view+json": {
       "model_id": "0ae9c1b859c94603b2294b263805d94a",
       "version_major": 2,
       "version_minor": 0
      },
      "text/plain": [
       "0it [00:00, ?it/s]"
      ]
     },
     "metadata": {},
     "output_type": "display_data"
    },
    {
     "name": "stdout",
     "output_type": "stream",
     "text": [
      "{'cap-shape': 'knobbed', 'cap-surface': 'scaly', 'cap-color': 'brown', 'bruises': 'no', 'odor': 'foul', 'gill-attachment': 'free', 'gill-spacing': 'close', 'gill-size': 'narrow', 'gill-color': 'buff', 'stalk-shape': 'tapering', 'stalk-root': 'bulbous', 'stalk-surface-above-ring': 'silky', 'stalk-surface-below-ring': 'smooth', 'stalk-color-above-ring': 'white', 'stalk-color-below-ring': 'white', 'veil-color': 'white', 'ring-number': 'one', 'ring-type': 'evanescent', 'spore-print-color': 'white', 'population': 'several', 'habitat': 'paths'}\n"
     ]
    },
    {
     "data": {
      "application/vnd.jupyter.widget-view+json": {
       "model_id": "29b82c6f80b74656a79f0434da8a70d0",
       "version_major": 2,
       "version_minor": 0
      },
      "text/plain": [
       "0it [00:00, ?it/s]"
      ]
     },
     "metadata": {},
     "output_type": "display_data"
    },
    {
     "data": {
      "application/vnd.jupyter.widget-view+json": {
       "model_id": "48d0b92f83994dd8b4bd115fe5157487",
       "version_major": 2,
       "version_minor": 0
      },
      "text/plain": [
       "0it [00:00, ?it/s]"
      ]
     },
     "metadata": {},
     "output_type": "display_data"
    },
    {
     "name": "stdout",
     "output_type": "stream",
     "text": [
      "{'cap-shape': 'knobbed', 'cap-surface': 'smooth', 'cap-color': 'brown', 'bruises': 'no', 'odor': 'spicy', 'gill-attachment': 'free', 'gill-spacing': 'close', 'gill-size': 'narrow', 'gill-color': 'buff', 'stalk-shape': 'tapering', 'stalk-root': 'bulbous', 'stalk-surface-above-ring': 'silky', 'stalk-surface-below-ring': 'silky', 'stalk-color-above-ring': 'pink', 'stalk-color-below-ring': 'pink', 'veil-color': 'white', 'ring-number': 'one', 'ring-type': 'evanescent', 'spore-print-color': 'white', 'population': 'several', 'habitat': 'woods'}\n"
     ]
    },
    {
     "data": {
      "application/vnd.jupyter.widget-view+json": {
       "model_id": "f89af77ba3a64f4882007383d73129fb",
       "version_major": 2,
       "version_minor": 0
      },
      "text/plain": [
       "0it [00:00, ?it/s]"
      ]
     },
     "metadata": {},
     "output_type": "display_data"
    },
    {
     "data": {
      "application/vnd.jupyter.widget-view+json": {
       "model_id": "072eccf23aa54b2eac2effdadfc37019",
       "version_major": 2,
       "version_minor": 0
      },
      "text/plain": [
       "0it [00:00, ?it/s]"
      ]
     },
     "metadata": {},
     "output_type": "display_data"
    },
    {
     "name": "stdout",
     "output_type": "stream",
     "text": [
      "{'cap-shape': 'convex', 'cap-surface': 'scaly', 'cap-color': 'brown', 'bruises': 'bruises', 'odor': 'none', 'gill-attachment': 'free', 'gill-spacing': 'close', 'gill-size': 'broad', 'gill-color': 'white', 'stalk-shape': 'enlarging', 'stalk-root': 'bulbous', 'stalk-surface-above-ring': 'smooth', 'stalk-surface-below-ring': 'smooth', 'stalk-color-above-ring': 'white', 'stalk-color-below-ring': 'red', 'veil-color': 'white', 'ring-number': 'two', 'ring-type': 'evanescent', 'spore-print-color': 'white', 'population': 'clustered', 'habitat': 'waste'}\n"
     ]
    },
    {
     "data": {
      "application/vnd.jupyter.widget-view+json": {
       "model_id": "cbd177e483c440c8a15e3a1d204e5dff",
       "version_major": 2,
       "version_minor": 0
      },
      "text/plain": [
       "0it [00:00, ?it/s]"
      ]
     },
     "metadata": {},
     "output_type": "display_data"
    },
    {
     "data": {
      "application/vnd.jupyter.widget-view+json": {
       "model_id": "06ff5ef160a94d2e96fe2936a3a0033c",
       "version_major": 2,
       "version_minor": 0
      },
      "text/plain": [
       "0it [00:00, ?it/s]"
      ]
     },
     "metadata": {},
     "output_type": "display_data"
    },
    {
     "name": "stdout",
     "output_type": "stream",
     "text": [
      "{'cap-shape': 'convex', 'cap-surface': 'scaly', 'cap-color': 'gray', 'bruises': 'bruises', 'odor': 'none', 'gill-attachment': 'free', 'gill-spacing': 'close', 'gill-size': 'broad', 'gill-color': 'brown', 'stalk-shape': 'tapering', 'stalk-root': 'bulbous', 'stalk-surface-above-ring': 'smooth', 'stalk-surface-below-ring': 'smooth', 'stalk-color-above-ring': 'gray', 'stalk-color-below-ring': 'pink', 'veil-color': 'white', 'ring-number': 'one', 'ring-type': 'pendant', 'spore-print-color': 'brown', 'population': 'solitary', 'habitat': 'woods'}\n"
     ]
    },
    {
     "data": {
      "application/vnd.jupyter.widget-view+json": {
       "model_id": "8e98d8b0808b4ef6a62fc48e23f8a46e",
       "version_major": 2,
       "version_minor": 0
      },
      "text/plain": [
       "0it [00:00, ?it/s]"
      ]
     },
     "metadata": {},
     "output_type": "display_data"
    },
    {
     "data": {
      "application/vnd.jupyter.widget-view+json": {
       "model_id": "61d1e39f03124020a189739b3eb1e07f",
       "version_major": 2,
       "version_minor": 0
      },
      "text/plain": [
       "0it [00:00, ?it/s]"
      ]
     },
     "metadata": {},
     "output_type": "display_data"
    },
    {
     "name": "stdout",
     "output_type": "stream",
     "text": [
      "{'cap-shape': 'convex', 'cap-surface': 'scaly', 'cap-color': 'red', 'bruises': 'no', 'odor': 'foul', 'gill-attachment': 'free', 'gill-spacing': 'close', 'gill-size': 'narrow', 'gill-color': 'buff', 'stalk-shape': 'tapering', 'stalk-root': 'bulbous', 'stalk-surface-above-ring': 'smooth', 'stalk-surface-below-ring': 'smooth', 'stalk-color-above-ring': 'pink', 'stalk-color-below-ring': 'white', 'veil-color': 'white', 'ring-number': 'one', 'ring-type': 'evanescent', 'spore-print-color': 'white', 'population': 'several', 'habitat': 'woods'}\n"
     ]
    },
    {
     "data": {
      "application/vnd.jupyter.widget-view+json": {
       "model_id": "817f3554d266405e824634f47fb4f79b",
       "version_major": 2,
       "version_minor": 0
      },
      "text/plain": [
       "0it [00:00, ?it/s]"
      ]
     },
     "metadata": {},
     "output_type": "display_data"
    },
    {
     "data": {
      "application/vnd.jupyter.widget-view+json": {
       "model_id": "5191229720f84520b143ab26777882fb",
       "version_major": 2,
       "version_minor": 0
      },
      "text/plain": [
       "0it [00:00, ?it/s]"
      ]
     },
     "metadata": {},
     "output_type": "display_data"
    },
    {
     "name": "stdout",
     "output_type": "stream",
     "text": [
      "{'cap-shape': 'convex', 'cap-surface': 'smooth', 'cap-color': 'pink', 'bruises': 'bruises', 'odor': 'none', 'gill-attachment': 'free', 'gill-spacing': 'close', 'gill-size': 'broad', 'gill-color': 'white', 'stalk-shape': 'enlarging', 'stalk-root': 'bulbous', 'stalk-surface-above-ring': 'smooth', 'stalk-surface-below-ring': 'smooth', 'stalk-color-above-ring': 'red', 'stalk-color-below-ring': 'white', 'veil-color': 'white', 'ring-number': 'two', 'ring-type': 'evanescent', 'spore-print-color': 'white', 'population': 'clustered', 'habitat': 'waste'}\n"
     ]
    },
    {
     "data": {
      "application/vnd.jupyter.widget-view+json": {
       "model_id": "984e9a1f3c1d480192610cd41d88a9f0",
       "version_major": 2,
       "version_minor": 0
      },
      "text/plain": [
       "0it [00:00, ?it/s]"
      ]
     },
     "metadata": {},
     "output_type": "display_data"
    },
    {
     "data": {
      "application/vnd.jupyter.widget-view+json": {
       "model_id": "fafadd89bdb04200a2ad6549df8a2354",
       "version_major": 2,
       "version_minor": 0
      },
      "text/plain": [
       "0it [00:00, ?it/s]"
      ]
     },
     "metadata": {},
     "output_type": "display_data"
    },
    {
     "name": "stdout",
     "output_type": "stream",
     "text": [
      "{'cap-shape': 'flat', 'cap-surface': 'scaly', 'cap-color': 'gray', 'bruises': 'no', 'odor': 'foul', 'gill-attachment': 'free', 'gill-spacing': 'close', 'gill-size': 'broad', 'gill-color': 'pink', 'stalk-shape': 'enlarging', 'stalk-root': 'bulbous', 'stalk-surface-above-ring': 'silky', 'stalk-surface-below-ring': 'silky', 'stalk-color-above-ring': 'brown', 'stalk-color-below-ring': 'buff', 'veil-color': 'white', 'ring-number': 'one', 'ring-type': 'large', 'spore-print-color': 'chocolate', 'population': 'solitary', 'habitat': 'woods'}\n"
     ]
    },
    {
     "data": {
      "application/vnd.jupyter.widget-view+json": {
       "model_id": "1f37d6dd3a104f2580720264ba3a0247",
       "version_major": 2,
       "version_minor": 0
      },
      "text/plain": [
       "0it [00:00, ?it/s]"
      ]
     },
     "metadata": {},
     "output_type": "display_data"
    },
    {
     "data": {
      "application/vnd.jupyter.widget-view+json": {
       "model_id": "d6c36dfd41d84fc0abc45e51b478f5e1",
       "version_major": 2,
       "version_minor": 0
      },
      "text/plain": [
       "0it [00:00, ?it/s]"
      ]
     },
     "metadata": {},
     "output_type": "display_data"
    },
    {
     "name": "stdout",
     "output_type": "stream",
     "text": [
      "{'cap-shape': 'bell', 'cap-surface': 'smooth', 'cap-color': 'yellow', 'bruises': 'bruises', 'odor': 'anise', 'gill-attachment': 'free', 'gill-spacing': 'close', 'gill-size': 'broad', 'gill-color': 'brown', 'stalk-shape': 'enlarging', 'stalk-root': 'club', 'stalk-surface-above-ring': 'smooth', 'stalk-surface-below-ring': 'smooth', 'stalk-color-above-ring': 'white', 'stalk-color-below-ring': 'white', 'veil-color': 'white', 'ring-number': 'one', 'ring-type': 'pendant', 'spore-print-color': 'brown', 'population': 'numerous', 'habitat': 'grasses'}\n"
     ]
    },
    {
     "data": {
      "application/vnd.jupyter.widget-view+json": {
       "model_id": "fac8019461034b0382ba726bb1e033f8",
       "version_major": 2,
       "version_minor": 0
      },
      "text/plain": [
       "0it [00:00, ?it/s]"
      ]
     },
     "metadata": {},
     "output_type": "display_data"
    },
    {
     "data": {
      "application/vnd.jupyter.widget-view+json": {
       "model_id": "3387cb62d7b340c79960c5fe9ca0b37f",
       "version_major": 2,
       "version_minor": 0
      },
      "text/plain": [
       "0it [00:00, ?it/s]"
      ]
     },
     "metadata": {},
     "output_type": "display_data"
    },
    {
     "name": "stdout",
     "output_type": "stream",
     "text": [
      "{'cap-shape': 'convex', 'cap-surface': 'fibrous', 'cap-color': 'pink', 'bruises': 'no', 'odor': 'creosote', 'gill-attachment': 'free', 'gill-spacing': 'crowded', 'gill-size': 'narrow', 'gill-color': 'pink', 'stalk-shape': 'enlarging', 'stalk-root': 'bulbous', 'stalk-surface-above-ring': 'smooth', 'stalk-surface-below-ring': 'smooth', 'stalk-color-above-ring': 'white', 'stalk-color-below-ring': 'white', 'veil-color': 'white', 'ring-number': 'one', 'ring-type': 'pendant', 'spore-print-color': 'brown', 'population': 'scattered', 'habitat': 'woods'}\n"
     ]
    },
    {
     "data": {
      "application/vnd.jupyter.widget-view+json": {
       "model_id": "aebfa4e9915f4bd7baf14aae185f8196",
       "version_major": 2,
       "version_minor": 0
      },
      "text/plain": [
       "0it [00:00, ?it/s]"
      ]
     },
     "metadata": {},
     "output_type": "display_data"
    },
    {
     "data": {
      "application/vnd.jupyter.widget-view+json": {
       "model_id": "f40f40f1914b4a0c9851551a4a62694c",
       "version_major": 2,
       "version_minor": 0
      },
      "text/plain": [
       "0it [00:00, ?it/s]"
      ]
     },
     "metadata": {},
     "output_type": "display_data"
    },
    {
     "name": "stdout",
     "output_type": "stream",
     "text": [
      "{'cap-shape': 'convex', 'cap-surface': 'scaly', 'cap-color': 'red', 'bruises': 'no', 'odor': 'foul', 'gill-attachment': 'free', 'gill-spacing': 'close', 'gill-size': 'narrow', 'gill-color': 'buff', 'stalk-shape': 'tapering', 'stalk-root': 'bulbous', 'stalk-surface-above-ring': 'smooth', 'stalk-surface-below-ring': 'silky', 'stalk-color-above-ring': 'white', 'stalk-color-below-ring': 'white', 'veil-color': 'white', 'ring-number': 'one', 'ring-type': 'evanescent', 'spore-print-color': 'white', 'population': 'several', 'habitat': 'woods'}\n"
     ]
    },
    {
     "data": {
      "application/vnd.jupyter.widget-view+json": {
       "model_id": "4504a1e3fa7c49648df230dfc18d446f",
       "version_major": 2,
       "version_minor": 0
      },
      "text/plain": [
       "0it [00:00, ?it/s]"
      ]
     },
     "metadata": {},
     "output_type": "display_data"
    },
    {
     "data": {
      "application/vnd.jupyter.widget-view+json": {
       "model_id": "340a4635c766429e9b81bfe9de178529",
       "version_major": 2,
       "version_minor": 0
      },
      "text/plain": [
       "0it [00:00, ?it/s]"
      ]
     },
     "metadata": {},
     "output_type": "display_data"
    },
    {
     "name": "stdout",
     "output_type": "stream",
     "text": [
      "{'cap-shape': 'flat', 'cap-surface': 'fibrous', 'cap-color': 'gray', 'bruises': 'no', 'odor': 'foul', 'gill-attachment': 'free', 'gill-spacing': 'close', 'gill-size': 'broad', 'gill-color': 'gray', 'stalk-shape': 'enlarging', 'stalk-root': 'bulbous', 'stalk-surface-above-ring': 'silky', 'stalk-surface-below-ring': 'silky', 'stalk-color-above-ring': 'pink', 'stalk-color-below-ring': 'buff', 'veil-color': 'white', 'ring-number': 'one', 'ring-type': 'large', 'spore-print-color': 'chocolate', 'population': 'solitary', 'habitat': 'paths'}\n"
     ]
    },
    {
     "data": {
      "application/vnd.jupyter.widget-view+json": {
       "model_id": "feb80eb4207142b8b39f6c488a095db1",
       "version_major": 2,
       "version_minor": 0
      },
      "text/plain": [
       "0it [00:00, ?it/s]"
      ]
     },
     "metadata": {},
     "output_type": "display_data"
    },
    {
     "data": {
      "application/vnd.jupyter.widget-view+json": {
       "model_id": "cbfff2fb63b54be39bba3a570c0a496d",
       "version_major": 2,
       "version_minor": 0
      },
      "text/plain": [
       "0it [00:00, ?it/s]"
      ]
     },
     "metadata": {},
     "output_type": "display_data"
    },
    {
     "name": "stdout",
     "output_type": "stream",
     "text": [
      "{'cap-shape': 'flat', 'cap-surface': 'smooth', 'cap-color': 'red', 'bruises': 'no', 'odor': 'foul', 'gill-attachment': 'free', 'gill-spacing': 'close', 'gill-size': 'narrow', 'gill-color': 'buff', 'stalk-shape': 'tapering', 'stalk-root': 'bulbous', 'stalk-surface-above-ring': 'smooth', 'stalk-surface-below-ring': 'smooth', 'stalk-color-above-ring': 'white', 'stalk-color-below-ring': 'pink', 'veil-color': 'white', 'ring-number': 'one', 'ring-type': 'evanescent', 'spore-print-color': 'white', 'population': 'several', 'habitat': 'leaves'}\n"
     ]
    },
    {
     "data": {
      "application/vnd.jupyter.widget-view+json": {
       "model_id": "53b7c9b291f54b31aaaf2000519e65d2",
       "version_major": 2,
       "version_minor": 0
      },
      "text/plain": [
       "0it [00:00, ?it/s]"
      ]
     },
     "metadata": {},
     "output_type": "display_data"
    },
    {
     "data": {
      "application/vnd.jupyter.widget-view+json": {
       "model_id": "391c0bc36a7149758ca4a3ac0447a41f",
       "version_major": 2,
       "version_minor": 0
      },
      "text/plain": [
       "0it [00:00, ?it/s]"
      ]
     },
     "metadata": {},
     "output_type": "display_data"
    },
    {
     "name": "stdout",
     "output_type": "stream",
     "text": [
      "{'cap-shape': 'flat', 'cap-surface': 'fibrous', 'cap-color': 'brown', 'bruises': 'bruises', 'odor': 'none', 'gill-attachment': 'free', 'gill-spacing': 'close', 'gill-size': 'broad', 'gill-color': 'pink', 'stalk-shape': 'tapering', 'stalk-root': 'bulbous', 'stalk-surface-above-ring': 'smooth', 'stalk-surface-below-ring': 'smooth', 'stalk-color-above-ring': 'white', 'stalk-color-below-ring': 'gray', 'veil-color': 'white', 'ring-number': 'one', 'ring-type': 'pendant', 'spore-print-color': 'black', 'population': 'several', 'habitat': 'woods'}\n"
     ]
    },
    {
     "data": {
      "application/vnd.jupyter.widget-view+json": {
       "model_id": "3c1fbd2fff0b404395519ac298e1f4cf",
       "version_major": 2,
       "version_minor": 0
      },
      "text/plain": [
       "0it [00:00, ?it/s]"
      ]
     },
     "metadata": {},
     "output_type": "display_data"
    },
    {
     "data": {
      "application/vnd.jupyter.widget-view+json": {
       "model_id": "291e0368e13842ba9c3bd1f14c74691a",
       "version_major": 2,
       "version_minor": 0
      },
      "text/plain": [
       "0it [00:00, ?it/s]"
      ]
     },
     "metadata": {},
     "output_type": "display_data"
    },
    {
     "name": "stdout",
     "output_type": "stream",
     "text": [
      "{'cap-shape': 'flat', 'cap-surface': 'scaly', 'cap-color': 'gray', 'bruises': 'bruises', 'odor': 'none', 'gill-attachment': 'free', 'gill-spacing': 'close', 'gill-size': 'broad', 'gill-color': 'white', 'stalk-shape': 'enlarging', 'stalk-root': 'bulbous', 'stalk-surface-above-ring': 'smooth', 'stalk-surface-below-ring': 'smooth', 'stalk-color-above-ring': 'white', 'stalk-color-below-ring': 'white', 'veil-color': 'white', 'ring-number': 'two', 'ring-type': 'pendant', 'spore-print-color': 'white', 'population': 'several', 'habitat': 'paths'}\n"
     ]
    },
    {
     "data": {
      "application/vnd.jupyter.widget-view+json": {
       "model_id": "b11d8b3201594a2987dca22d4daffdd5",
       "version_major": 2,
       "version_minor": 0
      },
      "text/plain": [
       "0it [00:00, ?it/s]"
      ]
     },
     "metadata": {},
     "output_type": "display_data"
    },
    {
     "data": {
      "application/vnd.jupyter.widget-view+json": {
       "model_id": "a5cf723c3f28465cbd88faaf4dda1018",
       "version_major": 2,
       "version_minor": 0
      },
      "text/plain": [
       "0it [00:00, ?it/s]"
      ]
     },
     "metadata": {},
     "output_type": "display_data"
    },
    {
     "name": "stdout",
     "output_type": "stream",
     "text": [
      "{'cap-shape': 'convex', 'cap-surface': 'smooth', 'cap-color': 'yellow', 'bruises': 'bruises', 'odor': 'almond', 'gill-attachment': 'free', 'gill-spacing': 'close', 'gill-size': 'broad', 'gill-color': 'brown', 'stalk-shape': 'enlarging', 'stalk-root': 'club', 'stalk-surface-above-ring': 'smooth', 'stalk-surface-below-ring': 'smooth', 'stalk-color-above-ring': 'white', 'stalk-color-below-ring': 'white', 'veil-color': 'white', 'ring-number': 'one', 'ring-type': 'pendant', 'spore-print-color': 'black', 'population': 'numerous', 'habitat': 'meadows'}\n"
     ]
    },
    {
     "data": {
      "application/vnd.jupyter.widget-view+json": {
       "model_id": "69bae6e5a33e4bed97799ba49cf92546",
       "version_major": 2,
       "version_minor": 0
      },
      "text/plain": [
       "0it [00:00, ?it/s]"
      ]
     },
     "metadata": {},
     "output_type": "display_data"
    },
    {
     "data": {
      "application/vnd.jupyter.widget-view+json": {
       "model_id": "8cc4465374d7428385eb9ef397b53b6c",
       "version_major": 2,
       "version_minor": 0
      },
      "text/plain": [
       "0it [00:00, ?it/s]"
      ]
     },
     "metadata": {},
     "output_type": "display_data"
    },
    {
     "name": "stdout",
     "output_type": "stream",
     "text": [
      "{'cap-shape': 'convex', 'cap-surface': 'fibrous', 'cap-color': 'gray', 'bruises': 'bruises', 'odor': 'none', 'gill-attachment': 'free', 'gill-spacing': 'close', 'gill-size': 'broad', 'gill-color': 'brown', 'stalk-shape': 'tapering', 'stalk-root': 'bulbous', 'stalk-surface-above-ring': 'smooth', 'stalk-surface-below-ring': 'smooth', 'stalk-color-above-ring': 'pink', 'stalk-color-below-ring': 'pink', 'veil-color': 'white', 'ring-number': 'one', 'ring-type': 'pendant', 'spore-print-color': 'brown', 'population': 'several', 'habitat': 'woods'}\n"
     ]
    },
    {
     "data": {
      "application/vnd.jupyter.widget-view+json": {
       "model_id": "224fb1b66b584731a6ca74145a50bccc",
       "version_major": 2,
       "version_minor": 0
      },
      "text/plain": [
       "0it [00:00, ?it/s]"
      ]
     },
     "metadata": {},
     "output_type": "display_data"
    },
    {
     "data": {
      "application/vnd.jupyter.widget-view+json": {
       "model_id": "26d8e8b732284db08743f86d2edab563",
       "version_major": 2,
       "version_minor": 0
      },
      "text/plain": [
       "0it [00:00, ?it/s]"
      ]
     },
     "metadata": {},
     "output_type": "display_data"
    },
    {
     "name": "stdout",
     "output_type": "stream",
     "text": [
      "{'cap-shape': 'convex', 'cap-surface': 'fibrous', 'cap-color': 'gray', 'bruises': 'bruises', 'odor': 'none', 'gill-attachment': 'free', 'gill-spacing': 'close', 'gill-size': 'broad', 'gill-color': 'purple', 'stalk-shape': 'tapering', 'stalk-root': 'bulbous', 'stalk-surface-above-ring': 'smooth', 'stalk-surface-below-ring': 'smooth', 'stalk-color-above-ring': 'pink', 'stalk-color-below-ring': 'gray', 'veil-color': 'white', 'ring-number': 'one', 'ring-type': 'pendant', 'spore-print-color': 'brown', 'population': 'several', 'habitat': 'woods'}\n"
     ]
    },
    {
     "data": {
      "application/vnd.jupyter.widget-view+json": {
       "model_id": "19ac638bdb2f4bd884f643bd894625a8",
       "version_major": 2,
       "version_minor": 0
      },
      "text/plain": [
       "0it [00:00, ?it/s]"
      ]
     },
     "metadata": {},
     "output_type": "display_data"
    },
    {
     "data": {
      "application/vnd.jupyter.widget-view+json": {
       "model_id": "ecb68a785a414fd3a68b7c5e15f0ca0c",
       "version_major": 2,
       "version_minor": 0
      },
      "text/plain": [
       "0it [00:00, ?it/s]"
      ]
     },
     "metadata": {},
     "output_type": "display_data"
    },
    {
     "name": "stdout",
     "output_type": "stream",
     "text": [
      "{'cap-shape': 'knobbed', 'cap-surface': 'smooth', 'cap-color': 'red', 'bruises': 'no', 'odor': 'spicy', 'gill-attachment': 'free', 'gill-spacing': 'close', 'gill-size': 'narrow', 'gill-color': 'buff', 'stalk-shape': 'tapering', 'stalk-root': 'bulbous', 'stalk-surface-above-ring': 'smooth', 'stalk-surface-below-ring': 'silky', 'stalk-color-above-ring': 'white', 'stalk-color-below-ring': 'pink', 'veil-color': 'white', 'ring-number': 'one', 'ring-type': 'evanescent', 'spore-print-color': 'white', 'population': 'several', 'habitat': 'woods'}\n"
     ]
    },
    {
     "data": {
      "application/vnd.jupyter.widget-view+json": {
       "model_id": "5a5929b2582a426d9bd085583aa10f51",
       "version_major": 2,
       "version_minor": 0
      },
      "text/plain": [
       "0it [00:00, ?it/s]"
      ]
     },
     "metadata": {},
     "output_type": "display_data"
    },
    {
     "data": {
      "application/vnd.jupyter.widget-view+json": {
       "model_id": "7192e0cc83a34e0d9bbe2140782bfeb3",
       "version_major": 2,
       "version_minor": 0
      },
      "text/plain": [
       "0it [00:00, ?it/s]"
      ]
     },
     "metadata": {},
     "output_type": "display_data"
    },
    {
     "name": "stdout",
     "output_type": "stream",
     "text": [
      "{'cap-shape': 'flat', 'cap-surface': 'smooth', 'cap-color': 'brown', 'bruises': 'no', 'odor': 'none', 'gill-attachment': 'free', 'gill-spacing': 'crowded', 'gill-size': 'broad', 'gill-color': 'chocolate', 'stalk-shape': 'tapering', 'stalk-root': 'equal', 'stalk-surface-above-ring': 'fibrous', 'stalk-surface-below-ring': 'fibrous', 'stalk-color-above-ring': 'white', 'stalk-color-below-ring': 'white', 'veil-color': 'white', 'ring-number': 'one', 'ring-type': 'evanescent', 'spore-print-color': 'black', 'population': 'abundant', 'habitat': 'grasses'}\n"
     ]
    },
    {
     "data": {
      "application/vnd.jupyter.widget-view+json": {
       "model_id": "c2a5288d992f497ca86d611ffa8deb35",
       "version_major": 2,
       "version_minor": 0
      },
      "text/plain": [
       "0it [00:00, ?it/s]"
      ]
     },
     "metadata": {},
     "output_type": "display_data"
    },
    {
     "data": {
      "application/vnd.jupyter.widget-view+json": {
       "model_id": "470dcf7f6fbf4e6889a105aab10f762b",
       "version_major": 2,
       "version_minor": 0
      },
      "text/plain": [
       "0it [00:00, ?it/s]"
      ]
     },
     "metadata": {},
     "output_type": "display_data"
    },
    {
     "name": "stdout",
     "output_type": "stream",
     "text": [
      "{'cap-shape': 'convex', 'cap-surface': 'scaly', 'cap-color': 'yellow', 'bruises': 'no', 'odor': 'foul', 'gill-attachment': 'free', 'gill-spacing': 'close', 'gill-size': 'broad', 'gill-color': 'gray', 'stalk-shape': 'enlarging', 'stalk-root': 'bulbous', 'stalk-surface-above-ring': 'silky', 'stalk-surface-below-ring': 'silky', 'stalk-color-above-ring': 'buff', 'stalk-color-below-ring': 'brown', 'veil-color': 'white', 'ring-number': 'one', 'ring-type': 'large', 'spore-print-color': 'chocolate', 'population': 'solitary', 'habitat': 'woods'}\n"
     ]
    },
    {
     "data": {
      "application/vnd.jupyter.widget-view+json": {
       "model_id": "fcaa941d414a408a86c387d863fd538e",
       "version_major": 2,
       "version_minor": 0
      },
      "text/plain": [
       "0it [00:00, ?it/s]"
      ]
     },
     "metadata": {},
     "output_type": "display_data"
    },
    {
     "data": {
      "application/vnd.jupyter.widget-view+json": {
       "model_id": "dadb5e285c88471ea81fbc9042e000ac",
       "version_major": 2,
       "version_minor": 0
      },
      "text/plain": [
       "0it [00:00, ?it/s]"
      ]
     },
     "metadata": {},
     "output_type": "display_data"
    },
    {
     "name": "stdout",
     "output_type": "stream",
     "text": [
      "{'cap-shape': 'convex', 'cap-surface': 'fibrous', 'cap-color': 'red', 'bruises': 'bruises', 'odor': 'none', 'gill-attachment': 'free', 'gill-spacing': 'close', 'gill-size': 'broad', 'gill-color': 'brown', 'stalk-shape': 'tapering', 'stalk-root': 'bulbous', 'stalk-surface-above-ring': 'smooth', 'stalk-surface-below-ring': 'smooth', 'stalk-color-above-ring': 'pink', 'stalk-color-below-ring': 'pink', 'veil-color': 'white', 'ring-number': 'one', 'ring-type': 'pendant', 'spore-print-color': 'brown', 'population': 'several', 'habitat': 'woods'}\n"
     ]
    },
    {
     "data": {
      "application/vnd.jupyter.widget-view+json": {
       "model_id": "8d9a71a634fb448fb27aa50a5bce42fa",
       "version_major": 2,
       "version_minor": 0
      },
      "text/plain": [
       "0it [00:00, ?it/s]"
      ]
     },
     "metadata": {},
     "output_type": "display_data"
    },
    {
     "data": {
      "application/vnd.jupyter.widget-view+json": {
       "model_id": "98d345193848495daee0fbb1a6b1674e",
       "version_major": 2,
       "version_minor": 0
      },
      "text/plain": [
       "0it [00:00, ?it/s]"
      ]
     },
     "metadata": {},
     "output_type": "display_data"
    },
    {
     "name": "stdout",
     "output_type": "stream",
     "text": [
      "{'cap-shape': 'convex', 'cap-surface': 'fibrous', 'cap-color': 'gray', 'bruises': 'no', 'odor': 'none', 'gill-attachment': 'free', 'gill-spacing': 'crowded', 'gill-size': 'broad', 'gill-color': 'black', 'stalk-shape': 'tapering', 'stalk-root': 'equal', 'stalk-surface-above-ring': 'smooth', 'stalk-surface-below-ring': 'fibrous', 'stalk-color-above-ring': 'white', 'stalk-color-below-ring': 'white', 'veil-color': 'white', 'ring-number': 'one', 'ring-type': 'evanescent', 'spore-print-color': 'brown', 'population': 'abundant', 'habitat': 'grasses'}\n"
     ]
    },
    {
     "data": {
      "application/vnd.jupyter.widget-view+json": {
       "model_id": "87c04335d36046b388bcbfb3f740834b",
       "version_major": 2,
       "version_minor": 0
      },
      "text/plain": [
       "0it [00:00, ?it/s]"
      ]
     },
     "metadata": {},
     "output_type": "display_data"
    },
    {
     "data": {
      "application/vnd.jupyter.widget-view+json": {
       "model_id": "6a15e56e05a4497aabd0372c00744a7f",
       "version_major": 2,
       "version_minor": 0
      },
      "text/plain": [
       "0it [00:00, ?it/s]"
      ]
     },
     "metadata": {},
     "output_type": "display_data"
    },
    {
     "name": "stdout",
     "output_type": "stream",
     "text": [
      "{'cap-shape': 'convex', 'cap-surface': 'scaly', 'cap-color': 'gray', 'bruises': 'bruises', 'odor': 'none', 'gill-attachment': 'free', 'gill-spacing': 'close', 'gill-size': 'broad', 'gill-color': 'brown', 'stalk-shape': 'tapering', 'stalk-root': 'bulbous', 'stalk-surface-above-ring': 'smooth', 'stalk-surface-below-ring': 'smooth', 'stalk-color-above-ring': 'gray', 'stalk-color-below-ring': 'gray', 'veil-color': 'white', 'ring-number': 'one', 'ring-type': 'pendant', 'spore-print-color': 'black', 'population': 'solitary', 'habitat': 'woods'}\n"
     ]
    },
    {
     "data": {
      "application/vnd.jupyter.widget-view+json": {
       "model_id": "8ab92db71f624b6fa333fd9f6510aec1",
       "version_major": 2,
       "version_minor": 0
      },
      "text/plain": [
       "0it [00:00, ?it/s]"
      ]
     },
     "metadata": {},
     "output_type": "display_data"
    },
    {
     "data": {
      "application/vnd.jupyter.widget-view+json": {
       "model_id": "10fb755b3f8c4d26b5be160e92353660",
       "version_major": 2,
       "version_minor": 0
      },
      "text/plain": [
       "0it [00:00, ?it/s]"
      ]
     },
     "metadata": {},
     "output_type": "display_data"
    },
    {
     "name": "stdout",
     "output_type": "stream",
     "text": [
      "{'cap-shape': 'convex', 'cap-surface': 'smooth', 'cap-color': 'red', 'bruises': 'no', 'odor': 'spicy', 'gill-attachment': 'free', 'gill-spacing': 'close', 'gill-size': 'narrow', 'gill-color': 'buff', 'stalk-shape': 'tapering', 'stalk-root': 'bulbous', 'stalk-surface-above-ring': 'smooth', 'stalk-surface-below-ring': 'silky', 'stalk-color-above-ring': 'pink', 'stalk-color-below-ring': 'white', 'veil-color': 'white', 'ring-number': 'one', 'ring-type': 'evanescent', 'spore-print-color': 'white', 'population': 'several', 'habitat': 'leaves'}\n"
     ]
    },
    {
     "data": {
      "application/vnd.jupyter.widget-view+json": {
       "model_id": "985355c5c5e64d60b95f846f0761de39",
       "version_major": 2,
       "version_minor": 0
      },
      "text/plain": [
       "0it [00:00, ?it/s]"
      ]
     },
     "metadata": {},
     "output_type": "display_data"
    },
    {
     "data": {
      "application/vnd.jupyter.widget-view+json": {
       "model_id": "81edf01eb462486f8b98985f80553bc5",
       "version_major": 2,
       "version_minor": 0
      },
      "text/plain": [
       "0it [00:00, ?it/s]"
      ]
     },
     "metadata": {},
     "output_type": "display_data"
    },
    {
     "name": "stdout",
     "output_type": "stream",
     "text": [
      "{'cap-shape': 'convex', 'cap-surface': 'scaly', 'cap-color': 'red', 'bruises': 'bruises', 'odor': 'none', 'gill-attachment': 'free', 'gill-spacing': 'close', 'gill-size': 'broad', 'gill-color': 'purple', 'stalk-shape': 'tapering', 'stalk-root': 'bulbous', 'stalk-surface-above-ring': 'smooth', 'stalk-surface-below-ring': 'smooth', 'stalk-color-above-ring': 'pink', 'stalk-color-below-ring': 'gray', 'veil-color': 'white', 'ring-number': 'one', 'ring-type': 'pendant', 'spore-print-color': 'black', 'population': 'solitary', 'habitat': 'woods'}\n"
     ]
    },
    {
     "data": {
      "application/vnd.jupyter.widget-view+json": {
       "model_id": "b967ab1c554e44799b818f97bf3b40c8",
       "version_major": 2,
       "version_minor": 0
      },
      "text/plain": [
       "0it [00:00, ?it/s]"
      ]
     },
     "metadata": {},
     "output_type": "display_data"
    },
    {
     "data": {
      "application/vnd.jupyter.widget-view+json": {
       "model_id": "16dd449bb521427099044d4bf396da2d",
       "version_major": 2,
       "version_minor": 0
      },
      "text/plain": [
       "0it [00:00, ?it/s]"
      ]
     },
     "metadata": {},
     "output_type": "display_data"
    },
    {
     "name": "stdout",
     "output_type": "stream",
     "text": [
      "{'cap-shape': 'convex', 'cap-surface': 'fibrous', 'cap-color': 'red', 'bruises': 'bruises', 'odor': 'none', 'gill-attachment': 'free', 'gill-spacing': 'close', 'gill-size': 'broad', 'gill-color': 'brown', 'stalk-shape': 'tapering', 'stalk-root': 'bulbous', 'stalk-surface-above-ring': 'smooth', 'stalk-surface-below-ring': 'smooth', 'stalk-color-above-ring': 'pink', 'stalk-color-below-ring': 'white', 'veil-color': 'white', 'ring-number': 'one', 'ring-type': 'pendant', 'spore-print-color': 'brown', 'population': 'several', 'habitat': 'woods'}\n"
     ]
    },
    {
     "data": {
      "application/vnd.jupyter.widget-view+json": {
       "model_id": "bd56b6b89ed34ab58c9ce6e1585b27ee",
       "version_major": 2,
       "version_minor": 0
      },
      "text/plain": [
       "0it [00:00, ?it/s]"
      ]
     },
     "metadata": {},
     "output_type": "display_data"
    },
    {
     "data": {
      "application/vnd.jupyter.widget-view+json": {
       "model_id": "f8b7ee1ff731457f8ebbed8807b058ed",
       "version_major": 2,
       "version_minor": 0
      },
      "text/plain": [
       "0it [00:00, ?it/s]"
      ]
     },
     "metadata": {},
     "output_type": "display_data"
    },
    {
     "name": "stdout",
     "output_type": "stream",
     "text": [
      "{'cap-shape': 'knobbed', 'cap-surface': 'scaly', 'cap-color': 'brown', 'bruises': 'no', 'odor': 'musty', 'gill-attachment': 'attached', 'gill-spacing': 'close', 'gill-size': 'broad', 'gill-color': 'yellow', 'stalk-shape': 'enlarging', 'stalk-root': 'club', 'stalk-surface-above-ring': 'silky', 'stalk-surface-below-ring': 'scaly', 'stalk-color-above-ring': 'cinnamon', 'stalk-color-below-ring': 'cinnamon', 'veil-color': 'white', 'ring-number': 'none', 'ring-type': 'none', 'spore-print-color': 'white', 'population': 'clustered', 'habitat': 'woods'}\n"
     ]
    },
    {
     "data": {
      "application/vnd.jupyter.widget-view+json": {
       "model_id": "4ad48ab0702b4278868790d8336adb63",
       "version_major": 2,
       "version_minor": 0
      },
      "text/plain": [
       "0it [00:00, ?it/s]"
      ]
     },
     "metadata": {},
     "output_type": "display_data"
    },
    {
     "data": {
      "application/vnd.jupyter.widget-view+json": {
       "model_id": "9da6f6d6dae9481aa011b1148a970afb",
       "version_major": 2,
       "version_minor": 0
      },
      "text/plain": [
       "0it [00:00, ?it/s]"
      ]
     },
     "metadata": {},
     "output_type": "display_data"
    },
    {
     "name": "stdout",
     "output_type": "stream",
     "text": [
      "{'cap-shape': 'knobbed', 'cap-surface': 'smooth', 'cap-color': 'brown', 'bruises': 'no', 'odor': 'none', 'gill-attachment': 'attached', 'gill-spacing': 'close', 'gill-size': 'broad', 'gill-color': 'brown', 'stalk-shape': 'enlarging', 'stalk-root': 'bulbous', 'stalk-surface-above-ring': 'smooth', 'stalk-surface-below-ring': 'smooth', 'stalk-color-above-ring': 'orange', 'stalk-color-below-ring': 'orange', 'veil-color': 'brown', 'ring-number': 'one', 'ring-type': 'pendant', 'spore-print-color': 'buff', 'population': 'clustered', 'habitat': 'leaves'}\n"
     ]
    },
    {
     "data": {
      "application/vnd.jupyter.widget-view+json": {
       "model_id": "cbec27fe7f5f4504841731da4f2197b5",
       "version_major": 2,
       "version_minor": 0
      },
      "text/plain": [
       "0it [00:00, ?it/s]"
      ]
     },
     "metadata": {},
     "output_type": "display_data"
    },
    {
     "data": {
      "application/vnd.jupyter.widget-view+json": {
       "model_id": "3e2f8c4719b64bb88e2b15ef8db19b10",
       "version_major": 2,
       "version_minor": 0
      },
      "text/plain": [
       "0it [00:00, ?it/s]"
      ]
     },
     "metadata": {},
     "output_type": "display_data"
    },
    {
     "name": "stdout",
     "output_type": "stream",
     "text": [
      "{'cap-shape': 'flat', 'cap-surface': 'scaly', 'cap-color': 'red', 'bruises': 'bruises', 'odor': 'none', 'gill-attachment': 'free', 'gill-spacing': 'close', 'gill-size': 'broad', 'gill-color': 'brown', 'stalk-shape': 'tapering', 'stalk-root': 'bulbous', 'stalk-surface-above-ring': 'smooth', 'stalk-surface-below-ring': 'smooth', 'stalk-color-above-ring': 'gray', 'stalk-color-below-ring': 'gray', 'veil-color': 'white', 'ring-number': 'one', 'ring-type': 'pendant', 'spore-print-color': 'black', 'population': 'solitary', 'habitat': 'woods'}\n"
     ]
    },
    {
     "data": {
      "application/vnd.jupyter.widget-view+json": {
       "model_id": "2c5aedfaf2684aae853e09e39c27163a",
       "version_major": 2,
       "version_minor": 0
      },
      "text/plain": [
       "0it [00:00, ?it/s]"
      ]
     },
     "metadata": {},
     "output_type": "display_data"
    },
    {
     "data": {
      "application/vnd.jupyter.widget-view+json": {
       "model_id": "5c1f4e9f429a402c8fe2377bc46924ca",
       "version_major": 2,
       "version_minor": 0
      },
      "text/plain": [
       "0it [00:00, ?it/s]"
      ]
     },
     "metadata": {},
     "output_type": "display_data"
    },
    {
     "name": "stdout",
     "output_type": "stream",
     "text": [
      "{'cap-shape': 'flat', 'cap-surface': 'scaly', 'cap-color': 'red', 'bruises': 'bruises', 'odor': 'none', 'gill-attachment': 'free', 'gill-spacing': 'close', 'gill-size': 'broad', 'gill-color': 'pink', 'stalk-shape': 'tapering', 'stalk-root': 'bulbous', 'stalk-surface-above-ring': 'smooth', 'stalk-surface-below-ring': 'smooth', 'stalk-color-above-ring': 'gray', 'stalk-color-below-ring': 'pink', 'veil-color': 'white', 'ring-number': 'one', 'ring-type': 'pendant', 'spore-print-color': 'black', 'population': 'several', 'habitat': 'woods'}\n"
     ]
    },
    {
     "data": {
      "application/vnd.jupyter.widget-view+json": {
       "model_id": "9f80d78cffb4471c9352db5f138588b9",
       "version_major": 2,
       "version_minor": 0
      },
      "text/plain": [
       "0it [00:00, ?it/s]"
      ]
     },
     "metadata": {},
     "output_type": "display_data"
    },
    {
     "data": {
      "application/vnd.jupyter.widget-view+json": {
       "model_id": "a69e81c7c3ac4360a7a6642022847758",
       "version_major": 2,
       "version_minor": 0
      },
      "text/plain": [
       "0it [00:00, ?it/s]"
      ]
     },
     "metadata": {},
     "output_type": "display_data"
    },
    {
     "name": "stdout",
     "output_type": "stream",
     "text": [
      "{'cap-shape': 'flat', 'cap-surface': 'scaly', 'cap-color': 'brown', 'bruises': 'bruises', 'odor': 'none', 'gill-attachment': 'free', 'gill-spacing': 'close', 'gill-size': 'broad', 'gill-color': 'pink', 'stalk-shape': 'tapering', 'stalk-root': 'bulbous', 'stalk-surface-above-ring': 'smooth', 'stalk-surface-below-ring': 'smooth', 'stalk-color-above-ring': 'gray', 'stalk-color-below-ring': 'pink', 'veil-color': 'white', 'ring-number': 'one', 'ring-type': 'pendant', 'spore-print-color': 'black', 'population': 'several', 'habitat': 'woods'}\n"
     ]
    },
    {
     "data": {
      "application/vnd.jupyter.widget-view+json": {
       "model_id": "56cfca776e6148879f8f4cae736ed4bf",
       "version_major": 2,
       "version_minor": 0
      },
      "text/plain": [
       "0it [00:00, ?it/s]"
      ]
     },
     "metadata": {},
     "output_type": "display_data"
    },
    {
     "data": {
      "application/vnd.jupyter.widget-view+json": {
       "model_id": "e1a4a45d21a940b48a30713efd62b06d",
       "version_major": 2,
       "version_minor": 0
      },
      "text/plain": [
       "0it [00:00, ?it/s]"
      ]
     },
     "metadata": {},
     "output_type": "display_data"
    },
    {
     "name": "stdout",
     "output_type": "stream",
     "text": [
      "{'cap-shape': 'knobbed', 'cap-surface': 'smooth', 'cap-color': 'brown', 'bruises': 'no', 'odor': 'none', 'gill-attachment': 'attached', 'gill-spacing': 'close', 'gill-size': 'broad', 'gill-color': 'yellow', 'stalk-shape': 'enlarging', 'stalk-root': 'bulbous', 'stalk-surface-above-ring': 'smooth', 'stalk-surface-below-ring': 'smooth', 'stalk-color-above-ring': 'orange', 'stalk-color-below-ring': 'orange', 'veil-color': 'brown', 'ring-number': 'one', 'ring-type': 'pendant', 'spore-print-color': 'buff', 'population': 'clustered', 'habitat': 'leaves'}\n"
     ]
    },
    {
     "data": {
      "application/vnd.jupyter.widget-view+json": {
       "model_id": "511f0472a9b44a64b0cafa9c8ff66d8a",
       "version_major": 2,
       "version_minor": 0
      },
      "text/plain": [
       "0it [00:00, ?it/s]"
      ]
     },
     "metadata": {},
     "output_type": "display_data"
    },
    {
     "data": {
      "application/vnd.jupyter.widget-view+json": {
       "model_id": "020a1b2e892249758380d36f33118654",
       "version_major": 2,
       "version_minor": 0
      },
      "text/plain": [
       "0it [00:00, ?it/s]"
      ]
     },
     "metadata": {},
     "output_type": "display_data"
    },
    {
     "name": "stdout",
     "output_type": "stream",
     "text": [
      "{'cap-shape': 'flat', 'cap-surface': 'scaly', 'cap-color': 'brown', 'bruises': 'bruises', 'odor': 'anise', 'gill-attachment': 'free', 'gill-spacing': 'close', 'gill-size': 'broad', 'gill-color': 'pink', 'stalk-shape': 'enlarging', 'stalk-root': 'rooted', 'stalk-surface-above-ring': 'smooth', 'stalk-surface-below-ring': 'scaly', 'stalk-color-above-ring': 'white', 'stalk-color-below-ring': 'white', 'veil-color': 'white', 'ring-number': 'one', 'ring-type': 'pendant', 'spore-print-color': 'black', 'population': 'scattered', 'habitat': 'paths'}\n"
     ]
    },
    {
     "data": {
      "application/vnd.jupyter.widget-view+json": {
       "model_id": "7867f70f82d2484c863f8e382615176a",
       "version_major": 2,
       "version_minor": 0
      },
      "text/plain": [
       "0it [00:00, ?it/s]"
      ]
     },
     "metadata": {},
     "output_type": "display_data"
    },
    {
     "data": {
      "application/vnd.jupyter.widget-view+json": {
       "model_id": "f0bc1629ec6c41118d6dab3c488978ff",
       "version_major": 2,
       "version_minor": 0
      },
      "text/plain": [
       "0it [00:00, ?it/s]"
      ]
     },
     "metadata": {},
     "output_type": "display_data"
    },
    {
     "name": "stdout",
     "output_type": "stream",
     "text": [
      "{'cap-shape': 'flat', 'cap-surface': 'smooth', 'cap-color': 'brown', 'bruises': 'no', 'odor': 'none', 'gill-attachment': 'attached', 'gill-spacing': 'close', 'gill-size': 'broad', 'gill-color': 'yellow', 'stalk-shape': 'enlarging', 'stalk-root': 'bulbous', 'stalk-surface-above-ring': 'smooth', 'stalk-surface-below-ring': 'smooth', 'stalk-color-above-ring': 'orange', 'stalk-color-below-ring': 'orange', 'veil-color': 'brown', 'ring-number': 'one', 'ring-type': 'pendant', 'spore-print-color': 'brown', 'population': 'several', 'habitat': 'leaves'}\n"
     ]
    },
    {
     "data": {
      "application/vnd.jupyter.widget-view+json": {
       "model_id": "72efc642eba0499aadae990c7bf9e506",
       "version_major": 2,
       "version_minor": 0
      },
      "text/plain": [
       "0it [00:00, ?it/s]"
      ]
     },
     "metadata": {},
     "output_type": "display_data"
    },
    {
     "data": {
      "application/vnd.jupyter.widget-view+json": {
       "model_id": "cfe9c209ff0341a2b292534273a57a74",
       "version_major": 2,
       "version_minor": 0
      },
      "text/plain": [
       "0it [00:00, ?it/s]"
      ]
     },
     "metadata": {},
     "output_type": "display_data"
    },
    {
     "name": "stdout",
     "output_type": "stream",
     "text": [
      "{'cap-shape': 'convex', 'cap-surface': 'smooth', 'cap-color': 'brown', 'bruises': 'no', 'odor': 'none', 'gill-attachment': 'free', 'gill-spacing': 'crowded', 'gill-size': 'broad', 'gill-color': 'chocolate', 'stalk-shape': 'tapering', 'stalk-root': 'equal', 'stalk-surface-above-ring': 'fibrous', 'stalk-surface-below-ring': 'fibrous', 'stalk-color-above-ring': 'white', 'stalk-color-below-ring': 'white', 'veil-color': 'white', 'ring-number': 'one', 'ring-type': 'evanescent', 'spore-print-color': 'black', 'population': 'abundant', 'habitat': 'grasses'}\n"
     ]
    },
    {
     "data": {
      "application/vnd.jupyter.widget-view+json": {
       "model_id": "0f2a31bdf4b941479d2fc5cee876d4cd",
       "version_major": 2,
       "version_minor": 0
      },
      "text/plain": [
       "0it [00:00, ?it/s]"
      ]
     },
     "metadata": {},
     "output_type": "display_data"
    },
    {
     "data": {
      "application/vnd.jupyter.widget-view+json": {
       "model_id": "d116c92aba5444458917712d6744a99b",
       "version_major": 2,
       "version_minor": 0
      },
      "text/plain": [
       "0it [00:00, ?it/s]"
      ]
     },
     "metadata": {},
     "output_type": "display_data"
    },
    {
     "name": "stdout",
     "output_type": "stream",
     "text": [
      "{'cap-shape': 'convex', 'cap-surface': 'scaly', 'cap-color': 'yellow', 'bruises': 'bruises', 'odor': 'anise', 'gill-attachment': 'free', 'gill-spacing': 'close', 'gill-size': 'broad', 'gill-color': 'black', 'stalk-shape': 'enlarging', 'stalk-root': 'club', 'stalk-surface-above-ring': 'smooth', 'stalk-surface-below-ring': 'smooth', 'stalk-color-above-ring': 'white', 'stalk-color-below-ring': 'white', 'veil-color': 'white', 'ring-number': 'one', 'ring-type': 'pendant', 'spore-print-color': 'brown', 'population': 'numerous', 'habitat': 'grasses'}\n"
     ]
    },
    {
     "data": {
      "application/vnd.jupyter.widget-view+json": {
       "model_id": "33703cbdf5c54187a228b3526eb33bcb",
       "version_major": 2,
       "version_minor": 0
      },
      "text/plain": [
       "0it [00:00, ?it/s]"
      ]
     },
     "metadata": {},
     "output_type": "display_data"
    },
    {
     "data": {
      "application/vnd.jupyter.widget-view+json": {
       "model_id": "95e0f5d9f5fd4d5b8f3d4e538d8b4c5f",
       "version_major": 2,
       "version_minor": 0
      },
      "text/plain": [
       "0it [00:00, ?it/s]"
      ]
     },
     "metadata": {},
     "output_type": "display_data"
    },
    {
     "name": "stdout",
     "output_type": "stream",
     "text": [
      "{'cap-shape': 'convex', 'cap-surface': 'smooth', 'cap-color': 'brown', 'bruises': 'no', 'odor': 'foul', 'gill-attachment': 'free', 'gill-spacing': 'close', 'gill-size': 'narrow', 'gill-color': 'buff', 'stalk-shape': 'tapering', 'stalk-root': 'bulbous', 'stalk-surface-above-ring': 'smooth', 'stalk-surface-below-ring': 'silky', 'stalk-color-above-ring': 'pink', 'stalk-color-below-ring': 'pink', 'veil-color': 'white', 'ring-number': 'one', 'ring-type': 'evanescent', 'spore-print-color': 'white', 'population': 'several', 'habitat': 'woods'}\n"
     ]
    },
    {
     "data": {
      "application/vnd.jupyter.widget-view+json": {
       "model_id": "b80e7f7ae165473593daf8d4f3904e97",
       "version_major": 2,
       "version_minor": 0
      },
      "text/plain": [
       "0it [00:00, ?it/s]"
      ]
     },
     "metadata": {},
     "output_type": "display_data"
    },
    {
     "data": {
      "application/vnd.jupyter.widget-view+json": {
       "model_id": "a2e3949ee2dd4877bc32a252ad724478",
       "version_major": 2,
       "version_minor": 0
      },
      "text/plain": [
       "0it [00:00, ?it/s]"
      ]
     },
     "metadata": {},
     "output_type": "display_data"
    },
    {
     "name": "stdout",
     "output_type": "stream",
     "text": [
      "{'cap-shape': 'convex', 'cap-surface': 'scaly', 'cap-color': 'brown', 'bruises': 'bruises', 'odor': 'none', 'gill-attachment': 'free', 'gill-spacing': 'close', 'gill-size': 'broad', 'gill-color': 'pink', 'stalk-shape': 'tapering', 'stalk-root': 'bulbous', 'stalk-surface-above-ring': 'smooth', 'stalk-surface-below-ring': 'smooth', 'stalk-color-above-ring': 'pink', 'stalk-color-below-ring': 'gray', 'veil-color': 'white', 'ring-number': 'one', 'ring-type': 'pendant', 'spore-print-color': 'brown', 'population': 'several', 'habitat': 'woods'}\n"
     ]
    },
    {
     "data": {
      "application/vnd.jupyter.widget-view+json": {
       "model_id": "02bf318abf68482aac04db0ea5279b5d",
       "version_major": 2,
       "version_minor": 0
      },
      "text/plain": [
       "0it [00:00, ?it/s]"
      ]
     },
     "metadata": {},
     "output_type": "display_data"
    },
    {
     "data": {
      "application/vnd.jupyter.widget-view+json": {
       "model_id": "3fd03318d07f420ca9c90e35705ac47c",
       "version_major": 2,
       "version_minor": 0
      },
      "text/plain": [
       "0it [00:00, ?it/s]"
      ]
     },
     "metadata": {},
     "output_type": "display_data"
    },
    {
     "name": "stdout",
     "output_type": "stream",
     "text": [
      "{'cap-shape': 'flat', 'cap-surface': 'fibrous', 'cap-color': 'white', 'bruises': 'no', 'odor': 'none', 'gill-attachment': 'free', 'gill-spacing': 'crowded', 'gill-size': 'broad', 'gill-color': 'brown', 'stalk-shape': 'tapering', 'stalk-root': 'equal', 'stalk-surface-above-ring': 'fibrous', 'stalk-surface-below-ring': 'smooth', 'stalk-color-above-ring': 'white', 'stalk-color-below-ring': 'white', 'veil-color': 'white', 'ring-number': 'one', 'ring-type': 'evanescent', 'spore-print-color': 'black', 'population': 'abundant', 'habitat': 'grasses'}\n"
     ]
    },
    {
     "data": {
      "application/vnd.jupyter.widget-view+json": {
       "model_id": "d850684650504c39a76d88c0904f069e",
       "version_major": 2,
       "version_minor": 0
      },
      "text/plain": [
       "0it [00:00, ?it/s]"
      ]
     },
     "metadata": {},
     "output_type": "display_data"
    },
    {
     "data": {
      "application/vnd.jupyter.widget-view+json": {
       "model_id": "60074822078a454a8172689fc83740a6",
       "version_major": 2,
       "version_minor": 0
      },
      "text/plain": [
       "0it [00:00, ?it/s]"
      ]
     },
     "metadata": {},
     "output_type": "display_data"
    },
    {
     "name": "stdout",
     "output_type": "stream",
     "text": [
      "{'cap-shape': 'flat', 'cap-surface': 'fibrous', 'cap-color': 'gray', 'bruises': 'no', 'odor': 'foul', 'gill-attachment': 'free', 'gill-spacing': 'close', 'gill-size': 'broad', 'gill-color': 'chocolate', 'stalk-shape': 'enlarging', 'stalk-root': 'bulbous', 'stalk-surface-above-ring': 'silky', 'stalk-surface-below-ring': 'silky', 'stalk-color-above-ring': 'brown', 'stalk-color-below-ring': 'buff', 'veil-color': 'white', 'ring-number': 'one', 'ring-type': 'large', 'spore-print-color': 'chocolate', 'population': 'several', 'habitat': 'paths'}\n"
     ]
    },
    {
     "data": {
      "application/vnd.jupyter.widget-view+json": {
       "model_id": "936e8742a271404fbb8768c595a6d9a0",
       "version_major": 2,
       "version_minor": 0
      },
      "text/plain": [
       "0it [00:00, ?it/s]"
      ]
     },
     "metadata": {},
     "output_type": "display_data"
    },
    {
     "data": {
      "application/vnd.jupyter.widget-view+json": {
       "model_id": "ef2383ecaec64ae7895db59b2e797e01",
       "version_major": 2,
       "version_minor": 0
      },
      "text/plain": [
       "0it [00:00, ?it/s]"
      ]
     },
     "metadata": {},
     "output_type": "display_data"
    },
    {
     "name": "stdout",
     "output_type": "stream",
     "text": [
      "{'cap-shape': 'flat', 'cap-surface': 'smooth', 'cap-color': 'red', 'bruises': 'no', 'odor': 'foul', 'gill-attachment': 'free', 'gill-spacing': 'close', 'gill-size': 'narrow', 'gill-color': 'buff', 'stalk-shape': 'tapering', 'stalk-root': 'bulbous', 'stalk-surface-above-ring': 'silky', 'stalk-surface-below-ring': 'smooth', 'stalk-color-above-ring': 'white', 'stalk-color-below-ring': 'white', 'veil-color': 'white', 'ring-number': 'one', 'ring-type': 'evanescent', 'spore-print-color': 'white', 'population': 'several', 'habitat': 'woods'}\n"
     ]
    },
    {
     "data": {
      "application/vnd.jupyter.widget-view+json": {
       "model_id": "bb01e71d403e40079704a21e5c98d676",
       "version_major": 2,
       "version_minor": 0
      },
      "text/plain": [
       "0it [00:00, ?it/s]"
      ]
     },
     "metadata": {},
     "output_type": "display_data"
    },
    {
     "data": {
      "application/vnd.jupyter.widget-view+json": {
       "model_id": "5d282399b8c8432a9c654802e9aebbf9",
       "version_major": 2,
       "version_minor": 0
      },
      "text/plain": [
       "0it [00:00, ?it/s]"
      ]
     },
     "metadata": {},
     "output_type": "display_data"
    },
    {
     "name": "stdout",
     "output_type": "stream",
     "text": [
      "{'cap-shape': 'convex', 'cap-surface': 'fibrous', 'cap-color': 'gray', 'bruises': 'no', 'odor': 'creosote', 'gill-attachment': 'free', 'gill-spacing': 'crowded', 'gill-size': 'narrow', 'gill-color': 'brown', 'stalk-shape': 'enlarging', 'stalk-root': 'bulbous', 'stalk-surface-above-ring': 'smooth', 'stalk-surface-below-ring': 'smooth', 'stalk-color-above-ring': 'white', 'stalk-color-below-ring': 'white', 'veil-color': 'white', 'ring-number': 'one', 'ring-type': 'pendant', 'spore-print-color': 'black', 'population': 'scattered', 'habitat': 'woods'}\n"
     ]
    },
    {
     "data": {
      "application/vnd.jupyter.widget-view+json": {
       "model_id": "1ae4d5edbbec4088a3d5f37b0626b453",
       "version_major": 2,
       "version_minor": 0
      },
      "text/plain": [
       "0it [00:00, ?it/s]"
      ]
     },
     "metadata": {},
     "output_type": "display_data"
    },
    {
     "data": {
      "application/vnd.jupyter.widget-view+json": {
       "model_id": "6c5f6e34af394f398d9b3840c9c7abca",
       "version_major": 2,
       "version_minor": 0
      },
      "text/plain": [
       "0it [00:00, ?it/s]"
      ]
     },
     "metadata": {},
     "output_type": "display_data"
    },
    {
     "name": "stdout",
     "output_type": "stream",
     "text": [
      "{'cap-shape': 'bell', 'cap-surface': 'scaly', 'cap-color': 'white', 'bruises': 'bruises', 'odor': 'almond', 'gill-attachment': 'free', 'gill-spacing': 'close', 'gill-size': 'broad', 'gill-color': 'black', 'stalk-shape': 'enlarging', 'stalk-root': 'club', 'stalk-surface-above-ring': 'smooth', 'stalk-surface-below-ring': 'smooth', 'stalk-color-above-ring': 'white', 'stalk-color-below-ring': 'white', 'veil-color': 'white', 'ring-number': 'one', 'ring-type': 'pendant', 'spore-print-color': 'brown', 'population': 'numerous', 'habitat': 'grasses'}\n"
     ]
    },
    {
     "data": {
      "application/vnd.jupyter.widget-view+json": {
       "model_id": "5ac8e1e088a04a72973d4b2631625757",
       "version_major": 2,
       "version_minor": 0
      },
      "text/plain": [
       "0it [00:00, ?it/s]"
      ]
     },
     "metadata": {},
     "output_type": "display_data"
    },
    {
     "data": {
      "application/vnd.jupyter.widget-view+json": {
       "model_id": "5e429249a98a43f0be8c213594f7284d",
       "version_major": 2,
       "version_minor": 0
      },
      "text/plain": [
       "0it [00:00, ?it/s]"
      ]
     },
     "metadata": {},
     "output_type": "display_data"
    },
    {
     "name": "stdout",
     "output_type": "stream",
     "text": [
      "{'cap-shape': 'convex', 'cap-surface': 'fibrous', 'cap-color': 'gray', 'bruises': 'bruises', 'odor': 'none', 'gill-attachment': 'free', 'gill-spacing': 'close', 'gill-size': 'broad', 'gill-color': 'brown', 'stalk-shape': 'tapering', 'stalk-root': 'bulbous', 'stalk-surface-above-ring': 'smooth', 'stalk-surface-below-ring': 'smooth', 'stalk-color-above-ring': 'pink', 'stalk-color-below-ring': 'gray', 'veil-color': 'white', 'ring-number': 'one', 'ring-type': 'pendant', 'spore-print-color': 'black', 'population': 'solitary', 'habitat': 'woods'}\n"
     ]
    },
    {
     "data": {
      "application/vnd.jupyter.widget-view+json": {
       "model_id": "e6baf82778be403a9569b57c384d690a",
       "version_major": 2,
       "version_minor": 0
      },
      "text/plain": [
       "0it [00:00, ?it/s]"
      ]
     },
     "metadata": {},
     "output_type": "display_data"
    },
    {
     "data": {
      "application/vnd.jupyter.widget-view+json": {
       "model_id": "340714d846ce42f480aacaa32f943051",
       "version_major": 2,
       "version_minor": 0
      },
      "text/plain": [
       "0it [00:00, ?it/s]"
      ]
     },
     "metadata": {},
     "output_type": "display_data"
    },
    {
     "name": "stdout",
     "output_type": "stream",
     "text": [
      "{'cap-shape': 'flat', 'cap-surface': 'scaly', 'cap-color': 'gray', 'bruises': 'bruises', 'odor': 'none', 'gill-attachment': 'free', 'gill-spacing': 'close', 'gill-size': 'broad', 'gill-color': 'pink', 'stalk-shape': 'tapering', 'stalk-root': 'bulbous', 'stalk-surface-above-ring': 'smooth', 'stalk-surface-below-ring': 'smooth', 'stalk-color-above-ring': 'pink', 'stalk-color-below-ring': 'gray', 'veil-color': 'white', 'ring-number': 'one', 'ring-type': 'pendant', 'spore-print-color': 'brown', 'population': 'solitary', 'habitat': 'woods'}\n"
     ]
    },
    {
     "data": {
      "application/vnd.jupyter.widget-view+json": {
       "model_id": "ac9b972252ef4d5abf9e3963e67db0db",
       "version_major": 2,
       "version_minor": 0
      },
      "text/plain": [
       "0it [00:00, ?it/s]"
      ]
     },
     "metadata": {},
     "output_type": "display_data"
    },
    {
     "data": {
      "application/vnd.jupyter.widget-view+json": {
       "model_id": "d527e32342c84d89b403687fe1e79daf",
       "version_major": 2,
       "version_minor": 0
      },
      "text/plain": [
       "0it [00:00, ?it/s]"
      ]
     },
     "metadata": {},
     "output_type": "display_data"
    },
    {
     "name": "stdout",
     "output_type": "stream",
     "text": [
      "{'cap-shape': 'convex', 'cap-surface': 'scaly', 'cap-color': 'yellow', 'bruises': 'bruises', 'odor': 'anise', 'gill-attachment': 'free', 'gill-spacing': 'close', 'gill-size': 'broad', 'gill-color': 'pink', 'stalk-shape': 'enlarging', 'stalk-root': 'rooted', 'stalk-surface-above-ring': 'smooth', 'stalk-surface-below-ring': 'scaly', 'stalk-color-above-ring': 'white', 'stalk-color-below-ring': 'white', 'veil-color': 'white', 'ring-number': 'one', 'ring-type': 'pendant', 'spore-print-color': 'black', 'population': 'solitary', 'habitat': 'grasses'}\n"
     ]
    },
    {
     "data": {
      "application/vnd.jupyter.widget-view+json": {
       "model_id": "a9c09bc8746b486e8404ecebff443eb2",
       "version_major": 2,
       "version_minor": 0
      },
      "text/plain": [
       "0it [00:00, ?it/s]"
      ]
     },
     "metadata": {},
     "output_type": "display_data"
    },
    {
     "data": {
      "application/vnd.jupyter.widget-view+json": {
       "model_id": "941c2e6b38504413a39d958262eb2643",
       "version_major": 2,
       "version_minor": 0
      },
      "text/plain": [
       "0it [00:00, ?it/s]"
      ]
     },
     "metadata": {},
     "output_type": "display_data"
    },
    {
     "name": "stdout",
     "output_type": "stream",
     "text": [
      "{'cap-shape': 'convex', 'cap-surface': 'scaly', 'cap-color': 'white', 'bruises': 'bruises', 'odor': 'pungent', 'gill-attachment': 'free', 'gill-spacing': 'close', 'gill-size': 'narrow', 'gill-color': 'white', 'stalk-shape': 'enlarging', 'stalk-root': 'equal', 'stalk-surface-above-ring': 'smooth', 'stalk-surface-below-ring': 'smooth', 'stalk-color-above-ring': 'white', 'stalk-color-below-ring': 'white', 'veil-color': 'white', 'ring-number': 'one', 'ring-type': 'pendant', 'spore-print-color': 'black', 'population': 'several', 'habitat': 'urban'}\n"
     ]
    },
    {
     "data": {
      "application/vnd.jupyter.widget-view+json": {
       "model_id": "46bb3e5aaecd4a83b472b1241dc0798a",
       "version_major": 2,
       "version_minor": 0
      },
      "text/plain": [
       "0it [00:00, ?it/s]"
      ]
     },
     "metadata": {},
     "output_type": "display_data"
    },
    {
     "data": {
      "application/vnd.jupyter.widget-view+json": {
       "model_id": "5215227d9c8b471487eb47a7b9e950c0",
       "version_major": 2,
       "version_minor": 0
      },
      "text/plain": [
       "0it [00:00, ?it/s]"
      ]
     },
     "metadata": {},
     "output_type": "display_data"
    },
    {
     "name": "stdout",
     "output_type": "stream",
     "text": [
      "{'cap-shape': 'flat', 'cap-surface': 'scaly', 'cap-color': 'yellow', 'bruises': 'bruises', 'odor': 'anise', 'gill-attachment': 'free', 'gill-spacing': 'close', 'gill-size': 'broad', 'gill-color': 'pink', 'stalk-shape': 'enlarging', 'stalk-root': 'rooted', 'stalk-surface-above-ring': 'smooth', 'stalk-surface-below-ring': 'scaly', 'stalk-color-above-ring': 'white', 'stalk-color-below-ring': 'white', 'veil-color': 'white', 'ring-number': 'one', 'ring-type': 'pendant', 'spore-print-color': 'black', 'population': 'scattered', 'habitat': 'paths'}\n"
     ]
    },
    {
     "data": {
      "application/vnd.jupyter.widget-view+json": {
       "model_id": "50bde44f74624304b4a30c73fe2024c2",
       "version_major": 2,
       "version_minor": 0
      },
      "text/plain": [
       "0it [00:00, ?it/s]"
      ]
     },
     "metadata": {},
     "output_type": "display_data"
    },
    {
     "data": {
      "application/vnd.jupyter.widget-view+json": {
       "model_id": "7355cfcb797247c59b55eeafe0c92886",
       "version_major": 2,
       "version_minor": 0
      },
      "text/plain": [
       "0it [00:00, ?it/s]"
      ]
     },
     "metadata": {},
     "output_type": "display_data"
    },
    {
     "name": "stdout",
     "output_type": "stream",
     "text": [
      "{'cap-shape': 'bell', 'cap-surface': 'smooth', 'cap-color': 'white', 'bruises': 'no', 'odor': 'none', 'gill-attachment': 'free', 'gill-spacing': 'crowded', 'gill-size': 'broad', 'gill-color': 'white', 'stalk-shape': 'enlarging', 'stalk-root': 'equal', 'stalk-surface-above-ring': 'smooth', 'stalk-surface-below-ring': 'silky', 'stalk-color-above-ring': 'white', 'stalk-color-below-ring': 'white', 'veil-color': 'white', 'ring-number': 'two', 'ring-type': 'pendant', 'spore-print-color': 'white', 'population': 'scattered', 'habitat': 'grasses'}\n"
     ]
    },
    {
     "data": {
      "application/vnd.jupyter.widget-view+json": {
       "model_id": "aebcf827cc9d4e6a9a5ec6cbe2b3070b",
       "version_major": 2,
       "version_minor": 0
      },
      "text/plain": [
       "0it [00:00, ?it/s]"
      ]
     },
     "metadata": {},
     "output_type": "display_data"
    },
    {
     "data": {
      "application/vnd.jupyter.widget-view+json": {
       "model_id": "48eddfed1cc64ce8aaf9a89d6064d237",
       "version_major": 2,
       "version_minor": 0
      },
      "text/plain": [
       "0it [00:00, ?it/s]"
      ]
     },
     "metadata": {},
     "output_type": "display_data"
    },
    {
     "name": "stdout",
     "output_type": "stream",
     "text": [
      "{'cap-shape': 'flat', 'cap-surface': 'smooth', 'cap-color': 'brown', 'bruises': 'no', 'odor': 'foul', 'gill-attachment': 'free', 'gill-spacing': 'close', 'gill-size': 'narrow', 'gill-color': 'buff', 'stalk-shape': 'tapering', 'stalk-root': 'bulbous', 'stalk-surface-above-ring': 'smooth', 'stalk-surface-below-ring': 'silky', 'stalk-color-above-ring': 'white', 'stalk-color-below-ring': 'white', 'veil-color': 'white', 'ring-number': 'one', 'ring-type': 'evanescent', 'spore-print-color': 'white', 'population': 'several', 'habitat': 'woods'}\n"
     ]
    },
    {
     "data": {
      "application/vnd.jupyter.widget-view+json": {
       "model_id": "0fabfa91cf0248499587414c1926797f",
       "version_major": 2,
       "version_minor": 0
      },
      "text/plain": [
       "0it [00:00, ?it/s]"
      ]
     },
     "metadata": {},
     "output_type": "display_data"
    },
    {
     "data": {
      "application/vnd.jupyter.widget-view+json": {
       "model_id": "bdc999bb9e6f48679eb8b867a92c072c",
       "version_major": 2,
       "version_minor": 0
      },
      "text/plain": [
       "0it [00:00, ?it/s]"
      ]
     },
     "metadata": {},
     "output_type": "display_data"
    },
    {
     "name": "stdout",
     "output_type": "stream",
     "text": [
      "{'cap-shape': 'flat', 'cap-surface': 'fibrous', 'cap-color': 'gray', 'bruises': 'no', 'odor': 'foul', 'gill-attachment': 'free', 'gill-spacing': 'close', 'gill-size': 'broad', 'gill-color': 'gray', 'stalk-shape': 'enlarging', 'stalk-root': 'bulbous', 'stalk-surface-above-ring': 'silky', 'stalk-surface-below-ring': 'silky', 'stalk-color-above-ring': 'buff', 'stalk-color-below-ring': 'brown', 'veil-color': 'white', 'ring-number': 'one', 'ring-type': 'large', 'spore-print-color': 'chocolate', 'population': 'several', 'habitat': 'grasses'}\n"
     ]
    },
    {
     "data": {
      "application/vnd.jupyter.widget-view+json": {
       "model_id": "d7eace53eb784117bf01cbdcafc8d0eb",
       "version_major": 2,
       "version_minor": 0
      },
      "text/plain": [
       "0it [00:00, ?it/s]"
      ]
     },
     "metadata": {},
     "output_type": "display_data"
    },
    {
     "data": {
      "application/vnd.jupyter.widget-view+json": {
       "model_id": "3ca97ead0db94be5a34abfe2a6b3c71f",
       "version_major": 2,
       "version_minor": 0
      },
      "text/plain": [
       "0it [00:00, ?it/s]"
      ]
     },
     "metadata": {},
     "output_type": "display_data"
    },
    {
     "name": "stdout",
     "output_type": "stream",
     "text": [
      "{'cap-shape': 'convex', 'cap-surface': 'scaly', 'cap-color': 'white', 'bruises': 'bruises', 'odor': 'pungent', 'gill-attachment': 'free', 'gill-spacing': 'close', 'gill-size': 'narrow', 'gill-color': 'white', 'stalk-shape': 'enlarging', 'stalk-root': 'equal', 'stalk-surface-above-ring': 'smooth', 'stalk-surface-below-ring': 'smooth', 'stalk-color-above-ring': 'white', 'stalk-color-below-ring': 'white', 'veil-color': 'white', 'ring-number': 'one', 'ring-type': 'pendant', 'spore-print-color': 'black', 'population': 'scattered', 'habitat': 'urban'}\n"
     ]
    },
    {
     "data": {
      "application/vnd.jupyter.widget-view+json": {
       "model_id": "c966168413db4ea9a4128cd023547770",
       "version_major": 2,
       "version_minor": 0
      },
      "text/plain": [
       "0it [00:00, ?it/s]"
      ]
     },
     "metadata": {},
     "output_type": "display_data"
    },
    {
     "data": {
      "application/vnd.jupyter.widget-view+json": {
       "model_id": "ca3e5c89cbe848cfafb8f9c665535984",
       "version_major": 2,
       "version_minor": 0
      },
      "text/plain": [
       "0it [00:00, ?it/s]"
      ]
     },
     "metadata": {},
     "output_type": "display_data"
    },
    {
     "name": "stdout",
     "output_type": "stream",
     "text": [
      "{'cap-shape': 'convex', 'cap-surface': 'smooth', 'cap-color': 'white', 'bruises': 'bruises', 'odor': 'anise', 'gill-attachment': 'free', 'gill-spacing': 'close', 'gill-size': 'broad', 'gill-color': 'white', 'stalk-shape': 'enlarging', 'stalk-root': 'club', 'stalk-surface-above-ring': 'smooth', 'stalk-surface-below-ring': 'smooth', 'stalk-color-above-ring': 'white', 'stalk-color-below-ring': 'white', 'veil-color': 'white', 'ring-number': 'one', 'ring-type': 'pendant', 'spore-print-color': 'brown', 'population': 'scattered', 'habitat': 'grasses'}\n"
     ]
    },
    {
     "data": {
      "application/vnd.jupyter.widget-view+json": {
       "model_id": "1d4fc1d34e004cd09079c6e550e73279",
       "version_major": 2,
       "version_minor": 0
      },
      "text/plain": [
       "0it [00:00, ?it/s]"
      ]
     },
     "metadata": {},
     "output_type": "display_data"
    },
    {
     "data": {
      "application/vnd.jupyter.widget-view+json": {
       "model_id": "4975e56d562346449fbadde167e73737",
       "version_major": 2,
       "version_minor": 0
      },
      "text/plain": [
       "0it [00:00, ?it/s]"
      ]
     },
     "metadata": {},
     "output_type": "display_data"
    },
    {
     "name": "stdout",
     "output_type": "stream",
     "text": [
      "{'cap-shape': 'convex', 'cap-surface': 'smooth', 'cap-color': 'brown', 'bruises': 'no', 'odor': 'spicy', 'gill-attachment': 'free', 'gill-spacing': 'close', 'gill-size': 'narrow', 'gill-color': 'buff', 'stalk-shape': 'tapering', 'stalk-root': 'bulbous', 'stalk-surface-above-ring': 'silky', 'stalk-surface-below-ring': 'smooth', 'stalk-color-above-ring': 'pink', 'stalk-color-below-ring': 'pink', 'veil-color': 'white', 'ring-number': 'one', 'ring-type': 'evanescent', 'spore-print-color': 'white', 'population': 'several', 'habitat': 'woods'}\n"
     ]
    },
    {
     "data": {
      "application/vnd.jupyter.widget-view+json": {
       "model_id": "aed00df54a8b4c088bfb2e9f35e40a8b",
       "version_major": 2,
       "version_minor": 0
      },
      "text/plain": [
       "0it [00:00, ?it/s]"
      ]
     },
     "metadata": {},
     "output_type": "display_data"
    },
    {
     "data": {
      "application/vnd.jupyter.widget-view+json": {
       "model_id": "c16c5a1d92f143b88958b587cd662ebc",
       "version_major": 2,
       "version_minor": 0
      },
      "text/plain": [
       "0it [00:00, ?it/s]"
      ]
     },
     "metadata": {},
     "output_type": "display_data"
    },
    {
     "name": "stdout",
     "output_type": "stream",
     "text": [
      "{'cap-shape': 'flat', 'cap-surface': 'scaly', 'cap-color': 'red', 'bruises': 'bruises', 'odor': 'none', 'gill-attachment': 'free', 'gill-spacing': 'close', 'gill-size': 'broad', 'gill-color': 'pink', 'stalk-shape': 'tapering', 'stalk-root': 'bulbous', 'stalk-surface-above-ring': 'smooth', 'stalk-surface-below-ring': 'smooth', 'stalk-color-above-ring': 'white', 'stalk-color-below-ring': 'pink', 'veil-color': 'white', 'ring-number': 'one', 'ring-type': 'pendant', 'spore-print-color': 'brown', 'population': 'solitary', 'habitat': 'woods'}\n"
     ]
    },
    {
     "data": {
      "application/vnd.jupyter.widget-view+json": {
       "model_id": "3a2b12de82f449a3ae0308398f2b18fe",
       "version_major": 2,
       "version_minor": 0
      },
      "text/plain": [
       "0it [00:00, ?it/s]"
      ]
     },
     "metadata": {},
     "output_type": "display_data"
    },
    {
     "data": {
      "application/vnd.jupyter.widget-view+json": {
       "model_id": "796c5af221844f76a78decd481219ca1",
       "version_major": 2,
       "version_minor": 0
      },
      "text/plain": [
       "0it [00:00, ?it/s]"
      ]
     },
     "metadata": {},
     "output_type": "display_data"
    },
    {
     "name": "stdout",
     "output_type": "stream",
     "text": [
      "{'cap-shape': 'convex', 'cap-surface': 'smooth', 'cap-color': 'gray', 'bruises': 'bruises', 'odor': 'foul', 'gill-attachment': 'free', 'gill-spacing': 'close', 'gill-size': 'broad', 'gill-color': 'chocolate', 'stalk-shape': 'tapering', 'stalk-root': 'bulbous', 'stalk-surface-above-ring': 'fibrous', 'stalk-surface-below-ring': 'smooth', 'stalk-color-above-ring': 'white', 'stalk-color-below-ring': 'white', 'veil-color': 'white', 'ring-number': 'one', 'ring-type': 'pendant', 'spore-print-color': 'chocolate', 'population': 'several', 'habitat': 'grasses'}\n"
     ]
    },
    {
     "data": {
      "application/vnd.jupyter.widget-view+json": {
       "model_id": "84906dee8e3241f3ae56f989bdef9d92",
       "version_major": 2,
       "version_minor": 0
      },
      "text/plain": [
       "0it [00:00, ?it/s]"
      ]
     },
     "metadata": {},
     "output_type": "display_data"
    },
    {
     "data": {
      "application/vnd.jupyter.widget-view+json": {
       "model_id": "34ea6225d2764f53a452dbecfb59fc8c",
       "version_major": 2,
       "version_minor": 0
      },
      "text/plain": [
       "0it [00:00, ?it/s]"
      ]
     },
     "metadata": {},
     "output_type": "display_data"
    },
    {
     "name": "stdout",
     "output_type": "stream",
     "text": [
      "{'cap-shape': 'bell', 'cap-surface': 'scaly', 'cap-color': 'white', 'bruises': 'bruises', 'odor': 'anise', 'gill-attachment': 'free', 'gill-spacing': 'close', 'gill-size': 'broad', 'gill-color': 'white', 'stalk-shape': 'enlarging', 'stalk-root': 'club', 'stalk-surface-above-ring': 'smooth', 'stalk-surface-below-ring': 'smooth', 'stalk-color-above-ring': 'white', 'stalk-color-below-ring': 'white', 'veil-color': 'white', 'ring-number': 'one', 'ring-type': 'pendant', 'spore-print-color': 'black', 'population': 'numerous', 'habitat': 'grasses'}\n"
     ]
    },
    {
     "data": {
      "application/vnd.jupyter.widget-view+json": {
       "model_id": "5e93f6dcdf8b45f0b3d8b64b9d5d8a78",
       "version_major": 2,
       "version_minor": 0
      },
      "text/plain": [
       "0it [00:00, ?it/s]"
      ]
     },
     "metadata": {},
     "output_type": "display_data"
    },
    {
     "data": {
      "application/vnd.jupyter.widget-view+json": {
       "model_id": "2c29d882aed147f9ae2b9dfaa9e144d1",
       "version_major": 2,
       "version_minor": 0
      },
      "text/plain": [
       "0it [00:00, ?it/s]"
      ]
     },
     "metadata": {},
     "output_type": "display_data"
    },
    {
     "name": "stdout",
     "output_type": "stream",
     "text": [
      "{'cap-shape': 'flat', 'cap-surface': 'scaly', 'cap-color': 'brown', 'bruises': 'no', 'odor': 'fishy', 'gill-attachment': 'free', 'gill-spacing': 'close', 'gill-size': 'narrow', 'gill-color': 'buff', 'stalk-shape': 'tapering', 'stalk-root': 'bulbous', 'stalk-surface-above-ring': 'silky', 'stalk-surface-below-ring': 'smooth', 'stalk-color-above-ring': 'pink', 'stalk-color-below-ring': 'white', 'veil-color': 'white', 'ring-number': 'one', 'ring-type': 'evanescent', 'spore-print-color': 'white', 'population': 'several', 'habitat': 'leaves'}\n"
     ]
    },
    {
     "data": {
      "application/vnd.jupyter.widget-view+json": {
       "model_id": "090ce90a207d476d9d26d2eedccc55ac",
       "version_major": 2,
       "version_minor": 0
      },
      "text/plain": [
       "0it [00:00, ?it/s]"
      ]
     },
     "metadata": {},
     "output_type": "display_data"
    },
    {
     "data": {
      "application/vnd.jupyter.widget-view+json": {
       "model_id": "514522b749dd4844b046c9125486cb38",
       "version_major": 2,
       "version_minor": 0
      },
      "text/plain": [
       "0it [00:00, ?it/s]"
      ]
     },
     "metadata": {},
     "output_type": "display_data"
    },
    {
     "name": "stdout",
     "output_type": "stream",
     "text": [
      "{'cap-shape': 'convex', 'cap-surface': 'smooth', 'cap-color': 'brown', 'bruises': 'no', 'odor': 'foul', 'gill-attachment': 'free', 'gill-spacing': 'close', 'gill-size': 'narrow', 'gill-color': 'buff', 'stalk-shape': 'tapering', 'stalk-root': 'bulbous', 'stalk-surface-above-ring': 'smooth', 'stalk-surface-below-ring': 'silky', 'stalk-color-above-ring': 'white', 'stalk-color-below-ring': 'white', 'veil-color': 'white', 'ring-number': 'one', 'ring-type': 'evanescent', 'spore-print-color': 'white', 'population': 'several', 'habitat': 'woods'}\n"
     ]
    },
    {
     "data": {
      "application/vnd.jupyter.widget-view+json": {
       "model_id": "4e45253ea42c4c0d9a5ad090fc0ae8ba",
       "version_major": 2,
       "version_minor": 0
      },
      "text/plain": [
       "0it [00:00, ?it/s]"
      ]
     },
     "metadata": {},
     "output_type": "display_data"
    },
    {
     "data": {
      "application/vnd.jupyter.widget-view+json": {
       "model_id": "0dab4720c4224a389f690f97c7d7343c",
       "version_major": 2,
       "version_minor": 0
      },
      "text/plain": [
       "0it [00:00, ?it/s]"
      ]
     },
     "metadata": {},
     "output_type": "display_data"
    },
    {
     "name": "stdout",
     "output_type": "stream",
     "text": [
      "{'cap-shape': 'convex', 'cap-surface': 'smooth', 'cap-color': 'gray', 'bruises': 'no', 'odor': 'none', 'gill-attachment': 'free', 'gill-spacing': 'crowded', 'gill-size': 'broad', 'gill-color': 'pink', 'stalk-shape': 'tapering', 'stalk-root': 'equal', 'stalk-surface-above-ring': 'fibrous', 'stalk-surface-below-ring': 'fibrous', 'stalk-color-above-ring': 'white', 'stalk-color-below-ring': 'white', 'veil-color': 'white', 'ring-number': 'one', 'ring-type': 'evanescent', 'spore-print-color': 'brown', 'population': 'scattered', 'habitat': 'grasses'}\n"
     ]
    },
    {
     "data": {
      "application/vnd.jupyter.widget-view+json": {
       "model_id": "c5bb328bfa8d459bbe1d3466b3284e74",
       "version_major": 2,
       "version_minor": 0
      },
      "text/plain": [
       "0it [00:00, ?it/s]"
      ]
     },
     "metadata": {},
     "output_type": "display_data"
    },
    {
     "data": {
      "application/vnd.jupyter.widget-view+json": {
       "model_id": "9d3f5c2b334740178f46017c0e812bcf",
       "version_major": 2,
       "version_minor": 0
      },
      "text/plain": [
       "0it [00:00, ?it/s]"
      ]
     },
     "metadata": {},
     "output_type": "display_data"
    },
    {
     "name": "stdout",
     "output_type": "stream",
     "text": [
      "{'cap-shape': 'flat', 'cap-surface': 'scaly', 'cap-color': 'red', 'bruises': 'no', 'odor': 'fishy', 'gill-attachment': 'free', 'gill-spacing': 'close', 'gill-size': 'narrow', 'gill-color': 'buff', 'stalk-shape': 'tapering', 'stalk-root': 'bulbous', 'stalk-surface-above-ring': 'smooth', 'stalk-surface-below-ring': 'smooth', 'stalk-color-above-ring': 'pink', 'stalk-color-below-ring': 'pink', 'veil-color': 'white', 'ring-number': 'one', 'ring-type': 'evanescent', 'spore-print-color': 'white', 'population': 'several', 'habitat': 'leaves'}\n"
     ]
    },
    {
     "data": {
      "application/vnd.jupyter.widget-view+json": {
       "model_id": "6d09b8ea529c42e695e7509ae7e20b9f",
       "version_major": 2,
       "version_minor": 0
      },
      "text/plain": [
       "0it [00:00, ?it/s]"
      ]
     },
     "metadata": {},
     "output_type": "display_data"
    },
    {
     "data": {
      "application/vnd.jupyter.widget-view+json": {
       "model_id": "2079283452204504bb77635d681195e8",
       "version_major": 2,
       "version_minor": 0
      },
      "text/plain": [
       "0it [00:00, ?it/s]"
      ]
     },
     "metadata": {},
     "output_type": "display_data"
    },
    {
     "name": "stdout",
     "output_type": "stream",
     "text": [
      "{'cap-shape': 'convex', 'cap-surface': 'smooth', 'cap-color': 'white', 'bruises': 'no', 'odor': 'creosote', 'gill-attachment': 'free', 'gill-spacing': 'close', 'gill-size': 'narrow', 'gill-color': 'gray', 'stalk-shape': 'enlarging', 'stalk-root': 'bulbous', 'stalk-surface-above-ring': 'smooth', 'stalk-surface-below-ring': 'smooth', 'stalk-color-above-ring': 'white', 'stalk-color-below-ring': 'white', 'veil-color': 'white', 'ring-number': 'one', 'ring-type': 'pendant', 'spore-print-color': 'black', 'population': 'several', 'habitat': 'woods'}\n"
     ]
    },
    {
     "data": {
      "application/vnd.jupyter.widget-view+json": {
       "model_id": "972b206f00a64a23b2bdba63a82b4098",
       "version_major": 2,
       "version_minor": 0
      },
      "text/plain": [
       "0it [00:00, ?it/s]"
      ]
     },
     "metadata": {},
     "output_type": "display_data"
    },
    {
     "data": {
      "application/vnd.jupyter.widget-view+json": {
       "model_id": "abff5d740dda47e5baca682558e4fe0e",
       "version_major": 2,
       "version_minor": 0
      },
      "text/plain": [
       "0it [00:00, ?it/s]"
      ]
     },
     "metadata": {},
     "output_type": "display_data"
    },
    {
     "name": "stdout",
     "output_type": "stream",
     "text": [
      "{'cap-shape': 'convex', 'cap-surface': 'fibrous', 'cap-color': 'brown', 'bruises': 'bruises', 'odor': 'none', 'gill-attachment': 'free', 'gill-spacing': 'close', 'gill-size': 'broad', 'gill-color': 'white', 'stalk-shape': 'tapering', 'stalk-root': 'bulbous', 'stalk-surface-above-ring': 'smooth', 'stalk-surface-below-ring': 'smooth', 'stalk-color-above-ring': 'gray', 'stalk-color-below-ring': 'pink', 'veil-color': 'white', 'ring-number': 'one', 'ring-type': 'pendant', 'spore-print-color': 'black', 'population': 'solitary', 'habitat': 'woods'}\n"
     ]
    },
    {
     "data": {
      "application/vnd.jupyter.widget-view+json": {
       "model_id": "38ee9b4f4cd14bd799d4dc4833ab0008",
       "version_major": 2,
       "version_minor": 0
      },
      "text/plain": [
       "0it [00:00, ?it/s]"
      ]
     },
     "metadata": {},
     "output_type": "display_data"
    },
    {
     "data": {
      "application/vnd.jupyter.widget-view+json": {
       "model_id": "4d632edfb5e0404ab24f260deb6b406b",
       "version_major": 2,
       "version_minor": 0
      },
      "text/plain": [
       "0it [00:00, ?it/s]"
      ]
     },
     "metadata": {},
     "output_type": "display_data"
    },
    {
     "name": "stdout",
     "output_type": "stream",
     "text": [
      "{'cap-shape': 'knobbed', 'cap-surface': 'smooth', 'cap-color': 'brown', 'bruises': 'no', 'odor': 'foul', 'gill-attachment': 'free', 'gill-spacing': 'close', 'gill-size': 'narrow', 'gill-color': 'buff', 'stalk-shape': 'tapering', 'stalk-root': 'bulbous', 'stalk-surface-above-ring': 'smooth', 'stalk-surface-below-ring': 'silky', 'stalk-color-above-ring': 'white', 'stalk-color-below-ring': 'white', 'veil-color': 'white', 'ring-number': 'one', 'ring-type': 'evanescent', 'spore-print-color': 'white', 'population': 'several', 'habitat': 'paths'}\n"
     ]
    },
    {
     "data": {
      "application/vnd.jupyter.widget-view+json": {
       "model_id": "5053f3f5d54a4b89a14eaf454549cb33",
       "version_major": 2,
       "version_minor": 0
      },
      "text/plain": [
       "0it [00:00, ?it/s]"
      ]
     },
     "metadata": {},
     "output_type": "display_data"
    },
    {
     "data": {
      "application/vnd.jupyter.widget-view+json": {
       "model_id": "9cc0511ede524d3fba16422b9461e1d2",
       "version_major": 2,
       "version_minor": 0
      },
      "text/plain": [
       "0it [00:00, ?it/s]"
      ]
     },
     "metadata": {},
     "output_type": "display_data"
    },
    {
     "name": "stdout",
     "output_type": "stream",
     "text": [
      "{'cap-shape': 'convex', 'cap-surface': 'fibrous', 'cap-color': 'red', 'bruises': 'bruises', 'odor': 'none', 'gill-attachment': 'free', 'gill-spacing': 'close', 'gill-size': 'broad', 'gill-color': 'purple', 'stalk-shape': 'tapering', 'stalk-root': 'bulbous', 'stalk-surface-above-ring': 'smooth', 'stalk-surface-below-ring': 'smooth', 'stalk-color-above-ring': 'gray', 'stalk-color-below-ring': 'gray', 'veil-color': 'white', 'ring-number': 'one', 'ring-type': 'pendant', 'spore-print-color': 'brown', 'population': 'solitary', 'habitat': 'woods'}\n"
     ]
    },
    {
     "data": {
      "application/vnd.jupyter.widget-view+json": {
       "model_id": "3d1eb4f4d7d64c5e8e8bca0ab12e8eab",
       "version_major": 2,
       "version_minor": 0
      },
      "text/plain": [
       "0it [00:00, ?it/s]"
      ]
     },
     "metadata": {},
     "output_type": "display_data"
    },
    {
     "data": {
      "application/vnd.jupyter.widget-view+json": {
       "model_id": "da3cab3ec6c8447387e84cfb7e5245ad",
       "version_major": 2,
       "version_minor": 0
      },
      "text/plain": [
       "0it [00:00, ?it/s]"
      ]
     },
     "metadata": {},
     "output_type": "display_data"
    },
    {
     "name": "stdout",
     "output_type": "stream",
     "text": [
      "{'cap-shape': 'flat', 'cap-surface': 'smooth', 'cap-color': 'white', 'bruises': 'bruises', 'odor': 'foul', 'gill-attachment': 'free', 'gill-spacing': 'close', 'gill-size': 'broad', 'gill-color': 'pink', 'stalk-shape': 'tapering', 'stalk-root': 'bulbous', 'stalk-surface-above-ring': 'smooth', 'stalk-surface-below-ring': 'fibrous', 'stalk-color-above-ring': 'white', 'stalk-color-below-ring': 'white', 'veil-color': 'white', 'ring-number': 'one', 'ring-type': 'pendant', 'spore-print-color': 'chocolate', 'population': 'several', 'habitat': 'urban'}\n"
     ]
    },
    {
     "data": {
      "application/vnd.jupyter.widget-view+json": {
       "model_id": "11e7f5c08ae8451187ce02da53ad3c04",
       "version_major": 2,
       "version_minor": 0
      },
      "text/plain": [
       "0it [00:00, ?it/s]"
      ]
     },
     "metadata": {},
     "output_type": "display_data"
    },
    {
     "data": {
      "application/vnd.jupyter.widget-view+json": {
       "model_id": "1d58a193fdc243548d083fd37788a01a",
       "version_major": 2,
       "version_minor": 0
      },
      "text/plain": [
       "0it [00:00, ?it/s]"
      ]
     },
     "metadata": {},
     "output_type": "display_data"
    },
    {
     "name": "stdout",
     "output_type": "stream",
     "text": [
      "{'cap-shape': 'knobbed', 'cap-surface': 'smooth', 'cap-color': 'red', 'bruises': 'no', 'odor': 'fishy', 'gill-attachment': 'free', 'gill-spacing': 'close', 'gill-size': 'narrow', 'gill-color': 'buff', 'stalk-shape': 'tapering', 'stalk-root': 'bulbous', 'stalk-surface-above-ring': 'smooth', 'stalk-surface-below-ring': 'smooth', 'stalk-color-above-ring': 'white', 'stalk-color-below-ring': 'white', 'veil-color': 'white', 'ring-number': 'one', 'ring-type': 'evanescent', 'spore-print-color': 'white', 'population': 'several', 'habitat': 'woods'}\n"
     ]
    },
    {
     "data": {
      "application/vnd.jupyter.widget-view+json": {
       "model_id": "746ba8f759b54f84a84104ee98e33b6c",
       "version_major": 2,
       "version_minor": 0
      },
      "text/plain": [
       "0it [00:00, ?it/s]"
      ]
     },
     "metadata": {},
     "output_type": "display_data"
    },
    {
     "data": {
      "application/vnd.jupyter.widget-view+json": {
       "model_id": "dc4295235cd34b55aa944ce476d28d36",
       "version_major": 2,
       "version_minor": 0
      },
      "text/plain": [
       "0it [00:00, ?it/s]"
      ]
     },
     "metadata": {},
     "output_type": "display_data"
    },
    {
     "name": "stdout",
     "output_type": "stream",
     "text": [
      "{'cap-shape': 'bell', 'cap-surface': 'smooth', 'cap-color': 'white', 'bruises': 'no', 'odor': 'none', 'gill-attachment': 'free', 'gill-spacing': 'crowded', 'gill-size': 'broad', 'gill-color': 'pink', 'stalk-shape': 'enlarging', 'stalk-root': 'equal', 'stalk-surface-above-ring': 'silky', 'stalk-surface-below-ring': 'smooth', 'stalk-color-above-ring': 'white', 'stalk-color-below-ring': 'white', 'veil-color': 'white', 'ring-number': 'two', 'ring-type': 'pendant', 'spore-print-color': 'white', 'population': 'scattered', 'habitat': 'grasses'}\n"
     ]
    },
    {
     "data": {
      "application/vnd.jupyter.widget-view+json": {
       "model_id": "0950f1014fd04765bbc7862ad9355c04",
       "version_major": 2,
       "version_minor": 0
      },
      "text/plain": [
       "0it [00:00, ?it/s]"
      ]
     },
     "metadata": {},
     "output_type": "display_data"
    },
    {
     "data": {
      "application/vnd.jupyter.widget-view+json": {
       "model_id": "39bbb8a30176458a951734e7ce837474",
       "version_major": 2,
       "version_minor": 0
      },
      "text/plain": [
       "0it [00:00, ?it/s]"
      ]
     },
     "metadata": {},
     "output_type": "display_data"
    },
    {
     "name": "stdout",
     "output_type": "stream",
     "text": [
      "{'cap-shape': 'bell', 'cap-surface': 'smooth', 'cap-color': 'white', 'bruises': 'bruises', 'odor': 'anise', 'gill-attachment': 'free', 'gill-spacing': 'close', 'gill-size': 'broad', 'gill-color': 'black', 'stalk-shape': 'enlarging', 'stalk-root': 'club', 'stalk-surface-above-ring': 'smooth', 'stalk-surface-below-ring': 'smooth', 'stalk-color-above-ring': 'white', 'stalk-color-below-ring': 'white', 'veil-color': 'white', 'ring-number': 'one', 'ring-type': 'pendant', 'spore-print-color': 'brown', 'population': 'numerous', 'habitat': 'grasses'}\n"
     ]
    },
    {
     "data": {
      "application/vnd.jupyter.widget-view+json": {
       "model_id": "d8a63849bec64133a8685ad5a278dd1d",
       "version_major": 2,
       "version_minor": 0
      },
      "text/plain": [
       "0it [00:00, ?it/s]"
      ]
     },
     "metadata": {},
     "output_type": "display_data"
    },
    {
     "data": {
      "application/vnd.jupyter.widget-view+json": {
       "model_id": "8f50d238e6bf4ac3af24927ae4a5a6ce",
       "version_major": 2,
       "version_minor": 0
      },
      "text/plain": [
       "0it [00:00, ?it/s]"
      ]
     },
     "metadata": {},
     "output_type": "display_data"
    },
    {
     "name": "stdout",
     "output_type": "stream",
     "text": [
      "{'cap-shape': 'flat', 'cap-surface': 'fibrous', 'cap-color': 'gray', 'bruises': 'bruises', 'odor': 'none', 'gill-attachment': 'free', 'gill-spacing': 'close', 'gill-size': 'broad', 'gill-color': 'purple', 'stalk-shape': 'tapering', 'stalk-root': 'bulbous', 'stalk-surface-above-ring': 'smooth', 'stalk-surface-below-ring': 'smooth', 'stalk-color-above-ring': 'white', 'stalk-color-below-ring': 'gray', 'veil-color': 'white', 'ring-number': 'one', 'ring-type': 'pendant', 'spore-print-color': 'black', 'population': 'several', 'habitat': 'woods'}\n"
     ]
    },
    {
     "data": {
      "application/vnd.jupyter.widget-view+json": {
       "model_id": "d4fecf7a655a47a7a7280d513682b5e0",
       "version_major": 2,
       "version_minor": 0
      },
      "text/plain": [
       "0it [00:00, ?it/s]"
      ]
     },
     "metadata": {},
     "output_type": "display_data"
    },
    {
     "data": {
      "application/vnd.jupyter.widget-view+json": {
       "model_id": "4fa129b0ab3c460584f71ac13dbf44b2",
       "version_major": 2,
       "version_minor": 0
      },
      "text/plain": [
       "0it [00:00, ?it/s]"
      ]
     },
     "metadata": {},
     "output_type": "display_data"
    },
    {
     "name": "stdout",
     "output_type": "stream",
     "text": [
      "{'cap-shape': 'flat', 'cap-surface': 'fibrous', 'cap-color': 'red', 'bruises': 'bruises', 'odor': 'none', 'gill-attachment': 'free', 'gill-spacing': 'close', 'gill-size': 'broad', 'gill-color': 'brown', 'stalk-shape': 'tapering', 'stalk-root': 'bulbous', 'stalk-surface-above-ring': 'smooth', 'stalk-surface-below-ring': 'smooth', 'stalk-color-above-ring': 'white', 'stalk-color-below-ring': 'gray', 'veil-color': 'white', 'ring-number': 'one', 'ring-type': 'pendant', 'spore-print-color': 'brown', 'population': 'several', 'habitat': 'woods'}\n"
     ]
    },
    {
     "data": {
      "application/vnd.jupyter.widget-view+json": {
       "model_id": "1c21c644f49e45158d566c60e412ce33",
       "version_major": 2,
       "version_minor": 0
      },
      "text/plain": [
       "0it [00:00, ?it/s]"
      ]
     },
     "metadata": {},
     "output_type": "display_data"
    },
    {
     "data": {
      "application/vnd.jupyter.widget-view+json": {
       "model_id": "0f3c228b738942d0ba3c9e48de4631b3",
       "version_major": 2,
       "version_minor": 0
      },
      "text/plain": [
       "0it [00:00, ?it/s]"
      ]
     },
     "metadata": {},
     "output_type": "display_data"
    },
    {
     "name": "stdout",
     "output_type": "stream",
     "text": [
      "{'cap-shape': 'convex', 'cap-surface': 'smooth', 'cap-color': 'gray', 'bruises': 'bruises', 'odor': 'foul', 'gill-attachment': 'free', 'gill-spacing': 'close', 'gill-size': 'broad', 'gill-color': 'pink', 'stalk-shape': 'tapering', 'stalk-root': 'bulbous', 'stalk-surface-above-ring': 'smooth', 'stalk-surface-below-ring': 'smooth', 'stalk-color-above-ring': 'white', 'stalk-color-below-ring': 'white', 'veil-color': 'white', 'ring-number': 'one', 'ring-type': 'pendant', 'spore-print-color': 'chocolate', 'population': 'several', 'habitat': 'grasses'}\n"
     ]
    },
    {
     "data": {
      "application/vnd.jupyter.widget-view+json": {
       "model_id": "c886765c618249e3815fd36753ffa487",
       "version_major": 2,
       "version_minor": 0
      },
      "text/plain": [
       "0it [00:00, ?it/s]"
      ]
     },
     "metadata": {},
     "output_type": "display_data"
    },
    {
     "data": {
      "application/vnd.jupyter.widget-view+json": {
       "model_id": "ec2889bb5f5c4674b60d07411a679e80",
       "version_major": 2,
       "version_minor": 0
      },
      "text/plain": [
       "0it [00:00, ?it/s]"
      ]
     },
     "metadata": {},
     "output_type": "display_data"
    },
    {
     "name": "stdout",
     "output_type": "stream",
     "text": [
      "{'cap-shape': 'convex', 'cap-surface': 'scaly', 'cap-color': 'brown', 'bruises': 'bruises', 'odor': 'pungent', 'gill-attachment': 'free', 'gill-spacing': 'close', 'gill-size': 'narrow', 'gill-color': 'pink', 'stalk-shape': 'enlarging', 'stalk-root': 'equal', 'stalk-surface-above-ring': 'smooth', 'stalk-surface-below-ring': 'smooth', 'stalk-color-above-ring': 'white', 'stalk-color-below-ring': 'white', 'veil-color': 'white', 'ring-number': 'one', 'ring-type': 'pendant', 'spore-print-color': 'black', 'population': 'scattered', 'habitat': 'urban'}\n"
     ]
    },
    {
     "data": {
      "application/vnd.jupyter.widget-view+json": {
       "model_id": "6f7171a737864761a8436adcb7a6c72d",
       "version_major": 2,
       "version_minor": 0
      },
      "text/plain": [
       "0it [00:00, ?it/s]"
      ]
     },
     "metadata": {},
     "output_type": "display_data"
    },
    {
     "data": {
      "application/vnd.jupyter.widget-view+json": {
       "model_id": "80e279a0d2064a308253872a9d6ec1af",
       "version_major": 2,
       "version_minor": 0
      },
      "text/plain": [
       "0it [00:00, ?it/s]"
      ]
     },
     "metadata": {},
     "output_type": "display_data"
    },
    {
     "name": "stdout",
     "output_type": "stream",
     "text": [
      "{'cap-shape': 'knobbed', 'cap-surface': 'smooth', 'cap-color': 'brown', 'bruises': 'bruises', 'odor': 'none', 'gill-attachment': 'free', 'gill-spacing': 'close', 'gill-size': 'broad', 'gill-color': 'white', 'stalk-shape': 'enlarging', 'stalk-root': 'bulbous', 'stalk-surface-above-ring': 'smooth', 'stalk-surface-below-ring': 'smooth', 'stalk-color-above-ring': 'white', 'stalk-color-below-ring': 'red', 'veil-color': 'white', 'ring-number': 'two', 'ring-type': 'evanescent', 'spore-print-color': 'white', 'population': 'clustered', 'habitat': 'waste'}\n"
     ]
    },
    {
     "data": {
      "application/vnd.jupyter.widget-view+json": {
       "model_id": "3e5b602e37c14e8eb18dd5f1084a3d9a",
       "version_major": 2,
       "version_minor": 0
      },
      "text/plain": [
       "0it [00:00, ?it/s]"
      ]
     },
     "metadata": {},
     "output_type": "display_data"
    },
    {
     "data": {
      "application/vnd.jupyter.widget-view+json": {
       "model_id": "8b24f59a66a94950a03103c835ddb24a",
       "version_major": 2,
       "version_minor": 0
      },
      "text/plain": [
       "0it [00:00, ?it/s]"
      ]
     },
     "metadata": {},
     "output_type": "display_data"
    },
    {
     "name": "stdout",
     "output_type": "stream",
     "text": [
      "{'cap-shape': 'convex', 'cap-surface': 'smooth', 'cap-color': 'white', 'bruises': 'bruises', 'odor': 'pungent', 'gill-attachment': 'free', 'gill-spacing': 'close', 'gill-size': 'narrow', 'gill-color': 'brown', 'stalk-shape': 'enlarging', 'stalk-root': 'equal', 'stalk-surface-above-ring': 'smooth', 'stalk-surface-below-ring': 'smooth', 'stalk-color-above-ring': 'white', 'stalk-color-below-ring': 'white', 'veil-color': 'white', 'ring-number': 'one', 'ring-type': 'pendant', 'spore-print-color': 'black', 'population': 'scattered', 'habitat': 'urban'}\n"
     ]
    },
    {
     "data": {
      "application/vnd.jupyter.widget-view+json": {
       "model_id": "e15d98a5efe74667a474a3fdb5a8a08e",
       "version_major": 2,
       "version_minor": 0
      },
      "text/plain": [
       "0it [00:00, ?it/s]"
      ]
     },
     "metadata": {},
     "output_type": "display_data"
    },
    {
     "data": {
      "application/vnd.jupyter.widget-view+json": {
       "model_id": "7e7b5ac359d94e49aae366239c47ac56",
       "version_major": 2,
       "version_minor": 0
      },
      "text/plain": [
       "0it [00:00, ?it/s]"
      ]
     },
     "metadata": {},
     "output_type": "display_data"
    },
    {
     "name": "stdout",
     "output_type": "stream",
     "text": [
      "{'cap-shape': 'flat', 'cap-surface': 'smooth', 'cap-color': 'brown', 'bruises': 'bruises', 'odor': 'pungent', 'gill-attachment': 'free', 'gill-spacing': 'close', 'gill-size': 'narrow', 'gill-color': 'brown', 'stalk-shape': 'enlarging', 'stalk-root': 'equal', 'stalk-surface-above-ring': 'smooth', 'stalk-surface-below-ring': 'smooth', 'stalk-color-above-ring': 'white', 'stalk-color-below-ring': 'white', 'veil-color': 'white', 'ring-number': 'one', 'ring-type': 'pendant', 'spore-print-color': 'brown', 'population': 'several', 'habitat': 'urban'}\n"
     ]
    },
    {
     "data": {
      "application/vnd.jupyter.widget-view+json": {
       "model_id": "d16a673ac988427c94a1188a9dbf8b0f",
       "version_major": 2,
       "version_minor": 0
      },
      "text/plain": [
       "0it [00:00, ?it/s]"
      ]
     },
     "metadata": {},
     "output_type": "display_data"
    },
    {
     "data": {
      "application/vnd.jupyter.widget-view+json": {
       "model_id": "95e8d814d83b4c0895be9c178b025400",
       "version_major": 2,
       "version_minor": 0
      },
      "text/plain": [
       "0it [00:00, ?it/s]"
      ]
     },
     "metadata": {},
     "output_type": "display_data"
    },
    {
     "name": "stdout",
     "output_type": "stream",
     "text": [
      "{'cap-shape': 'flat', 'cap-surface': 'scaly', 'cap-color': 'gray', 'bruises': 'bruises', 'odor': 'none', 'gill-attachment': 'free', 'gill-spacing': 'close', 'gill-size': 'broad', 'gill-color': 'white', 'stalk-shape': 'tapering', 'stalk-root': 'bulbous', 'stalk-surface-above-ring': 'smooth', 'stalk-surface-below-ring': 'smooth', 'stalk-color-above-ring': 'white', 'stalk-color-below-ring': 'gray', 'veil-color': 'white', 'ring-number': 'one', 'ring-type': 'pendant', 'spore-print-color': 'black', 'population': 'several', 'habitat': 'woods'}\n"
     ]
    },
    {
     "data": {
      "application/vnd.jupyter.widget-view+json": {
       "model_id": "743e3594a2934f1e9c36a44eaf975541",
       "version_major": 2,
       "version_minor": 0
      },
      "text/plain": [
       "0it [00:00, ?it/s]"
      ]
     },
     "metadata": {},
     "output_type": "display_data"
    },
    {
     "data": {
      "application/vnd.jupyter.widget-view+json": {
       "model_id": "7e4750f3631c4cac82ce4bb508f428b3",
       "version_major": 2,
       "version_minor": 0
      },
      "text/plain": [
       "0it [00:00, ?it/s]"
      ]
     },
     "metadata": {},
     "output_type": "display_data"
    },
    {
     "name": "stdout",
     "output_type": "stream",
     "text": [
      "{'cap-shape': 'flat', 'cap-surface': 'scaly', 'cap-color': 'red', 'bruises': 'bruises', 'odor': 'none', 'gill-attachment': 'free', 'gill-spacing': 'close', 'gill-size': 'broad', 'gill-color': 'brown', 'stalk-shape': 'tapering', 'stalk-root': 'bulbous', 'stalk-surface-above-ring': 'smooth', 'stalk-surface-below-ring': 'smooth', 'stalk-color-above-ring': 'gray', 'stalk-color-below-ring': 'gray', 'veil-color': 'white', 'ring-number': 'one', 'ring-type': 'pendant', 'spore-print-color': 'brown', 'population': 'several', 'habitat': 'woods'}\n"
     ]
    },
    {
     "data": {
      "application/vnd.jupyter.widget-view+json": {
       "model_id": "b5316d0874474f2e8d11f6e3a30695ed",
       "version_major": 2,
       "version_minor": 0
      },
      "text/plain": [
       "0it [00:00, ?it/s]"
      ]
     },
     "metadata": {},
     "output_type": "display_data"
    },
    {
     "data": {
      "application/vnd.jupyter.widget-view+json": {
       "model_id": "d53f4c2bc3b84a77a761a9c094073d46",
       "version_major": 2,
       "version_minor": 0
      },
      "text/plain": [
       "0it [00:00, ?it/s]"
      ]
     },
     "metadata": {},
     "output_type": "display_data"
    },
    {
     "name": "stdout",
     "output_type": "stream",
     "text": [
      "{'cap-shape': 'knobbed', 'cap-surface': 'smooth', 'cap-color': 'white', 'bruises': 'no', 'odor': 'none', 'gill-attachment': 'free', 'gill-spacing': 'crowded', 'gill-size': 'broad', 'gill-color': 'white', 'stalk-shape': 'enlarging', 'stalk-root': 'bulbous', 'stalk-surface-above-ring': 'silky', 'stalk-surface-below-ring': 'silky', 'stalk-color-above-ring': 'white', 'stalk-color-below-ring': 'white', 'veil-color': 'white', 'ring-number': 'two', 'ring-type': 'pendant', 'spore-print-color': 'white', 'population': 'numerous', 'habitat': 'grasses'}\n"
     ]
    },
    {
     "data": {
      "application/vnd.jupyter.widget-view+json": {
       "model_id": "9f3825439868421db2a7cde1ddecb381",
       "version_major": 2,
       "version_minor": 0
      },
      "text/plain": [
       "0it [00:00, ?it/s]"
      ]
     },
     "metadata": {},
     "output_type": "display_data"
    },
    {
     "data": {
      "application/vnd.jupyter.widget-view+json": {
       "model_id": "9594584b0bd94a86ab1525505486b2ac",
       "version_major": 2,
       "version_minor": 0
      },
      "text/plain": [
       "0it [00:00, ?it/s]"
      ]
     },
     "metadata": {},
     "output_type": "display_data"
    },
    {
     "name": "stdout",
     "output_type": "stream",
     "text": [
      "{'cap-shape': 'flat', 'cap-surface': 'scaly', 'cap-color': 'yellow', 'bruises': 'no', 'odor': 'foul', 'gill-attachment': 'free', 'gill-spacing': 'close', 'gill-size': 'broad', 'gill-color': 'pink', 'stalk-shape': 'enlarging', 'stalk-root': 'bulbous', 'stalk-surface-above-ring': 'silky', 'stalk-surface-below-ring': 'silky', 'stalk-color-above-ring': 'pink', 'stalk-color-below-ring': 'brown', 'veil-color': 'white', 'ring-number': 'one', 'ring-type': 'large', 'spore-print-color': 'chocolate', 'population': 'several', 'habitat': 'paths'}\n"
     ]
    },
    {
     "data": {
      "application/vnd.jupyter.widget-view+json": {
       "model_id": "fcf68b8961b2410881757c0e5634a4d4",
       "version_major": 2,
       "version_minor": 0
      },
      "text/plain": [
       "0it [00:00, ?it/s]"
      ]
     },
     "metadata": {},
     "output_type": "display_data"
    },
    {
     "data": {
      "application/vnd.jupyter.widget-view+json": {
       "model_id": "9759649ece9f449c94a18e0be7f5a5da",
       "version_major": 2,
       "version_minor": 0
      },
      "text/plain": [
       "0it [00:00, ?it/s]"
      ]
     },
     "metadata": {},
     "output_type": "display_data"
    },
    {
     "name": "stdout",
     "output_type": "stream",
     "text": [
      "{'cap-shape': 'knobbed', 'cap-surface': 'smooth', 'cap-color': 'red', 'bruises': 'no', 'odor': 'foul', 'gill-attachment': 'free', 'gill-spacing': 'close', 'gill-size': 'narrow', 'gill-color': 'buff', 'stalk-shape': 'tapering', 'stalk-root': 'bulbous', 'stalk-surface-above-ring': 'silky', 'stalk-surface-below-ring': 'silky', 'stalk-color-above-ring': 'pink', 'stalk-color-below-ring': 'white', 'veil-color': 'white', 'ring-number': 'one', 'ring-type': 'evanescent', 'spore-print-color': 'white', 'population': 'several', 'habitat': 'woods'}\n"
     ]
    },
    {
     "data": {
      "application/vnd.jupyter.widget-view+json": {
       "model_id": "e4ed37b20f40446f9c6651b5667ba982",
       "version_major": 2,
       "version_minor": 0
      },
      "text/plain": [
       "0it [00:00, ?it/s]"
      ]
     },
     "metadata": {},
     "output_type": "display_data"
    },
    {
     "data": {
      "application/vnd.jupyter.widget-view+json": {
       "model_id": "e190ecbfbd7642cf82d13dc9ff24ed69",
       "version_major": 2,
       "version_minor": 0
      },
      "text/plain": [
       "0it [00:00, ?it/s]"
      ]
     },
     "metadata": {},
     "output_type": "display_data"
    },
    {
     "name": "stdout",
     "output_type": "stream",
     "text": [
      "{'cap-shape': 'convex', 'cap-surface': 'scaly', 'cap-color': 'yellow', 'bruises': 'no', 'odor': 'foul', 'gill-attachment': 'free', 'gill-spacing': 'close', 'gill-size': 'broad', 'gill-color': 'pink', 'stalk-shape': 'enlarging', 'stalk-root': 'bulbous', 'stalk-surface-above-ring': 'silky', 'stalk-surface-below-ring': 'silky', 'stalk-color-above-ring': 'pink', 'stalk-color-below-ring': 'pink', 'veil-color': 'white', 'ring-number': 'one', 'ring-type': 'large', 'spore-print-color': 'chocolate', 'population': 'several', 'habitat': 'grasses'}\n"
     ]
    },
    {
     "data": {
      "application/vnd.jupyter.widget-view+json": {
       "model_id": "3b680598968b408b8aa1a33d7a412ce8",
       "version_major": 2,
       "version_minor": 0
      },
      "text/plain": [
       "0it [00:00, ?it/s]"
      ]
     },
     "metadata": {},
     "output_type": "display_data"
    },
    {
     "data": {
      "application/vnd.jupyter.widget-view+json": {
       "model_id": "835116379ab2461ba977aa1fcaeae1cc",
       "version_major": 2,
       "version_minor": 0
      },
      "text/plain": [
       "0it [00:00, ?it/s]"
      ]
     },
     "metadata": {},
     "output_type": "display_data"
    },
    {
     "name": "stdout",
     "output_type": "stream",
     "text": [
      "{'cap-shape': 'convex', 'cap-surface': 'scaly', 'cap-color': 'gray', 'bruises': 'bruises', 'odor': 'none', 'gill-attachment': 'free', 'gill-spacing': 'close', 'gill-size': 'broad', 'gill-color': 'purple', 'stalk-shape': 'tapering', 'stalk-root': 'bulbous', 'stalk-surface-above-ring': 'smooth', 'stalk-surface-below-ring': 'smooth', 'stalk-color-above-ring': 'white', 'stalk-color-below-ring': 'white', 'veil-color': 'white', 'ring-number': 'one', 'ring-type': 'pendant', 'spore-print-color': 'black', 'population': 'solitary', 'habitat': 'woods'}\n"
     ]
    },
    {
     "data": {
      "application/vnd.jupyter.widget-view+json": {
       "model_id": "4deccbaf491142ddb1859267aa219d56",
       "version_major": 2,
       "version_minor": 0
      },
      "text/plain": [
       "0it [00:00, ?it/s]"
      ]
     },
     "metadata": {},
     "output_type": "display_data"
    },
    {
     "data": {
      "application/vnd.jupyter.widget-view+json": {
       "model_id": "509e62985294494c931fd94245eda9e8",
       "version_major": 2,
       "version_minor": 0
      },
      "text/plain": [
       "0it [00:00, ?it/s]"
      ]
     },
     "metadata": {},
     "output_type": "display_data"
    },
    {
     "name": "stdout",
     "output_type": "stream",
     "text": [
      "{'cap-shape': 'convex', 'cap-surface': 'scaly', 'cap-color': 'pink', 'bruises': 'bruises', 'odor': 'none', 'gill-attachment': 'free', 'gill-spacing': 'close', 'gill-size': 'broad', 'gill-color': 'white', 'stalk-shape': 'enlarging', 'stalk-root': 'bulbous', 'stalk-surface-above-ring': 'smooth', 'stalk-surface-below-ring': 'smooth', 'stalk-color-above-ring': 'white', 'stalk-color-below-ring': 'red', 'veil-color': 'white', 'ring-number': 'two', 'ring-type': 'evanescent', 'spore-print-color': 'white', 'population': 'clustered', 'habitat': 'waste'}\n"
     ]
    },
    {
     "data": {
      "application/vnd.jupyter.widget-view+json": {
       "model_id": "dbee7fba4d0843a5a33ab14cc100593d",
       "version_major": 2,
       "version_minor": 0
      },
      "text/plain": [
       "0it [00:00, ?it/s]"
      ]
     },
     "metadata": {},
     "output_type": "display_data"
    },
    {
     "data": {
      "application/vnd.jupyter.widget-view+json": {
       "model_id": "2e8d7d039b6d4cb8bc7e024181a94b6b",
       "version_major": 2,
       "version_minor": 0
      },
      "text/plain": [
       "0it [00:00, ?it/s]"
      ]
     },
     "metadata": {},
     "output_type": "display_data"
    },
    {
     "name": "stdout",
     "output_type": "stream",
     "text": [
      "{'cap-shape': 'flat', 'cap-surface': 'fibrous', 'cap-color': 'brown', 'bruises': 'no', 'odor': 'none', 'gill-attachment': 'free', 'gill-spacing': 'crowded', 'gill-size': 'broad', 'gill-color': 'pink', 'stalk-shape': 'tapering', 'stalk-root': 'equal', 'stalk-surface-above-ring': 'fibrous', 'stalk-surface-below-ring': 'smooth', 'stalk-color-above-ring': 'white', 'stalk-color-below-ring': 'white', 'veil-color': 'white', 'ring-number': 'one', 'ring-type': 'evanescent', 'spore-print-color': 'brown', 'population': 'scattered', 'habitat': 'grasses'}\n"
     ]
    },
    {
     "data": {
      "application/vnd.jupyter.widget-view+json": {
       "model_id": "e162dc616b684c9cbed4b577baa3d6ca",
       "version_major": 2,
       "version_minor": 0
      },
      "text/plain": [
       "0it [00:00, ?it/s]"
      ]
     },
     "metadata": {},
     "output_type": "display_data"
    },
    {
     "data": {
      "application/vnd.jupyter.widget-view+json": {
       "model_id": "f8343c88953b47d8a9118777d97b9bb6",
       "version_major": 2,
       "version_minor": 0
      },
      "text/plain": [
       "0it [00:00, ?it/s]"
      ]
     },
     "metadata": {},
     "output_type": "display_data"
    },
    {
     "name": "stdout",
     "output_type": "stream",
     "text": [
      "{'cap-shape': 'convex', 'cap-surface': 'fibrous', 'cap-color': 'red', 'bruises': 'bruises', 'odor': 'none', 'gill-attachment': 'free', 'gill-spacing': 'close', 'gill-size': 'broad', 'gill-color': 'brown', 'stalk-shape': 'tapering', 'stalk-root': 'bulbous', 'stalk-surface-above-ring': 'smooth', 'stalk-surface-below-ring': 'smooth', 'stalk-color-above-ring': 'gray', 'stalk-color-below-ring': 'pink', 'veil-color': 'white', 'ring-number': 'one', 'ring-type': 'pendant', 'spore-print-color': 'brown', 'population': 'solitary', 'habitat': 'woods'}\n"
     ]
    },
    {
     "data": {
      "application/vnd.jupyter.widget-view+json": {
       "model_id": "f99e2675dd1e4984a05c036ad9b6038d",
       "version_major": 2,
       "version_minor": 0
      },
      "text/plain": [
       "0it [00:00, ?it/s]"
      ]
     },
     "metadata": {},
     "output_type": "display_data"
    },
    {
     "data": {
      "application/vnd.jupyter.widget-view+json": {
       "model_id": "aabe56f2a04e4007aab432bf6223ccbc",
       "version_major": 2,
       "version_minor": 0
      },
      "text/plain": [
       "0it [00:00, ?it/s]"
      ]
     },
     "metadata": {},
     "output_type": "display_data"
    },
    {
     "name": "stdout",
     "output_type": "stream",
     "text": [
      "{'cap-shape': 'convex', 'cap-surface': 'fibrous', 'cap-color': 'red', 'bruises': 'bruises', 'odor': 'none', 'gill-attachment': 'free', 'gill-spacing': 'close', 'gill-size': 'broad', 'gill-color': 'purple', 'stalk-shape': 'tapering', 'stalk-root': 'bulbous', 'stalk-surface-above-ring': 'smooth', 'stalk-surface-below-ring': 'smooth', 'stalk-color-above-ring': 'pink', 'stalk-color-below-ring': 'white', 'veil-color': 'white', 'ring-number': 'one', 'ring-type': 'pendant', 'spore-print-color': 'black', 'population': 'several', 'habitat': 'woods'}\n"
     ]
    },
    {
     "data": {
      "application/vnd.jupyter.widget-view+json": {
       "model_id": "f859726c466e4bcf93f1669d0ca8ac66",
       "version_major": 2,
       "version_minor": 0
      },
      "text/plain": [
       "0it [00:00, ?it/s]"
      ]
     },
     "metadata": {},
     "output_type": "display_data"
    },
    {
     "data": {
      "application/vnd.jupyter.widget-view+json": {
       "model_id": "32cbc9fdabe243a8bca574fde4d5876d",
       "version_major": 2,
       "version_minor": 0
      },
      "text/plain": [
       "0it [00:00, ?it/s]"
      ]
     },
     "metadata": {},
     "output_type": "display_data"
    },
    {
     "name": "stdout",
     "output_type": "stream",
     "text": [
      "{'cap-shape': 'convex', 'cap-surface': 'scaly', 'cap-color': 'brown', 'bruises': 'no', 'odor': 'foul', 'gill-attachment': 'free', 'gill-spacing': 'close', 'gill-size': 'narrow', 'gill-color': 'buff', 'stalk-shape': 'tapering', 'stalk-root': 'bulbous', 'stalk-surface-above-ring': 'silky', 'stalk-surface-below-ring': 'smooth', 'stalk-color-above-ring': 'pink', 'stalk-color-below-ring': 'white', 'veil-color': 'white', 'ring-number': 'one', 'ring-type': 'evanescent', 'spore-print-color': 'white', 'population': 'several', 'habitat': 'woods'}\n"
     ]
    },
    {
     "data": {
      "application/vnd.jupyter.widget-view+json": {
       "model_id": "978a5300a00b4e6fb797a8124a80501f",
       "version_major": 2,
       "version_minor": 0
      },
      "text/plain": [
       "0it [00:00, ?it/s]"
      ]
     },
     "metadata": {},
     "output_type": "display_data"
    },
    {
     "data": {
      "application/vnd.jupyter.widget-view+json": {
       "model_id": "25d8bb8d93104d19b4071b82af43c142",
       "version_major": 2,
       "version_minor": 0
      },
      "text/plain": [
       "0it [00:00, ?it/s]"
      ]
     },
     "metadata": {},
     "output_type": "display_data"
    },
    {
     "name": "stdout",
     "output_type": "stream",
     "text": [
      "{'cap-shape': 'convex', 'cap-surface': 'scaly', 'cap-color': 'brown', 'bruises': 'bruises', 'odor': 'almond', 'gill-attachment': 'free', 'gill-spacing': 'close', 'gill-size': 'broad', 'gill-color': 'white', 'stalk-shape': 'enlarging', 'stalk-root': 'rooted', 'stalk-surface-above-ring': 'smooth', 'stalk-surface-below-ring': 'scaly', 'stalk-color-above-ring': 'white', 'stalk-color-below-ring': 'white', 'veil-color': 'white', 'ring-number': 'one', 'ring-type': 'pendant', 'spore-print-color': 'black', 'population': 'scattered', 'habitat': 'paths'}\n"
     ]
    },
    {
     "data": {
      "application/vnd.jupyter.widget-view+json": {
       "model_id": "fa7881d9200f436d8b4158bed5f6cbf9",
       "version_major": 2,
       "version_minor": 0
      },
      "text/plain": [
       "0it [00:00, ?it/s]"
      ]
     },
     "metadata": {},
     "output_type": "display_data"
    },
    {
     "data": {
      "application/vnd.jupyter.widget-view+json": {
       "model_id": "f1548cfdb18b4c9c8f58ef1b26413e6c",
       "version_major": 2,
       "version_minor": 0
      },
      "text/plain": [
       "0it [00:00, ?it/s]"
      ]
     },
     "metadata": {},
     "output_type": "display_data"
    },
    {
     "name": "stdout",
     "output_type": "stream",
     "text": [
      "{'cap-shape': 'convex', 'cap-surface': 'fibrous', 'cap-color': 'gray', 'bruises': 'no', 'odor': 'foul', 'gill-attachment': 'free', 'gill-spacing': 'close', 'gill-size': 'broad', 'gill-color': 'chocolate', 'stalk-shape': 'enlarging', 'stalk-root': 'bulbous', 'stalk-surface-above-ring': 'silky', 'stalk-surface-below-ring': 'silky', 'stalk-color-above-ring': 'buff', 'stalk-color-below-ring': 'buff', 'veil-color': 'white', 'ring-number': 'one', 'ring-type': 'large', 'spore-print-color': 'chocolate', 'population': 'several', 'habitat': 'woods'}\n"
     ]
    },
    {
     "data": {
      "application/vnd.jupyter.widget-view+json": {
       "model_id": "c44566822c184fd28f00c401f237bced",
       "version_major": 2,
       "version_minor": 0
      },
      "text/plain": [
       "0it [00:00, ?it/s]"
      ]
     },
     "metadata": {},
     "output_type": "display_data"
    },
    {
     "data": {
      "application/vnd.jupyter.widget-view+json": {
       "model_id": "c3bf39c601db4671ab2327b9834a9ae9",
       "version_major": 2,
       "version_minor": 0
      },
      "text/plain": [
       "0it [00:00, ?it/s]"
      ]
     },
     "metadata": {},
     "output_type": "display_data"
    },
    {
     "name": "stdout",
     "output_type": "stream",
     "text": [
      "{'cap-shape': 'flat', 'cap-surface': 'smooth', 'cap-color': 'pink', 'bruises': 'bruises', 'odor': 'none', 'gill-attachment': 'free', 'gill-spacing': 'close', 'gill-size': 'broad', 'gill-color': 'white', 'stalk-shape': 'enlarging', 'stalk-root': 'bulbous', 'stalk-surface-above-ring': 'smooth', 'stalk-surface-below-ring': 'smooth', 'stalk-color-above-ring': 'white', 'stalk-color-below-ring': 'white', 'veil-color': 'white', 'ring-number': 'two', 'ring-type': 'pendant', 'spore-print-color': 'white', 'population': 'several', 'habitat': 'paths'}\n"
     ]
    },
    {
     "data": {
      "application/vnd.jupyter.widget-view+json": {
       "model_id": "611ee948d2c444248f59e8c794e7f832",
       "version_major": 2,
       "version_minor": 0
      },
      "text/plain": [
       "0it [00:00, ?it/s]"
      ]
     },
     "metadata": {},
     "output_type": "display_data"
    },
    {
     "data": {
      "application/vnd.jupyter.widget-view+json": {
       "model_id": "534921cbfc504277a13649cbbfbf761a",
       "version_major": 2,
       "version_minor": 0
      },
      "text/plain": [
       "0it [00:00, ?it/s]"
      ]
     },
     "metadata": {},
     "output_type": "display_data"
    },
    {
     "name": "stdout",
     "output_type": "stream",
     "text": [
      "{'cap-shape': 'flat', 'cap-surface': 'smooth', 'cap-color': 'buff', 'bruises': 'bruises', 'odor': 'none', 'gill-attachment': 'free', 'gill-spacing': 'close', 'gill-size': 'broad', 'gill-color': 'white', 'stalk-shape': 'enlarging', 'stalk-root': 'bulbous', 'stalk-surface-above-ring': 'smooth', 'stalk-surface-below-ring': 'smooth', 'stalk-color-above-ring': 'white', 'stalk-color-below-ring': 'white', 'veil-color': 'white', 'ring-number': 'two', 'ring-type': 'pendant', 'spore-print-color': 'green', 'population': 'several', 'habitat': 'grasses'}\n"
     ]
    },
    {
     "data": {
      "application/vnd.jupyter.widget-view+json": {
       "model_id": "997560fa4fee4d2d844de441df3c4a42",
       "version_major": 2,
       "version_minor": 0
      },
      "text/plain": [
       "0it [00:00, ?it/s]"
      ]
     },
     "metadata": {},
     "output_type": "display_data"
    },
    {
     "data": {
      "application/vnd.jupyter.widget-view+json": {
       "model_id": "1766edc9d8774126a4f40f2f8b5046b4",
       "version_major": 2,
       "version_minor": 0
      },
      "text/plain": [
       "0it [00:00, ?it/s]"
      ]
     },
     "metadata": {},
     "output_type": "display_data"
    },
    {
     "name": "stdout",
     "output_type": "stream",
     "text": [
      "{'cap-shape': 'flat', 'cap-surface': 'fibrous', 'cap-color': 'red', 'bruises': 'bruises', 'odor': 'none', 'gill-attachment': 'free', 'gill-spacing': 'close', 'gill-size': 'broad', 'gill-color': 'purple', 'stalk-shape': 'tapering', 'stalk-root': 'bulbous', 'stalk-surface-above-ring': 'smooth', 'stalk-surface-below-ring': 'smooth', 'stalk-color-above-ring': 'pink', 'stalk-color-below-ring': 'gray', 'veil-color': 'white', 'ring-number': 'one', 'ring-type': 'pendant', 'spore-print-color': 'brown', 'population': 'solitary', 'habitat': 'woods'}\n"
     ]
    },
    {
     "data": {
      "application/vnd.jupyter.widget-view+json": {
       "model_id": "30e6f430a7e7484d9f2dbe4af350e3dc",
       "version_major": 2,
       "version_minor": 0
      },
      "text/plain": [
       "0it [00:00, ?it/s]"
      ]
     },
     "metadata": {},
     "output_type": "display_data"
    },
    {
     "data": {
      "application/vnd.jupyter.widget-view+json": {
       "model_id": "1766f8b56f0943cbbaf96221f4616c11",
       "version_major": 2,
       "version_minor": 0
      },
      "text/plain": [
       "0it [00:00, ?it/s]"
      ]
     },
     "metadata": {},
     "output_type": "display_data"
    },
    {
     "name": "stdout",
     "output_type": "stream",
     "text": [
      "{'cap-shape': 'convex', 'cap-surface': 'fibrous', 'cap-color': 'yellow', 'bruises': 'no', 'odor': 'foul', 'gill-attachment': 'free', 'gill-spacing': 'close', 'gill-size': 'broad', 'gill-color': 'chocolate', 'stalk-shape': 'enlarging', 'stalk-root': 'bulbous', 'stalk-surface-above-ring': 'silky', 'stalk-surface-below-ring': 'silky', 'stalk-color-above-ring': 'brown', 'stalk-color-below-ring': 'buff', 'veil-color': 'white', 'ring-number': 'one', 'ring-type': 'large', 'spore-print-color': 'chocolate', 'population': 'several', 'habitat': 'woods'}\n"
     ]
    },
    {
     "data": {
      "application/vnd.jupyter.widget-view+json": {
       "model_id": "54801dca9bf14d51a11fc329a460b592",
       "version_major": 2,
       "version_minor": 0
      },
      "text/plain": [
       "0it [00:00, ?it/s]"
      ]
     },
     "metadata": {},
     "output_type": "display_data"
    },
    {
     "data": {
      "application/vnd.jupyter.widget-view+json": {
       "model_id": "75722f7f8db1469a90841dfc98bb3ecd",
       "version_major": 2,
       "version_minor": 0
      },
      "text/plain": [
       "0it [00:00, ?it/s]"
      ]
     },
     "metadata": {},
     "output_type": "display_data"
    },
    {
     "name": "stdout",
     "output_type": "stream",
     "text": [
      "{'cap-shape': 'bell', 'cap-surface': 'fibrous', 'cap-color': 'gray', 'bruises': 'no', 'odor': 'none', 'gill-attachment': 'free', 'gill-spacing': 'crowded', 'gill-size': 'broad', 'gill-color': 'pink', 'stalk-shape': 'enlarging', 'stalk-root': 'equal', 'stalk-surface-above-ring': 'smooth', 'stalk-surface-below-ring': 'smooth', 'stalk-color-above-ring': 'white', 'stalk-color-below-ring': 'white', 'veil-color': 'white', 'ring-number': 'two', 'ring-type': 'pendant', 'spore-print-color': 'white', 'population': 'numerous', 'habitat': 'grasses'}\n"
     ]
    },
    {
     "data": {
      "application/vnd.jupyter.widget-view+json": {
       "model_id": "bc4cc3fce094469d8e4fd9c14a0170b6",
       "version_major": 2,
       "version_minor": 0
      },
      "text/plain": [
       "0it [00:00, ?it/s]"
      ]
     },
     "metadata": {},
     "output_type": "display_data"
    },
    {
     "data": {
      "application/vnd.jupyter.widget-view+json": {
       "model_id": "34a30b3148354f64b8e2e022740c9719",
       "version_major": 2,
       "version_minor": 0
      },
      "text/plain": [
       "0it [00:00, ?it/s]"
      ]
     },
     "metadata": {},
     "output_type": "display_data"
    },
    {
     "name": "stdout",
     "output_type": "stream",
     "text": [
      "{'cap-shape': 'knobbed', 'cap-surface': 'smooth', 'cap-color': 'red', 'bruises': 'no', 'odor': 'foul', 'gill-attachment': 'free', 'gill-spacing': 'close', 'gill-size': 'narrow', 'gill-color': 'buff', 'stalk-shape': 'tapering', 'stalk-root': 'bulbous', 'stalk-surface-above-ring': 'silky', 'stalk-surface-below-ring': 'smooth', 'stalk-color-above-ring': 'white', 'stalk-color-below-ring': 'pink', 'veil-color': 'white', 'ring-number': 'one', 'ring-type': 'evanescent', 'spore-print-color': 'white', 'population': 'several', 'habitat': 'leaves'}\n"
     ]
    },
    {
     "data": {
      "application/vnd.jupyter.widget-view+json": {
       "model_id": "4a655240d8964f1481244dae323f2318",
       "version_major": 2,
       "version_minor": 0
      },
      "text/plain": [
       "0it [00:00, ?it/s]"
      ]
     },
     "metadata": {},
     "output_type": "display_data"
    },
    {
     "data": {
      "application/vnd.jupyter.widget-view+json": {
       "model_id": "cbbce1976d504990860218c08217c6f6",
       "version_major": 2,
       "version_minor": 0
      },
      "text/plain": [
       "0it [00:00, ?it/s]"
      ]
     },
     "metadata": {},
     "output_type": "display_data"
    },
    {
     "name": "stdout",
     "output_type": "stream",
     "text": [
      "{'cap-shape': 'flat', 'cap-surface': 'scaly', 'cap-color': 'brown', 'bruises': 'bruises', 'odor': 'none', 'gill-attachment': 'free', 'gill-spacing': 'close', 'gill-size': 'broad', 'gill-color': 'brown', 'stalk-shape': 'tapering', 'stalk-root': 'bulbous', 'stalk-surface-above-ring': 'smooth', 'stalk-surface-below-ring': 'smooth', 'stalk-color-above-ring': 'gray', 'stalk-color-below-ring': 'gray', 'veil-color': 'white', 'ring-number': 'one', 'ring-type': 'pendant', 'spore-print-color': 'black', 'population': 'several', 'habitat': 'woods'}\n"
     ]
    },
    {
     "data": {
      "application/vnd.jupyter.widget-view+json": {
       "model_id": "9533eae182e44c5b804afa360b8fdc8f",
       "version_major": 2,
       "version_minor": 0
      },
      "text/plain": [
       "0it [00:00, ?it/s]"
      ]
     },
     "metadata": {},
     "output_type": "display_data"
    },
    {
     "data": {
      "application/vnd.jupyter.widget-view+json": {
       "model_id": "4aa4e892fb1240069d74401103a00d8a",
       "version_major": 2,
       "version_minor": 0
      },
      "text/plain": [
       "0it [00:00, ?it/s]"
      ]
     },
     "metadata": {},
     "output_type": "display_data"
    },
    {
     "name": "stdout",
     "output_type": "stream",
     "text": [
      "{'cap-shape': 'knobbed', 'cap-surface': 'scaly', 'cap-color': 'red', 'bruises': 'no', 'odor': 'spicy', 'gill-attachment': 'free', 'gill-spacing': 'close', 'gill-size': 'narrow', 'gill-color': 'buff', 'stalk-shape': 'tapering', 'stalk-root': 'bulbous', 'stalk-surface-above-ring': 'silky', 'stalk-surface-below-ring': 'silky', 'stalk-color-above-ring': 'pink', 'stalk-color-below-ring': 'white', 'veil-color': 'white', 'ring-number': 'one', 'ring-type': 'evanescent', 'spore-print-color': 'white', 'population': 'several', 'habitat': 'leaves'}\n"
     ]
    },
    {
     "data": {
      "application/vnd.jupyter.widget-view+json": {
       "model_id": "3444ee7175a04a36b192cca49c01ca17",
       "version_major": 2,
       "version_minor": 0
      },
      "text/plain": [
       "0it [00:00, ?it/s]"
      ]
     },
     "metadata": {},
     "output_type": "display_data"
    },
    {
     "data": {
      "application/vnd.jupyter.widget-view+json": {
       "model_id": "cf6afaadc61446e388ce324ab829398b",
       "version_major": 2,
       "version_minor": 0
      },
      "text/plain": [
       "0it [00:00, ?it/s]"
      ]
     },
     "metadata": {},
     "output_type": "display_data"
    },
    {
     "name": "stdout",
     "output_type": "stream",
     "text": [
      "{'cap-shape': 'flat', 'cap-surface': 'fibrous', 'cap-color': 'white', 'bruises': 'bruises', 'odor': 'anise', 'gill-attachment': 'free', 'gill-spacing': 'crowded', 'gill-size': 'narrow', 'gill-color': 'pink', 'stalk-shape': 'tapering', 'stalk-root': 'bulbous', 'stalk-surface-above-ring': 'smooth', 'stalk-surface-below-ring': 'smooth', 'stalk-color-above-ring': 'white', 'stalk-color-below-ring': 'white', 'veil-color': 'white', 'ring-number': 'one', 'ring-type': 'pendant', 'spore-print-color': 'purple', 'population': 'several', 'habitat': 'woods'}\n"
     ]
    },
    {
     "data": {
      "application/vnd.jupyter.widget-view+json": {
       "model_id": "f0f9f9aed2774d2298b87c42ddfb7123",
       "version_major": 2,
       "version_minor": 0
      },
      "text/plain": [
       "0it [00:00, ?it/s]"
      ]
     },
     "metadata": {},
     "output_type": "display_data"
    },
    {
     "data": {
      "application/vnd.jupyter.widget-view+json": {
       "model_id": "5177822083414363a82d67137379f95a",
       "version_major": 2,
       "version_minor": 0
      },
      "text/plain": [
       "0it [00:00, ?it/s]"
      ]
     },
     "metadata": {},
     "output_type": "display_data"
    },
    {
     "name": "stdout",
     "output_type": "stream",
     "text": [
      "{'cap-shape': 'convex', 'cap-surface': 'smooth', 'cap-color': 'buff', 'bruises': 'bruises', 'odor': 'foul', 'gill-attachment': 'free', 'gill-spacing': 'close', 'gill-size': 'broad', 'gill-color': 'pink', 'stalk-shape': 'tapering', 'stalk-root': 'bulbous', 'stalk-surface-above-ring': 'fibrous', 'stalk-surface-below-ring': 'smooth', 'stalk-color-above-ring': 'white', 'stalk-color-below-ring': 'white', 'veil-color': 'white', 'ring-number': 'one', 'ring-type': 'pendant', 'spore-print-color': 'chocolate', 'population': 'several', 'habitat': 'grasses'}\n"
     ]
    },
    {
     "data": {
      "application/vnd.jupyter.widget-view+json": {
       "model_id": "c35d748e72714733b971ac303c829628",
       "version_major": 2,
       "version_minor": 0
      },
      "text/plain": [
       "0it [00:00, ?it/s]"
      ]
     },
     "metadata": {},
     "output_type": "display_data"
    },
    {
     "data": {
      "application/vnd.jupyter.widget-view+json": {
       "model_id": "d14e678f29484e07915490ff0be63676",
       "version_major": 2,
       "version_minor": 0
      },
      "text/plain": [
       "0it [00:00, ?it/s]"
      ]
     },
     "metadata": {},
     "output_type": "display_data"
    },
    {
     "name": "stdout",
     "output_type": "stream",
     "text": [
      "{'cap-shape': 'flat', 'cap-surface': 'smooth', 'cap-color': 'brown', 'bruises': 'no', 'odor': 'fishy', 'gill-attachment': 'free', 'gill-spacing': 'close', 'gill-size': 'narrow', 'gill-color': 'buff', 'stalk-shape': 'tapering', 'stalk-root': 'bulbous', 'stalk-surface-above-ring': 'smooth', 'stalk-surface-below-ring': 'smooth', 'stalk-color-above-ring': 'pink', 'stalk-color-below-ring': 'pink', 'veil-color': 'white', 'ring-number': 'one', 'ring-type': 'evanescent', 'spore-print-color': 'white', 'population': 'several', 'habitat': 'leaves'}\n"
     ]
    },
    {
     "data": {
      "application/vnd.jupyter.widget-view+json": {
       "model_id": "eb57f455dae741fe93bafd5ba63c45b0",
       "version_major": 2,
       "version_minor": 0
      },
      "text/plain": [
       "0it [00:00, ?it/s]"
      ]
     },
     "metadata": {},
     "output_type": "display_data"
    },
    {
     "data": {
      "application/vnd.jupyter.widget-view+json": {
       "model_id": "4c5984dcb66c404baec1d749b49a4b1c",
       "version_major": 2,
       "version_minor": 0
      },
      "text/plain": [
       "0it [00:00, ?it/s]"
      ]
     },
     "metadata": {},
     "output_type": "display_data"
    },
    {
     "name": "stdout",
     "output_type": "stream",
     "text": [
      "{'cap-shape': 'knobbed', 'cap-surface': 'smooth', 'cap-color': 'brown', 'bruises': 'no', 'odor': 'fishy', 'gill-attachment': 'free', 'gill-spacing': 'close', 'gill-size': 'narrow', 'gill-color': 'buff', 'stalk-shape': 'tapering', 'stalk-root': 'bulbous', 'stalk-surface-above-ring': 'smooth', 'stalk-surface-below-ring': 'smooth', 'stalk-color-above-ring': 'pink', 'stalk-color-below-ring': 'pink', 'veil-color': 'white', 'ring-number': 'one', 'ring-type': 'evanescent', 'spore-print-color': 'white', 'population': 'several', 'habitat': 'woods'}\n"
     ]
    },
    {
     "data": {
      "application/vnd.jupyter.widget-view+json": {
       "model_id": "4bdf94e1ad314839a2c10cd67e5e8ee1",
       "version_major": 2,
       "version_minor": 0
      },
      "text/plain": [
       "0it [00:00, ?it/s]"
      ]
     },
     "metadata": {},
     "output_type": "display_data"
    },
    {
     "data": {
      "application/vnd.jupyter.widget-view+json": {
       "model_id": "820dc867ea22452285e05db66a748c5f",
       "version_major": 2,
       "version_minor": 0
      },
      "text/plain": [
       "0it [00:00, ?it/s]"
      ]
     },
     "metadata": {},
     "output_type": "display_data"
    },
    {
     "name": "stdout",
     "output_type": "stream",
     "text": [
      "{'cap-shape': 'convex', 'cap-surface': 'fibrous', 'cap-color': 'brown', 'bruises': 'no', 'odor': 'none', 'gill-attachment': 'free', 'gill-spacing': 'crowded', 'gill-size': 'broad', 'gill-color': 'pink', 'stalk-shape': 'tapering', 'stalk-root': 'equal', 'stalk-surface-above-ring': 'fibrous', 'stalk-surface-below-ring': 'smooth', 'stalk-color-above-ring': 'white', 'stalk-color-below-ring': 'white', 'veil-color': 'white', 'ring-number': 'one', 'ring-type': 'evanescent', 'spore-print-color': 'black', 'population': 'abundant', 'habitat': 'grasses'}\n"
     ]
    },
    {
     "data": {
      "application/vnd.jupyter.widget-view+json": {
       "model_id": "08714e087207409380fe0703c2fee680",
       "version_major": 2,
       "version_minor": 0
      },
      "text/plain": [
       "0it [00:00, ?it/s]"
      ]
     },
     "metadata": {},
     "output_type": "display_data"
    },
    {
     "data": {
      "application/vnd.jupyter.widget-view+json": {
       "model_id": "0b29ca2e288543ef83927c2fd267c1d3",
       "version_major": 2,
       "version_minor": 0
      },
      "text/plain": [
       "0it [00:00, ?it/s]"
      ]
     },
     "metadata": {},
     "output_type": "display_data"
    },
    {
     "name": "stdout",
     "output_type": "stream",
     "text": [
      "{'cap-shape': 'convex', 'cap-surface': 'fibrous', 'cap-color': 'gray', 'bruises': 'no', 'odor': 'foul', 'gill-attachment': 'free', 'gill-spacing': 'close', 'gill-size': 'broad', 'gill-color': 'pink', 'stalk-shape': 'enlarging', 'stalk-root': 'bulbous', 'stalk-surface-above-ring': 'silky', 'stalk-surface-below-ring': 'silky', 'stalk-color-above-ring': 'buff', 'stalk-color-below-ring': 'brown', 'veil-color': 'white', 'ring-number': 'one', 'ring-type': 'large', 'spore-print-color': 'chocolate', 'population': 'several', 'habitat': 'woods'}\n"
     ]
    },
    {
     "data": {
      "application/vnd.jupyter.widget-view+json": {
       "model_id": "b253452b20dc4571a110eb16703334d3",
       "version_major": 2,
       "version_minor": 0
      },
      "text/plain": [
       "0it [00:00, ?it/s]"
      ]
     },
     "metadata": {},
     "output_type": "display_data"
    },
    {
     "data": {
      "application/vnd.jupyter.widget-view+json": {
       "model_id": "dd8dc19eb9bc48e2b89e8d9dbbb1c190",
       "version_major": 2,
       "version_minor": 0
      },
      "text/plain": [
       "0it [00:00, ?it/s]"
      ]
     },
     "metadata": {},
     "output_type": "display_data"
    },
    {
     "name": "stdout",
     "output_type": "stream",
     "text": [
      "{'cap-shape': 'convex', 'cap-surface': 'smooth', 'cap-color': 'brown', 'bruises': 'no', 'odor': 'fishy', 'gill-attachment': 'free', 'gill-spacing': 'close', 'gill-size': 'narrow', 'gill-color': 'buff', 'stalk-shape': 'tapering', 'stalk-root': 'bulbous', 'stalk-surface-above-ring': 'silky', 'stalk-surface-below-ring': 'silky', 'stalk-color-above-ring': 'white', 'stalk-color-below-ring': 'white', 'veil-color': 'white', 'ring-number': 'one', 'ring-type': 'evanescent', 'spore-print-color': 'white', 'population': 'several', 'habitat': 'woods'}\n"
     ]
    },
    {
     "data": {
      "application/vnd.jupyter.widget-view+json": {
       "model_id": "e9425bd748e34b65a04380d82372ce26",
       "version_major": 2,
       "version_minor": 0
      },
      "text/plain": [
       "0it [00:00, ?it/s]"
      ]
     },
     "metadata": {},
     "output_type": "display_data"
    },
    {
     "data": {
      "application/vnd.jupyter.widget-view+json": {
       "model_id": "2bf159ee27374940892ca7dacaeb30b8",
       "version_major": 2,
       "version_minor": 0
      },
      "text/plain": [
       "0it [00:00, ?it/s]"
      ]
     },
     "metadata": {},
     "output_type": "display_data"
    },
    {
     "name": "stdout",
     "output_type": "stream",
     "text": [
      "{'cap-shape': 'flat', 'cap-surface': 'scaly', 'cap-color': 'brown', 'bruises': 'no', 'odor': 'spicy', 'gill-attachment': 'free', 'gill-spacing': 'close', 'gill-size': 'narrow', 'gill-color': 'buff', 'stalk-shape': 'tapering', 'stalk-root': 'bulbous', 'stalk-surface-above-ring': 'silky', 'stalk-surface-below-ring': 'smooth', 'stalk-color-above-ring': 'white', 'stalk-color-below-ring': 'pink', 'veil-color': 'white', 'ring-number': 'one', 'ring-type': 'evanescent', 'spore-print-color': 'white', 'population': 'several', 'habitat': 'woods'}\n"
     ]
    },
    {
     "data": {
      "application/vnd.jupyter.widget-view+json": {
       "model_id": "fce673b087c1439e8fea87a60d982884",
       "version_major": 2,
       "version_minor": 0
      },
      "text/plain": [
       "0it [00:00, ?it/s]"
      ]
     },
     "metadata": {},
     "output_type": "display_data"
    },
    {
     "data": {
      "application/vnd.jupyter.widget-view+json": {
       "model_id": "e66d0a99582d405a91f0ea9d00bd6f99",
       "version_major": 2,
       "version_minor": 0
      },
      "text/plain": [
       "0it [00:00, ?it/s]"
      ]
     },
     "metadata": {},
     "output_type": "display_data"
    },
    {
     "name": "stdout",
     "output_type": "stream",
     "text": [
      "{'cap-shape': 'convex', 'cap-surface': 'scaly', 'cap-color': 'gray', 'bruises': 'bruises', 'odor': 'none', 'gill-attachment': 'free', 'gill-spacing': 'close', 'gill-size': 'broad', 'gill-color': 'purple', 'stalk-shape': 'tapering', 'stalk-root': 'bulbous', 'stalk-surface-above-ring': 'smooth', 'stalk-surface-below-ring': 'smooth', 'stalk-color-above-ring': 'gray', 'stalk-color-below-ring': 'white', 'veil-color': 'white', 'ring-number': 'one', 'ring-type': 'pendant', 'spore-print-color': 'brown', 'population': 'solitary', 'habitat': 'woods'}\n"
     ]
    },
    {
     "data": {
      "application/vnd.jupyter.widget-view+json": {
       "model_id": "ba1d75ec7f864e0ab20f38d4e68ce966",
       "version_major": 2,
       "version_minor": 0
      },
      "text/plain": [
       "0it [00:00, ?it/s]"
      ]
     },
     "metadata": {},
     "output_type": "display_data"
    },
    {
     "data": {
      "application/vnd.jupyter.widget-view+json": {
       "model_id": "c72bb9b62db54b3a97464927ab9387ca",
       "version_major": 2,
       "version_minor": 0
      },
      "text/plain": [
       "0it [00:00, ?it/s]"
      ]
     },
     "metadata": {},
     "output_type": "display_data"
    },
    {
     "name": "stdout",
     "output_type": "stream",
     "text": [
      "{'cap-shape': 'convex', 'cap-surface': 'smooth', 'cap-color': 'brown', 'bruises': 'no', 'odor': 'none', 'gill-attachment': 'free', 'gill-spacing': 'crowded', 'gill-size': 'broad', 'gill-color': 'pink', 'stalk-shape': 'tapering', 'stalk-root': 'equal', 'stalk-surface-above-ring': 'fibrous', 'stalk-surface-below-ring': 'fibrous', 'stalk-color-above-ring': 'white', 'stalk-color-below-ring': 'white', 'veil-color': 'white', 'ring-number': 'one', 'ring-type': 'evanescent', 'spore-print-color': 'brown', 'population': 'scattered', 'habitat': 'grasses'}\n"
     ]
    },
    {
     "data": {
      "application/vnd.jupyter.widget-view+json": {
       "model_id": "4a4e1d18d1914bf2a7d0cfa3e3b76449",
       "version_major": 2,
       "version_minor": 0
      },
      "text/plain": [
       "0it [00:00, ?it/s]"
      ]
     },
     "metadata": {},
     "output_type": "display_data"
    },
    {
     "data": {
      "application/vnd.jupyter.widget-view+json": {
       "model_id": "be3fce9318f44790aee88b427c4a4b62",
       "version_major": 2,
       "version_minor": 0
      },
      "text/plain": [
       "0it [00:00, ?it/s]"
      ]
     },
     "metadata": {},
     "output_type": "display_data"
    },
    {
     "name": "stdout",
     "output_type": "stream",
     "text": [
      "{'cap-shape': 'flat', 'cap-surface': 'smooth', 'cap-color': 'brown', 'bruises': 'no', 'odor': 'none', 'gill-attachment': 'free', 'gill-spacing': 'crowded', 'gill-size': 'broad', 'gill-color': 'pink', 'stalk-shape': 'tapering', 'stalk-root': 'equal', 'stalk-surface-above-ring': 'smooth', 'stalk-surface-below-ring': 'fibrous', 'stalk-color-above-ring': 'white', 'stalk-color-below-ring': 'white', 'veil-color': 'white', 'ring-number': 'one', 'ring-type': 'evanescent', 'spore-print-color': 'brown', 'population': 'scattered', 'habitat': 'grasses'}\n"
     ]
    },
    {
     "data": {
      "application/vnd.jupyter.widget-view+json": {
       "model_id": "4629cd1e5e4941e4a77ddb89ca4b30df",
       "version_major": 2,
       "version_minor": 0
      },
      "text/plain": [
       "0it [00:00, ?it/s]"
      ]
     },
     "metadata": {},
     "output_type": "display_data"
    },
    {
     "data": {
      "application/vnd.jupyter.widget-view+json": {
       "model_id": "b7b86dc181274b94b5b42c085f80dce5",
       "version_major": 2,
       "version_minor": 0
      },
      "text/plain": [
       "0it [00:00, ?it/s]"
      ]
     },
     "metadata": {},
     "output_type": "display_data"
    },
    {
     "name": "stdout",
     "output_type": "stream",
     "text": [
      "{'cap-shape': 'convex', 'cap-surface': 'scaly', 'cap-color': 'brown', 'bruises': 'bruises', 'odor': 'none', 'gill-attachment': 'free', 'gill-spacing': 'close', 'gill-size': 'broad', 'gill-color': 'white', 'stalk-shape': 'tapering', 'stalk-root': 'bulbous', 'stalk-surface-above-ring': 'smooth', 'stalk-surface-below-ring': 'smooth', 'stalk-color-above-ring': 'white', 'stalk-color-below-ring': 'pink', 'veil-color': 'white', 'ring-number': 'one', 'ring-type': 'pendant', 'spore-print-color': 'brown', 'population': 'solitary', 'habitat': 'woods'}\n"
     ]
    },
    {
     "data": {
      "application/vnd.jupyter.widget-view+json": {
       "model_id": "b89f32475adc4bcf94b5f9526e62f7ff",
       "version_major": 2,
       "version_minor": 0
      },
      "text/plain": [
       "0it [00:00, ?it/s]"
      ]
     },
     "metadata": {},
     "output_type": "display_data"
    },
    {
     "data": {
      "application/vnd.jupyter.widget-view+json": {
       "model_id": "74afb2a493844a36890fea212d28b2cd",
       "version_major": 2,
       "version_minor": 0
      },
      "text/plain": [
       "0it [00:00, ?it/s]"
      ]
     },
     "metadata": {},
     "output_type": "display_data"
    },
    {
     "name": "stdout",
     "output_type": "stream",
     "text": [
      "{'cap-shape': 'convex', 'cap-surface': 'scaly', 'cap-color': 'gray', 'bruises': 'no', 'odor': 'foul', 'gill-attachment': 'free', 'gill-spacing': 'close', 'gill-size': 'broad', 'gill-color': 'pink', 'stalk-shape': 'enlarging', 'stalk-root': 'bulbous', 'stalk-surface-above-ring': 'silky', 'stalk-surface-below-ring': 'silky', 'stalk-color-above-ring': 'buff', 'stalk-color-below-ring': 'buff', 'veil-color': 'white', 'ring-number': 'one', 'ring-type': 'large', 'spore-print-color': 'chocolate', 'population': 'several', 'habitat': 'paths'}\n"
     ]
    },
    {
     "data": {
      "application/vnd.jupyter.widget-view+json": {
       "model_id": "01f0e079ba094dfe8cb431c18647c673",
       "version_major": 2,
       "version_minor": 0
      },
      "text/plain": [
       "0it [00:00, ?it/s]"
      ]
     },
     "metadata": {},
     "output_type": "display_data"
    },
    {
     "data": {
      "application/vnd.jupyter.widget-view+json": {
       "model_id": "5e8a150acac94a35bc30635238fbf58c",
       "version_major": 2,
       "version_minor": 0
      },
      "text/plain": [
       "0it [00:00, ?it/s]"
      ]
     },
     "metadata": {},
     "output_type": "display_data"
    },
    {
     "name": "stdout",
     "output_type": "stream",
     "text": [
      "{'cap-shape': 'convex', 'cap-surface': 'fibrous', 'cap-color': 'brown', 'bruises': 'bruises', 'odor': 'none', 'gill-attachment': 'free', 'gill-spacing': 'close', 'gill-size': 'broad', 'gill-color': 'purple', 'stalk-shape': 'tapering', 'stalk-root': 'bulbous', 'stalk-surface-above-ring': 'smooth', 'stalk-surface-below-ring': 'smooth', 'stalk-color-above-ring': 'gray', 'stalk-color-below-ring': 'gray', 'veil-color': 'white', 'ring-number': 'one', 'ring-type': 'pendant', 'spore-print-color': 'brown', 'population': 'several', 'habitat': 'woods'}\n"
     ]
    },
    {
     "data": {
      "application/vnd.jupyter.widget-view+json": {
       "model_id": "1db5607b6eb243de904393529bc0e990",
       "version_major": 2,
       "version_minor": 0
      },
      "text/plain": [
       "0it [00:00, ?it/s]"
      ]
     },
     "metadata": {},
     "output_type": "display_data"
    },
    {
     "data": {
      "application/vnd.jupyter.widget-view+json": {
       "model_id": "f19624b54ed145d2a6483a9e16106e88",
       "version_major": 2,
       "version_minor": 0
      },
      "text/plain": [
       "0it [00:00, ?it/s]"
      ]
     },
     "metadata": {},
     "output_type": "display_data"
    },
    {
     "name": "stdout",
     "output_type": "stream",
     "text": [
      "{'cap-shape': 'flat', 'cap-surface': 'scaly', 'cap-color': 'red', 'bruises': 'no', 'odor': 'spicy', 'gill-attachment': 'free', 'gill-spacing': 'close', 'gill-size': 'narrow', 'gill-color': 'buff', 'stalk-shape': 'tapering', 'stalk-root': 'bulbous', 'stalk-surface-above-ring': 'smooth', 'stalk-surface-below-ring': 'silky', 'stalk-color-above-ring': 'pink', 'stalk-color-below-ring': 'white', 'veil-color': 'white', 'ring-number': 'one', 'ring-type': 'evanescent', 'spore-print-color': 'white', 'population': 'several', 'habitat': 'woods'}\n"
     ]
    },
    {
     "data": {
      "application/vnd.jupyter.widget-view+json": {
       "model_id": "ac6877d4cc7d44fcb4d0f1b0ebd83f3c",
       "version_major": 2,
       "version_minor": 0
      },
      "text/plain": [
       "0it [00:00, ?it/s]"
      ]
     },
     "metadata": {},
     "output_type": "display_data"
    },
    {
     "data": {
      "application/vnd.jupyter.widget-view+json": {
       "model_id": "e2471fc4a57340dd8d77f61ca6321865",
       "version_major": 2,
       "version_minor": 0
      },
      "text/plain": [
       "0it [00:00, ?it/s]"
      ]
     },
     "metadata": {},
     "output_type": "display_data"
    },
    {
     "name": "stdout",
     "output_type": "stream",
     "text": [
      "{'cap-shape': 'bell', 'cap-surface': 'smooth', 'cap-color': 'white', 'bruises': 'no', 'odor': 'none', 'gill-attachment': 'free', 'gill-spacing': 'crowded', 'gill-size': 'broad', 'gill-color': 'gray', 'stalk-shape': 'enlarging', 'stalk-root': 'equal', 'stalk-surface-above-ring': 'smooth', 'stalk-surface-below-ring': 'silky', 'stalk-color-above-ring': 'white', 'stalk-color-below-ring': 'white', 'veil-color': 'white', 'ring-number': 'two', 'ring-type': 'pendant', 'spore-print-color': 'white', 'population': 'scattered', 'habitat': 'grasses'}\n"
     ]
    },
    {
     "data": {
      "application/vnd.jupyter.widget-view+json": {
       "model_id": "089f211de3864775ad20512c369fd801",
       "version_major": 2,
       "version_minor": 0
      },
      "text/plain": [
       "0it [00:00, ?it/s]"
      ]
     },
     "metadata": {},
     "output_type": "display_data"
    },
    {
     "data": {
      "application/vnd.jupyter.widget-view+json": {
       "model_id": "98da1e4d0c744f33a064e612ea2c69b5",
       "version_major": 2,
       "version_minor": 0
      },
      "text/plain": [
       "0it [00:00, ?it/s]"
      ]
     },
     "metadata": {},
     "output_type": "display_data"
    },
    {
     "name": "stdout",
     "output_type": "stream",
     "text": [
      "{'cap-shape': 'knobbed', 'cap-surface': 'scaly', 'cap-color': 'pink', 'bruises': 'bruises', 'odor': 'none', 'gill-attachment': 'free', 'gill-spacing': 'close', 'gill-size': 'broad', 'gill-color': 'red', 'stalk-shape': 'enlarging', 'stalk-root': 'bulbous', 'stalk-surface-above-ring': 'smooth', 'stalk-surface-below-ring': 'smooth', 'stalk-color-above-ring': 'red', 'stalk-color-below-ring': 'red', 'veil-color': 'white', 'ring-number': 'two', 'ring-type': 'evanescent', 'spore-print-color': 'white', 'population': 'clustered', 'habitat': 'waste'}\n"
     ]
    },
    {
     "data": {
      "application/vnd.jupyter.widget-view+json": {
       "model_id": "2a7d2e2d43f142c1a8f36d7d7ee4622d",
       "version_major": 2,
       "version_minor": 0
      },
      "text/plain": [
       "0it [00:00, ?it/s]"
      ]
     },
     "metadata": {},
     "output_type": "display_data"
    },
    {
     "data": {
      "application/vnd.jupyter.widget-view+json": {
       "model_id": "2ce918b9fa8d42178181fce6ee29f50a",
       "version_major": 2,
       "version_minor": 0
      },
      "text/plain": [
       "0it [00:00, ?it/s]"
      ]
     },
     "metadata": {},
     "output_type": "display_data"
    },
    {
     "name": "stdout",
     "output_type": "stream",
     "text": [
      "{'cap-shape': 'flat', 'cap-surface': 'scaly', 'cap-color': 'red', 'bruises': 'no', 'odor': 'spicy', 'gill-attachment': 'free', 'gill-spacing': 'close', 'gill-size': 'narrow', 'gill-color': 'buff', 'stalk-shape': 'tapering', 'stalk-root': 'bulbous', 'stalk-surface-above-ring': 'smooth', 'stalk-surface-below-ring': 'smooth', 'stalk-color-above-ring': 'white', 'stalk-color-below-ring': 'pink', 'veil-color': 'white', 'ring-number': 'one', 'ring-type': 'evanescent', 'spore-print-color': 'white', 'population': 'several', 'habitat': 'leaves'}\n"
     ]
    },
    {
     "data": {
      "application/vnd.jupyter.widget-view+json": {
       "model_id": "8945494e05eb4413a2b24e38e95b9146",
       "version_major": 2,
       "version_minor": 0
      },
      "text/plain": [
       "0it [00:00, ?it/s]"
      ]
     },
     "metadata": {},
     "output_type": "display_data"
    },
    {
     "data": {
      "application/vnd.jupyter.widget-view+json": {
       "model_id": "0c439474ed784f82a89887cb860b7006",
       "version_major": 2,
       "version_minor": 0
      },
      "text/plain": [
       "0it [00:00, ?it/s]"
      ]
     },
     "metadata": {},
     "output_type": "display_data"
    },
    {
     "name": "stdout",
     "output_type": "stream",
     "text": [
      "{'cap-shape': 'convex', 'cap-surface': 'fibrous', 'cap-color': 'white', 'bruises': 'no', 'odor': 'none', 'gill-attachment': 'free', 'gill-spacing': 'crowded', 'gill-size': 'broad', 'gill-color': 'brown', 'stalk-shape': 'tapering', 'stalk-root': 'equal', 'stalk-surface-above-ring': 'smooth', 'stalk-surface-below-ring': 'smooth', 'stalk-color-above-ring': 'white', 'stalk-color-below-ring': 'white', 'veil-color': 'white', 'ring-number': 'one', 'ring-type': 'evanescent', 'spore-print-color': 'black', 'population': 'scattered', 'habitat': 'grasses'}\n"
     ]
    },
    {
     "data": {
      "application/vnd.jupyter.widget-view+json": {
       "model_id": "91a938b93d2841c59f871b80bc8f18d4",
       "version_major": 2,
       "version_minor": 0
      },
      "text/plain": [
       "0it [00:00, ?it/s]"
      ]
     },
     "metadata": {},
     "output_type": "display_data"
    },
    {
     "data": {
      "application/vnd.jupyter.widget-view+json": {
       "model_id": "6dcb8731e4ad4a58afbb7effa780c066",
       "version_major": 2,
       "version_minor": 0
      },
      "text/plain": [
       "0it [00:00, ?it/s]"
      ]
     },
     "metadata": {},
     "output_type": "display_data"
    },
    {
     "name": "stdout",
     "output_type": "stream",
     "text": [
      "{'cap-shape': 'convex', 'cap-surface': 'fibrous', 'cap-color': 'red', 'bruises': 'bruises', 'odor': 'none', 'gill-attachment': 'free', 'gill-spacing': 'close', 'gill-size': 'broad', 'gill-color': 'white', 'stalk-shape': 'tapering', 'stalk-root': 'bulbous', 'stalk-surface-above-ring': 'smooth', 'stalk-surface-below-ring': 'smooth', 'stalk-color-above-ring': 'pink', 'stalk-color-below-ring': 'pink', 'veil-color': 'white', 'ring-number': 'one', 'ring-type': 'pendant', 'spore-print-color': 'black', 'population': 'solitary', 'habitat': 'woods'}\n"
     ]
    },
    {
     "data": {
      "application/vnd.jupyter.widget-view+json": {
       "model_id": "bb4def2c6a6e425ab699c6542a87ad60",
       "version_major": 2,
       "version_minor": 0
      },
      "text/plain": [
       "0it [00:00, ?it/s]"
      ]
     },
     "metadata": {},
     "output_type": "display_data"
    },
    {
     "data": {
      "application/vnd.jupyter.widget-view+json": {
       "model_id": "adabf1ddb4bb481fb53b5cad21795a7b",
       "version_major": 2,
       "version_minor": 0
      },
      "text/plain": [
       "0it [00:00, ?it/s]"
      ]
     },
     "metadata": {},
     "output_type": "display_data"
    },
    {
     "name": "stdout",
     "output_type": "stream",
     "text": [
      "{'cap-shape': 'flat', 'cap-surface': 'scaly', 'cap-color': 'gray', 'bruises': 'no', 'odor': 'foul', 'gill-attachment': 'free', 'gill-spacing': 'close', 'gill-size': 'broad', 'gill-color': 'chocolate', 'stalk-shape': 'enlarging', 'stalk-root': 'bulbous', 'stalk-surface-above-ring': 'silky', 'stalk-surface-below-ring': 'silky', 'stalk-color-above-ring': 'brown', 'stalk-color-below-ring': 'brown', 'veil-color': 'white', 'ring-number': 'one', 'ring-type': 'large', 'spore-print-color': 'chocolate', 'population': 'several', 'habitat': 'paths'}\n"
     ]
    },
    {
     "data": {
      "application/vnd.jupyter.widget-view+json": {
       "model_id": "ef5f13082f194586a763a08d0a65288f",
       "version_major": 2,
       "version_minor": 0
      },
      "text/plain": [
       "0it [00:00, ?it/s]"
      ]
     },
     "metadata": {},
     "output_type": "display_data"
    },
    {
     "data": {
      "application/vnd.jupyter.widget-view+json": {
       "model_id": "ac46da2790d742e99833ca7a09d3f39c",
       "version_major": 2,
       "version_minor": 0
      },
      "text/plain": [
       "0it [00:00, ?it/s]"
      ]
     },
     "metadata": {},
     "output_type": "display_data"
    },
    {
     "name": "stdout",
     "output_type": "stream",
     "text": [
      "{'cap-shape': 'convex', 'cap-surface': 'fibrous', 'cap-color': 'gray', 'bruises': 'no', 'odor': 'foul', 'gill-attachment': 'free', 'gill-spacing': 'close', 'gill-size': 'broad', 'gill-color': 'pink', 'stalk-shape': 'enlarging', 'stalk-root': 'bulbous', 'stalk-surface-above-ring': 'silky', 'stalk-surface-below-ring': 'silky', 'stalk-color-above-ring': 'pink', 'stalk-color-below-ring': 'brown', 'veil-color': 'white', 'ring-number': 'one', 'ring-type': 'large', 'spore-print-color': 'chocolate', 'population': 'several', 'habitat': 'paths'}\n"
     ]
    },
    {
     "data": {
      "application/vnd.jupyter.widget-view+json": {
       "model_id": "2ce74bffa8d241cdb8e3d7dd852584ad",
       "version_major": 2,
       "version_minor": 0
      },
      "text/plain": [
       "0it [00:00, ?it/s]"
      ]
     },
     "metadata": {},
     "output_type": "display_data"
    },
    {
     "data": {
      "application/vnd.jupyter.widget-view+json": {
       "model_id": "b43f4505aa6b4a90a790327e14f4762a",
       "version_major": 2,
       "version_minor": 0
      },
      "text/plain": [
       "0it [00:00, ?it/s]"
      ]
     },
     "metadata": {},
     "output_type": "display_data"
    },
    {
     "name": "stdout",
     "output_type": "stream",
     "text": [
      "{'cap-shape': 'flat', 'cap-surface': 'fibrous', 'cap-color': 'gray', 'bruises': 'no', 'odor': 'none', 'gill-attachment': 'free', 'gill-spacing': 'crowded', 'gill-size': 'broad', 'gill-color': 'chocolate', 'stalk-shape': 'tapering', 'stalk-root': 'equal', 'stalk-surface-above-ring': 'smooth', 'stalk-surface-below-ring': 'smooth', 'stalk-color-above-ring': 'white', 'stalk-color-below-ring': 'white', 'veil-color': 'white', 'ring-number': 'one', 'ring-type': 'evanescent', 'spore-print-color': 'brown', 'population': 'scattered', 'habitat': 'grasses'}\n"
     ]
    },
    {
     "data": {
      "application/vnd.jupyter.widget-view+json": {
       "model_id": "3736a78cad7d4873adbddd277f36b5a9",
       "version_major": 2,
       "version_minor": 0
      },
      "text/plain": [
       "0it [00:00, ?it/s]"
      ]
     },
     "metadata": {},
     "output_type": "display_data"
    },
    {
     "data": {
      "application/vnd.jupyter.widget-view+json": {
       "model_id": "a8b4f55cbac84f09a562f7eb6e0be6da",
       "version_major": 2,
       "version_minor": 0
      },
      "text/plain": [
       "0it [00:00, ?it/s]"
      ]
     },
     "metadata": {},
     "output_type": "display_data"
    },
    {
     "name": "stdout",
     "output_type": "stream",
     "text": [
      "{'cap-shape': 'flat', 'cap-surface': 'fibrous', 'cap-color': 'gray', 'bruises': 'no', 'odor': 'foul', 'gill-attachment': 'free', 'gill-spacing': 'close', 'gill-size': 'broad', 'gill-color': 'pink', 'stalk-shape': 'enlarging', 'stalk-root': 'bulbous', 'stalk-surface-above-ring': 'silky', 'stalk-surface-below-ring': 'silky', 'stalk-color-above-ring': 'brown', 'stalk-color-below-ring': 'pink', 'veil-color': 'white', 'ring-number': 'one', 'ring-type': 'large', 'spore-print-color': 'chocolate', 'population': 'solitary', 'habitat': 'paths'}\n"
     ]
    },
    {
     "data": {
      "application/vnd.jupyter.widget-view+json": {
       "model_id": "fa93b86dae91464797e797d7102f1dcc",
       "version_major": 2,
       "version_minor": 0
      },
      "text/plain": [
       "0it [00:00, ?it/s]"
      ]
     },
     "metadata": {},
     "output_type": "display_data"
    },
    {
     "data": {
      "application/vnd.jupyter.widget-view+json": {
       "model_id": "e552e624db47495ba480a62f19d2d21f",
       "version_major": 2,
       "version_minor": 0
      },
      "text/plain": [
       "0it [00:00, ?it/s]"
      ]
     },
     "metadata": {},
     "output_type": "display_data"
    },
    {
     "name": "stdout",
     "output_type": "stream",
     "text": [
      "{'cap-shape': 'convex', 'cap-surface': 'fibrous', 'cap-color': 'yellow', 'bruises': 'no', 'odor': 'foul', 'gill-attachment': 'free', 'gill-spacing': 'close', 'gill-size': 'broad', 'gill-color': 'chocolate', 'stalk-shape': 'enlarging', 'stalk-root': 'bulbous', 'stalk-surface-above-ring': 'silky', 'stalk-surface-below-ring': 'silky', 'stalk-color-above-ring': 'pink', 'stalk-color-below-ring': 'brown', 'veil-color': 'white', 'ring-number': 'one', 'ring-type': 'large', 'spore-print-color': 'chocolate', 'population': 'several', 'habitat': 'grasses'}\n"
     ]
    },
    {
     "data": {
      "application/vnd.jupyter.widget-view+json": {
       "model_id": "2e412926eccc4b3ba656ad250e12b15e",
       "version_major": 2,
       "version_minor": 0
      },
      "text/plain": [
       "0it [00:00, ?it/s]"
      ]
     },
     "metadata": {},
     "output_type": "display_data"
    },
    {
     "data": {
      "application/vnd.jupyter.widget-view+json": {
       "model_id": "773c936d47584bc8a60a428bc25bc0ff",
       "version_major": 2,
       "version_minor": 0
      },
      "text/plain": [
       "0it [00:00, ?it/s]"
      ]
     },
     "metadata": {},
     "output_type": "display_data"
    },
    {
     "name": "stdout",
     "output_type": "stream",
     "text": [
      "{'cap-shape': 'convex', 'cap-surface': 'smooth', 'cap-color': 'gray', 'bruises': 'no', 'odor': 'none', 'gill-attachment': 'free', 'gill-spacing': 'crowded', 'gill-size': 'broad', 'gill-color': 'pink', 'stalk-shape': 'tapering', 'stalk-root': 'equal', 'stalk-surface-above-ring': 'fibrous', 'stalk-surface-below-ring': 'smooth', 'stalk-color-above-ring': 'white', 'stalk-color-below-ring': 'white', 'veil-color': 'white', 'ring-number': 'one', 'ring-type': 'evanescent', 'spore-print-color': 'black', 'population': 'abundant', 'habitat': 'grasses'}\n"
     ]
    },
    {
     "data": {
      "application/vnd.jupyter.widget-view+json": {
       "model_id": "7247a11c2bc64076accf0a509eccb8af",
       "version_major": 2,
       "version_minor": 0
      },
      "text/plain": [
       "0it [00:00, ?it/s]"
      ]
     },
     "metadata": {},
     "output_type": "display_data"
    },
    {
     "data": {
      "application/vnd.jupyter.widget-view+json": {
       "model_id": "bd07f728fb924c9a8e074c4757ded94a",
       "version_major": 2,
       "version_minor": 0
      },
      "text/plain": [
       "0it [00:00, ?it/s]"
      ]
     },
     "metadata": {},
     "output_type": "display_data"
    },
    {
     "name": "stdout",
     "output_type": "stream",
     "text": [
      "{'cap-shape': 'bell', 'cap-surface': 'fibrous', 'cap-color': 'brown', 'bruises': 'no', 'odor': 'none', 'gill-attachment': 'free', 'gill-spacing': 'close', 'gill-size': 'narrow', 'gill-color': 'white', 'stalk-shape': 'enlarging', 'stalk-root': 'bulbous', 'stalk-surface-above-ring': 'silky', 'stalk-surface-below-ring': 'scaly', 'stalk-color-above-ring': 'white', 'stalk-color-below-ring': 'yellow', 'veil-color': 'white', 'ring-number': 'one', 'ring-type': 'evanescent', 'spore-print-color': 'white', 'population': 'several', 'habitat': 'woods'}\n"
     ]
    },
    {
     "data": {
      "application/vnd.jupyter.widget-view+json": {
       "model_id": "0b8d1d8773954e68b1a4e47019c08c82",
       "version_major": 2,
       "version_minor": 0
      },
      "text/plain": [
       "0it [00:00, ?it/s]"
      ]
     },
     "metadata": {},
     "output_type": "display_data"
    },
    {
     "data": {
      "application/vnd.jupyter.widget-view+json": {
       "model_id": "3dafba906d9a4c6481693f601b03bc64",
       "version_major": 2,
       "version_minor": 0
      },
      "text/plain": [
       "0it [00:00, ?it/s]"
      ]
     },
     "metadata": {},
     "output_type": "display_data"
    },
    {
     "name": "stdout",
     "output_type": "stream",
     "text": [
      "{'cap-shape': 'flat', 'cap-surface': 'scaly', 'cap-color': 'brown', 'bruises': 'no', 'odor': 'foul', 'gill-attachment': 'free', 'gill-spacing': 'close', 'gill-size': 'narrow', 'gill-color': 'buff', 'stalk-shape': 'tapering', 'stalk-root': 'bulbous', 'stalk-surface-above-ring': 'smooth', 'stalk-surface-below-ring': 'smooth', 'stalk-color-above-ring': 'pink', 'stalk-color-below-ring': 'white', 'veil-color': 'white', 'ring-number': 'one', 'ring-type': 'evanescent', 'spore-print-color': 'white', 'population': 'several', 'habitat': 'paths'}\n"
     ]
    },
    {
     "data": {
      "application/vnd.jupyter.widget-view+json": {
       "model_id": "ecc0c750fb1d475b942c9923ca9a094e",
       "version_major": 2,
       "version_minor": 0
      },
      "text/plain": [
       "0it [00:00, ?it/s]"
      ]
     },
     "metadata": {},
     "output_type": "display_data"
    },
    {
     "data": {
      "application/vnd.jupyter.widget-view+json": {
       "model_id": "3f51e2f1ac864af0844c098c6ed20c28",
       "version_major": 2,
       "version_minor": 0
      },
      "text/plain": [
       "0it [00:00, ?it/s]"
      ]
     },
     "metadata": {},
     "output_type": "display_data"
    },
    {
     "name": "stdout",
     "output_type": "stream",
     "text": [
      "{'cap-shape': 'convex', 'cap-surface': 'scaly', 'cap-color': 'brown', 'bruises': 'no', 'odor': 'foul', 'gill-attachment': 'free', 'gill-spacing': 'close', 'gill-size': 'narrow', 'gill-color': 'buff', 'stalk-shape': 'tapering', 'stalk-root': 'bulbous', 'stalk-surface-above-ring': 'silky', 'stalk-surface-below-ring': 'silky', 'stalk-color-above-ring': 'pink', 'stalk-color-below-ring': 'pink', 'veil-color': 'white', 'ring-number': 'one', 'ring-type': 'evanescent', 'spore-print-color': 'white', 'population': 'several', 'habitat': 'paths'}\n"
     ]
    },
    {
     "data": {
      "application/vnd.jupyter.widget-view+json": {
       "model_id": "969bc9d6f6dc47319ac3ad060ecbf8a6",
       "version_major": 2,
       "version_minor": 0
      },
      "text/plain": [
       "0it [00:00, ?it/s]"
      ]
     },
     "metadata": {},
     "output_type": "display_data"
    },
    {
     "data": {
      "application/vnd.jupyter.widget-view+json": {
       "model_id": "beb5c14913f94ebea7252cb9e3b62518",
       "version_major": 2,
       "version_minor": 0
      },
      "text/plain": [
       "0it [00:00, ?it/s]"
      ]
     },
     "metadata": {},
     "output_type": "display_data"
    },
    {
     "name": "stdout",
     "output_type": "stream",
     "text": [
      "{'cap-shape': 'flat', 'cap-surface': 'scaly', 'cap-color': 'yellow', 'bruises': 'no', 'odor': 'foul', 'gill-attachment': 'free', 'gill-spacing': 'close', 'gill-size': 'broad', 'gill-color': 'gray', 'stalk-shape': 'enlarging', 'stalk-root': 'bulbous', 'stalk-surface-above-ring': 'silky', 'stalk-surface-below-ring': 'silky', 'stalk-color-above-ring': 'buff', 'stalk-color-below-ring': 'buff', 'veil-color': 'white', 'ring-number': 'one', 'ring-type': 'large', 'spore-print-color': 'chocolate', 'population': 'several', 'habitat': 'paths'}\n"
     ]
    },
    {
     "data": {
      "application/vnd.jupyter.widget-view+json": {
       "model_id": "0106f0120cf441ceaa7d59c8eb59f0e8",
       "version_major": 2,
       "version_minor": 0
      },
      "text/plain": [
       "0it [00:00, ?it/s]"
      ]
     },
     "metadata": {},
     "output_type": "display_data"
    },
    {
     "data": {
      "application/vnd.jupyter.widget-view+json": {
       "model_id": "1f6bd15548614321a8cdb3c178dd2b19",
       "version_major": 2,
       "version_minor": 0
      },
      "text/plain": [
       "0it [00:00, ?it/s]"
      ]
     },
     "metadata": {},
     "output_type": "display_data"
    },
    {
     "name": "stdout",
     "output_type": "stream",
     "text": [
      "{'cap-shape': 'convex', 'cap-surface': 'smooth', 'cap-color': 'brown', 'bruises': 'no', 'odor': 'foul', 'gill-attachment': 'free', 'gill-spacing': 'close', 'gill-size': 'narrow', 'gill-color': 'buff', 'stalk-shape': 'tapering', 'stalk-root': 'bulbous', 'stalk-surface-above-ring': 'silky', 'stalk-surface-below-ring': 'smooth', 'stalk-color-above-ring': 'white', 'stalk-color-below-ring': 'pink', 'veil-color': 'white', 'ring-number': 'one', 'ring-type': 'evanescent', 'spore-print-color': 'white', 'population': 'several', 'habitat': 'woods'}\n"
     ]
    },
    {
     "data": {
      "application/vnd.jupyter.widget-view+json": {
       "model_id": "75505716a64646ac99e0cc71bbaeaa03",
       "version_major": 2,
       "version_minor": 0
      },
      "text/plain": [
       "0it [00:00, ?it/s]"
      ]
     },
     "metadata": {},
     "output_type": "display_data"
    },
    {
     "data": {
      "application/vnd.jupyter.widget-view+json": {
       "model_id": "3f399bdcaf9943f8a5fc7390803c55e0",
       "version_major": 2,
       "version_minor": 0
      },
      "text/plain": [
       "0it [00:00, ?it/s]"
      ]
     },
     "metadata": {},
     "output_type": "display_data"
    },
    {
     "name": "stdout",
     "output_type": "stream",
     "text": [
      "{'cap-shape': 'flat', 'cap-surface': 'scaly', 'cap-color': 'red', 'bruises': 'no', 'odor': 'foul', 'gill-attachment': 'free', 'gill-spacing': 'close', 'gill-size': 'narrow', 'gill-color': 'buff', 'stalk-shape': 'tapering', 'stalk-root': 'bulbous', 'stalk-surface-above-ring': 'smooth', 'stalk-surface-below-ring': 'smooth', 'stalk-color-above-ring': 'white', 'stalk-color-below-ring': 'white', 'veil-color': 'white', 'ring-number': 'one', 'ring-type': 'evanescent', 'spore-print-color': 'white', 'population': 'several', 'habitat': 'paths'}\n"
     ]
    },
    {
     "data": {
      "application/vnd.jupyter.widget-view+json": {
       "model_id": "dddfc931ae2049208b427ff846188cef",
       "version_major": 2,
       "version_minor": 0
      },
      "text/plain": [
       "0it [00:00, ?it/s]"
      ]
     },
     "metadata": {},
     "output_type": "display_data"
    },
    {
     "data": {
      "application/vnd.jupyter.widget-view+json": {
       "model_id": "7d50023a4bb24da78fed1a586ca6a2bd",
       "version_major": 2,
       "version_minor": 0
      },
      "text/plain": [
       "0it [00:00, ?it/s]"
      ]
     },
     "metadata": {},
     "output_type": "display_data"
    },
    {
     "name": "stdout",
     "output_type": "stream",
     "text": [
      "{'cap-shape': 'convex', 'cap-surface': 'smooth', 'cap-color': 'white', 'bruises': 'bruises', 'odor': 'anise', 'gill-attachment': 'free', 'gill-spacing': 'crowded', 'gill-size': 'narrow', 'gill-color': 'white', 'stalk-shape': 'tapering', 'stalk-root': 'bulbous', 'stalk-surface-above-ring': 'smooth', 'stalk-surface-below-ring': 'smooth', 'stalk-color-above-ring': 'white', 'stalk-color-below-ring': 'white', 'veil-color': 'white', 'ring-number': 'one', 'ring-type': 'pendant', 'spore-print-color': 'brown', 'population': 'several', 'habitat': 'woods'}\n"
     ]
    },
    {
     "data": {
      "application/vnd.jupyter.widget-view+json": {
       "model_id": "59edd162d8ae4f9b8593d0271d7e8a0b",
       "version_major": 2,
       "version_minor": 0
      },
      "text/plain": [
       "0it [00:00, ?it/s]"
      ]
     },
     "metadata": {},
     "output_type": "display_data"
    },
    {
     "data": {
      "application/vnd.jupyter.widget-view+json": {
       "model_id": "dbd3dcad440f41c999d7a978f8a32e74",
       "version_major": 2,
       "version_minor": 0
      },
      "text/plain": [
       "0it [00:00, ?it/s]"
      ]
     },
     "metadata": {},
     "output_type": "display_data"
    },
    {
     "name": "stdout",
     "output_type": "stream",
     "text": [
      "{'cap-shape': 'convex', 'cap-surface': 'scaly', 'cap-color': 'yellow', 'bruises': 'no', 'odor': 'foul', 'gill-attachment': 'free', 'gill-spacing': 'close', 'gill-size': 'broad', 'gill-color': 'gray', 'stalk-shape': 'enlarging', 'stalk-root': 'bulbous', 'stalk-surface-above-ring': 'silky', 'stalk-surface-below-ring': 'silky', 'stalk-color-above-ring': 'buff', 'stalk-color-below-ring': 'buff', 'veil-color': 'white', 'ring-number': 'one', 'ring-type': 'large', 'spore-print-color': 'chocolate', 'population': 'several', 'habitat': 'paths'}\n"
     ]
    },
    {
     "data": {
      "application/vnd.jupyter.widget-view+json": {
       "model_id": "a75013f5ba024881a142008bddc9a15b",
       "version_major": 2,
       "version_minor": 0
      },
      "text/plain": [
       "0it [00:00, ?it/s]"
      ]
     },
     "metadata": {},
     "output_type": "display_data"
    },
    {
     "data": {
      "application/vnd.jupyter.widget-view+json": {
       "model_id": "38d8c1003d544a49ab1d07f1e71b26d4",
       "version_major": 2,
       "version_minor": 0
      },
      "text/plain": [
       "0it [00:00, ?it/s]"
      ]
     },
     "metadata": {},
     "output_type": "display_data"
    },
    {
     "name": "stdout",
     "output_type": "stream",
     "text": [
      "{'cap-shape': 'flat', 'cap-surface': 'scaly', 'cap-color': 'red', 'bruises': 'bruises', 'odor': 'none', 'gill-attachment': 'free', 'gill-spacing': 'close', 'gill-size': 'broad', 'gill-color': 'brown', 'stalk-shape': 'tapering', 'stalk-root': 'bulbous', 'stalk-surface-above-ring': 'smooth', 'stalk-surface-below-ring': 'smooth', 'stalk-color-above-ring': 'white', 'stalk-color-below-ring': 'white', 'veil-color': 'white', 'ring-number': 'one', 'ring-type': 'pendant', 'spore-print-color': 'brown', 'population': 'solitary', 'habitat': 'woods'}\n"
     ]
    },
    {
     "data": {
      "application/vnd.jupyter.widget-view+json": {
       "model_id": "4d9d63d0783c48e49bdf3ad0b59f1d90",
       "version_major": 2,
       "version_minor": 0
      },
      "text/plain": [
       "0it [00:00, ?it/s]"
      ]
     },
     "metadata": {},
     "output_type": "display_data"
    },
    {
     "data": {
      "application/vnd.jupyter.widget-view+json": {
       "model_id": "5749668c464344e4a669687274095442",
       "version_major": 2,
       "version_minor": 0
      },
      "text/plain": [
       "0it [00:00, ?it/s]"
      ]
     },
     "metadata": {},
     "output_type": "display_data"
    },
    {
     "name": "stdout",
     "output_type": "stream",
     "text": [
      "{'cap-shape': 'flat', 'cap-surface': 'smooth', 'cap-color': 'white', 'bruises': 'no', 'odor': 'none', 'gill-attachment': 'free', 'gill-spacing': 'crowded', 'gill-size': 'broad', 'gill-color': 'pink', 'stalk-shape': 'tapering', 'stalk-root': 'equal', 'stalk-surface-above-ring': 'fibrous', 'stalk-surface-below-ring': 'fibrous', 'stalk-color-above-ring': 'white', 'stalk-color-below-ring': 'white', 'veil-color': 'white', 'ring-number': 'one', 'ring-type': 'evanescent', 'spore-print-color': 'black', 'population': 'abundant', 'habitat': 'grasses'}\n"
     ]
    },
    {
     "data": {
      "application/vnd.jupyter.widget-view+json": {
       "model_id": "4473a97f45c04cd88cc9694808abc83d",
       "version_major": 2,
       "version_minor": 0
      },
      "text/plain": [
       "0it [00:00, ?it/s]"
      ]
     },
     "metadata": {},
     "output_type": "display_data"
    },
    {
     "data": {
      "application/vnd.jupyter.widget-view+json": {
       "model_id": "3798aa6ef0c34e2595188f7c03de8cb3",
       "version_major": 2,
       "version_minor": 0
      },
      "text/plain": [
       "0it [00:00, ?it/s]"
      ]
     },
     "metadata": {},
     "output_type": "display_data"
    },
    {
     "name": "stdout",
     "output_type": "stream",
     "text": [
      "{'cap-shape': 'flat', 'cap-surface': 'fibrous', 'cap-color': 'brown', 'bruises': 'bruises', 'odor': 'none', 'gill-attachment': 'free', 'gill-spacing': 'close', 'gill-size': 'broad', 'gill-color': 'brown', 'stalk-shape': 'tapering', 'stalk-root': 'bulbous', 'stalk-surface-above-ring': 'smooth', 'stalk-surface-below-ring': 'smooth', 'stalk-color-above-ring': 'white', 'stalk-color-below-ring': 'gray', 'veil-color': 'white', 'ring-number': 'one', 'ring-type': 'pendant', 'spore-print-color': 'brown', 'population': 'solitary', 'habitat': 'woods'}\n"
     ]
    },
    {
     "data": {
      "application/vnd.jupyter.widget-view+json": {
       "model_id": "1eed2f6d52a64d2191338a882fe9c760",
       "version_major": 2,
       "version_minor": 0
      },
      "text/plain": [
       "0it [00:00, ?it/s]"
      ]
     },
     "metadata": {},
     "output_type": "display_data"
    },
    {
     "data": {
      "application/vnd.jupyter.widget-view+json": {
       "model_id": "3fb5b58a76db477188378f7532f2ae60",
       "version_major": 2,
       "version_minor": 0
      },
      "text/plain": [
       "0it [00:00, ?it/s]"
      ]
     },
     "metadata": {},
     "output_type": "display_data"
    },
    {
     "name": "stdout",
     "output_type": "stream",
     "text": [
      "{'cap-shape': 'convex', 'cap-surface': 'scaly', 'cap-color': 'yellow', 'bruises': 'bruises', 'odor': 'anise', 'gill-attachment': 'free', 'gill-spacing': 'close', 'gill-size': 'broad', 'gill-color': 'pink', 'stalk-shape': 'enlarging', 'stalk-root': 'rooted', 'stalk-surface-above-ring': 'smooth', 'stalk-surface-below-ring': 'scaly', 'stalk-color-above-ring': 'white', 'stalk-color-below-ring': 'white', 'veil-color': 'white', 'ring-number': 'one', 'ring-type': 'pendant', 'spore-print-color': 'black', 'population': 'solitary', 'habitat': 'paths'}\n"
     ]
    },
    {
     "data": {
      "application/vnd.jupyter.widget-view+json": {
       "model_id": "a2dd3855683040a99f4c5ec9a9b5a127",
       "version_major": 2,
       "version_minor": 0
      },
      "text/plain": [
       "0it [00:00, ?it/s]"
      ]
     },
     "metadata": {},
     "output_type": "display_data"
    },
    {
     "data": {
      "application/vnd.jupyter.widget-view+json": {
       "model_id": "b8b84c3a066043189e1b827395762628",
       "version_major": 2,
       "version_minor": 0
      },
      "text/plain": [
       "0it [00:00, ?it/s]"
      ]
     },
     "metadata": {},
     "output_type": "display_data"
    },
    {
     "name": "stdout",
     "output_type": "stream",
     "text": [
      "{'cap-shape': 'convex', 'cap-surface': 'fibrous', 'cap-color': 'gray', 'bruises': 'no', 'odor': 'creosote', 'gill-attachment': 'free', 'gill-spacing': 'close', 'gill-size': 'narrow', 'gill-color': 'purple', 'stalk-shape': 'enlarging', 'stalk-root': 'bulbous', 'stalk-surface-above-ring': 'smooth', 'stalk-surface-below-ring': 'smooth', 'stalk-color-above-ring': 'white', 'stalk-color-below-ring': 'white', 'veil-color': 'white', 'ring-number': 'one', 'ring-type': 'pendant', 'spore-print-color': 'brown', 'population': 'scattered', 'habitat': 'woods'}\n"
     ]
    },
    {
     "data": {
      "application/vnd.jupyter.widget-view+json": {
       "model_id": "d0c36ba5aee5476e9bb93839a4c5da6e",
       "version_major": 2,
       "version_minor": 0
      },
      "text/plain": [
       "0it [00:00, ?it/s]"
      ]
     },
     "metadata": {},
     "output_type": "display_data"
    },
    {
     "data": {
      "application/vnd.jupyter.widget-view+json": {
       "model_id": "2e3a66fa22844778b6d9eb1e4e00041d",
       "version_major": 2,
       "version_minor": 0
      },
      "text/plain": [
       "0it [00:00, ?it/s]"
      ]
     },
     "metadata": {},
     "output_type": "display_data"
    },
    {
     "name": "stdout",
     "output_type": "stream",
     "text": [
      "{'cap-shape': 'convex', 'cap-surface': 'scaly', 'cap-color': 'red', 'bruises': 'no', 'odor': 'fishy', 'gill-attachment': 'free', 'gill-spacing': 'close', 'gill-size': 'narrow', 'gill-color': 'buff', 'stalk-shape': 'tapering', 'stalk-root': 'bulbous', 'stalk-surface-above-ring': 'smooth', 'stalk-surface-below-ring': 'silky', 'stalk-color-above-ring': 'white', 'stalk-color-below-ring': 'white', 'veil-color': 'white', 'ring-number': 'one', 'ring-type': 'evanescent', 'spore-print-color': 'white', 'population': 'several', 'habitat': 'woods'}\n"
     ]
    },
    {
     "data": {
      "application/vnd.jupyter.widget-view+json": {
       "model_id": "8cf963a3cdd944b483fb0ea48d4b514a",
       "version_major": 2,
       "version_minor": 0
      },
      "text/plain": [
       "0it [00:00, ?it/s]"
      ]
     },
     "metadata": {},
     "output_type": "display_data"
    },
    {
     "data": {
      "application/vnd.jupyter.widget-view+json": {
       "model_id": "60c4ac0cea564c328d74ddf9cf17f9e7",
       "version_major": 2,
       "version_minor": 0
      },
      "text/plain": [
       "0it [00:00, ?it/s]"
      ]
     },
     "metadata": {},
     "output_type": "display_data"
    },
    {
     "name": "stdout",
     "output_type": "stream",
     "text": [
      "{'cap-shape': 'flat', 'cap-surface': 'fibrous', 'cap-color': 'yellow', 'bruises': 'no', 'odor': 'foul', 'gill-attachment': 'free', 'gill-spacing': 'close', 'gill-size': 'broad', 'gill-color': 'pink', 'stalk-shape': 'enlarging', 'stalk-root': 'bulbous', 'stalk-surface-above-ring': 'silky', 'stalk-surface-below-ring': 'silky', 'stalk-color-above-ring': 'buff', 'stalk-color-below-ring': 'brown', 'veil-color': 'white', 'ring-number': 'one', 'ring-type': 'large', 'spore-print-color': 'chocolate', 'population': 'solitary', 'habitat': 'paths'}\n"
     ]
    },
    {
     "data": {
      "application/vnd.jupyter.widget-view+json": {
       "model_id": "7212a600a9974bad9fbc32bb95d30c15",
       "version_major": 2,
       "version_minor": 0
      },
      "text/plain": [
       "0it [00:00, ?it/s]"
      ]
     },
     "metadata": {},
     "output_type": "display_data"
    },
    {
     "data": {
      "application/vnd.jupyter.widget-view+json": {
       "model_id": "67869798f66c4781b50de565a83b1b4e",
       "version_major": 2,
       "version_minor": 0
      },
      "text/plain": [
       "0it [00:00, ?it/s]"
      ]
     },
     "metadata": {},
     "output_type": "display_data"
    },
    {
     "name": "stdout",
     "output_type": "stream",
     "text": [
      "{'cap-shape': 'flat', 'cap-surface': 'smooth', 'cap-color': 'brown', 'bruises': 'no', 'odor': 'none', 'gill-attachment': 'free', 'gill-spacing': 'crowded', 'gill-size': 'broad', 'gill-color': 'chocolate', 'stalk-shape': 'tapering', 'stalk-root': 'equal', 'stalk-surface-above-ring': 'smooth', 'stalk-surface-below-ring': 'smooth', 'stalk-color-above-ring': 'white', 'stalk-color-below-ring': 'white', 'veil-color': 'white', 'ring-number': 'one', 'ring-type': 'evanescent', 'spore-print-color': 'black', 'population': 'abundant', 'habitat': 'grasses'}\n"
     ]
    },
    {
     "data": {
      "application/vnd.jupyter.widget-view+json": {
       "model_id": "2221cf4116784668a1a4933f533d4307",
       "version_major": 2,
       "version_minor": 0
      },
      "text/plain": [
       "0it [00:00, ?it/s]"
      ]
     },
     "metadata": {},
     "output_type": "display_data"
    },
    {
     "data": {
      "application/vnd.jupyter.widget-view+json": {
       "model_id": "8efc1b34c2e04132984c0ac63c4f6821",
       "version_major": 2,
       "version_minor": 0
      },
      "text/plain": [
       "0it [00:00, ?it/s]"
      ]
     },
     "metadata": {},
     "output_type": "display_data"
    },
    {
     "name": "stdout",
     "output_type": "stream",
     "text": [
      "{'cap-shape': 'convex', 'cap-surface': 'fibrous', 'cap-color': 'gray', 'bruises': 'no', 'odor': 'foul', 'gill-attachment': 'free', 'gill-spacing': 'close', 'gill-size': 'broad', 'gill-color': 'gray', 'stalk-shape': 'enlarging', 'stalk-root': 'bulbous', 'stalk-surface-above-ring': 'silky', 'stalk-surface-below-ring': 'silky', 'stalk-color-above-ring': 'buff', 'stalk-color-below-ring': 'buff', 'veil-color': 'white', 'ring-number': 'one', 'ring-type': 'large', 'spore-print-color': 'chocolate', 'population': 'several', 'habitat': 'paths'}\n"
     ]
    },
    {
     "data": {
      "application/vnd.jupyter.widget-view+json": {
       "model_id": "b4a3481907604a88a48f685d70bca066",
       "version_major": 2,
       "version_minor": 0
      },
      "text/plain": [
       "0it [00:00, ?it/s]"
      ]
     },
     "metadata": {},
     "output_type": "display_data"
    },
    {
     "data": {
      "application/vnd.jupyter.widget-view+json": {
       "model_id": "24e3af911df6408b8984e3a741e26272",
       "version_major": 2,
       "version_minor": 0
      },
      "text/plain": [
       "0it [00:00, ?it/s]"
      ]
     },
     "metadata": {},
     "output_type": "display_data"
    },
    {
     "name": "stdout",
     "output_type": "stream",
     "text": [
      "{'cap-shape': 'convex', 'cap-surface': 'fibrous', 'cap-color': 'gray', 'bruises': 'bruises', 'odor': 'none', 'gill-attachment': 'free', 'gill-spacing': 'close', 'gill-size': 'broad', 'gill-color': 'purple', 'stalk-shape': 'tapering', 'stalk-root': 'bulbous', 'stalk-surface-above-ring': 'smooth', 'stalk-surface-below-ring': 'smooth', 'stalk-color-above-ring': 'white', 'stalk-color-below-ring': 'pink', 'veil-color': 'white', 'ring-number': 'one', 'ring-type': 'pendant', 'spore-print-color': 'black', 'population': 'several', 'habitat': 'woods'}\n"
     ]
    },
    {
     "data": {
      "application/vnd.jupyter.widget-view+json": {
       "model_id": "d543b7c73d744aa8b456452df5ae5922",
       "version_major": 2,
       "version_minor": 0
      },
      "text/plain": [
       "0it [00:00, ?it/s]"
      ]
     },
     "metadata": {},
     "output_type": "display_data"
    },
    {
     "data": {
      "application/vnd.jupyter.widget-view+json": {
       "model_id": "3c4b50df11e74ea78fbeaea9c782c6a3",
       "version_major": 2,
       "version_minor": 0
      },
      "text/plain": [
       "0it [00:00, ?it/s]"
      ]
     },
     "metadata": {},
     "output_type": "display_data"
    },
    {
     "name": "stdout",
     "output_type": "stream",
     "text": [
      "{'cap-shape': 'bell', 'cap-surface': 'smooth', 'cap-color': 'white', 'bruises': 'bruises', 'odor': 'anise', 'gill-attachment': 'free', 'gill-spacing': 'close', 'gill-size': 'broad', 'gill-color': 'gray', 'stalk-shape': 'enlarging', 'stalk-root': 'club', 'stalk-surface-above-ring': 'smooth', 'stalk-surface-below-ring': 'smooth', 'stalk-color-above-ring': 'white', 'stalk-color-below-ring': 'white', 'veil-color': 'white', 'ring-number': 'one', 'ring-type': 'pendant', 'spore-print-color': 'black', 'population': 'scattered', 'habitat': 'grasses'}\n"
     ]
    },
    {
     "data": {
      "application/vnd.jupyter.widget-view+json": {
       "model_id": "fd3b9223081b4ca2ac9599b714b3fd4d",
       "version_major": 2,
       "version_minor": 0
      },
      "text/plain": [
       "0it [00:00, ?it/s]"
      ]
     },
     "metadata": {},
     "output_type": "display_data"
    },
    {
     "data": {
      "application/vnd.jupyter.widget-view+json": {
       "model_id": "af54f0c98c314c25828c321f4731b961",
       "version_major": 2,
       "version_minor": 0
      },
      "text/plain": [
       "0it [00:00, ?it/s]"
      ]
     },
     "metadata": {},
     "output_type": "display_data"
    },
    {
     "name": "stdout",
     "output_type": "stream",
     "text": [
      "{'cap-shape': 'bell', 'cap-surface': 'smooth', 'cap-color': 'brown', 'bruises': 'no', 'odor': 'none', 'gill-attachment': 'free', 'gill-spacing': 'close', 'gill-size': 'broad', 'gill-color': 'white', 'stalk-shape': 'enlarging', 'stalk-root': 'bulbous', 'stalk-surface-above-ring': 'scaly', 'stalk-surface-below-ring': 'scaly', 'stalk-color-above-ring': 'brown', 'stalk-color-below-ring': 'brown', 'veil-color': 'white', 'ring-number': 'two', 'ring-type': 'pendant', 'spore-print-color': 'white', 'population': 'solitary', 'habitat': 'paths'}\n"
     ]
    },
    {
     "data": {
      "application/vnd.jupyter.widget-view+json": {
       "model_id": "ba98b26b37b44f45a215aa7b0a7e7f41",
       "version_major": 2,
       "version_minor": 0
      },
      "text/plain": [
       "0it [00:00, ?it/s]"
      ]
     },
     "metadata": {},
     "output_type": "display_data"
    },
    {
     "data": {
      "application/vnd.jupyter.widget-view+json": {
       "model_id": "200a71283c184be0bee4f6095eceb6bc",
       "version_major": 2,
       "version_minor": 0
      },
      "text/plain": [
       "0it [00:00, ?it/s]"
      ]
     },
     "metadata": {},
     "output_type": "display_data"
    },
    {
     "name": "stdout",
     "output_type": "stream",
     "text": [
      "{'cap-shape': 'flat', 'cap-surface': 'fibrous', 'cap-color': 'brown', 'bruises': 'bruises', 'odor': 'none', 'gill-attachment': 'free', 'gill-spacing': 'close', 'gill-size': 'broad', 'gill-color': 'white', 'stalk-shape': 'tapering', 'stalk-root': 'bulbous', 'stalk-surface-above-ring': 'smooth', 'stalk-surface-below-ring': 'smooth', 'stalk-color-above-ring': 'white', 'stalk-color-below-ring': 'pink', 'veil-color': 'white', 'ring-number': 'one', 'ring-type': 'pendant', 'spore-print-color': 'black', 'population': 'solitary', 'habitat': 'woods'}\n"
     ]
    },
    {
     "data": {
      "application/vnd.jupyter.widget-view+json": {
       "model_id": "06ae2ddf8f8e45f9859e65f5e7a4e23a",
       "version_major": 2,
       "version_minor": 0
      },
      "text/plain": [
       "0it [00:00, ?it/s]"
      ]
     },
     "metadata": {},
     "output_type": "display_data"
    },
    {
     "data": {
      "application/vnd.jupyter.widget-view+json": {
       "model_id": "f5e2198bc9d64a8a82933e082b0d55b1",
       "version_major": 2,
       "version_minor": 0
      },
      "text/plain": [
       "0it [00:00, ?it/s]"
      ]
     },
     "metadata": {},
     "output_type": "display_data"
    },
    {
     "name": "stdout",
     "output_type": "stream",
     "text": [
      "{'cap-shape': 'flat', 'cap-surface': 'scaly', 'cap-color': 'gray', 'bruises': 'no', 'odor': 'foul', 'gill-attachment': 'free', 'gill-spacing': 'close', 'gill-size': 'broad', 'gill-color': 'chocolate', 'stalk-shape': 'enlarging', 'stalk-root': 'bulbous', 'stalk-surface-above-ring': 'silky', 'stalk-surface-below-ring': 'silky', 'stalk-color-above-ring': 'buff', 'stalk-color-below-ring': 'brown', 'veil-color': 'white', 'ring-number': 'one', 'ring-type': 'large', 'spore-print-color': 'chocolate', 'population': 'several', 'habitat': 'paths'}\n"
     ]
    },
    {
     "data": {
      "application/vnd.jupyter.widget-view+json": {
       "model_id": "ac47d506398944f98006fa2261b12d45",
       "version_major": 2,
       "version_minor": 0
      },
      "text/plain": [
       "0it [00:00, ?it/s]"
      ]
     },
     "metadata": {},
     "output_type": "display_data"
    },
    {
     "data": {
      "application/vnd.jupyter.widget-view+json": {
       "model_id": "dd0a9ab4a0da4873b7af400e04de3622",
       "version_major": 2,
       "version_minor": 0
      },
      "text/plain": [
       "0it [00:00, ?it/s]"
      ]
     },
     "metadata": {},
     "output_type": "display_data"
    },
    {
     "name": "stdout",
     "output_type": "stream",
     "text": [
      "{'cap-shape': 'convex', 'cap-surface': 'scaly', 'cap-color': 'gray', 'bruises': 'bruises', 'odor': 'none', 'gill-attachment': 'free', 'gill-spacing': 'close', 'gill-size': 'broad', 'gill-color': 'pink', 'stalk-shape': 'tapering', 'stalk-root': 'bulbous', 'stalk-surface-above-ring': 'smooth', 'stalk-surface-below-ring': 'smooth', 'stalk-color-above-ring': 'gray', 'stalk-color-below-ring': 'white', 'veil-color': 'white', 'ring-number': 'one', 'ring-type': 'pendant', 'spore-print-color': 'brown', 'population': 'several', 'habitat': 'woods'}\n"
     ]
    },
    {
     "data": {
      "application/vnd.jupyter.widget-view+json": {
       "model_id": "b7f952413e1f4357850fef4ab787d717",
       "version_major": 2,
       "version_minor": 0
      },
      "text/plain": [
       "0it [00:00, ?it/s]"
      ]
     },
     "metadata": {},
     "output_type": "display_data"
    },
    {
     "data": {
      "application/vnd.jupyter.widget-view+json": {
       "model_id": "f2abe64c66014928aa3a27aa123235ec",
       "version_major": 2,
       "version_minor": 0
      },
      "text/plain": [
       "0it [00:00, ?it/s]"
      ]
     },
     "metadata": {},
     "output_type": "display_data"
    },
    {
     "name": "stdout",
     "output_type": "stream",
     "text": [
      "{'cap-shape': 'flat', 'cap-surface': 'scaly', 'cap-color': 'brown', 'bruises': 'no', 'odor': 'fishy', 'gill-attachment': 'free', 'gill-spacing': 'close', 'gill-size': 'narrow', 'gill-color': 'buff', 'stalk-shape': 'tapering', 'stalk-root': 'bulbous', 'stalk-surface-above-ring': 'smooth', 'stalk-surface-below-ring': 'smooth', 'stalk-color-above-ring': 'white', 'stalk-color-below-ring': 'pink', 'veil-color': 'white', 'ring-number': 'one', 'ring-type': 'evanescent', 'spore-print-color': 'white', 'population': 'several', 'habitat': 'woods'}\n"
     ]
    },
    {
     "data": {
      "application/vnd.jupyter.widget-view+json": {
       "model_id": "58c5a3a15f3549069485eab5f1106dce",
       "version_major": 2,
       "version_minor": 0
      },
      "text/plain": [
       "0it [00:00, ?it/s]"
      ]
     },
     "metadata": {},
     "output_type": "display_data"
    },
    {
     "data": {
      "application/vnd.jupyter.widget-view+json": {
       "model_id": "901a254a48e64d749a22c7fa2322b42f",
       "version_major": 2,
       "version_minor": 0
      },
      "text/plain": [
       "0it [00:00, ?it/s]"
      ]
     },
     "metadata": {},
     "output_type": "display_data"
    },
    {
     "name": "stdout",
     "output_type": "stream",
     "text": [
      "{'cap-shape': 'convex', 'cap-surface': 'scaly', 'cap-color': 'brown', 'bruises': 'bruises', 'odor': 'pungent', 'gill-attachment': 'free', 'gill-spacing': 'close', 'gill-size': 'narrow', 'gill-color': 'white', 'stalk-shape': 'enlarging', 'stalk-root': 'equal', 'stalk-surface-above-ring': 'smooth', 'stalk-surface-below-ring': 'smooth', 'stalk-color-above-ring': 'white', 'stalk-color-below-ring': 'white', 'veil-color': 'white', 'ring-number': 'one', 'ring-type': 'pendant', 'spore-print-color': 'black', 'population': 'several', 'habitat': 'urban'}\n"
     ]
    },
    {
     "data": {
      "application/vnd.jupyter.widget-view+json": {
       "model_id": "4685d2f861ae478f80f8b2877d1af524",
       "version_major": 2,
       "version_minor": 0
      },
      "text/plain": [
       "0it [00:00, ?it/s]"
      ]
     },
     "metadata": {},
     "output_type": "display_data"
    },
    {
     "data": {
      "application/vnd.jupyter.widget-view+json": {
       "model_id": "adad6e6c18e64f7eb0b290b73b908ba6",
       "version_major": 2,
       "version_minor": 0
      },
      "text/plain": [
       "0it [00:00, ?it/s]"
      ]
     },
     "metadata": {},
     "output_type": "display_data"
    },
    {
     "name": "stdout",
     "output_type": "stream",
     "text": [
      "{'cap-shape': 'flat', 'cap-surface': 'fibrous', 'cap-color': 'gray', 'bruises': 'no', 'odor': 'foul', 'gill-attachment': 'free', 'gill-spacing': 'close', 'gill-size': 'broad', 'gill-color': 'pink', 'stalk-shape': 'enlarging', 'stalk-root': 'bulbous', 'stalk-surface-above-ring': 'silky', 'stalk-surface-below-ring': 'silky', 'stalk-color-above-ring': 'pink', 'stalk-color-below-ring': 'pink', 'veil-color': 'white', 'ring-number': 'one', 'ring-type': 'large', 'spore-print-color': 'chocolate', 'population': 'several', 'habitat': 'woods'}\n"
     ]
    },
    {
     "data": {
      "application/vnd.jupyter.widget-view+json": {
       "model_id": "107d8fea3afb4b30896a3f4fdb5a198b",
       "version_major": 2,
       "version_minor": 0
      },
      "text/plain": [
       "0it [00:00, ?it/s]"
      ]
     },
     "metadata": {},
     "output_type": "display_data"
    },
    {
     "data": {
      "application/vnd.jupyter.widget-view+json": {
       "model_id": "789d46be138c492982c0c302a6a99025",
       "version_major": 2,
       "version_minor": 0
      },
      "text/plain": [
       "0it [00:00, ?it/s]"
      ]
     },
     "metadata": {},
     "output_type": "display_data"
    },
    {
     "name": "stdout",
     "output_type": "stream",
     "text": [
      "{'cap-shape': 'convex', 'cap-surface': 'smooth', 'cap-color': 'brown', 'bruises': 'no', 'odor': 'none', 'gill-attachment': 'free', 'gill-spacing': 'crowded', 'gill-size': 'broad', 'gill-color': 'brown', 'stalk-shape': 'tapering', 'stalk-root': 'equal', 'stalk-surface-above-ring': 'fibrous', 'stalk-surface-below-ring': 'smooth', 'stalk-color-above-ring': 'white', 'stalk-color-below-ring': 'white', 'veil-color': 'white', 'ring-number': 'one', 'ring-type': 'evanescent', 'spore-print-color': 'black', 'population': 'scattered', 'habitat': 'grasses'}\n"
     ]
    },
    {
     "data": {
      "application/vnd.jupyter.widget-view+json": {
       "model_id": "48ddafc8cc4c432f8d901f93f5baa186",
       "version_major": 2,
       "version_minor": 0
      },
      "text/plain": [
       "0it [00:00, ?it/s]"
      ]
     },
     "metadata": {},
     "output_type": "display_data"
    },
    {
     "data": {
      "application/vnd.jupyter.widget-view+json": {
       "model_id": "204a9316c564429d8c54b30c229f1526",
       "version_major": 2,
       "version_minor": 0
      },
      "text/plain": [
       "0it [00:00, ?it/s]"
      ]
     },
     "metadata": {},
     "output_type": "display_data"
    },
    {
     "name": "stdout",
     "output_type": "stream",
     "text": [
      "{'cap-shape': 'convex', 'cap-surface': 'smooth', 'cap-color': 'brown', 'bruises': 'no', 'odor': 'foul', 'gill-attachment': 'free', 'gill-spacing': 'close', 'gill-size': 'narrow', 'gill-color': 'buff', 'stalk-shape': 'tapering', 'stalk-root': 'bulbous', 'stalk-surface-above-ring': 'silky', 'stalk-surface-below-ring': 'smooth', 'stalk-color-above-ring': 'pink', 'stalk-color-below-ring': 'white', 'veil-color': 'white', 'ring-number': 'one', 'ring-type': 'evanescent', 'spore-print-color': 'white', 'population': 'several', 'habitat': 'paths'}\n"
     ]
    },
    {
     "data": {
      "application/vnd.jupyter.widget-view+json": {
       "model_id": "18680bcbb662451ba776bde5b7fe444f",
       "version_major": 2,
       "version_minor": 0
      },
      "text/plain": [
       "0it [00:00, ?it/s]"
      ]
     },
     "metadata": {},
     "output_type": "display_data"
    },
    {
     "data": {
      "application/vnd.jupyter.widget-view+json": {
       "model_id": "0d803234f39344dd9a4460d1f36c3ee2",
       "version_major": 2,
       "version_minor": 0
      },
      "text/plain": [
       "0it [00:00, ?it/s]"
      ]
     },
     "metadata": {},
     "output_type": "display_data"
    },
    {
     "name": "stdout",
     "output_type": "stream",
     "text": [
      "{'cap-shape': 'convex', 'cap-surface': 'smooth', 'cap-color': 'brown', 'bruises': 'no', 'odor': 'fishy', 'gill-attachment': 'free', 'gill-spacing': 'close', 'gill-size': 'narrow', 'gill-color': 'buff', 'stalk-shape': 'tapering', 'stalk-root': 'bulbous', 'stalk-surface-above-ring': 'smooth', 'stalk-surface-below-ring': 'smooth', 'stalk-color-above-ring': 'white', 'stalk-color-below-ring': 'white', 'veil-color': 'white', 'ring-number': 'one', 'ring-type': 'evanescent', 'spore-print-color': 'white', 'population': 'several', 'habitat': 'woods'}\n"
     ]
    },
    {
     "data": {
      "application/vnd.jupyter.widget-view+json": {
       "model_id": "d8126ec0719240f2a41859fed0374750",
       "version_major": 2,
       "version_minor": 0
      },
      "text/plain": [
       "0it [00:00, ?it/s]"
      ]
     },
     "metadata": {},
     "output_type": "display_data"
    },
    {
     "data": {
      "application/vnd.jupyter.widget-view+json": {
       "model_id": "d3b298030d3b4a30a2864b0d337b9035",
       "version_major": 2,
       "version_minor": 0
      },
      "text/plain": [
       "0it [00:00, ?it/s]"
      ]
     },
     "metadata": {},
     "output_type": "display_data"
    },
    {
     "name": "stdout",
     "output_type": "stream",
     "text": [
      "{'cap-shape': 'flat', 'cap-surface': 'fibrous', 'cap-color': 'gray', 'bruises': 'no', 'odor': 'foul', 'gill-attachment': 'free', 'gill-spacing': 'close', 'gill-size': 'broad', 'gill-color': 'pink', 'stalk-shape': 'enlarging', 'stalk-root': 'bulbous', 'stalk-surface-above-ring': 'silky', 'stalk-surface-below-ring': 'silky', 'stalk-color-above-ring': 'pink', 'stalk-color-below-ring': 'pink', 'veil-color': 'white', 'ring-number': 'one', 'ring-type': 'large', 'spore-print-color': 'chocolate', 'population': 'solitary', 'habitat': 'woods'}\n"
     ]
    },
    {
     "data": {
      "application/vnd.jupyter.widget-view+json": {
       "model_id": "add7a596e03b4a999c7f163bb01baa37",
       "version_major": 2,
       "version_minor": 0
      },
      "text/plain": [
       "0it [00:00, ?it/s]"
      ]
     },
     "metadata": {},
     "output_type": "display_data"
    },
    {
     "data": {
      "application/vnd.jupyter.widget-view+json": {
       "model_id": "6f97aec84fd14ce9977b29996d528167",
       "version_major": 2,
       "version_minor": 0
      },
      "text/plain": [
       "0it [00:00, ?it/s]"
      ]
     },
     "metadata": {},
     "output_type": "display_data"
    },
    {
     "name": "stdout",
     "output_type": "stream",
     "text": [
      "{'cap-shape': 'flat', 'cap-surface': 'fibrous', 'cap-color': 'white', 'bruises': 'bruises', 'odor': 'almond', 'gill-attachment': 'free', 'gill-spacing': 'crowded', 'gill-size': 'narrow', 'gill-color': 'pink', 'stalk-shape': 'tapering', 'stalk-root': 'bulbous', 'stalk-surface-above-ring': 'smooth', 'stalk-surface-below-ring': 'smooth', 'stalk-color-above-ring': 'white', 'stalk-color-below-ring': 'white', 'veil-color': 'white', 'ring-number': 'one', 'ring-type': 'pendant', 'spore-print-color': 'brown', 'population': 'several', 'habitat': 'woods'}\n"
     ]
    },
    {
     "data": {
      "application/vnd.jupyter.widget-view+json": {
       "model_id": "ba98775101954c87b28dbb6776cc033b",
       "version_major": 2,
       "version_minor": 0
      },
      "text/plain": [
       "0it [00:00, ?it/s]"
      ]
     },
     "metadata": {},
     "output_type": "display_data"
    },
    {
     "data": {
      "application/vnd.jupyter.widget-view+json": {
       "model_id": "de3b669163a94f5ebb6dee68bc910481",
       "version_major": 2,
       "version_minor": 0
      },
      "text/plain": [
       "0it [00:00, ?it/s]"
      ]
     },
     "metadata": {},
     "output_type": "display_data"
    },
    {
     "name": "stdout",
     "output_type": "stream",
     "text": [
      "{'cap-shape': 'convex', 'cap-surface': 'scaly', 'cap-color': 'gray', 'bruises': 'no', 'odor': 'foul', 'gill-attachment': 'free', 'gill-spacing': 'close', 'gill-size': 'broad', 'gill-color': 'gray', 'stalk-shape': 'enlarging', 'stalk-root': 'bulbous', 'stalk-surface-above-ring': 'silky', 'stalk-surface-below-ring': 'silky', 'stalk-color-above-ring': 'brown', 'stalk-color-below-ring': 'pink', 'veil-color': 'white', 'ring-number': 'one', 'ring-type': 'large', 'spore-print-color': 'chocolate', 'population': 'several', 'habitat': 'grasses'}\n"
     ]
    },
    {
     "data": {
      "application/vnd.jupyter.widget-view+json": {
       "model_id": "893f8ff66137487dae34a3a2662a1604",
       "version_major": 2,
       "version_minor": 0
      },
      "text/plain": [
       "0it [00:00, ?it/s]"
      ]
     },
     "metadata": {},
     "output_type": "display_data"
    },
    {
     "data": {
      "application/vnd.jupyter.widget-view+json": {
       "model_id": "b04985130f284062bfe5abd818f47f1a",
       "version_major": 2,
       "version_minor": 0
      },
      "text/plain": [
       "0it [00:00, ?it/s]"
      ]
     },
     "metadata": {},
     "output_type": "display_data"
    },
    {
     "name": "stdout",
     "output_type": "stream",
     "text": [
      "{'cap-shape': 'convex', 'cap-surface': 'smooth', 'cap-color': 'red', 'bruises': 'no', 'odor': 'foul', 'gill-attachment': 'free', 'gill-spacing': 'close', 'gill-size': 'narrow', 'gill-color': 'buff', 'stalk-shape': 'tapering', 'stalk-root': 'bulbous', 'stalk-surface-above-ring': 'silky', 'stalk-surface-below-ring': 'silky', 'stalk-color-above-ring': 'pink', 'stalk-color-below-ring': 'pink', 'veil-color': 'white', 'ring-number': 'one', 'ring-type': 'evanescent', 'spore-print-color': 'white', 'population': 'several', 'habitat': 'leaves'}\n"
     ]
    },
    {
     "data": {
      "application/vnd.jupyter.widget-view+json": {
       "model_id": "db5bc5dd843740518d6bd12ba94ed6ab",
       "version_major": 2,
       "version_minor": 0
      },
      "text/plain": [
       "0it [00:00, ?it/s]"
      ]
     },
     "metadata": {},
     "output_type": "display_data"
    },
    {
     "data": {
      "application/vnd.jupyter.widget-view+json": {
       "model_id": "5974e7720e6645dcbce24d7b00c07206",
       "version_major": 2,
       "version_minor": 0
      },
      "text/plain": [
       "0it [00:00, ?it/s]"
      ]
     },
     "metadata": {},
     "output_type": "display_data"
    },
    {
     "name": "stdout",
     "output_type": "stream",
     "text": [
      "{'cap-shape': 'flat', 'cap-surface': 'smooth', 'cap-color': 'brown', 'bruises': 'no', 'odor': 'none', 'gill-attachment': 'free', 'gill-spacing': 'crowded', 'gill-size': 'broad', 'gill-color': 'brown', 'stalk-shape': 'tapering', 'stalk-root': 'equal', 'stalk-surface-above-ring': 'fibrous', 'stalk-surface-below-ring': 'fibrous', 'stalk-color-above-ring': 'white', 'stalk-color-below-ring': 'white', 'veil-color': 'white', 'ring-number': 'one', 'ring-type': 'evanescent', 'spore-print-color': 'brown', 'population': 'scattered', 'habitat': 'grasses'}\n"
     ]
    },
    {
     "data": {
      "application/vnd.jupyter.widget-view+json": {
       "model_id": "8629a011be0e4629ab7ed792dcce87a2",
       "version_major": 2,
       "version_minor": 0
      },
      "text/plain": [
       "0it [00:00, ?it/s]"
      ]
     },
     "metadata": {},
     "output_type": "display_data"
    },
    {
     "data": {
      "application/vnd.jupyter.widget-view+json": {
       "model_id": "a64d8a1db39848018fd60a99a5ddffb8",
       "version_major": 2,
       "version_minor": 0
      },
      "text/plain": [
       "0it [00:00, ?it/s]"
      ]
     },
     "metadata": {},
     "output_type": "display_data"
    },
    {
     "name": "stdout",
     "output_type": "stream",
     "text": [
      "{'cap-shape': 'flat', 'cap-surface': 'fibrous', 'cap-color': 'yellow', 'bruises': 'no', 'odor': 'foul', 'gill-attachment': 'free', 'gill-spacing': 'close', 'gill-size': 'broad', 'gill-color': 'gray', 'stalk-shape': 'enlarging', 'stalk-root': 'bulbous', 'stalk-surface-above-ring': 'silky', 'stalk-surface-below-ring': 'silky', 'stalk-color-above-ring': 'buff', 'stalk-color-below-ring': 'buff', 'veil-color': 'white', 'ring-number': 'one', 'ring-type': 'large', 'spore-print-color': 'chocolate', 'population': 'several', 'habitat': 'woods'}\n"
     ]
    },
    {
     "data": {
      "application/vnd.jupyter.widget-view+json": {
       "model_id": "08457227d46c44aaad925445fc71a9f7",
       "version_major": 2,
       "version_minor": 0
      },
      "text/plain": [
       "0it [00:00, ?it/s]"
      ]
     },
     "metadata": {},
     "output_type": "display_data"
    },
    {
     "data": {
      "application/vnd.jupyter.widget-view+json": {
       "model_id": "393af967e3c9460486420daf01c03658",
       "version_major": 2,
       "version_minor": 0
      },
      "text/plain": [
       "0it [00:00, ?it/s]"
      ]
     },
     "metadata": {},
     "output_type": "display_data"
    },
    {
     "name": "stdout",
     "output_type": "stream",
     "text": [
      "{'cap-shape': 'flat', 'cap-surface': 'fibrous', 'cap-color': 'brown', 'bruises': 'bruises', 'odor': 'none', 'gill-attachment': 'free', 'gill-spacing': 'close', 'gill-size': 'broad', 'gill-color': 'pink', 'stalk-shape': 'tapering', 'stalk-root': 'bulbous', 'stalk-surface-above-ring': 'smooth', 'stalk-surface-below-ring': 'smooth', 'stalk-color-above-ring': 'gray', 'stalk-color-below-ring': 'pink', 'veil-color': 'white', 'ring-number': 'one', 'ring-type': 'pendant', 'spore-print-color': 'brown', 'population': 'several', 'habitat': 'woods'}\n"
     ]
    },
    {
     "data": {
      "application/vnd.jupyter.widget-view+json": {
       "model_id": "cd72cd69b5ad4d46822b5836e4c730be",
       "version_major": 2,
       "version_minor": 0
      },
      "text/plain": [
       "0it [00:00, ?it/s]"
      ]
     },
     "metadata": {},
     "output_type": "display_data"
    },
    {
     "data": {
      "application/vnd.jupyter.widget-view+json": {
       "model_id": "deefdbb913c1416a87ca3e2daee7f085",
       "version_major": 2,
       "version_minor": 0
      },
      "text/plain": [
       "0it [00:00, ?it/s]"
      ]
     },
     "metadata": {},
     "output_type": "display_data"
    },
    {
     "name": "stdout",
     "output_type": "stream",
     "text": [
      "{'cap-shape': 'flat', 'cap-surface': 'smooth', 'cap-color': 'white', 'bruises': 'no', 'odor': 'none', 'gill-attachment': 'free', 'gill-spacing': 'crowded', 'gill-size': 'broad', 'gill-color': 'pink', 'stalk-shape': 'tapering', 'stalk-root': 'equal', 'stalk-surface-above-ring': 'fibrous', 'stalk-surface-below-ring': 'fibrous', 'stalk-color-above-ring': 'white', 'stalk-color-below-ring': 'white', 'veil-color': 'white', 'ring-number': 'one', 'ring-type': 'evanescent', 'spore-print-color': 'brown', 'population': 'abundant', 'habitat': 'grasses'}\n"
     ]
    },
    {
     "data": {
      "application/vnd.jupyter.widget-view+json": {
       "model_id": "daa95d8949094c8e94b49e593a99281f",
       "version_major": 2,
       "version_minor": 0
      },
      "text/plain": [
       "0it [00:00, ?it/s]"
      ]
     },
     "metadata": {},
     "output_type": "display_data"
    },
    {
     "data": {
      "application/vnd.jupyter.widget-view+json": {
       "model_id": "6021abb2a56348be9b26501c8682c39f",
       "version_major": 2,
       "version_minor": 0
      },
      "text/plain": [
       "0it [00:00, ?it/s]"
      ]
     },
     "metadata": {},
     "output_type": "display_data"
    },
    {
     "name": "stdout",
     "output_type": "stream",
     "text": [
      "{'cap-shape': 'flat', 'cap-surface': 'scaly', 'cap-color': 'brown', 'bruises': 'bruises', 'odor': 'none', 'gill-attachment': 'free', 'gill-spacing': 'close', 'gill-size': 'broad', 'gill-color': 'white', 'stalk-shape': 'tapering', 'stalk-root': 'bulbous', 'stalk-surface-above-ring': 'smooth', 'stalk-surface-below-ring': 'smooth', 'stalk-color-above-ring': 'white', 'stalk-color-below-ring': 'pink', 'veil-color': 'white', 'ring-number': 'one', 'ring-type': 'pendant', 'spore-print-color': 'black', 'population': 'several', 'habitat': 'woods'}\n"
     ]
    },
    {
     "data": {
      "application/vnd.jupyter.widget-view+json": {
       "model_id": "98662e089ef94181bc5b6aaf75fe7106",
       "version_major": 2,
       "version_minor": 0
      },
      "text/plain": [
       "0it [00:00, ?it/s]"
      ]
     },
     "metadata": {},
     "output_type": "display_data"
    },
    {
     "data": {
      "application/vnd.jupyter.widget-view+json": {
       "model_id": "d51be68da819480d9a337abffffe1e8d",
       "version_major": 2,
       "version_minor": 0
      },
      "text/plain": [
       "0it [00:00, ?it/s]"
      ]
     },
     "metadata": {},
     "output_type": "display_data"
    },
    {
     "name": "stdout",
     "output_type": "stream",
     "text": [
      "{'cap-shape': 'flat', 'cap-surface': 'smooth', 'cap-color': 'red', 'bruises': 'bruises', 'odor': 'none', 'gill-attachment': 'free', 'gill-spacing': 'close', 'gill-size': 'broad', 'gill-color': 'red', 'stalk-shape': 'enlarging', 'stalk-root': 'bulbous', 'stalk-surface-above-ring': 'smooth', 'stalk-surface-below-ring': 'smooth', 'stalk-color-above-ring': 'red', 'stalk-color-below-ring': 'red', 'veil-color': 'white', 'ring-number': 'two', 'ring-type': 'evanescent', 'spore-print-color': 'white', 'population': 'clustered', 'habitat': 'waste'}\n"
     ]
    },
    {
     "data": {
      "application/vnd.jupyter.widget-view+json": {
       "model_id": "5eeb8f49a740485eb9f97c8d4db3a879",
       "version_major": 2,
       "version_minor": 0
      },
      "text/plain": [
       "0it [00:00, ?it/s]"
      ]
     },
     "metadata": {},
     "output_type": "display_data"
    },
    {
     "data": {
      "application/vnd.jupyter.widget-view+json": {
       "model_id": "fea99da165354ee29bc99de9a4067e30",
       "version_major": 2,
       "version_minor": 0
      },
      "text/plain": [
       "0it [00:00, ?it/s]"
      ]
     },
     "metadata": {},
     "output_type": "display_data"
    },
    {
     "name": "stdout",
     "output_type": "stream",
     "text": [
      "{'cap-shape': 'flat', 'cap-surface': 'smooth', 'cap-color': 'red', 'bruises': 'no', 'odor': 'fishy', 'gill-attachment': 'free', 'gill-spacing': 'close', 'gill-size': 'narrow', 'gill-color': 'buff', 'stalk-shape': 'tapering', 'stalk-root': 'bulbous', 'stalk-surface-above-ring': 'smooth', 'stalk-surface-below-ring': 'silky', 'stalk-color-above-ring': 'white', 'stalk-color-below-ring': 'pink', 'veil-color': 'white', 'ring-number': 'one', 'ring-type': 'evanescent', 'spore-print-color': 'white', 'population': 'several', 'habitat': 'leaves'}\n"
     ]
    },
    {
     "data": {
      "application/vnd.jupyter.widget-view+json": {
       "model_id": "91c8af62bf114aecad94cf31930d63f7",
       "version_major": 2,
       "version_minor": 0
      },
      "text/plain": [
       "0it [00:00, ?it/s]"
      ]
     },
     "metadata": {},
     "output_type": "display_data"
    },
    {
     "data": {
      "application/vnd.jupyter.widget-view+json": {
       "model_id": "9243ddcfe79c48deada6a120192be67c",
       "version_major": 2,
       "version_minor": 0
      },
      "text/plain": [
       "0it [00:00, ?it/s]"
      ]
     },
     "metadata": {},
     "output_type": "display_data"
    },
    {
     "name": "stdout",
     "output_type": "stream",
     "text": [
      "{'cap-shape': 'flat', 'cap-surface': 'smooth', 'cap-color': 'white', 'bruises': 'bruises', 'odor': 'foul', 'gill-attachment': 'free', 'gill-spacing': 'close', 'gill-size': 'broad', 'gill-color': 'pink', 'stalk-shape': 'tapering', 'stalk-root': 'bulbous', 'stalk-surface-above-ring': 'fibrous', 'stalk-surface-below-ring': 'fibrous', 'stalk-color-above-ring': 'white', 'stalk-color-below-ring': 'white', 'veil-color': 'white', 'ring-number': 'one', 'ring-type': 'pendant', 'spore-print-color': 'chocolate', 'population': 'scattered', 'habitat': 'grasses'}\n"
     ]
    },
    {
     "data": {
      "application/vnd.jupyter.widget-view+json": {
       "model_id": "93fb45481e3340808b5bf95c90960ce4",
       "version_major": 2,
       "version_minor": 0
      },
      "text/plain": [
       "0it [00:00, ?it/s]"
      ]
     },
     "metadata": {},
     "output_type": "display_data"
    },
    {
     "data": {
      "application/vnd.jupyter.widget-view+json": {
       "model_id": "d6e9fa7279654841be7f7199bed06df8",
       "version_major": 2,
       "version_minor": 0
      },
      "text/plain": [
       "0it [00:00, ?it/s]"
      ]
     },
     "metadata": {},
     "output_type": "display_data"
    },
    {
     "name": "stdout",
     "output_type": "stream",
     "text": [
      "{'cap-shape': 'convex', 'cap-surface': 'scaly', 'cap-color': 'gray', 'bruises': 'bruises', 'odor': 'none', 'gill-attachment': 'free', 'gill-spacing': 'close', 'gill-size': 'broad', 'gill-color': 'pink', 'stalk-shape': 'tapering', 'stalk-root': 'bulbous', 'stalk-surface-above-ring': 'smooth', 'stalk-surface-below-ring': 'smooth', 'stalk-color-above-ring': 'gray', 'stalk-color-below-ring': 'gray', 'veil-color': 'white', 'ring-number': 'one', 'ring-type': 'pendant', 'spore-print-color': 'black', 'population': 'several', 'habitat': 'woods'}\n"
     ]
    },
    {
     "data": {
      "application/vnd.jupyter.widget-view+json": {
       "model_id": "d6bf76a522bb41509b60368394f3f952",
       "version_major": 2,
       "version_minor": 0
      },
      "text/plain": [
       "0it [00:00, ?it/s]"
      ]
     },
     "metadata": {},
     "output_type": "display_data"
    },
    {
     "data": {
      "application/vnd.jupyter.widget-view+json": {
       "model_id": "98091459ed9b4fca87ae2882fa1d5e2f",
       "version_major": 2,
       "version_minor": 0
      },
      "text/plain": [
       "0it [00:00, ?it/s]"
      ]
     },
     "metadata": {},
     "output_type": "display_data"
    },
    {
     "name": "stdout",
     "output_type": "stream",
     "text": [
      "{'cap-shape': 'convex', 'cap-surface': 'smooth', 'cap-color': 'white', 'bruises': 'bruises', 'odor': 'pungent', 'gill-attachment': 'free', 'gill-spacing': 'close', 'gill-size': 'narrow', 'gill-color': 'white', 'stalk-shape': 'enlarging', 'stalk-root': 'equal', 'stalk-surface-above-ring': 'smooth', 'stalk-surface-below-ring': 'smooth', 'stalk-color-above-ring': 'white', 'stalk-color-below-ring': 'white', 'veil-color': 'white', 'ring-number': 'one', 'ring-type': 'pendant', 'spore-print-color': 'brown', 'population': 'several', 'habitat': 'grasses'}\n"
     ]
    },
    {
     "data": {
      "application/vnd.jupyter.widget-view+json": {
       "model_id": "b5976b724adf41de984bfc5f710a4eb4",
       "version_major": 2,
       "version_minor": 0
      },
      "text/plain": [
       "0it [00:00, ?it/s]"
      ]
     },
     "metadata": {},
     "output_type": "display_data"
    },
    {
     "data": {
      "application/vnd.jupyter.widget-view+json": {
       "model_id": "62c1751743c943aba37e17f96ce459a8",
       "version_major": 2,
       "version_minor": 0
      },
      "text/plain": [
       "0it [00:00, ?it/s]"
      ]
     },
     "metadata": {},
     "output_type": "display_data"
    },
    {
     "name": "stdout",
     "output_type": "stream",
     "text": [
      "{'cap-shape': 'flat', 'cap-surface': 'scaly', 'cap-color': 'gray', 'bruises': 'bruises', 'odor': 'none', 'gill-attachment': 'free', 'gill-spacing': 'close', 'gill-size': 'broad', 'gill-color': 'white', 'stalk-shape': 'tapering', 'stalk-root': 'bulbous', 'stalk-surface-above-ring': 'smooth', 'stalk-surface-below-ring': 'smooth', 'stalk-color-above-ring': 'gray', 'stalk-color-below-ring': 'pink', 'veil-color': 'white', 'ring-number': 'one', 'ring-type': 'pendant', 'spore-print-color': 'brown', 'population': 'several', 'habitat': 'woods'}\n"
     ]
    },
    {
     "data": {
      "application/vnd.jupyter.widget-view+json": {
       "model_id": "8f30725e19994e4299537b29da1e6964",
       "version_major": 2,
       "version_minor": 0
      },
      "text/plain": [
       "0it [00:00, ?it/s]"
      ]
     },
     "metadata": {},
     "output_type": "display_data"
    },
    {
     "data": {
      "application/vnd.jupyter.widget-view+json": {
       "model_id": "95f831ba286e48eebb13690fa1368aaf",
       "version_major": 2,
       "version_minor": 0
      },
      "text/plain": [
       "0it [00:00, ?it/s]"
      ]
     },
     "metadata": {},
     "output_type": "display_data"
    },
    {
     "name": "stdout",
     "output_type": "stream",
     "text": [
      "{'cap-shape': 'flat', 'cap-surface': 'fibrous', 'cap-color': 'yellow', 'bruises': 'no', 'odor': 'foul', 'gill-attachment': 'free', 'gill-spacing': 'close', 'gill-size': 'broad', 'gill-color': 'gray', 'stalk-shape': 'enlarging', 'stalk-root': 'bulbous', 'stalk-surface-above-ring': 'silky', 'stalk-surface-below-ring': 'silky', 'stalk-color-above-ring': 'brown', 'stalk-color-below-ring': 'buff', 'veil-color': 'white', 'ring-number': 'one', 'ring-type': 'large', 'spore-print-color': 'chocolate', 'population': 'several', 'habitat': 'grasses'}\n"
     ]
    },
    {
     "data": {
      "application/vnd.jupyter.widget-view+json": {
       "model_id": "b9d598f533df462799de659933fcaa68",
       "version_major": 2,
       "version_minor": 0
      },
      "text/plain": [
       "0it [00:00, ?it/s]"
      ]
     },
     "metadata": {},
     "output_type": "display_data"
    },
    {
     "data": {
      "application/vnd.jupyter.widget-view+json": {
       "model_id": "9b68f874b4f3405b8945f03ea009c30a",
       "version_major": 2,
       "version_minor": 0
      },
      "text/plain": [
       "0it [00:00, ?it/s]"
      ]
     },
     "metadata": {},
     "output_type": "display_data"
    },
    {
     "name": "stdout",
     "output_type": "stream",
     "text": [
      "{'cap-shape': 'convex', 'cap-surface': 'smooth', 'cap-color': 'white', 'bruises': 'no', 'odor': 'none', 'gill-attachment': 'free', 'gill-spacing': 'crowded', 'gill-size': 'broad', 'gill-color': 'chocolate', 'stalk-shape': 'tapering', 'stalk-root': 'equal', 'stalk-surface-above-ring': 'smooth', 'stalk-surface-below-ring': 'fibrous', 'stalk-color-above-ring': 'white', 'stalk-color-below-ring': 'white', 'veil-color': 'white', 'ring-number': 'one', 'ring-type': 'evanescent', 'spore-print-color': 'brown', 'population': 'scattered', 'habitat': 'grasses'}\n"
     ]
    },
    {
     "data": {
      "application/vnd.jupyter.widget-view+json": {
       "model_id": "ee5615aa1e444cb9b8373508831a2bf5",
       "version_major": 2,
       "version_minor": 0
      },
      "text/plain": [
       "0it [00:00, ?it/s]"
      ]
     },
     "metadata": {},
     "output_type": "display_data"
    },
    {
     "data": {
      "application/vnd.jupyter.widget-view+json": {
       "model_id": "59ef13d5d6ce48a88001ad23c1c75ba7",
       "version_major": 2,
       "version_minor": 0
      },
      "text/plain": [
       "0it [00:00, ?it/s]"
      ]
     },
     "metadata": {},
     "output_type": "display_data"
    },
    {
     "name": "stdout",
     "output_type": "stream",
     "text": [
      "{'cap-shape': 'flat', 'cap-surface': 'scaly', 'cap-color': 'red', 'bruises': 'no', 'odor': 'foul', 'gill-attachment': 'free', 'gill-spacing': 'close', 'gill-size': 'narrow', 'gill-color': 'buff', 'stalk-shape': 'tapering', 'stalk-root': 'bulbous', 'stalk-surface-above-ring': 'smooth', 'stalk-surface-below-ring': 'silky', 'stalk-color-above-ring': 'pink', 'stalk-color-below-ring': 'pink', 'veil-color': 'white', 'ring-number': 'one', 'ring-type': 'evanescent', 'spore-print-color': 'white', 'population': 'several', 'habitat': 'leaves'}\n"
     ]
    },
    {
     "data": {
      "application/vnd.jupyter.widget-view+json": {
       "model_id": "d461579ec86845d5b8bd5fd1fc87fe8c",
       "version_major": 2,
       "version_minor": 0
      },
      "text/plain": [
       "0it [00:00, ?it/s]"
      ]
     },
     "metadata": {},
     "output_type": "display_data"
    },
    {
     "data": {
      "application/vnd.jupyter.widget-view+json": {
       "model_id": "405f4bfa4e2f43dea4ad5dbce6fff491",
       "version_major": 2,
       "version_minor": 0
      },
      "text/plain": [
       "0it [00:00, ?it/s]"
      ]
     },
     "metadata": {},
     "output_type": "display_data"
    },
    {
     "name": "stdout",
     "output_type": "stream",
     "text": [
      "{'cap-shape': 'knobbed', 'cap-surface': 'scaly', 'cap-color': 'cinnamon', 'bruises': 'no', 'odor': 'musty', 'gill-attachment': 'free', 'gill-spacing': 'close', 'gill-size': 'broad', 'gill-color': 'yellow', 'stalk-shape': 'enlarging', 'stalk-root': 'club', 'stalk-surface-above-ring': 'silky', 'stalk-surface-below-ring': 'scaly', 'stalk-color-above-ring': 'cinnamon', 'stalk-color-below-ring': 'cinnamon', 'veil-color': 'white', 'ring-number': 'none', 'ring-type': 'none', 'spore-print-color': 'white', 'population': 'clustered', 'habitat': 'woods'}\n"
     ]
    },
    {
     "data": {
      "application/vnd.jupyter.widget-view+json": {
       "model_id": "9d08c7c6e53a44e0ad7e552d1a36a6e0",
       "version_major": 2,
       "version_minor": 0
      },
      "text/plain": [
       "0it [00:00, ?it/s]"
      ]
     },
     "metadata": {},
     "output_type": "display_data"
    },
    {
     "data": {
      "application/vnd.jupyter.widget-view+json": {
       "model_id": "8d41e3e007f140c08ad651bbf1df6d6d",
       "version_major": 2,
       "version_minor": 0
      },
      "text/plain": [
       "0it [00:00, ?it/s]"
      ]
     },
     "metadata": {},
     "output_type": "display_data"
    },
    {
     "name": "stdout",
     "output_type": "stream",
     "text": [
      "{'cap-shape': 'flat', 'cap-surface': 'scaly', 'cap-color': 'gray', 'bruises': 'bruises', 'odor': 'none', 'gill-attachment': 'free', 'gill-spacing': 'close', 'gill-size': 'broad', 'gill-color': 'white', 'stalk-shape': 'tapering', 'stalk-root': 'bulbous', 'stalk-surface-above-ring': 'smooth', 'stalk-surface-below-ring': 'smooth', 'stalk-color-above-ring': 'pink', 'stalk-color-below-ring': 'white', 'veil-color': 'white', 'ring-number': 'one', 'ring-type': 'pendant', 'spore-print-color': 'black', 'population': 'solitary', 'habitat': 'woods'}\n"
     ]
    },
    {
     "data": {
      "application/vnd.jupyter.widget-view+json": {
       "model_id": "f5658ab0e88e46ad9d1ea596d29e918c",
       "version_major": 2,
       "version_minor": 0
      },
      "text/plain": [
       "0it [00:00, ?it/s]"
      ]
     },
     "metadata": {},
     "output_type": "display_data"
    },
    {
     "data": {
      "application/vnd.jupyter.widget-view+json": {
       "model_id": "575ebcb81f6f4200836a9850f5daa1ad",
       "version_major": 2,
       "version_minor": 0
      },
      "text/plain": [
       "0it [00:00, ?it/s]"
      ]
     },
     "metadata": {},
     "output_type": "display_data"
    },
    {
     "name": "stdout",
     "output_type": "stream",
     "text": [
      "{'cap-shape': 'bell', 'cap-surface': 'smooth', 'cap-color': 'yellow', 'bruises': 'bruises', 'odor': 'anise', 'gill-attachment': 'free', 'gill-spacing': 'close', 'gill-size': 'broad', 'gill-color': 'black', 'stalk-shape': 'enlarging', 'stalk-root': 'club', 'stalk-surface-above-ring': 'smooth', 'stalk-surface-below-ring': 'smooth', 'stalk-color-above-ring': 'white', 'stalk-color-below-ring': 'white', 'veil-color': 'white', 'ring-number': 'one', 'ring-type': 'pendant', 'spore-print-color': 'black', 'population': 'scattered', 'habitat': 'grasses'}\n"
     ]
    },
    {
     "data": {
      "application/vnd.jupyter.widget-view+json": {
       "model_id": "0da0b9803aed4dd5806ed8a995255398",
       "version_major": 2,
       "version_minor": 0
      },
      "text/plain": [
       "0it [00:00, ?it/s]"
      ]
     },
     "metadata": {},
     "output_type": "display_data"
    },
    {
     "data": {
      "application/vnd.jupyter.widget-view+json": {
       "model_id": "1addce8655494032adf75e8f2697af87",
       "version_major": 2,
       "version_minor": 0
      },
      "text/plain": [
       "0it [00:00, ?it/s]"
      ]
     },
     "metadata": {},
     "output_type": "display_data"
    },
    {
     "name": "stdout",
     "output_type": "stream",
     "text": [
      "{'cap-shape': 'knobbed', 'cap-surface': 'scaly', 'cap-color': 'red', 'bruises': 'no', 'odor': 'foul', 'gill-attachment': 'free', 'gill-spacing': 'close', 'gill-size': 'narrow', 'gill-color': 'buff', 'stalk-shape': 'tapering', 'stalk-root': 'bulbous', 'stalk-surface-above-ring': 'smooth', 'stalk-surface-below-ring': 'smooth', 'stalk-color-above-ring': 'white', 'stalk-color-below-ring': 'pink', 'veil-color': 'white', 'ring-number': 'one', 'ring-type': 'evanescent', 'spore-print-color': 'white', 'population': 'several', 'habitat': 'paths'}\n"
     ]
    },
    {
     "data": {
      "application/vnd.jupyter.widget-view+json": {
       "model_id": "488b75fd7dce4c2ba645d035a3c194ee",
       "version_major": 2,
       "version_minor": 0
      },
      "text/plain": [
       "0it [00:00, ?it/s]"
      ]
     },
     "metadata": {},
     "output_type": "display_data"
    },
    {
     "data": {
      "application/vnd.jupyter.widget-view+json": {
       "model_id": "3080288a68a847f1854cf7f9a1106046",
       "version_major": 2,
       "version_minor": 0
      },
      "text/plain": [
       "0it [00:00, ?it/s]"
      ]
     },
     "metadata": {},
     "output_type": "display_data"
    },
    {
     "name": "stdout",
     "output_type": "stream",
     "text": [
      "{'cap-shape': 'flat', 'cap-surface': 'fibrous', 'cap-color': 'gray', 'bruises': 'no', 'odor': 'foul', 'gill-attachment': 'free', 'gill-spacing': 'close', 'gill-size': 'broad', 'gill-color': 'pink', 'stalk-shape': 'enlarging', 'stalk-root': 'bulbous', 'stalk-surface-above-ring': 'silky', 'stalk-surface-below-ring': 'silky', 'stalk-color-above-ring': 'brown', 'stalk-color-below-ring': 'brown', 'veil-color': 'white', 'ring-number': 'one', 'ring-type': 'large', 'spore-print-color': 'chocolate', 'population': 'several', 'habitat': 'woods'}\n"
     ]
    },
    {
     "data": {
      "application/vnd.jupyter.widget-view+json": {
       "model_id": "45663fc3569b47c8b2b38144ef2bc625",
       "version_major": 2,
       "version_minor": 0
      },
      "text/plain": [
       "0it [00:00, ?it/s]"
      ]
     },
     "metadata": {},
     "output_type": "display_data"
    },
    {
     "data": {
      "application/vnd.jupyter.widget-view+json": {
       "model_id": "05c3a33239f149e8a667e0e3e42bb701",
       "version_major": 2,
       "version_minor": 0
      },
      "text/plain": [
       "0it [00:00, ?it/s]"
      ]
     },
     "metadata": {},
     "output_type": "display_data"
    },
    {
     "name": "stdout",
     "output_type": "stream",
     "text": [
      "{'cap-shape': 'convex', 'cap-surface': 'smooth', 'cap-color': 'white', 'bruises': 'bruises', 'odor': 'anise', 'gill-attachment': 'free', 'gill-spacing': 'close', 'gill-size': 'broad', 'gill-color': 'brown', 'stalk-shape': 'enlarging', 'stalk-root': 'club', 'stalk-surface-above-ring': 'smooth', 'stalk-surface-below-ring': 'smooth', 'stalk-color-above-ring': 'white', 'stalk-color-below-ring': 'white', 'veil-color': 'white', 'ring-number': 'one', 'ring-type': 'pendant', 'spore-print-color': 'black', 'population': 'numerous', 'habitat': 'meadows'}\n"
     ]
    },
    {
     "data": {
      "application/vnd.jupyter.widget-view+json": {
       "model_id": "a79e4112abf049e4934e4a9d073c7fd0",
       "version_major": 2,
       "version_minor": 0
      },
      "text/plain": [
       "0it [00:00, ?it/s]"
      ]
     },
     "metadata": {},
     "output_type": "display_data"
    },
    {
     "data": {
      "application/vnd.jupyter.widget-view+json": {
       "model_id": "514c2b7d03cc43ad9d986dab65773f17",
       "version_major": 2,
       "version_minor": 0
      },
      "text/plain": [
       "0it [00:00, ?it/s]"
      ]
     },
     "metadata": {},
     "output_type": "display_data"
    },
    {
     "name": "stdout",
     "output_type": "stream",
     "text": [
      "{'cap-shape': 'flat', 'cap-surface': 'fibrous', 'cap-color': 'brown', 'bruises': 'bruises', 'odor': 'none', 'gill-attachment': 'free', 'gill-spacing': 'close', 'gill-size': 'broad', 'gill-color': 'white', 'stalk-shape': 'tapering', 'stalk-root': 'bulbous', 'stalk-surface-above-ring': 'smooth', 'stalk-surface-below-ring': 'smooth', 'stalk-color-above-ring': 'pink', 'stalk-color-below-ring': 'white', 'veil-color': 'white', 'ring-number': 'one', 'ring-type': 'pendant', 'spore-print-color': 'black', 'population': 'solitary', 'habitat': 'woods'}\n"
     ]
    },
    {
     "data": {
      "application/vnd.jupyter.widget-view+json": {
       "model_id": "7323c020da2343b5a1e845029d81c58b",
       "version_major": 2,
       "version_minor": 0
      },
      "text/plain": [
       "0it [00:00, ?it/s]"
      ]
     },
     "metadata": {},
     "output_type": "display_data"
    },
    {
     "data": {
      "application/vnd.jupyter.widget-view+json": {
       "model_id": "bde0e97790eb4c67ab9d319ca1b9801a",
       "version_major": 2,
       "version_minor": 0
      },
      "text/plain": [
       "0it [00:00, ?it/s]"
      ]
     },
     "metadata": {},
     "output_type": "display_data"
    },
    {
     "name": "stdout",
     "output_type": "stream",
     "text": [
      "{'cap-shape': 'knobbed', 'cap-surface': 'smooth', 'cap-color': 'gray', 'bruises': 'no', 'odor': 'none', 'gill-attachment': 'free', 'gill-spacing': 'crowded', 'gill-size': 'broad', 'gill-color': 'white', 'stalk-shape': 'enlarging', 'stalk-root': 'equal', 'stalk-surface-above-ring': 'silky', 'stalk-surface-below-ring': 'smooth', 'stalk-color-above-ring': 'white', 'stalk-color-below-ring': 'white', 'veil-color': 'white', 'ring-number': 'two', 'ring-type': 'pendant', 'spore-print-color': 'white', 'population': 'numerous', 'habitat': 'grasses'}\n"
     ]
    },
    {
     "data": {
      "application/vnd.jupyter.widget-view+json": {
       "model_id": "64c41a2d5fd240ee99951bb77242f3c0",
       "version_major": 2,
       "version_minor": 0
      },
      "text/plain": [
       "0it [00:00, ?it/s]"
      ]
     },
     "metadata": {},
     "output_type": "display_data"
    },
    {
     "data": {
      "application/vnd.jupyter.widget-view+json": {
       "model_id": "eccde42e13aa42608dc1456f8870ebf2",
       "version_major": 2,
       "version_minor": 0
      },
      "text/plain": [
       "0it [00:00, ?it/s]"
      ]
     },
     "metadata": {},
     "output_type": "display_data"
    },
    {
     "name": "stdout",
     "output_type": "stream",
     "text": [
      "{'cap-shape': 'convex', 'cap-surface': 'smooth', 'cap-color': 'white', 'bruises': 'bruises', 'odor': 'pungent', 'gill-attachment': 'free', 'gill-spacing': 'close', 'gill-size': 'narrow', 'gill-color': 'brown', 'stalk-shape': 'enlarging', 'stalk-root': 'equal', 'stalk-surface-above-ring': 'smooth', 'stalk-surface-below-ring': 'smooth', 'stalk-color-above-ring': 'white', 'stalk-color-below-ring': 'white', 'veil-color': 'white', 'ring-number': 'one', 'ring-type': 'pendant', 'spore-print-color': 'brown', 'population': 'scattered', 'habitat': 'urban'}\n"
     ]
    },
    {
     "data": {
      "application/vnd.jupyter.widget-view+json": {
       "model_id": "e7e18432957149a6ad5eae64bd9c8310",
       "version_major": 2,
       "version_minor": 0
      },
      "text/plain": [
       "0it [00:00, ?it/s]"
      ]
     },
     "metadata": {},
     "output_type": "display_data"
    },
    {
     "data": {
      "application/vnd.jupyter.widget-view+json": {
       "model_id": "216af6857acf4b5da05b640193ffddd0",
       "version_major": 2,
       "version_minor": 0
      },
      "text/plain": [
       "0it [00:00, ?it/s]"
      ]
     },
     "metadata": {},
     "output_type": "display_data"
    },
    {
     "name": "stdout",
     "output_type": "stream",
     "text": [
      "{'cap-shape': 'convex', 'cap-surface': 'scaly', 'cap-color': 'yellow', 'bruises': 'no', 'odor': 'foul', 'gill-attachment': 'free', 'gill-spacing': 'close', 'gill-size': 'broad', 'gill-color': 'pink', 'stalk-shape': 'enlarging', 'stalk-root': 'bulbous', 'stalk-surface-above-ring': 'silky', 'stalk-surface-below-ring': 'silky', 'stalk-color-above-ring': 'brown', 'stalk-color-below-ring': 'pink', 'veil-color': 'white', 'ring-number': 'one', 'ring-type': 'large', 'spore-print-color': 'chocolate', 'population': 'several', 'habitat': 'grasses'}\n"
     ]
    },
    {
     "data": {
      "application/vnd.jupyter.widget-view+json": {
       "model_id": "2db71a5ff8eb4db1ab61374a06e81c0f",
       "version_major": 2,
       "version_minor": 0
      },
      "text/plain": [
       "0it [00:00, ?it/s]"
      ]
     },
     "metadata": {},
     "output_type": "display_data"
    },
    {
     "data": {
      "application/vnd.jupyter.widget-view+json": {
       "model_id": "e517642093b745f8935d469540bb9f76",
       "version_major": 2,
       "version_minor": 0
      },
      "text/plain": [
       "0it [00:00, ?it/s]"
      ]
     },
     "metadata": {},
     "output_type": "display_data"
    },
    {
     "name": "stdout",
     "output_type": "stream",
     "text": [
      "{'cap-shape': 'flat', 'cap-surface': 'scaly', 'cap-color': 'buff', 'bruises': 'bruises', 'odor': 'none', 'gill-attachment': 'free', 'gill-spacing': 'close', 'gill-size': 'broad', 'gill-color': 'gray', 'stalk-shape': 'enlarging', 'stalk-root': 'bulbous', 'stalk-surface-above-ring': 'smooth', 'stalk-surface-below-ring': 'smooth', 'stalk-color-above-ring': 'white', 'stalk-color-below-ring': 'white', 'veil-color': 'white', 'ring-number': 'two', 'ring-type': 'pendant', 'spore-print-color': 'green', 'population': 'several', 'habitat': 'grasses'}\n"
     ]
    },
    {
     "data": {
      "application/vnd.jupyter.widget-view+json": {
       "model_id": "8ec74aa9a6904d32a158158922c13154",
       "version_major": 2,
       "version_minor": 0
      },
      "text/plain": [
       "0it [00:00, ?it/s]"
      ]
     },
     "metadata": {},
     "output_type": "display_data"
    },
    {
     "data": {
      "application/vnd.jupyter.widget-view+json": {
       "model_id": "84904a0f0c064f5abd2bf2bb0355183c",
       "version_major": 2,
       "version_minor": 0
      },
      "text/plain": [
       "0it [00:00, ?it/s]"
      ]
     },
     "metadata": {},
     "output_type": "display_data"
    },
    {
     "name": "stdout",
     "output_type": "stream",
     "text": [
      "{'cap-shape': 'convex', 'cap-surface': 'fibrous', 'cap-color': 'gray', 'bruises': 'no', 'odor': 'none', 'gill-attachment': 'free', 'gill-spacing': 'crowded', 'gill-size': 'broad', 'gill-color': 'chocolate', 'stalk-shape': 'tapering', 'stalk-root': 'equal', 'stalk-surface-above-ring': 'smooth', 'stalk-surface-below-ring': 'smooth', 'stalk-color-above-ring': 'white', 'stalk-color-below-ring': 'white', 'veil-color': 'white', 'ring-number': 'one', 'ring-type': 'evanescent', 'spore-print-color': 'black', 'population': 'abundant', 'habitat': 'grasses'}\n"
     ]
    },
    {
     "data": {
      "application/vnd.jupyter.widget-view+json": {
       "model_id": "32001961d87d4aeeb89128fbc1c6fd69",
       "version_major": 2,
       "version_minor": 0
      },
      "text/plain": [
       "0it [00:00, ?it/s]"
      ]
     },
     "metadata": {},
     "output_type": "display_data"
    },
    {
     "data": {
      "application/vnd.jupyter.widget-view+json": {
       "model_id": "004b610b5e0a4b5aa41534925e076c7f",
       "version_major": 2,
       "version_minor": 0
      },
      "text/plain": [
       "0it [00:00, ?it/s]"
      ]
     },
     "metadata": {},
     "output_type": "display_data"
    },
    {
     "name": "stdout",
     "output_type": "stream",
     "text": [
      "{'cap-shape': 'flat', 'cap-surface': 'fibrous', 'cap-color': 'gray', 'bruises': 'no', 'odor': 'none', 'gill-attachment': 'free', 'gill-spacing': 'crowded', 'gill-size': 'broad', 'gill-color': 'pink', 'stalk-shape': 'tapering', 'stalk-root': 'equal', 'stalk-surface-above-ring': 'smooth', 'stalk-surface-below-ring': 'fibrous', 'stalk-color-above-ring': 'white', 'stalk-color-below-ring': 'white', 'veil-color': 'white', 'ring-number': 'one', 'ring-type': 'evanescent', 'spore-print-color': 'brown', 'population': 'scattered', 'habitat': 'grasses'}\n"
     ]
    },
    {
     "data": {
      "application/vnd.jupyter.widget-view+json": {
       "model_id": "ad003019152741299eb3f50dd98d8f96",
       "version_major": 2,
       "version_minor": 0
      },
      "text/plain": [
       "0it [00:00, ?it/s]"
      ]
     },
     "metadata": {},
     "output_type": "display_data"
    },
    {
     "data": {
      "application/vnd.jupyter.widget-view+json": {
       "model_id": "6a70c23c83ee4f9cb8dbe0632a0f99da",
       "version_major": 2,
       "version_minor": 0
      },
      "text/plain": [
       "0it [00:00, ?it/s]"
      ]
     },
     "metadata": {},
     "output_type": "display_data"
    },
    {
     "name": "stdout",
     "output_type": "stream",
     "text": [
      "{'cap-shape': 'flat', 'cap-surface': 'fibrous', 'cap-color': 'yellow', 'bruises': 'no', 'odor': 'foul', 'gill-attachment': 'free', 'gill-spacing': 'close', 'gill-size': 'broad', 'gill-color': 'pink', 'stalk-shape': 'enlarging', 'stalk-root': 'bulbous', 'stalk-surface-above-ring': 'silky', 'stalk-surface-below-ring': 'silky', 'stalk-color-above-ring': 'brown', 'stalk-color-below-ring': 'buff', 'veil-color': 'white', 'ring-number': 'one', 'ring-type': 'large', 'spore-print-color': 'chocolate', 'population': 'solitary', 'habitat': 'grasses'}\n"
     ]
    },
    {
     "data": {
      "application/vnd.jupyter.widget-view+json": {
       "model_id": "f5f02ef772aa4beba4605595655be152",
       "version_major": 2,
       "version_minor": 0
      },
      "text/plain": [
       "0it [00:00, ?it/s]"
      ]
     },
     "metadata": {},
     "output_type": "display_data"
    },
    {
     "data": {
      "application/vnd.jupyter.widget-view+json": {
       "model_id": "a6320f2e1cf54671a512589aecf00c46",
       "version_major": 2,
       "version_minor": 0
      },
      "text/plain": [
       "0it [00:00, ?it/s]"
      ]
     },
     "metadata": {},
     "output_type": "display_data"
    },
    {
     "name": "stdout",
     "output_type": "stream",
     "text": [
      "{'cap-shape': 'flat', 'cap-surface': 'smooth', 'cap-color': 'brown', 'bruises': 'no', 'odor': 'none', 'gill-attachment': 'free', 'gill-spacing': 'crowded', 'gill-size': 'broad', 'gill-color': 'brown', 'stalk-shape': 'tapering', 'stalk-root': 'equal', 'stalk-surface-above-ring': 'smooth', 'stalk-surface-below-ring': 'fibrous', 'stalk-color-above-ring': 'white', 'stalk-color-below-ring': 'white', 'veil-color': 'white', 'ring-number': 'one', 'ring-type': 'evanescent', 'spore-print-color': 'brown', 'population': 'scattered', 'habitat': 'grasses'}\n"
     ]
    },
    {
     "data": {
      "application/vnd.jupyter.widget-view+json": {
       "model_id": "099dee6ba7914242ae45bf43311e49c5",
       "version_major": 2,
       "version_minor": 0
      },
      "text/plain": [
       "0it [00:00, ?it/s]"
      ]
     },
     "metadata": {},
     "output_type": "display_data"
    },
    {
     "data": {
      "application/vnd.jupyter.widget-view+json": {
       "model_id": "9d31efde287f4edab511e0d907b423ee",
       "version_major": 2,
       "version_minor": 0
      },
      "text/plain": [
       "0it [00:00, ?it/s]"
      ]
     },
     "metadata": {},
     "output_type": "display_data"
    },
    {
     "name": "stdout",
     "output_type": "stream",
     "text": [
      "{'cap-shape': 'convex', 'cap-surface': 'fibrous', 'cap-color': 'yellow', 'bruises': 'no', 'odor': 'foul', 'gill-attachment': 'free', 'gill-spacing': 'close', 'gill-size': 'broad', 'gill-color': 'pink', 'stalk-shape': 'enlarging', 'stalk-root': 'bulbous', 'stalk-surface-above-ring': 'silky', 'stalk-surface-below-ring': 'silky', 'stalk-color-above-ring': 'buff', 'stalk-color-below-ring': 'buff', 'veil-color': 'white', 'ring-number': 'one', 'ring-type': 'large', 'spore-print-color': 'chocolate', 'population': 'solitary', 'habitat': 'paths'}\n"
     ]
    },
    {
     "data": {
      "application/vnd.jupyter.widget-view+json": {
       "model_id": "18e9881cac71455bb4c4e8588d125927",
       "version_major": 2,
       "version_minor": 0
      },
      "text/plain": [
       "0it [00:00, ?it/s]"
      ]
     },
     "metadata": {},
     "output_type": "display_data"
    },
    {
     "data": {
      "application/vnd.jupyter.widget-view+json": {
       "model_id": "9f003edfe98e46fda302e5657735d0ae",
       "version_major": 2,
       "version_minor": 0
      },
      "text/plain": [
       "0it [00:00, ?it/s]"
      ]
     },
     "metadata": {},
     "output_type": "display_data"
    },
    {
     "name": "stdout",
     "output_type": "stream",
     "text": [
      "{'cap-shape': 'convex', 'cap-surface': 'fibrous', 'cap-color': 'yellow', 'bruises': 'bruises', 'odor': 'almond', 'gill-attachment': 'free', 'gill-spacing': 'crowded', 'gill-size': 'narrow', 'gill-color': 'white', 'stalk-shape': 'tapering', 'stalk-root': 'bulbous', 'stalk-surface-above-ring': 'smooth', 'stalk-surface-below-ring': 'smooth', 'stalk-color-above-ring': 'white', 'stalk-color-below-ring': 'white', 'veil-color': 'white', 'ring-number': 'one', 'ring-type': 'pendant', 'spore-print-color': 'purple', 'population': 'several', 'habitat': 'woods'}\n"
     ]
    },
    {
     "data": {
      "application/vnd.jupyter.widget-view+json": {
       "model_id": "c790c237b6a14e5d9eff51adb66b432d",
       "version_major": 2,
       "version_minor": 0
      },
      "text/plain": [
       "0it [00:00, ?it/s]"
      ]
     },
     "metadata": {},
     "output_type": "display_data"
    },
    {
     "data": {
      "application/vnd.jupyter.widget-view+json": {
       "model_id": "d8b964ff45da4f61b4195079c01986a2",
       "version_major": 2,
       "version_minor": 0
      },
      "text/plain": [
       "0it [00:00, ?it/s]"
      ]
     },
     "metadata": {},
     "output_type": "display_data"
    },
    {
     "name": "stdout",
     "output_type": "stream",
     "text": [
      "{'cap-shape': 'convex', 'cap-surface': 'smooth', 'cap-color': 'white', 'bruises': 'no', 'odor': 'none', 'gill-attachment': 'free', 'gill-spacing': 'crowded', 'gill-size': 'broad', 'gill-color': 'pink', 'stalk-shape': 'enlarging', 'stalk-root': 'equal', 'stalk-surface-above-ring': 'smooth', 'stalk-surface-below-ring': 'silky', 'stalk-color-above-ring': 'white', 'stalk-color-below-ring': 'white', 'veil-color': 'white', 'ring-number': 'two', 'ring-type': 'pendant', 'spore-print-color': 'white', 'population': 'scattered', 'habitat': 'grasses'}\n"
     ]
    },
    {
     "data": {
      "application/vnd.jupyter.widget-view+json": {
       "model_id": "504da76b34744e7781d9cc348b394eb8",
       "version_major": 2,
       "version_minor": 0
      },
      "text/plain": [
       "0it [00:00, ?it/s]"
      ]
     },
     "metadata": {},
     "output_type": "display_data"
    },
    {
     "data": {
      "application/vnd.jupyter.widget-view+json": {
       "model_id": "a9f2af8a0b7245199b644792ef0adebb",
       "version_major": 2,
       "version_minor": 0
      },
      "text/plain": [
       "0it [00:00, ?it/s]"
      ]
     },
     "metadata": {},
     "output_type": "display_data"
    },
    {
     "name": "stdout",
     "output_type": "stream",
     "text": [
      "{'cap-shape': 'convex', 'cap-surface': 'fibrous', 'cap-color': 'brown', 'bruises': 'bruises', 'odor': 'none', 'gill-attachment': 'free', 'gill-spacing': 'close', 'gill-size': 'broad', 'gill-color': 'pink', 'stalk-shape': 'tapering', 'stalk-root': 'bulbous', 'stalk-surface-above-ring': 'smooth', 'stalk-surface-below-ring': 'smooth', 'stalk-color-above-ring': 'white', 'stalk-color-below-ring': 'pink', 'veil-color': 'white', 'ring-number': 'one', 'ring-type': 'pendant', 'spore-print-color': 'black', 'population': 'several', 'habitat': 'woods'}\n"
     ]
    },
    {
     "data": {
      "application/vnd.jupyter.widget-view+json": {
       "model_id": "9dafca3585964daaa5e6781944198d88",
       "version_major": 2,
       "version_minor": 0
      },
      "text/plain": [
       "0it [00:00, ?it/s]"
      ]
     },
     "metadata": {},
     "output_type": "display_data"
    },
    {
     "data": {
      "application/vnd.jupyter.widget-view+json": {
       "model_id": "4bab0dd1fa4a48519ee22a63be040abd",
       "version_major": 2,
       "version_minor": 0
      },
      "text/plain": [
       "0it [00:00, ?it/s]"
      ]
     },
     "metadata": {},
     "output_type": "display_data"
    },
    {
     "name": "stdout",
     "output_type": "stream",
     "text": [
      "{'cap-shape': 'convex', 'cap-surface': 'fibrous', 'cap-color': 'yellow', 'bruises': 'no', 'odor': 'foul', 'gill-attachment': 'free', 'gill-spacing': 'close', 'gill-size': 'broad', 'gill-color': 'pink', 'stalk-shape': 'enlarging', 'stalk-root': 'bulbous', 'stalk-surface-above-ring': 'silky', 'stalk-surface-below-ring': 'silky', 'stalk-color-above-ring': 'brown', 'stalk-color-below-ring': 'brown', 'veil-color': 'white', 'ring-number': 'one', 'ring-type': 'large', 'spore-print-color': 'chocolate', 'population': 'solitary', 'habitat': 'paths'}\n"
     ]
    },
    {
     "data": {
      "application/vnd.jupyter.widget-view+json": {
       "model_id": "05e77152ecb9479496c3ac9929bb7dee",
       "version_major": 2,
       "version_minor": 0
      },
      "text/plain": [
       "0it [00:00, ?it/s]"
      ]
     },
     "metadata": {},
     "output_type": "display_data"
    },
    {
     "data": {
      "application/vnd.jupyter.widget-view+json": {
       "model_id": "7ebd42091ed244b1a720627db3c224f4",
       "version_major": 2,
       "version_minor": 0
      },
      "text/plain": [
       "0it [00:00, ?it/s]"
      ]
     },
     "metadata": {},
     "output_type": "display_data"
    },
    {
     "name": "stdout",
     "output_type": "stream",
     "text": [
      "{'cap-shape': 'flat', 'cap-surface': 'smooth', 'cap-color': 'brown', 'bruises': 'no', 'odor': 'spicy', 'gill-attachment': 'free', 'gill-spacing': 'close', 'gill-size': 'narrow', 'gill-color': 'buff', 'stalk-shape': 'tapering', 'stalk-root': 'bulbous', 'stalk-surface-above-ring': 'silky', 'stalk-surface-below-ring': 'smooth', 'stalk-color-above-ring': 'white', 'stalk-color-below-ring': 'white', 'veil-color': 'white', 'ring-number': 'one', 'ring-type': 'evanescent', 'spore-print-color': 'white', 'population': 'several', 'habitat': 'leaves'}\n"
     ]
    },
    {
     "data": {
      "application/vnd.jupyter.widget-view+json": {
       "model_id": "5f29732cdfa84545a55ae05fdbd38cf9",
       "version_major": 2,
       "version_minor": 0
      },
      "text/plain": [
       "0it [00:00, ?it/s]"
      ]
     },
     "metadata": {},
     "output_type": "display_data"
    },
    {
     "data": {
      "application/vnd.jupyter.widget-view+json": {
       "model_id": "52737807aafd4353994c855b9f6c3ccc",
       "version_major": 2,
       "version_minor": 0
      },
      "text/plain": [
       "0it [00:00, ?it/s]"
      ]
     },
     "metadata": {},
     "output_type": "display_data"
    },
    {
     "name": "stdout",
     "output_type": "stream",
     "text": [
      "{'cap-shape': 'flat', 'cap-surface': 'fibrous', 'cap-color': 'yellow', 'bruises': 'no', 'odor': 'foul', 'gill-attachment': 'free', 'gill-spacing': 'close', 'gill-size': 'broad', 'gill-color': 'pink', 'stalk-shape': 'enlarging', 'stalk-root': 'bulbous', 'stalk-surface-above-ring': 'silky', 'stalk-surface-below-ring': 'silky', 'stalk-color-above-ring': 'pink', 'stalk-color-below-ring': 'brown', 'veil-color': 'white', 'ring-number': 'one', 'ring-type': 'large', 'spore-print-color': 'chocolate', 'population': 'solitary', 'habitat': 'grasses'}\n"
     ]
    },
    {
     "data": {
      "application/vnd.jupyter.widget-view+json": {
       "model_id": "ce1224782f4c4dc9a1fbc9f46eef4183",
       "version_major": 2,
       "version_minor": 0
      },
      "text/plain": [
       "0it [00:00, ?it/s]"
      ]
     },
     "metadata": {},
     "output_type": "display_data"
    },
    {
     "data": {
      "application/vnd.jupyter.widget-view+json": {
       "model_id": "151b86b3b0794849a59a4a35b41979e9",
       "version_major": 2,
       "version_minor": 0
      },
      "text/plain": [
       "0it [00:00, ?it/s]"
      ]
     },
     "metadata": {},
     "output_type": "display_data"
    },
    {
     "name": "stdout",
     "output_type": "stream",
     "text": [
      "{'cap-shape': 'convex', 'cap-surface': 'fibrous', 'cap-color': 'brown', 'bruises': 'bruises', 'odor': 'none', 'gill-attachment': 'free', 'gill-spacing': 'close', 'gill-size': 'broad', 'gill-color': 'purple', 'stalk-shape': 'tapering', 'stalk-root': 'bulbous', 'stalk-surface-above-ring': 'smooth', 'stalk-surface-below-ring': 'smooth', 'stalk-color-above-ring': 'white', 'stalk-color-below-ring': 'gray', 'veil-color': 'white', 'ring-number': 'one', 'ring-type': 'pendant', 'spore-print-color': 'brown', 'population': 'solitary', 'habitat': 'woods'}\n"
     ]
    },
    {
     "data": {
      "application/vnd.jupyter.widget-view+json": {
       "model_id": "d1278280bff84ac7bb307fb269f940a7",
       "version_major": 2,
       "version_minor": 0
      },
      "text/plain": [
       "0it [00:00, ?it/s]"
      ]
     },
     "metadata": {},
     "output_type": "display_data"
    },
    {
     "data": {
      "application/vnd.jupyter.widget-view+json": {
       "model_id": "76f645f47c0345148dfbe4071517422a",
       "version_major": 2,
       "version_minor": 0
      },
      "text/plain": [
       "0it [00:00, ?it/s]"
      ]
     },
     "metadata": {},
     "output_type": "display_data"
    },
    {
     "name": "stdout",
     "output_type": "stream",
     "text": [
      "{'cap-shape': 'knobbed', 'cap-surface': 'smooth', 'cap-color': 'brown', 'bruises': 'no', 'odor': 'none', 'gill-attachment': 'attached', 'gill-spacing': 'close', 'gill-size': 'broad', 'gill-color': 'yellow', 'stalk-shape': 'enlarging', 'stalk-root': 'bulbous', 'stalk-surface-above-ring': 'smooth', 'stalk-surface-below-ring': 'smooth', 'stalk-color-above-ring': 'orange', 'stalk-color-below-ring': 'orange', 'veil-color': 'brown', 'ring-number': 'one', 'ring-type': 'pendant', 'spore-print-color': 'brown', 'population': 'several', 'habitat': 'leaves'}\n"
     ]
    },
    {
     "data": {
      "application/vnd.jupyter.widget-view+json": {
       "model_id": "3a9163065468449c955dfc3a2425ed4b",
       "version_major": 2,
       "version_minor": 0
      },
      "text/plain": [
       "0it [00:00, ?it/s]"
      ]
     },
     "metadata": {},
     "output_type": "display_data"
    },
    {
     "data": {
      "application/vnd.jupyter.widget-view+json": {
       "model_id": "b82408d1265c48f9be084362fd12d90f",
       "version_major": 2,
       "version_minor": 0
      },
      "text/plain": [
       "0it [00:00, ?it/s]"
      ]
     },
     "metadata": {},
     "output_type": "display_data"
    },
    {
     "name": "stdout",
     "output_type": "stream",
     "text": [
      "{'cap-shape': 'convex', 'cap-surface': 'smooth', 'cap-color': 'buff', 'bruises': 'bruises', 'odor': 'foul', 'gill-attachment': 'free', 'gill-spacing': 'close', 'gill-size': 'broad', 'gill-color': 'chocolate', 'stalk-shape': 'tapering', 'stalk-root': 'bulbous', 'stalk-surface-above-ring': 'smooth', 'stalk-surface-below-ring': 'fibrous', 'stalk-color-above-ring': 'white', 'stalk-color-below-ring': 'white', 'veil-color': 'white', 'ring-number': 'one', 'ring-type': 'pendant', 'spore-print-color': 'chocolate', 'population': 'scattered', 'habitat': 'grasses'}\n"
     ]
    },
    {
     "data": {
      "application/vnd.jupyter.widget-view+json": {
       "model_id": "1c06b761e9364962b750b3e03b3930ac",
       "version_major": 2,
       "version_minor": 0
      },
      "text/plain": [
       "0it [00:00, ?it/s]"
      ]
     },
     "metadata": {},
     "output_type": "display_data"
    },
    {
     "data": {
      "application/vnd.jupyter.widget-view+json": {
       "model_id": "4739307b0cab485b97e40a608eecdf3e",
       "version_major": 2,
       "version_minor": 0
      },
      "text/plain": [
       "0it [00:00, ?it/s]"
      ]
     },
     "metadata": {},
     "output_type": "display_data"
    },
    {
     "name": "stdout",
     "output_type": "stream",
     "text": [
      "{'cap-shape': 'convex', 'cap-surface': 'smooth', 'cap-color': 'brown', 'bruises': 'no', 'odor': 'none', 'gill-attachment': 'attached', 'gill-spacing': 'close', 'gill-size': 'broad', 'gill-color': 'yellow', 'stalk-shape': 'enlarging', 'stalk-root': 'bulbous', 'stalk-surface-above-ring': 'smooth', 'stalk-surface-below-ring': 'smooth', 'stalk-color-above-ring': 'orange', 'stalk-color-below-ring': 'orange', 'veil-color': 'orange', 'ring-number': 'one', 'ring-type': 'pendant', 'spore-print-color': 'yellow', 'population': 'clustered', 'habitat': 'leaves'}\n"
     ]
    },
    {
     "data": {
      "application/vnd.jupyter.widget-view+json": {
       "model_id": "352864342a124b31b9a0928d041d8f10",
       "version_major": 2,
       "version_minor": 0
      },
      "text/plain": [
       "0it [00:00, ?it/s]"
      ]
     },
     "metadata": {},
     "output_type": "display_data"
    },
    {
     "data": {
      "application/vnd.jupyter.widget-view+json": {
       "model_id": "224d766f88ad486c9c77318b4caf5676",
       "version_major": 2,
       "version_minor": 0
      },
      "text/plain": [
       "0it [00:00, ?it/s]"
      ]
     },
     "metadata": {},
     "output_type": "display_data"
    },
    {
     "name": "stdout",
     "output_type": "stream",
     "text": [
      "{'cap-shape': 'convex', 'cap-surface': 'fibrous', 'cap-color': 'gray', 'bruises': 'bruises', 'odor': 'none', 'gill-attachment': 'free', 'gill-spacing': 'close', 'gill-size': 'broad', 'gill-color': 'brown', 'stalk-shape': 'tapering', 'stalk-root': 'bulbous', 'stalk-surface-above-ring': 'smooth', 'stalk-surface-below-ring': 'smooth', 'stalk-color-above-ring': 'gray', 'stalk-color-below-ring': 'white', 'veil-color': 'white', 'ring-number': 'one', 'ring-type': 'pendant', 'spore-print-color': 'brown', 'population': 'several', 'habitat': 'woods'}\n"
     ]
    },
    {
     "data": {
      "application/vnd.jupyter.widget-view+json": {
       "model_id": "58e5663380ff463485a549f5c565e066",
       "version_major": 2,
       "version_minor": 0
      },
      "text/plain": [
       "0it [00:00, ?it/s]"
      ]
     },
     "metadata": {},
     "output_type": "display_data"
    },
    {
     "data": {
      "application/vnd.jupyter.widget-view+json": {
       "model_id": "db645291252746599f841a53d435700f",
       "version_major": 2,
       "version_minor": 0
      },
      "text/plain": [
       "0it [00:00, ?it/s]"
      ]
     },
     "metadata": {},
     "output_type": "display_data"
    },
    {
     "name": "stdout",
     "output_type": "stream",
     "text": [
      "{'cap-shape': 'flat', 'cap-surface': 'smooth', 'cap-color': 'yellow', 'bruises': 'bruises', 'odor': 'anise', 'gill-attachment': 'free', 'gill-spacing': 'crowded', 'gill-size': 'narrow', 'gill-color': 'brown', 'stalk-shape': 'tapering', 'stalk-root': 'bulbous', 'stalk-surface-above-ring': 'smooth', 'stalk-surface-below-ring': 'smooth', 'stalk-color-above-ring': 'white', 'stalk-color-below-ring': 'white', 'veil-color': 'white', 'ring-number': 'one', 'ring-type': 'pendant', 'spore-print-color': 'purple', 'population': 'several', 'habitat': 'woods'}\n"
     ]
    },
    {
     "data": {
      "application/vnd.jupyter.widget-view+json": {
       "model_id": "07a1d38ee780486b84b22ca5b839ca3f",
       "version_major": 2,
       "version_minor": 0
      },
      "text/plain": [
       "0it [00:00, ?it/s]"
      ]
     },
     "metadata": {},
     "output_type": "display_data"
    },
    {
     "data": {
      "application/vnd.jupyter.widget-view+json": {
       "model_id": "7294a10403904d3fb5717a51d5dc45ad",
       "version_major": 2,
       "version_minor": 0
      },
      "text/plain": [
       "0it [00:00, ?it/s]"
      ]
     },
     "metadata": {},
     "output_type": "display_data"
    },
    {
     "name": "stdout",
     "output_type": "stream",
     "text": [
      "{'cap-shape': 'flat', 'cap-surface': 'scaly', 'cap-color': 'brown', 'bruises': 'no', 'odor': 'foul', 'gill-attachment': 'free', 'gill-spacing': 'close', 'gill-size': 'narrow', 'gill-color': 'buff', 'stalk-shape': 'tapering', 'stalk-root': 'bulbous', 'stalk-surface-above-ring': 'silky', 'stalk-surface-below-ring': 'smooth', 'stalk-color-above-ring': 'white', 'stalk-color-below-ring': 'pink', 'veil-color': 'white', 'ring-number': 'one', 'ring-type': 'evanescent', 'spore-print-color': 'white', 'population': 'several', 'habitat': 'woods'}\n"
     ]
    },
    {
     "data": {
      "application/vnd.jupyter.widget-view+json": {
       "model_id": "6c354eb773a644bcaeb442d427d316d6",
       "version_major": 2,
       "version_minor": 0
      },
      "text/plain": [
       "0it [00:00, ?it/s]"
      ]
     },
     "metadata": {},
     "output_type": "display_data"
    },
    {
     "data": {
      "application/vnd.jupyter.widget-view+json": {
       "model_id": "cd09b0c284694cf3b37fd48909ba671d",
       "version_major": 2,
       "version_minor": 0
      },
      "text/plain": [
       "0it [00:00, ?it/s]"
      ]
     },
     "metadata": {},
     "output_type": "display_data"
    },
    {
     "name": "stdout",
     "output_type": "stream",
     "text": [
      "{'cap-shape': 'flat', 'cap-surface': 'scaly', 'cap-color': 'gray', 'bruises': 'no', 'odor': 'foul', 'gill-attachment': 'free', 'gill-spacing': 'close', 'gill-size': 'broad', 'gill-color': 'pink', 'stalk-shape': 'enlarging', 'stalk-root': 'bulbous', 'stalk-surface-above-ring': 'silky', 'stalk-surface-below-ring': 'silky', 'stalk-color-above-ring': 'pink', 'stalk-color-below-ring': 'buff', 'veil-color': 'white', 'ring-number': 'one', 'ring-type': 'large', 'spore-print-color': 'chocolate', 'population': 'several', 'habitat': 'woods'}\n"
     ]
    },
    {
     "data": {
      "application/vnd.jupyter.widget-view+json": {
       "model_id": "119d85b4910e4d96b2fdeeed5a813096",
       "version_major": 2,
       "version_minor": 0
      },
      "text/plain": [
       "0it [00:00, ?it/s]"
      ]
     },
     "metadata": {},
     "output_type": "display_data"
    },
    {
     "data": {
      "application/vnd.jupyter.widget-view+json": {
       "model_id": "1cad086116d847f7b458c7b9a6603619",
       "version_major": 2,
       "version_minor": 0
      },
      "text/plain": [
       "0it [00:00, ?it/s]"
      ]
     },
     "metadata": {},
     "output_type": "display_data"
    },
    {
     "name": "stdout",
     "output_type": "stream",
     "text": [
      "{'cap-shape': 'flat', 'cap-surface': 'scaly', 'cap-color': 'brown', 'bruises': 'no', 'odor': 'spicy', 'gill-attachment': 'free', 'gill-spacing': 'close', 'gill-size': 'narrow', 'gill-color': 'buff', 'stalk-shape': 'tapering', 'stalk-root': 'bulbous', 'stalk-surface-above-ring': 'smooth', 'stalk-surface-below-ring': 'smooth', 'stalk-color-above-ring': 'white', 'stalk-color-below-ring': 'white', 'veil-color': 'white', 'ring-number': 'one', 'ring-type': 'evanescent', 'spore-print-color': 'white', 'population': 'several', 'habitat': 'woods'}\n"
     ]
    },
    {
     "data": {
      "application/vnd.jupyter.widget-view+json": {
       "model_id": "9fd56e501cca453e8bf0ac5d80daa4de",
       "version_major": 2,
       "version_minor": 0
      },
      "text/plain": [
       "0it [00:00, ?it/s]"
      ]
     },
     "metadata": {},
     "output_type": "display_data"
    },
    {
     "data": {
      "application/vnd.jupyter.widget-view+json": {
       "model_id": "1b2ff3871b824d3b8dc8fe7dc554b94e",
       "version_major": 2,
       "version_minor": 0
      },
      "text/plain": [
       "0it [00:00, ?it/s]"
      ]
     },
     "metadata": {},
     "output_type": "display_data"
    },
    {
     "name": "stdout",
     "output_type": "stream",
     "text": [
      "{'cap-shape': 'convex', 'cap-surface': 'scaly', 'cap-color': 'brown', 'bruises': 'bruises', 'odor': 'none', 'gill-attachment': 'free', 'gill-spacing': 'close', 'gill-size': 'broad', 'gill-color': 'pink', 'stalk-shape': 'tapering', 'stalk-root': 'bulbous', 'stalk-surface-above-ring': 'smooth', 'stalk-surface-below-ring': 'smooth', 'stalk-color-above-ring': 'pink', 'stalk-color-below-ring': 'pink', 'veil-color': 'white', 'ring-number': 'one', 'ring-type': 'pendant', 'spore-print-color': 'black', 'population': 'solitary', 'habitat': 'woods'}\n"
     ]
    },
    {
     "data": {
      "application/vnd.jupyter.widget-view+json": {
       "model_id": "5ea78ccf695e473c8066c428e8a0c451",
       "version_major": 2,
       "version_minor": 0
      },
      "text/plain": [
       "0it [00:00, ?it/s]"
      ]
     },
     "metadata": {},
     "output_type": "display_data"
    },
    {
     "data": {
      "application/vnd.jupyter.widget-view+json": {
       "model_id": "9b60eb91463c46edb0404e1f3f7f02ac",
       "version_major": 2,
       "version_minor": 0
      },
      "text/plain": [
       "0it [00:00, ?it/s]"
      ]
     },
     "metadata": {},
     "output_type": "display_data"
    },
    {
     "name": "stdout",
     "output_type": "stream",
     "text": [
      "{'cap-shape': 'flat', 'cap-surface': 'smooth', 'cap-color': 'buff', 'bruises': 'bruises', 'odor': 'foul', 'gill-attachment': 'free', 'gill-spacing': 'close', 'gill-size': 'broad', 'gill-color': 'pink', 'stalk-shape': 'tapering', 'stalk-root': 'bulbous', 'stalk-surface-above-ring': 'smooth', 'stalk-surface-below-ring': 'fibrous', 'stalk-color-above-ring': 'white', 'stalk-color-below-ring': 'white', 'veil-color': 'white', 'ring-number': 'one', 'ring-type': 'pendant', 'spore-print-color': 'chocolate', 'population': 'scattered', 'habitat': 'grasses'}\n"
     ]
    },
    {
     "data": {
      "application/vnd.jupyter.widget-view+json": {
       "model_id": "22d451003956404b947525354a313ffb",
       "version_major": 2,
       "version_minor": 0
      },
      "text/plain": [
       "0it [00:00, ?it/s]"
      ]
     },
     "metadata": {},
     "output_type": "display_data"
    },
    {
     "data": {
      "application/vnd.jupyter.widget-view+json": {
       "model_id": "851fbfa02f064b40a68fd641557083dd",
       "version_major": 2,
       "version_minor": 0
      },
      "text/plain": [
       "0it [00:00, ?it/s]"
      ]
     },
     "metadata": {},
     "output_type": "display_data"
    },
    {
     "name": "stdout",
     "output_type": "stream",
     "text": [
      "{'cap-shape': 'flat', 'cap-surface': 'fibrous', 'cap-color': 'brown', 'bruises': 'no', 'odor': 'none', 'gill-attachment': 'free', 'gill-spacing': 'crowded', 'gill-size': 'narrow', 'gill-color': 'white', 'stalk-shape': 'enlarging', 'stalk-root': 'bulbous', 'stalk-surface-above-ring': 'smooth', 'stalk-surface-below-ring': 'fibrous', 'stalk-color-above-ring': 'white', 'stalk-color-below-ring': 'brown', 'veil-color': 'white', 'ring-number': 'one', 'ring-type': 'evanescent', 'spore-print-color': 'white', 'population': 'several', 'habitat': 'leaves'}\n"
     ]
    },
    {
     "data": {
      "application/vnd.jupyter.widget-view+json": {
       "model_id": "92551fc8c1ee4792a9f0c1cfb03a6828",
       "version_major": 2,
       "version_minor": 0
      },
      "text/plain": [
       "0it [00:00, ?it/s]"
      ]
     },
     "metadata": {},
     "output_type": "display_data"
    },
    {
     "data": {
      "application/vnd.jupyter.widget-view+json": {
       "model_id": "3d894087276e45bab547304a6c7d47ff",
       "version_major": 2,
       "version_minor": 0
      },
      "text/plain": [
       "0it [00:00, ?it/s]"
      ]
     },
     "metadata": {},
     "output_type": "display_data"
    },
    {
     "name": "stdout",
     "output_type": "stream",
     "text": [
      "{'cap-shape': 'flat', 'cap-surface': 'smooth', 'cap-color': 'brown', 'bruises': 'no', 'odor': 'fishy', 'gill-attachment': 'free', 'gill-spacing': 'close', 'gill-size': 'narrow', 'gill-color': 'buff', 'stalk-shape': 'tapering', 'stalk-root': 'bulbous', 'stalk-surface-above-ring': 'smooth', 'stalk-surface-below-ring': 'silky', 'stalk-color-above-ring': 'white', 'stalk-color-below-ring': 'pink', 'veil-color': 'white', 'ring-number': 'one', 'ring-type': 'evanescent', 'spore-print-color': 'white', 'population': 'several', 'habitat': 'paths'}\n"
     ]
    },
    {
     "data": {
      "application/vnd.jupyter.widget-view+json": {
       "model_id": "47b49b3a70a44b388298a4501963f885",
       "version_major": 2,
       "version_minor": 0
      },
      "text/plain": [
       "0it [00:00, ?it/s]"
      ]
     },
     "metadata": {},
     "output_type": "display_data"
    },
    {
     "data": {
      "application/vnd.jupyter.widget-view+json": {
       "model_id": "e995ba055ea84a02b72f064fb9470404",
       "version_major": 2,
       "version_minor": 0
      },
      "text/plain": [
       "0it [00:00, ?it/s]"
      ]
     },
     "metadata": {},
     "output_type": "display_data"
    },
    {
     "name": "stdout",
     "output_type": "stream",
     "text": [
      "{'cap-shape': 'bell', 'cap-surface': 'scaly', 'cap-color': 'white', 'bruises': 'bruises', 'odor': 'anise', 'gill-attachment': 'free', 'gill-spacing': 'close', 'gill-size': 'broad', 'gill-color': 'brown', 'stalk-shape': 'enlarging', 'stalk-root': 'club', 'stalk-surface-above-ring': 'smooth', 'stalk-surface-below-ring': 'smooth', 'stalk-color-above-ring': 'white', 'stalk-color-below-ring': 'white', 'veil-color': 'white', 'ring-number': 'one', 'ring-type': 'pendant', 'spore-print-color': 'brown', 'population': 'scattered', 'habitat': 'grasses'}\n"
     ]
    },
    {
     "data": {
      "application/vnd.jupyter.widget-view+json": {
       "model_id": "681535682c9a4a4a84276a0a515e2188",
       "version_major": 2,
       "version_minor": 0
      },
      "text/plain": [
       "0it [00:00, ?it/s]"
      ]
     },
     "metadata": {},
     "output_type": "display_data"
    },
    {
     "data": {
      "application/vnd.jupyter.widget-view+json": {
       "model_id": "8d1b616a5dfb4497aa847665ec032275",
       "version_major": 2,
       "version_minor": 0
      },
      "text/plain": [
       "0it [00:00, ?it/s]"
      ]
     },
     "metadata": {},
     "output_type": "display_data"
    },
    {
     "name": "stdout",
     "output_type": "stream",
     "text": [
      "{'cap-shape': 'flat', 'cap-surface': 'scaly', 'cap-color': 'gray', 'bruises': 'no', 'odor': 'foul', 'gill-attachment': 'free', 'gill-spacing': 'close', 'gill-size': 'broad', 'gill-color': 'pink', 'stalk-shape': 'enlarging', 'stalk-root': 'bulbous', 'stalk-surface-above-ring': 'silky', 'stalk-surface-below-ring': 'silky', 'stalk-color-above-ring': 'buff', 'stalk-color-below-ring': 'buff', 'veil-color': 'white', 'ring-number': 'one', 'ring-type': 'large', 'spore-print-color': 'chocolate', 'population': 'solitary', 'habitat': 'woods'}\n"
     ]
    },
    {
     "data": {
      "application/vnd.jupyter.widget-view+json": {
       "model_id": "37560dcf3fd24e20a48f077b73d57f81",
       "version_major": 2,
       "version_minor": 0
      },
      "text/plain": [
       "0it [00:00, ?it/s]"
      ]
     },
     "metadata": {},
     "output_type": "display_data"
    },
    {
     "data": {
      "application/vnd.jupyter.widget-view+json": {
       "model_id": "1350afacf0ab457eb212c24be071aad6",
       "version_major": 2,
       "version_minor": 0
      },
      "text/plain": [
       "0it [00:00, ?it/s]"
      ]
     },
     "metadata": {},
     "output_type": "display_data"
    },
    {
     "name": "stdout",
     "output_type": "stream",
     "text": [
      "{'cap-shape': 'flat', 'cap-surface': 'scaly', 'cap-color': 'gray', 'bruises': 'no', 'odor': 'foul', 'gill-attachment': 'free', 'gill-spacing': 'close', 'gill-size': 'broad', 'gill-color': 'gray', 'stalk-shape': 'enlarging', 'stalk-root': 'bulbous', 'stalk-surface-above-ring': 'silky', 'stalk-surface-below-ring': 'silky', 'stalk-color-above-ring': 'brown', 'stalk-color-below-ring': 'brown', 'veil-color': 'white', 'ring-number': 'one', 'ring-type': 'large', 'spore-print-color': 'chocolate', 'population': 'solitary', 'habitat': 'paths'}\n"
     ]
    },
    {
     "data": {
      "application/vnd.jupyter.widget-view+json": {
       "model_id": "dd565e5c45b24375ba6e30d66feb94d4",
       "version_major": 2,
       "version_minor": 0
      },
      "text/plain": [
       "0it [00:00, ?it/s]"
      ]
     },
     "metadata": {},
     "output_type": "display_data"
    },
    {
     "data": {
      "application/vnd.jupyter.widget-view+json": {
       "model_id": "f8afaf8926b540878bea394cce1a9e1d",
       "version_major": 2,
       "version_minor": 0
      },
      "text/plain": [
       "0it [00:00, ?it/s]"
      ]
     },
     "metadata": {},
     "output_type": "display_data"
    },
    {
     "name": "stdout",
     "output_type": "stream",
     "text": [
      "{'cap-shape': 'convex', 'cap-surface': 'scaly', 'cap-color': 'gray', 'bruises': 'bruises', 'odor': 'none', 'gill-attachment': 'free', 'gill-spacing': 'close', 'gill-size': 'broad', 'gill-color': 'purple', 'stalk-shape': 'tapering', 'stalk-root': 'bulbous', 'stalk-surface-above-ring': 'smooth', 'stalk-surface-below-ring': 'smooth', 'stalk-color-above-ring': 'gray', 'stalk-color-below-ring': 'pink', 'veil-color': 'white', 'ring-number': 'one', 'ring-type': 'pendant', 'spore-print-color': 'black', 'population': 'several', 'habitat': 'woods'}\n"
     ]
    },
    {
     "data": {
      "application/vnd.jupyter.widget-view+json": {
       "model_id": "3894f8a1b57d4f09a0a6afc6e9a09319",
       "version_major": 2,
       "version_minor": 0
      },
      "text/plain": [
       "0it [00:00, ?it/s]"
      ]
     },
     "metadata": {},
     "output_type": "display_data"
    },
    {
     "data": {
      "application/vnd.jupyter.widget-view+json": {
       "model_id": "99e1d5248a9243cda69332ca49482994",
       "version_major": 2,
       "version_minor": 0
      },
      "text/plain": [
       "0it [00:00, ?it/s]"
      ]
     },
     "metadata": {},
     "output_type": "display_data"
    },
    {
     "name": "stdout",
     "output_type": "stream",
     "text": [
      "{'cap-shape': 'convex', 'cap-surface': 'scaly', 'cap-color': 'red', 'bruises': 'no', 'odor': 'spicy', 'gill-attachment': 'free', 'gill-spacing': 'close', 'gill-size': 'narrow', 'gill-color': 'buff', 'stalk-shape': 'tapering', 'stalk-root': 'bulbous', 'stalk-surface-above-ring': 'silky', 'stalk-surface-below-ring': 'silky', 'stalk-color-above-ring': 'pink', 'stalk-color-below-ring': 'white', 'veil-color': 'white', 'ring-number': 'one', 'ring-type': 'evanescent', 'spore-print-color': 'white', 'population': 'several', 'habitat': 'leaves'}\n"
     ]
    },
    {
     "data": {
      "application/vnd.jupyter.widget-view+json": {
       "model_id": "dbe74bb4491c4037a1346356ce4ea1d6",
       "version_major": 2,
       "version_minor": 0
      },
      "text/plain": [
       "0it [00:00, ?it/s]"
      ]
     },
     "metadata": {},
     "output_type": "display_data"
    },
    {
     "data": {
      "application/vnd.jupyter.widget-view+json": {
       "model_id": "f33f9b55d06343559db3c4ea5b45c500",
       "version_major": 2,
       "version_minor": 0
      },
      "text/plain": [
       "0it [00:00, ?it/s]"
      ]
     },
     "metadata": {},
     "output_type": "display_data"
    },
    {
     "name": "stdout",
     "output_type": "stream",
     "text": [
      "{'cap-shape': 'flat', 'cap-surface': 'fibrous', 'cap-color': 'brown', 'bruises': 'bruises', 'odor': 'none', 'gill-attachment': 'free', 'gill-spacing': 'close', 'gill-size': 'broad', 'gill-color': 'white', 'stalk-shape': 'tapering', 'stalk-root': 'bulbous', 'stalk-surface-above-ring': 'smooth', 'stalk-surface-below-ring': 'smooth', 'stalk-color-above-ring': 'white', 'stalk-color-below-ring': 'white', 'veil-color': 'white', 'ring-number': 'one', 'ring-type': 'pendant', 'spore-print-color': 'brown', 'population': 'solitary', 'habitat': 'woods'}\n"
     ]
    },
    {
     "data": {
      "application/vnd.jupyter.widget-view+json": {
       "model_id": "6020e3d02fc04dd48d5ad0542d6db699",
       "version_major": 2,
       "version_minor": 0
      },
      "text/plain": [
       "0it [00:00, ?it/s]"
      ]
     },
     "metadata": {},
     "output_type": "display_data"
    },
    {
     "data": {
      "application/vnd.jupyter.widget-view+json": {
       "model_id": "3db18d559ff943b38cd521d540922656",
       "version_major": 2,
       "version_minor": 0
      },
      "text/plain": [
       "0it [00:00, ?it/s]"
      ]
     },
     "metadata": {},
     "output_type": "display_data"
    },
    {
     "name": "stdout",
     "output_type": "stream",
     "text": [
      "{'cap-shape': 'flat', 'cap-surface': 'scaly', 'cap-color': 'red', 'bruises': 'bruises', 'odor': 'none', 'gill-attachment': 'free', 'gill-spacing': 'close', 'gill-size': 'broad', 'gill-color': 'purple', 'stalk-shape': 'tapering', 'stalk-root': 'bulbous', 'stalk-surface-above-ring': 'smooth', 'stalk-surface-below-ring': 'smooth', 'stalk-color-above-ring': 'pink', 'stalk-color-below-ring': 'gray', 'veil-color': 'white', 'ring-number': 'one', 'ring-type': 'pendant', 'spore-print-color': 'black', 'population': 'solitary', 'habitat': 'woods'}\n"
     ]
    },
    {
     "data": {
      "application/vnd.jupyter.widget-view+json": {
       "model_id": "b0f56663cc6a4dcf95267634987f3736",
       "version_major": 2,
       "version_minor": 0
      },
      "text/plain": [
       "0it [00:00, ?it/s]"
      ]
     },
     "metadata": {},
     "output_type": "display_data"
    },
    {
     "data": {
      "application/vnd.jupyter.widget-view+json": {
       "model_id": "baa4de4925204f57a592bae499da04c7",
       "version_major": 2,
       "version_minor": 0
      },
      "text/plain": [
       "0it [00:00, ?it/s]"
      ]
     },
     "metadata": {},
     "output_type": "display_data"
    },
    {
     "name": "stdout",
     "output_type": "stream",
     "text": [
      "{'cap-shape': 'flat', 'cap-surface': 'scaly', 'cap-color': 'yellow', 'bruises': 'bruises', 'odor': 'anise', 'gill-attachment': 'free', 'gill-spacing': 'close', 'gill-size': 'broad', 'gill-color': 'white', 'stalk-shape': 'enlarging', 'stalk-root': 'rooted', 'stalk-surface-above-ring': 'smooth', 'stalk-surface-below-ring': 'scaly', 'stalk-color-above-ring': 'white', 'stalk-color-below-ring': 'white', 'veil-color': 'white', 'ring-number': 'one', 'ring-type': 'pendant', 'spore-print-color': 'black', 'population': 'solitary', 'habitat': 'paths'}\n"
     ]
    },
    {
     "data": {
      "application/vnd.jupyter.widget-view+json": {
       "model_id": "b19e1110b24540e88d9a072ba033928e",
       "version_major": 2,
       "version_minor": 0
      },
      "text/plain": [
       "0it [00:00, ?it/s]"
      ]
     },
     "metadata": {},
     "output_type": "display_data"
    },
    {
     "data": {
      "application/vnd.jupyter.widget-view+json": {
       "model_id": "7d7c459c04a345d887edc2ace3df80ba",
       "version_major": 2,
       "version_minor": 0
      },
      "text/plain": [
       "0it [00:00, ?it/s]"
      ]
     },
     "metadata": {},
     "output_type": "display_data"
    },
    {
     "name": "stdout",
     "output_type": "stream",
     "text": [
      "{'cap-shape': 'knobbed', 'cap-surface': 'smooth', 'cap-color': 'red', 'bruises': 'no', 'odor': 'fishy', 'gill-attachment': 'free', 'gill-spacing': 'close', 'gill-size': 'narrow', 'gill-color': 'buff', 'stalk-shape': 'tapering', 'stalk-root': 'bulbous', 'stalk-surface-above-ring': 'smooth', 'stalk-surface-below-ring': 'silky', 'stalk-color-above-ring': 'pink', 'stalk-color-below-ring': 'pink', 'veil-color': 'white', 'ring-number': 'one', 'ring-type': 'evanescent', 'spore-print-color': 'white', 'population': 'several', 'habitat': 'leaves'}\n"
     ]
    },
    {
     "data": {
      "application/vnd.jupyter.widget-view+json": {
       "model_id": "f143a4e1e59b44e885255926abcbf352",
       "version_major": 2,
       "version_minor": 0
      },
      "text/plain": [
       "0it [00:00, ?it/s]"
      ]
     },
     "metadata": {},
     "output_type": "display_data"
    },
    {
     "data": {
      "application/vnd.jupyter.widget-view+json": {
       "model_id": "5f8a660e96b743139d2e2aeead02e1d3",
       "version_major": 2,
       "version_minor": 0
      },
      "text/plain": [
       "0it [00:00, ?it/s]"
      ]
     },
     "metadata": {},
     "output_type": "display_data"
    },
    {
     "name": "stdout",
     "output_type": "stream",
     "text": [
      "{'cap-shape': 'bell', 'cap-surface': 'smooth', 'cap-color': 'white', 'bruises': 'bruises', 'odor': 'anise', 'gill-attachment': 'free', 'gill-spacing': 'close', 'gill-size': 'broad', 'gill-color': 'brown', 'stalk-shape': 'enlarging', 'stalk-root': 'club', 'stalk-surface-above-ring': 'smooth', 'stalk-surface-below-ring': 'smooth', 'stalk-color-above-ring': 'white', 'stalk-color-below-ring': 'white', 'veil-color': 'white', 'ring-number': 'one', 'ring-type': 'pendant', 'spore-print-color': 'brown', 'population': 'numerous', 'habitat': 'grasses'}\n"
     ]
    },
    {
     "data": {
      "application/vnd.jupyter.widget-view+json": {
       "model_id": "736f06b4b10f483bb8ef817f96531ed3",
       "version_major": 2,
       "version_minor": 0
      },
      "text/plain": [
       "0it [00:00, ?it/s]"
      ]
     },
     "metadata": {},
     "output_type": "display_data"
    },
    {
     "data": {
      "application/vnd.jupyter.widget-view+json": {
       "model_id": "f398264cbb8b4f37b988d8460b9719be",
       "version_major": 2,
       "version_minor": 0
      },
      "text/plain": [
       "0it [00:00, ?it/s]"
      ]
     },
     "metadata": {},
     "output_type": "display_data"
    },
    {
     "name": "stdout",
     "output_type": "stream",
     "text": [
      "{'cap-shape': 'flat', 'cap-surface': 'smooth', 'cap-color': 'white', 'bruises': 'no', 'odor': 'none', 'gill-attachment': 'free', 'gill-spacing': 'crowded', 'gill-size': 'broad', 'gill-color': 'chocolate', 'stalk-shape': 'tapering', 'stalk-root': 'equal', 'stalk-surface-above-ring': 'smooth', 'stalk-surface-below-ring': 'smooth', 'stalk-color-above-ring': 'white', 'stalk-color-below-ring': 'white', 'veil-color': 'white', 'ring-number': 'one', 'ring-type': 'evanescent', 'spore-print-color': 'black', 'population': 'abundant', 'habitat': 'grasses'}\n"
     ]
    },
    {
     "data": {
      "application/vnd.jupyter.widget-view+json": {
       "model_id": "f6a17d05f8964546ada30ae7b7259091",
       "version_major": 2,
       "version_minor": 0
      },
      "text/plain": [
       "0it [00:00, ?it/s]"
      ]
     },
     "metadata": {},
     "output_type": "display_data"
    },
    {
     "data": {
      "application/vnd.jupyter.widget-view+json": {
       "model_id": "be106238859441a9a51dc82ed0dac256",
       "version_major": 2,
       "version_minor": 0
      },
      "text/plain": [
       "0it [00:00, ?it/s]"
      ]
     },
     "metadata": {},
     "output_type": "display_data"
    },
    {
     "name": "stdout",
     "output_type": "stream",
     "text": [
      "{'cap-shape': 'convex', 'cap-surface': 'fibrous', 'cap-color': 'white', 'bruises': 'bruises', 'odor': 'almond', 'gill-attachment': 'free', 'gill-spacing': 'crowded', 'gill-size': 'narrow', 'gill-color': 'brown', 'stalk-shape': 'tapering', 'stalk-root': 'bulbous', 'stalk-surface-above-ring': 'smooth', 'stalk-surface-below-ring': 'smooth', 'stalk-color-above-ring': 'white', 'stalk-color-below-ring': 'white', 'veil-color': 'white', 'ring-number': 'one', 'ring-type': 'pendant', 'spore-print-color': 'purple', 'population': 'several', 'habitat': 'woods'}\n"
     ]
    },
    {
     "data": {
      "application/vnd.jupyter.widget-view+json": {
       "model_id": "d454c0a1855b4330a07df40ab76d1eef",
       "version_major": 2,
       "version_minor": 0
      },
      "text/plain": [
       "0it [00:00, ?it/s]"
      ]
     },
     "metadata": {},
     "output_type": "display_data"
    },
    {
     "data": {
      "application/vnd.jupyter.widget-view+json": {
       "model_id": "a12974011c7b42019769f470fe3432ae",
       "version_major": 2,
       "version_minor": 0
      },
      "text/plain": [
       "0it [00:00, ?it/s]"
      ]
     },
     "metadata": {},
     "output_type": "display_data"
    },
    {
     "name": "stdout",
     "output_type": "stream",
     "text": [
      "{'cap-shape': 'flat', 'cap-surface': 'scaly', 'cap-color': 'red', 'bruises': 'bruises', 'odor': 'none', 'gill-attachment': 'free', 'gill-spacing': 'close', 'gill-size': 'broad', 'gill-color': 'white', 'stalk-shape': 'tapering', 'stalk-root': 'bulbous', 'stalk-surface-above-ring': 'smooth', 'stalk-surface-below-ring': 'smooth', 'stalk-color-above-ring': 'pink', 'stalk-color-below-ring': 'gray', 'veil-color': 'white', 'ring-number': 'one', 'ring-type': 'pendant', 'spore-print-color': 'brown', 'population': 'solitary', 'habitat': 'woods'}\n"
     ]
    },
    {
     "data": {
      "application/vnd.jupyter.widget-view+json": {
       "model_id": "31362986844246cb97085f77a2a49621",
       "version_major": 2,
       "version_minor": 0
      },
      "text/plain": [
       "0it [00:00, ?it/s]"
      ]
     },
     "metadata": {},
     "output_type": "display_data"
    },
    {
     "data": {
      "application/vnd.jupyter.widget-view+json": {
       "model_id": "5b5c425598f64e9997b77442972c95c8",
       "version_major": 2,
       "version_minor": 0
      },
      "text/plain": [
       "0it [00:00, ?it/s]"
      ]
     },
     "metadata": {},
     "output_type": "display_data"
    },
    {
     "name": "stdout",
     "output_type": "stream",
     "text": [
      "{'cap-shape': 'flat', 'cap-surface': 'smooth', 'cap-color': 'brown', 'bruises': 'no', 'odor': 'spicy', 'gill-attachment': 'free', 'gill-spacing': 'close', 'gill-size': 'narrow', 'gill-color': 'buff', 'stalk-shape': 'tapering', 'stalk-root': 'bulbous', 'stalk-surface-above-ring': 'smooth', 'stalk-surface-below-ring': 'silky', 'stalk-color-above-ring': 'pink', 'stalk-color-below-ring': 'pink', 'veil-color': 'white', 'ring-number': 'one', 'ring-type': 'evanescent', 'spore-print-color': 'white', 'population': 'several', 'habitat': 'woods'}\n"
     ]
    },
    {
     "data": {
      "application/vnd.jupyter.widget-view+json": {
       "model_id": "d143b07a00bd41e0a504540972a75d1a",
       "version_major": 2,
       "version_minor": 0
      },
      "text/plain": [
       "0it [00:00, ?it/s]"
      ]
     },
     "metadata": {},
     "output_type": "display_data"
    },
    {
     "data": {
      "application/vnd.jupyter.widget-view+json": {
       "model_id": "174f0d18afb240af8c41629f1b104b70",
       "version_major": 2,
       "version_minor": 0
      },
      "text/plain": [
       "0it [00:00, ?it/s]"
      ]
     },
     "metadata": {},
     "output_type": "display_data"
    },
    {
     "name": "stdout",
     "output_type": "stream",
     "text": [
      "{'cap-shape': 'flat', 'cap-surface': 'scaly', 'cap-color': 'gray', 'bruises': 'bruises', 'odor': 'none', 'gill-attachment': 'free', 'gill-spacing': 'close', 'gill-size': 'broad', 'gill-color': 'white', 'stalk-shape': 'tapering', 'stalk-root': 'bulbous', 'stalk-surface-above-ring': 'smooth', 'stalk-surface-below-ring': 'smooth', 'stalk-color-above-ring': 'gray', 'stalk-color-below-ring': 'white', 'veil-color': 'white', 'ring-number': 'one', 'ring-type': 'pendant', 'spore-print-color': 'black', 'population': 'solitary', 'habitat': 'woods'}\n"
     ]
    },
    {
     "data": {
      "application/vnd.jupyter.widget-view+json": {
       "model_id": "9884c5e1d4fe4d84ab02606ce4cb984f",
       "version_major": 2,
       "version_minor": 0
      },
      "text/plain": [
       "0it [00:00, ?it/s]"
      ]
     },
     "metadata": {},
     "output_type": "display_data"
    },
    {
     "data": {
      "application/vnd.jupyter.widget-view+json": {
       "model_id": "77e8c38ba52547138874096b8ca336e2",
       "version_major": 2,
       "version_minor": 0
      },
      "text/plain": [
       "0it [00:00, ?it/s]"
      ]
     },
     "metadata": {},
     "output_type": "display_data"
    },
    {
     "name": "stdout",
     "output_type": "stream",
     "text": [
      "{'cap-shape': 'convex', 'cap-surface': 'scaly', 'cap-color': 'white', 'bruises': 'bruises', 'odor': 'anise', 'gill-attachment': 'free', 'gill-spacing': 'close', 'gill-size': 'broad', 'gill-color': 'white', 'stalk-shape': 'enlarging', 'stalk-root': 'club', 'stalk-surface-above-ring': 'smooth', 'stalk-surface-below-ring': 'smooth', 'stalk-color-above-ring': 'white', 'stalk-color-below-ring': 'white', 'veil-color': 'white', 'ring-number': 'one', 'ring-type': 'pendant', 'spore-print-color': 'brown', 'population': 'scattered', 'habitat': 'meadows'}\n"
     ]
    },
    {
     "data": {
      "application/vnd.jupyter.widget-view+json": {
       "model_id": "79ae36a67dc44aef86b36102a75f7244",
       "version_major": 2,
       "version_minor": 0
      },
      "text/plain": [
       "0it [00:00, ?it/s]"
      ]
     },
     "metadata": {},
     "output_type": "display_data"
    },
    {
     "data": {
      "application/vnd.jupyter.widget-view+json": {
       "model_id": "e4e6eb0db66e4d4aa96b61334af317b4",
       "version_major": 2,
       "version_minor": 0
      },
      "text/plain": [
       "0it [00:00, ?it/s]"
      ]
     },
     "metadata": {},
     "output_type": "display_data"
    },
    {
     "name": "stdout",
     "output_type": "stream",
     "text": [
      "{'cap-shape': 'flat', 'cap-surface': 'fibrous', 'cap-color': 'white', 'bruises': 'no', 'odor': 'none', 'gill-attachment': 'free', 'gill-spacing': 'crowded', 'gill-size': 'broad', 'gill-color': 'black', 'stalk-shape': 'tapering', 'stalk-root': 'equal', 'stalk-surface-above-ring': 'smooth', 'stalk-surface-below-ring': 'fibrous', 'stalk-color-above-ring': 'white', 'stalk-color-below-ring': 'white', 'veil-color': 'white', 'ring-number': 'one', 'ring-type': 'evanescent', 'spore-print-color': 'brown', 'population': 'abundant', 'habitat': 'grasses'}\n"
     ]
    },
    {
     "data": {
      "application/vnd.jupyter.widget-view+json": {
       "model_id": "abcc6a3b85ab481499d3ff27bd46dc1e",
       "version_major": 2,
       "version_minor": 0
      },
      "text/plain": [
       "0it [00:00, ?it/s]"
      ]
     },
     "metadata": {},
     "output_type": "display_data"
    },
    {
     "data": {
      "application/vnd.jupyter.widget-view+json": {
       "model_id": "8c59013d617b4231b3a3954e51e5eafd",
       "version_major": 2,
       "version_minor": 0
      },
      "text/plain": [
       "0it [00:00, ?it/s]"
      ]
     },
     "metadata": {},
     "output_type": "display_data"
    },
    {
     "name": "stdout",
     "output_type": "stream",
     "text": [
      "{'cap-shape': 'flat', 'cap-surface': 'smooth', 'cap-color': 'white', 'bruises': 'no', 'odor': 'none', 'gill-attachment': 'free', 'gill-spacing': 'crowded', 'gill-size': 'broad', 'gill-color': 'brown', 'stalk-shape': 'tapering', 'stalk-root': 'equal', 'stalk-surface-above-ring': 'smooth', 'stalk-surface-below-ring': 'fibrous', 'stalk-color-above-ring': 'white', 'stalk-color-below-ring': 'white', 'veil-color': 'white', 'ring-number': 'one', 'ring-type': 'evanescent', 'spore-print-color': 'brown', 'population': 'abundant', 'habitat': 'grasses'}\n"
     ]
    },
    {
     "data": {
      "application/vnd.jupyter.widget-view+json": {
       "model_id": "535246f6a9604c908343ec947d546ccf",
       "version_major": 2,
       "version_minor": 0
      },
      "text/plain": [
       "0it [00:00, ?it/s]"
      ]
     },
     "metadata": {},
     "output_type": "display_data"
    },
    {
     "data": {
      "application/vnd.jupyter.widget-view+json": {
       "model_id": "4be66b371f6646b59d5c3e86bc40e09e",
       "version_major": 2,
       "version_minor": 0
      },
      "text/plain": [
       "0it [00:00, ?it/s]"
      ]
     },
     "metadata": {},
     "output_type": "display_data"
    },
    {
     "name": "stdout",
     "output_type": "stream",
     "text": [
      "{'cap-shape': 'convex', 'cap-surface': 'smooth', 'cap-color': 'gray', 'bruises': 'no', 'odor': 'none', 'gill-attachment': 'free', 'gill-spacing': 'crowded', 'gill-size': 'broad', 'gill-color': 'chocolate', 'stalk-shape': 'tapering', 'stalk-root': 'equal', 'stalk-surface-above-ring': 'smooth', 'stalk-surface-below-ring': 'fibrous', 'stalk-color-above-ring': 'white', 'stalk-color-below-ring': 'white', 'veil-color': 'white', 'ring-number': 'one', 'ring-type': 'evanescent', 'spore-print-color': 'brown', 'population': 'abundant', 'habitat': 'grasses'}\n"
     ]
    },
    {
     "data": {
      "application/vnd.jupyter.widget-view+json": {
       "model_id": "117bdbc814f34966b58ff3d50487c5e4",
       "version_major": 2,
       "version_minor": 0
      },
      "text/plain": [
       "0it [00:00, ?it/s]"
      ]
     },
     "metadata": {},
     "output_type": "display_data"
    },
    {
     "data": {
      "application/vnd.jupyter.widget-view+json": {
       "model_id": "39408489c0e341d5b3e65170f5548de9",
       "version_major": 2,
       "version_minor": 0
      },
      "text/plain": [
       "0it [00:00, ?it/s]"
      ]
     },
     "metadata": {},
     "output_type": "display_data"
    },
    {
     "name": "stdout",
     "output_type": "stream",
     "text": [
      "{'cap-shape': 'convex', 'cap-surface': 'smooth', 'cap-color': 'white', 'bruises': 'bruises', 'odor': 'anise', 'gill-attachment': 'free', 'gill-spacing': 'close', 'gill-size': 'broad', 'gill-color': 'brown', 'stalk-shape': 'enlarging', 'stalk-root': 'club', 'stalk-surface-above-ring': 'smooth', 'stalk-surface-below-ring': 'smooth', 'stalk-color-above-ring': 'white', 'stalk-color-below-ring': 'white', 'veil-color': 'white', 'ring-number': 'one', 'ring-type': 'pendant', 'spore-print-color': 'brown', 'population': 'numerous', 'habitat': 'meadows'}\n"
     ]
    },
    {
     "data": {
      "application/vnd.jupyter.widget-view+json": {
       "model_id": "159d0fe2ec1b40fdb03c2f454dbcf5bd",
       "version_major": 2,
       "version_minor": 0
      },
      "text/plain": [
       "0it [00:00, ?it/s]"
      ]
     },
     "metadata": {},
     "output_type": "display_data"
    },
    {
     "data": {
      "application/vnd.jupyter.widget-view+json": {
       "model_id": "9a2b0e3a67344ccd94f7db9b12896543",
       "version_major": 2,
       "version_minor": 0
      },
      "text/plain": [
       "0it [00:00, ?it/s]"
      ]
     },
     "metadata": {},
     "output_type": "display_data"
    },
    {
     "name": "stdout",
     "output_type": "stream",
     "text": [
      "{'cap-shape': 'knobbed', 'cap-surface': 'scaly', 'cap-color': 'red', 'bruises': 'no', 'odor': 'foul', 'gill-attachment': 'free', 'gill-spacing': 'close', 'gill-size': 'narrow', 'gill-color': 'buff', 'stalk-shape': 'tapering', 'stalk-root': 'bulbous', 'stalk-surface-above-ring': 'smooth', 'stalk-surface-below-ring': 'silky', 'stalk-color-above-ring': 'white', 'stalk-color-below-ring': 'pink', 'veil-color': 'white', 'ring-number': 'one', 'ring-type': 'evanescent', 'spore-print-color': 'white', 'population': 'several', 'habitat': 'leaves'}\n"
     ]
    },
    {
     "data": {
      "application/vnd.jupyter.widget-view+json": {
       "model_id": "483cc9433ca747b498863a6fae510e07",
       "version_major": 2,
       "version_minor": 0
      },
      "text/plain": [
       "0it [00:00, ?it/s]"
      ]
     },
     "metadata": {},
     "output_type": "display_data"
    },
    {
     "data": {
      "application/vnd.jupyter.widget-view+json": {
       "model_id": "4b3f092a77714d4b914040f8bfcf5797",
       "version_major": 2,
       "version_minor": 0
      },
      "text/plain": [
       "0it [00:00, ?it/s]"
      ]
     },
     "metadata": {},
     "output_type": "display_data"
    },
    {
     "name": "stdout",
     "output_type": "stream",
     "text": [
      "{'cap-shape': 'flat', 'cap-surface': 'scaly', 'cap-color': 'yellow', 'bruises': 'no', 'odor': 'foul', 'gill-attachment': 'free', 'gill-spacing': 'close', 'gill-size': 'broad', 'gill-color': 'chocolate', 'stalk-shape': 'enlarging', 'stalk-root': 'bulbous', 'stalk-surface-above-ring': 'silky', 'stalk-surface-below-ring': 'silky', 'stalk-color-above-ring': 'brown', 'stalk-color-below-ring': 'brown', 'veil-color': 'white', 'ring-number': 'one', 'ring-type': 'large', 'spore-print-color': 'chocolate', 'population': 'solitary', 'habitat': 'grasses'}\n"
     ]
    },
    {
     "data": {
      "application/vnd.jupyter.widget-view+json": {
       "model_id": "78899169713241e2bd9add6d88c8afc7",
       "version_major": 2,
       "version_minor": 0
      },
      "text/plain": [
       "0it [00:00, ?it/s]"
      ]
     },
     "metadata": {},
     "output_type": "display_data"
    },
    {
     "data": {
      "application/vnd.jupyter.widget-view+json": {
       "model_id": "6310ad74bf5d4174951386329f073a08",
       "version_major": 2,
       "version_minor": 0
      },
      "text/plain": [
       "0it [00:00, ?it/s]"
      ]
     },
     "metadata": {},
     "output_type": "display_data"
    },
    {
     "name": "stdout",
     "output_type": "stream",
     "text": [
      "{'cap-shape': 'convex', 'cap-surface': 'scaly', 'cap-color': 'yellow', 'bruises': 'no', 'odor': 'foul', 'gill-attachment': 'free', 'gill-spacing': 'close', 'gill-size': 'broad', 'gill-color': 'gray', 'stalk-shape': 'enlarging', 'stalk-root': 'bulbous', 'stalk-surface-above-ring': 'silky', 'stalk-surface-below-ring': 'silky', 'stalk-color-above-ring': 'buff', 'stalk-color-below-ring': 'pink', 'veil-color': 'white', 'ring-number': 'one', 'ring-type': 'large', 'spore-print-color': 'chocolate', 'population': 'solitary', 'habitat': 'grasses'}\n"
     ]
    },
    {
     "data": {
      "application/vnd.jupyter.widget-view+json": {
       "model_id": "549488f6323d41729cab10d3c75fa538",
       "version_major": 2,
       "version_minor": 0
      },
      "text/plain": [
       "0it [00:00, ?it/s]"
      ]
     },
     "metadata": {},
     "output_type": "display_data"
    },
    {
     "data": {
      "application/vnd.jupyter.widget-view+json": {
       "model_id": "2615acdcf00b43d9941f0d4f8a32cc0d",
       "version_major": 2,
       "version_minor": 0
      },
      "text/plain": [
       "0it [00:00, ?it/s]"
      ]
     },
     "metadata": {},
     "output_type": "display_data"
    },
    {
     "name": "stdout",
     "output_type": "stream",
     "text": [
      "{'cap-shape': 'flat', 'cap-surface': 'fibrous', 'cap-color': 'gray', 'bruises': 'bruises', 'odor': 'none', 'gill-attachment': 'free', 'gill-spacing': 'close', 'gill-size': 'broad', 'gill-color': 'purple', 'stalk-shape': 'tapering', 'stalk-root': 'bulbous', 'stalk-surface-above-ring': 'smooth', 'stalk-surface-below-ring': 'smooth', 'stalk-color-above-ring': 'pink', 'stalk-color-below-ring': 'white', 'veil-color': 'white', 'ring-number': 'one', 'ring-type': 'pendant', 'spore-print-color': 'black', 'population': 'several', 'habitat': 'woods'}\n"
     ]
    },
    {
     "data": {
      "application/vnd.jupyter.widget-view+json": {
       "model_id": "b42610bbba50417088e4ed8a5211621b",
       "version_major": 2,
       "version_minor": 0
      },
      "text/plain": [
       "0it [00:00, ?it/s]"
      ]
     },
     "metadata": {},
     "output_type": "display_data"
    },
    {
     "data": {
      "application/vnd.jupyter.widget-view+json": {
       "model_id": "3a9e5f235d7142628900d33fdf384fe3",
       "version_major": 2,
       "version_minor": 0
      },
      "text/plain": [
       "0it [00:00, ?it/s]"
      ]
     },
     "metadata": {},
     "output_type": "display_data"
    },
    {
     "name": "stdout",
     "output_type": "stream",
     "text": [
      "{'cap-shape': 'flat', 'cap-surface': 'scaly', 'cap-color': 'red', 'bruises': 'bruises', 'odor': 'none', 'gill-attachment': 'free', 'gill-spacing': 'close', 'gill-size': 'broad', 'gill-color': 'white', 'stalk-shape': 'tapering', 'stalk-root': 'bulbous', 'stalk-surface-above-ring': 'smooth', 'stalk-surface-below-ring': 'smooth', 'stalk-color-above-ring': 'gray', 'stalk-color-below-ring': 'gray', 'veil-color': 'white', 'ring-number': 'one', 'ring-type': 'pendant', 'spore-print-color': 'brown', 'population': 'several', 'habitat': 'woods'}\n"
     ]
    },
    {
     "data": {
      "application/vnd.jupyter.widget-view+json": {
       "model_id": "7dbc33e694d7426c87947f83324335a0",
       "version_major": 2,
       "version_minor": 0
      },
      "text/plain": [
       "0it [00:00, ?it/s]"
      ]
     },
     "metadata": {},
     "output_type": "display_data"
    },
    {
     "data": {
      "application/vnd.jupyter.widget-view+json": {
       "model_id": "9afe732c8ede457d9b21cb66e1c268d3",
       "version_major": 2,
       "version_minor": 0
      },
      "text/plain": [
       "0it [00:00, ?it/s]"
      ]
     },
     "metadata": {},
     "output_type": "display_data"
    },
    {
     "name": "stdout",
     "output_type": "stream",
     "text": [
      "{'cap-shape': 'flat', 'cap-surface': 'scaly', 'cap-color': 'gray', 'bruises': 'bruises', 'odor': 'none', 'gill-attachment': 'free', 'gill-spacing': 'close', 'gill-size': 'broad', 'gill-color': 'white', 'stalk-shape': 'tapering', 'stalk-root': 'bulbous', 'stalk-surface-above-ring': 'smooth', 'stalk-surface-below-ring': 'smooth', 'stalk-color-above-ring': 'white', 'stalk-color-below-ring': 'gray', 'veil-color': 'white', 'ring-number': 'one', 'ring-type': 'pendant', 'spore-print-color': 'black', 'population': 'solitary', 'habitat': 'woods'}\n"
     ]
    },
    {
     "data": {
      "application/vnd.jupyter.widget-view+json": {
       "model_id": "a8f8400e6b494e7282c965694e24ca05",
       "version_major": 2,
       "version_minor": 0
      },
      "text/plain": [
       "0it [00:00, ?it/s]"
      ]
     },
     "metadata": {},
     "output_type": "display_data"
    },
    {
     "data": {
      "application/vnd.jupyter.widget-view+json": {
       "model_id": "ddbc549a39384f7db5d74001c69d04b3",
       "version_major": 2,
       "version_minor": 0
      },
      "text/plain": [
       "0it [00:00, ?it/s]"
      ]
     },
     "metadata": {},
     "output_type": "display_data"
    },
    {
     "name": "stdout",
     "output_type": "stream",
     "text": [
      "{'cap-shape': 'convex', 'cap-surface': 'scaly', 'cap-color': 'brown', 'bruises': 'bruises', 'odor': 'none', 'gill-attachment': 'free', 'gill-spacing': 'close', 'gill-size': 'broad', 'gill-color': 'white', 'stalk-shape': 'tapering', 'stalk-root': 'bulbous', 'stalk-surface-above-ring': 'smooth', 'stalk-surface-below-ring': 'smooth', 'stalk-color-above-ring': 'pink', 'stalk-color-below-ring': 'white', 'veil-color': 'white', 'ring-number': 'one', 'ring-type': 'pendant', 'spore-print-color': 'black', 'population': 'solitary', 'habitat': 'woods'}\n"
     ]
    },
    {
     "data": {
      "application/vnd.jupyter.widget-view+json": {
       "model_id": "aa2ce9a474aa4a6caff7a252209ce188",
       "version_major": 2,
       "version_minor": 0
      },
      "text/plain": [
       "0it [00:00, ?it/s]"
      ]
     },
     "metadata": {},
     "output_type": "display_data"
    },
    {
     "data": {
      "application/vnd.jupyter.widget-view+json": {
       "model_id": "d3e97d32ff7b41568eae07184b75bb89",
       "version_major": 2,
       "version_minor": 0
      },
      "text/plain": [
       "0it [00:00, ?it/s]"
      ]
     },
     "metadata": {},
     "output_type": "display_data"
    },
    {
     "name": "stdout",
     "output_type": "stream",
     "text": [
      "{'cap-shape': 'convex', 'cap-surface': 'fibrous', 'cap-color': 'brown', 'bruises': 'no', 'odor': 'none', 'gill-attachment': 'free', 'gill-spacing': 'crowded', 'gill-size': 'broad', 'gill-color': 'black', 'stalk-shape': 'tapering', 'stalk-root': 'equal', 'stalk-surface-above-ring': 'smooth', 'stalk-surface-below-ring': 'smooth', 'stalk-color-above-ring': 'white', 'stalk-color-below-ring': 'white', 'veil-color': 'white', 'ring-number': 'one', 'ring-type': 'evanescent', 'spore-print-color': 'black', 'population': 'scattered', 'habitat': 'grasses'}\n"
     ]
    },
    {
     "data": {
      "application/vnd.jupyter.widget-view+json": {
       "model_id": "179d4ba676bc42f2a4bc3a43317d4954",
       "version_major": 2,
       "version_minor": 0
      },
      "text/plain": [
       "0it [00:00, ?it/s]"
      ]
     },
     "metadata": {},
     "output_type": "display_data"
    },
    {
     "data": {
      "application/vnd.jupyter.widget-view+json": {
       "model_id": "e1106696062242479f34652e874c51fd",
       "version_major": 2,
       "version_minor": 0
      },
      "text/plain": [
       "0it [00:00, ?it/s]"
      ]
     },
     "metadata": {},
     "output_type": "display_data"
    },
    {
     "name": "stdout",
     "output_type": "stream",
     "text": [
      "{'cap-shape': 'flat', 'cap-surface': 'scaly', 'cap-color': 'gray', 'bruises': 'no', 'odor': 'foul', 'gill-attachment': 'free', 'gill-spacing': 'close', 'gill-size': 'broad', 'gill-color': 'chocolate', 'stalk-shape': 'enlarging', 'stalk-root': 'bulbous', 'stalk-surface-above-ring': 'silky', 'stalk-surface-below-ring': 'silky', 'stalk-color-above-ring': 'brown', 'stalk-color-below-ring': 'buff', 'veil-color': 'white', 'ring-number': 'one', 'ring-type': 'large', 'spore-print-color': 'chocolate', 'population': 'solitary', 'habitat': 'woods'}\n"
     ]
    },
    {
     "data": {
      "application/vnd.jupyter.widget-view+json": {
       "model_id": "87ffd6152fb14b98806df3fa41b847e7",
       "version_major": 2,
       "version_minor": 0
      },
      "text/plain": [
       "0it [00:00, ?it/s]"
      ]
     },
     "metadata": {},
     "output_type": "display_data"
    },
    {
     "data": {
      "application/vnd.jupyter.widget-view+json": {
       "model_id": "51b3b4a6bf5043409b290b83706cc236",
       "version_major": 2,
       "version_minor": 0
      },
      "text/plain": [
       "0it [00:00, ?it/s]"
      ]
     },
     "metadata": {},
     "output_type": "display_data"
    },
    {
     "name": "stdout",
     "output_type": "stream",
     "text": [
      "{'cap-shape': 'convex', 'cap-surface': 'scaly', 'cap-color': 'yellow', 'bruises': 'no', 'odor': 'foul', 'gill-attachment': 'free', 'gill-spacing': 'close', 'gill-size': 'broad', 'gill-color': 'chocolate', 'stalk-shape': 'enlarging', 'stalk-root': 'bulbous', 'stalk-surface-above-ring': 'silky', 'stalk-surface-below-ring': 'silky', 'stalk-color-above-ring': 'pink', 'stalk-color-below-ring': 'brown', 'veil-color': 'white', 'ring-number': 'one', 'ring-type': 'large', 'spore-print-color': 'chocolate', 'population': 'solitary', 'habitat': 'paths'}\n"
     ]
    },
    {
     "data": {
      "application/vnd.jupyter.widget-view+json": {
       "model_id": "cfe1db29809542aabb535f7775f6a009",
       "version_major": 2,
       "version_minor": 0
      },
      "text/plain": [
       "0it [00:00, ?it/s]"
      ]
     },
     "metadata": {},
     "output_type": "display_data"
    },
    {
     "data": {
      "application/vnd.jupyter.widget-view+json": {
       "model_id": "b387fb3e52f44a02a8b97915d5a8e2f4",
       "version_major": 2,
       "version_minor": 0
      },
      "text/plain": [
       "0it [00:00, ?it/s]"
      ]
     },
     "metadata": {},
     "output_type": "display_data"
    },
    {
     "name": "stdout",
     "output_type": "stream",
     "text": [
      "{'cap-shape': 'convex', 'cap-surface': 'scaly', 'cap-color': 'red', 'bruises': 'bruises', 'odor': 'none', 'gill-attachment': 'free', 'gill-spacing': 'close', 'gill-size': 'broad', 'gill-color': 'pink', 'stalk-shape': 'tapering', 'stalk-root': 'bulbous', 'stalk-surface-above-ring': 'smooth', 'stalk-surface-below-ring': 'smooth', 'stalk-color-above-ring': 'pink', 'stalk-color-below-ring': 'pink', 'veil-color': 'white', 'ring-number': 'one', 'ring-type': 'pendant', 'spore-print-color': 'brown', 'population': 'several', 'habitat': 'woods'}\n"
     ]
    },
    {
     "data": {
      "application/vnd.jupyter.widget-view+json": {
       "model_id": "a3d76ab08af24ee6bfda54ab3174f73b",
       "version_major": 2,
       "version_minor": 0
      },
      "text/plain": [
       "0it [00:00, ?it/s]"
      ]
     },
     "metadata": {},
     "output_type": "display_data"
    },
    {
     "data": {
      "application/vnd.jupyter.widget-view+json": {
       "model_id": "154fcd24f4804895936066313e3afde4",
       "version_major": 2,
       "version_minor": 0
      },
      "text/plain": [
       "0it [00:00, ?it/s]"
      ]
     },
     "metadata": {},
     "output_type": "display_data"
    },
    {
     "name": "stdout",
     "output_type": "stream",
     "text": [
      "{'cap-shape': 'flat', 'cap-surface': 'fibrous', 'cap-color': 'gray', 'bruises': 'no', 'odor': 'foul', 'gill-attachment': 'free', 'gill-spacing': 'close', 'gill-size': 'broad', 'gill-color': 'pink', 'stalk-shape': 'enlarging', 'stalk-root': 'bulbous', 'stalk-surface-above-ring': 'silky', 'stalk-surface-below-ring': 'silky', 'stalk-color-above-ring': 'brown', 'stalk-color-below-ring': 'buff', 'veil-color': 'white', 'ring-number': 'one', 'ring-type': 'large', 'spore-print-color': 'chocolate', 'population': 'solitary', 'habitat': 'paths'}\n"
     ]
    },
    {
     "data": {
      "application/vnd.jupyter.widget-view+json": {
       "model_id": "0419611027ba404e9056c0be8ca2773d",
       "version_major": 2,
       "version_minor": 0
      },
      "text/plain": [
       "0it [00:00, ?it/s]"
      ]
     },
     "metadata": {},
     "output_type": "display_data"
    },
    {
     "data": {
      "application/vnd.jupyter.widget-view+json": {
       "model_id": "f3dff45e1eec425bb73eb862ecf1a9dd",
       "version_major": 2,
       "version_minor": 0
      },
      "text/plain": [
       "0it [00:00, ?it/s]"
      ]
     },
     "metadata": {},
     "output_type": "display_data"
    },
    {
     "name": "stdout",
     "output_type": "stream",
     "text": [
      "{'cap-shape': 'convex', 'cap-surface': 'scaly', 'cap-color': 'brown', 'bruises': 'no', 'odor': 'fishy', 'gill-attachment': 'free', 'gill-spacing': 'close', 'gill-size': 'narrow', 'gill-color': 'buff', 'stalk-shape': 'tapering', 'stalk-root': 'bulbous', 'stalk-surface-above-ring': 'smooth', 'stalk-surface-below-ring': 'silky', 'stalk-color-above-ring': 'white', 'stalk-color-below-ring': 'pink', 'veil-color': 'white', 'ring-number': 'one', 'ring-type': 'evanescent', 'spore-print-color': 'white', 'population': 'several', 'habitat': 'paths'}\n"
     ]
    },
    {
     "data": {
      "application/vnd.jupyter.widget-view+json": {
       "model_id": "74def1c06220464f9e7ac1cdb4d23844",
       "version_major": 2,
       "version_minor": 0
      },
      "text/plain": [
       "0it [00:00, ?it/s]"
      ]
     },
     "metadata": {},
     "output_type": "display_data"
    },
    {
     "data": {
      "application/vnd.jupyter.widget-view+json": {
       "model_id": "a3ddb8f655184a1aa0159b49950d6eaa",
       "version_major": 2,
       "version_minor": 0
      },
      "text/plain": [
       "0it [00:00, ?it/s]"
      ]
     },
     "metadata": {},
     "output_type": "display_data"
    },
    {
     "name": "stdout",
     "output_type": "stream",
     "text": [
      "{'cap-shape': 'flat', 'cap-surface': 'smooth', 'cap-color': 'white', 'bruises': 'no', 'odor': 'none', 'gill-attachment': 'free', 'gill-spacing': 'crowded', 'gill-size': 'broad', 'gill-color': 'brown', 'stalk-shape': 'tapering', 'stalk-root': 'equal', 'stalk-surface-above-ring': 'fibrous', 'stalk-surface-below-ring': 'smooth', 'stalk-color-above-ring': 'white', 'stalk-color-below-ring': 'white', 'veil-color': 'white', 'ring-number': 'one', 'ring-type': 'evanescent', 'spore-print-color': 'black', 'population': 'scattered', 'habitat': 'grasses'}\n"
     ]
    },
    {
     "data": {
      "application/vnd.jupyter.widget-view+json": {
       "model_id": "fd5e3e09677a4ebc97ccc4e6a007ae89",
       "version_major": 2,
       "version_minor": 0
      },
      "text/plain": [
       "0it [00:00, ?it/s]"
      ]
     },
     "metadata": {},
     "output_type": "display_data"
    },
    {
     "data": {
      "application/vnd.jupyter.widget-view+json": {
       "model_id": "20b7118cac2b4499b8048badc4867f93",
       "version_major": 2,
       "version_minor": 0
      },
      "text/plain": [
       "0it [00:00, ?it/s]"
      ]
     },
     "metadata": {},
     "output_type": "display_data"
    },
    {
     "name": "stdout",
     "output_type": "stream",
     "text": [
      "{'cap-shape': 'knobbed', 'cap-surface': 'smooth', 'cap-color': 'brown', 'bruises': 'no', 'odor': 'fishy', 'gill-attachment': 'free', 'gill-spacing': 'close', 'gill-size': 'narrow', 'gill-color': 'buff', 'stalk-shape': 'tapering', 'stalk-root': 'bulbous', 'stalk-surface-above-ring': 'silky', 'stalk-surface-below-ring': 'silky', 'stalk-color-above-ring': 'white', 'stalk-color-below-ring': 'pink', 'veil-color': 'white', 'ring-number': 'one', 'ring-type': 'evanescent', 'spore-print-color': 'white', 'population': 'several', 'habitat': 'woods'}\n"
     ]
    },
    {
     "data": {
      "application/vnd.jupyter.widget-view+json": {
       "model_id": "04fac94d60484231a2b0eadf8eee48fd",
       "version_major": 2,
       "version_minor": 0
      },
      "text/plain": [
       "0it [00:00, ?it/s]"
      ]
     },
     "metadata": {},
     "output_type": "display_data"
    },
    {
     "data": {
      "application/vnd.jupyter.widget-view+json": {
       "model_id": "0b819307e08a4759bd361f9734a8707f",
       "version_major": 2,
       "version_minor": 0
      },
      "text/plain": [
       "0it [00:00, ?it/s]"
      ]
     },
     "metadata": {},
     "output_type": "display_data"
    },
    {
     "name": "stdout",
     "output_type": "stream",
     "text": [
      "{'cap-shape': 'convex', 'cap-surface': 'fibrous', 'cap-color': 'gray', 'bruises': 'no', 'odor': 'none', 'gill-attachment': 'free', 'gill-spacing': 'crowded', 'gill-size': 'broad', 'gill-color': 'pink', 'stalk-shape': 'tapering', 'stalk-root': 'equal', 'stalk-surface-above-ring': 'fibrous', 'stalk-surface-below-ring': 'smooth', 'stalk-color-above-ring': 'white', 'stalk-color-below-ring': 'white', 'veil-color': 'white', 'ring-number': 'one', 'ring-type': 'evanescent', 'spore-print-color': 'brown', 'population': 'abundant', 'habitat': 'grasses'}\n"
     ]
    },
    {
     "data": {
      "application/vnd.jupyter.widget-view+json": {
       "model_id": "33bc7f2b295b401c92e20037b103c157",
       "version_major": 2,
       "version_minor": 0
      },
      "text/plain": [
       "0it [00:00, ?it/s]"
      ]
     },
     "metadata": {},
     "output_type": "display_data"
    },
    {
     "data": {
      "application/vnd.jupyter.widget-view+json": {
       "model_id": "52a6a45058f84d039a4480dc880d5b3d",
       "version_major": 2,
       "version_minor": 0
      },
      "text/plain": [
       "0it [00:00, ?it/s]"
      ]
     },
     "metadata": {},
     "output_type": "display_data"
    },
    {
     "name": "stdout",
     "output_type": "stream",
     "text": [
      "{'cap-shape': 'knobbed', 'cap-surface': 'smooth', 'cap-color': 'red', 'bruises': 'no', 'odor': 'foul', 'gill-attachment': 'free', 'gill-spacing': 'close', 'gill-size': 'narrow', 'gill-color': 'buff', 'stalk-shape': 'tapering', 'stalk-root': 'bulbous', 'stalk-surface-above-ring': 'smooth', 'stalk-surface-below-ring': 'silky', 'stalk-color-above-ring': 'white', 'stalk-color-below-ring': 'pink', 'veil-color': 'white', 'ring-number': 'one', 'ring-type': 'evanescent', 'spore-print-color': 'white', 'population': 'several', 'habitat': 'leaves'}\n"
     ]
    },
    {
     "data": {
      "application/vnd.jupyter.widget-view+json": {
       "model_id": "d430c2fd92b547c5bab212a4e3d68930",
       "version_major": 2,
       "version_minor": 0
      },
      "text/plain": [
       "0it [00:00, ?it/s]"
      ]
     },
     "metadata": {},
     "output_type": "display_data"
    },
    {
     "data": {
      "application/vnd.jupyter.widget-view+json": {
       "model_id": "813bf54f31ad4308a1eef8966882a2f2",
       "version_major": 2,
       "version_minor": 0
      },
      "text/plain": [
       "0it [00:00, ?it/s]"
      ]
     },
     "metadata": {},
     "output_type": "display_data"
    },
    {
     "name": "stdout",
     "output_type": "stream",
     "text": [
      "{'cap-shape': 'convex', 'cap-surface': 'scaly', 'cap-color': 'brown', 'bruises': 'bruises', 'odor': 'almond', 'gill-attachment': 'free', 'gill-spacing': 'close', 'gill-size': 'broad', 'gill-color': 'white', 'stalk-shape': 'enlarging', 'stalk-root': 'rooted', 'stalk-surface-above-ring': 'smooth', 'stalk-surface-below-ring': 'scaly', 'stalk-color-above-ring': 'white', 'stalk-color-below-ring': 'white', 'veil-color': 'white', 'ring-number': 'one', 'ring-type': 'pendant', 'spore-print-color': 'brown', 'population': 'solitary', 'habitat': 'paths'}\n"
     ]
    },
    {
     "data": {
      "application/vnd.jupyter.widget-view+json": {
       "model_id": "d78b341521a844df836763b11e800851",
       "version_major": 2,
       "version_minor": 0
      },
      "text/plain": [
       "0it [00:00, ?it/s]"
      ]
     },
     "metadata": {},
     "output_type": "display_data"
    },
    {
     "data": {
      "application/vnd.jupyter.widget-view+json": {
       "model_id": "7352edf35be94f24bc65016f1925789b",
       "version_major": 2,
       "version_minor": 0
      },
      "text/plain": [
       "0it [00:00, ?it/s]"
      ]
     },
     "metadata": {},
     "output_type": "display_data"
    },
    {
     "name": "stdout",
     "output_type": "stream",
     "text": [
      "{'cap-shape': 'knobbed', 'cap-surface': 'smooth', 'cap-color': 'brown', 'bruises': 'no', 'odor': 'spicy', 'gill-attachment': 'free', 'gill-spacing': 'close', 'gill-size': 'narrow', 'gill-color': 'buff', 'stalk-shape': 'tapering', 'stalk-root': 'bulbous', 'stalk-surface-above-ring': 'silky', 'stalk-surface-below-ring': 'silky', 'stalk-color-above-ring': 'white', 'stalk-color-below-ring': 'white', 'veil-color': 'white', 'ring-number': 'one', 'ring-type': 'evanescent', 'spore-print-color': 'white', 'population': 'several', 'habitat': 'woods'}\n"
     ]
    },
    {
     "data": {
      "application/vnd.jupyter.widget-view+json": {
       "model_id": "ed0558cf44614688b2f778bba4a8255c",
       "version_major": 2,
       "version_minor": 0
      },
      "text/plain": [
       "0it [00:00, ?it/s]"
      ]
     },
     "metadata": {},
     "output_type": "display_data"
    },
    {
     "data": {
      "application/vnd.jupyter.widget-view+json": {
       "model_id": "6a8ab0f56ae8485d99d2bea17f6fb8c7",
       "version_major": 2,
       "version_minor": 0
      },
      "text/plain": [
       "0it [00:00, ?it/s]"
      ]
     },
     "metadata": {},
     "output_type": "display_data"
    },
    {
     "name": "stdout",
     "output_type": "stream",
     "text": [
      "{'cap-shape': 'flat', 'cap-surface': 'fibrous', 'cap-color': 'gray', 'bruises': 'no', 'odor': 'foul', 'gill-attachment': 'free', 'gill-spacing': 'close', 'gill-size': 'broad', 'gill-color': 'pink', 'stalk-shape': 'enlarging', 'stalk-root': 'bulbous', 'stalk-surface-above-ring': 'silky', 'stalk-surface-below-ring': 'silky', 'stalk-color-above-ring': 'pink', 'stalk-color-below-ring': 'pink', 'veil-color': 'white', 'ring-number': 'one', 'ring-type': 'large', 'spore-print-color': 'chocolate', 'population': 'several', 'habitat': 'grasses'}\n"
     ]
    },
    {
     "data": {
      "application/vnd.jupyter.widget-view+json": {
       "model_id": "39ce11f2bc00482ba08756bad25f89ad",
       "version_major": 2,
       "version_minor": 0
      },
      "text/plain": [
       "0it [00:00, ?it/s]"
      ]
     },
     "metadata": {},
     "output_type": "display_data"
    },
    {
     "data": {
      "application/vnd.jupyter.widget-view+json": {
       "model_id": "877062a059a345bb810dfe15f5ca63e7",
       "version_major": 2,
       "version_minor": 0
      },
      "text/plain": [
       "0it [00:00, ?it/s]"
      ]
     },
     "metadata": {},
     "output_type": "display_data"
    },
    {
     "name": "stdout",
     "output_type": "stream",
     "text": [
      "{'cap-shape': 'convex', 'cap-surface': 'scaly', 'cap-color': 'yellow', 'bruises': 'no', 'odor': 'foul', 'gill-attachment': 'free', 'gill-spacing': 'close', 'gill-size': 'broad', 'gill-color': 'pink', 'stalk-shape': 'enlarging', 'stalk-root': 'bulbous', 'stalk-surface-above-ring': 'silky', 'stalk-surface-below-ring': 'silky', 'stalk-color-above-ring': 'pink', 'stalk-color-below-ring': 'buff', 'veil-color': 'white', 'ring-number': 'one', 'ring-type': 'large', 'spore-print-color': 'chocolate', 'population': 'solitary', 'habitat': 'grasses'}\n"
     ]
    },
    {
     "data": {
      "application/vnd.jupyter.widget-view+json": {
       "model_id": "cd1e6a0710d24f07895ccf59c70070db",
       "version_major": 2,
       "version_minor": 0
      },
      "text/plain": [
       "0it [00:00, ?it/s]"
      ]
     },
     "metadata": {},
     "output_type": "display_data"
    },
    {
     "data": {
      "application/vnd.jupyter.widget-view+json": {
       "model_id": "d0c790d552634a8484d94b5eeda69d89",
       "version_major": 2,
       "version_minor": 0
      },
      "text/plain": [
       "0it [00:00, ?it/s]"
      ]
     },
     "metadata": {},
     "output_type": "display_data"
    },
    {
     "name": "stdout",
     "output_type": "stream",
     "text": [
      "{'cap-shape': 'convex', 'cap-surface': 'smooth', 'cap-color': 'white', 'bruises': 'bruises', 'odor': 'almond', 'gill-attachment': 'free', 'gill-spacing': 'close', 'gill-size': 'broad', 'gill-color': 'white', 'stalk-shape': 'enlarging', 'stalk-root': 'club', 'stalk-surface-above-ring': 'smooth', 'stalk-surface-below-ring': 'smooth', 'stalk-color-above-ring': 'white', 'stalk-color-below-ring': 'white', 'veil-color': 'white', 'ring-number': 'one', 'ring-type': 'pendant', 'spore-print-color': 'black', 'population': 'scattered', 'habitat': 'meadows'}\n"
     ]
    },
    {
     "data": {
      "application/vnd.jupyter.widget-view+json": {
       "model_id": "db533ac4f711473fbdb2f90bd3193a7d",
       "version_major": 2,
       "version_minor": 0
      },
      "text/plain": [
       "0it [00:00, ?it/s]"
      ]
     },
     "metadata": {},
     "output_type": "display_data"
    },
    {
     "data": {
      "application/vnd.jupyter.widget-view+json": {
       "model_id": "f98008b1791d48f5b71d6b5f788ac4ea",
       "version_major": 2,
       "version_minor": 0
      },
      "text/plain": [
       "0it [00:00, ?it/s]"
      ]
     },
     "metadata": {},
     "output_type": "display_data"
    },
    {
     "name": "stdout",
     "output_type": "stream",
     "text": [
      "{'cap-shape': 'convex', 'cap-surface': 'fibrous', 'cap-color': 'yellow', 'bruises': 'no', 'odor': 'foul', 'gill-attachment': 'free', 'gill-spacing': 'close', 'gill-size': 'broad', 'gill-color': 'chocolate', 'stalk-shape': 'enlarging', 'stalk-root': 'bulbous', 'stalk-surface-above-ring': 'silky', 'stalk-surface-below-ring': 'silky', 'stalk-color-above-ring': 'buff', 'stalk-color-below-ring': 'buff', 'veil-color': 'white', 'ring-number': 'one', 'ring-type': 'large', 'spore-print-color': 'chocolate', 'population': 'solitary', 'habitat': 'grasses'}\n"
     ]
    },
    {
     "data": {
      "application/vnd.jupyter.widget-view+json": {
       "model_id": "74837f5abcde413e8663210f38244ba4",
       "version_major": 2,
       "version_minor": 0
      },
      "text/plain": [
       "0it [00:00, ?it/s]"
      ]
     },
     "metadata": {},
     "output_type": "display_data"
    },
    {
     "data": {
      "application/vnd.jupyter.widget-view+json": {
       "model_id": "c5c4b77661a04e5798f603806a3d83b3",
       "version_major": 2,
       "version_minor": 0
      },
      "text/plain": [
       "0it [00:00, ?it/s]"
      ]
     },
     "metadata": {},
     "output_type": "display_data"
    },
    {
     "name": "stdout",
     "output_type": "stream",
     "text": [
      "{'cap-shape': 'convex', 'cap-surface': 'scaly', 'cap-color': 'red', 'bruises': 'no', 'odor': 'fishy', 'gill-attachment': 'free', 'gill-spacing': 'close', 'gill-size': 'narrow', 'gill-color': 'buff', 'stalk-shape': 'tapering', 'stalk-root': 'bulbous', 'stalk-surface-above-ring': 'silky', 'stalk-surface-below-ring': 'silky', 'stalk-color-above-ring': 'white', 'stalk-color-below-ring': 'pink', 'veil-color': 'white', 'ring-number': 'one', 'ring-type': 'evanescent', 'spore-print-color': 'white', 'population': 'several', 'habitat': 'woods'}\n"
     ]
    },
    {
     "data": {
      "application/vnd.jupyter.widget-view+json": {
       "model_id": "244934a806184eb492e8e93e82c4ff38",
       "version_major": 2,
       "version_minor": 0
      },
      "text/plain": [
       "0it [00:00, ?it/s]"
      ]
     },
     "metadata": {},
     "output_type": "display_data"
    },
    {
     "data": {
      "application/vnd.jupyter.widget-view+json": {
       "model_id": "2445f0b082784ec0aa9594433ab33e5b",
       "version_major": 2,
       "version_minor": 0
      },
      "text/plain": [
       "0it [00:00, ?it/s]"
      ]
     },
     "metadata": {},
     "output_type": "display_data"
    },
    {
     "name": "stdout",
     "output_type": "stream",
     "text": [
      "{'cap-shape': 'flat', 'cap-surface': 'fibrous', 'cap-color': 'gray', 'bruises': 'no', 'odor': 'none', 'gill-attachment': 'free', 'gill-spacing': 'crowded', 'gill-size': 'broad', 'gill-color': 'black', 'stalk-shape': 'tapering', 'stalk-root': 'equal', 'stalk-surface-above-ring': 'fibrous', 'stalk-surface-below-ring': 'fibrous', 'stalk-color-above-ring': 'white', 'stalk-color-below-ring': 'white', 'veil-color': 'white', 'ring-number': 'one', 'ring-type': 'evanescent', 'spore-print-color': 'black', 'population': 'abundant', 'habitat': 'grasses'}\n"
     ]
    },
    {
     "data": {
      "application/vnd.jupyter.widget-view+json": {
       "model_id": "e70bd7cad8f6486e99c8718e392d9bc3",
       "version_major": 2,
       "version_minor": 0
      },
      "text/plain": [
       "0it [00:00, ?it/s]"
      ]
     },
     "metadata": {},
     "output_type": "display_data"
    },
    {
     "data": {
      "application/vnd.jupyter.widget-view+json": {
       "model_id": "cfa3e9b0d1ad47a5b8fc84eab93640ad",
       "version_major": 2,
       "version_minor": 0
      },
      "text/plain": [
       "0it [00:00, ?it/s]"
      ]
     },
     "metadata": {},
     "output_type": "display_data"
    },
    {
     "name": "stdout",
     "output_type": "stream",
     "text": [
      "{'cap-shape': 'flat', 'cap-surface': 'smooth', 'cap-color': 'white', 'bruises': 'bruises', 'odor': 'foul', 'gill-attachment': 'free', 'gill-spacing': 'close', 'gill-size': 'broad', 'gill-color': 'chocolate', 'stalk-shape': 'tapering', 'stalk-root': 'bulbous', 'stalk-surface-above-ring': 'fibrous', 'stalk-surface-below-ring': 'fibrous', 'stalk-color-above-ring': 'white', 'stalk-color-below-ring': 'white', 'veil-color': 'white', 'ring-number': 'one', 'ring-type': 'pendant', 'spore-print-color': 'chocolate', 'population': 'scattered', 'habitat': 'grasses'}\n"
     ]
    },
    {
     "data": {
      "application/vnd.jupyter.widget-view+json": {
       "model_id": "3dab9cb260844168a314be4cb41d17b2",
       "version_major": 2,
       "version_minor": 0
      },
      "text/plain": [
       "0it [00:00, ?it/s]"
      ]
     },
     "metadata": {},
     "output_type": "display_data"
    },
    {
     "data": {
      "application/vnd.jupyter.widget-view+json": {
       "model_id": "a1d55677f76742a8a36d1b4b7bf1a493",
       "version_major": 2,
       "version_minor": 0
      },
      "text/plain": [
       "0it [00:00, ?it/s]"
      ]
     },
     "metadata": {},
     "output_type": "display_data"
    },
    {
     "name": "stdout",
     "output_type": "stream",
     "text": [
      "{'cap-shape': 'knobbed', 'cap-surface': 'scaly', 'cap-color': 'pink', 'bruises': 'bruises', 'odor': 'none', 'gill-attachment': 'free', 'gill-spacing': 'close', 'gill-size': 'broad', 'gill-color': 'white', 'stalk-shape': 'enlarging', 'stalk-root': 'bulbous', 'stalk-surface-above-ring': 'smooth', 'stalk-surface-below-ring': 'smooth', 'stalk-color-above-ring': 'white', 'stalk-color-below-ring': 'red', 'veil-color': 'white', 'ring-number': 'two', 'ring-type': 'evanescent', 'spore-print-color': 'white', 'population': 'clustered', 'habitat': 'waste'}\n"
     ]
    },
    {
     "data": {
      "application/vnd.jupyter.widget-view+json": {
       "model_id": "795673cdfea3488a9e3661d2752b0ce8",
       "version_major": 2,
       "version_minor": 0
      },
      "text/plain": [
       "0it [00:00, ?it/s]"
      ]
     },
     "metadata": {},
     "output_type": "display_data"
    },
    {
     "data": {
      "application/vnd.jupyter.widget-view+json": {
       "model_id": "8dd2340fd34d4e8f96a26940b6083bf6",
       "version_major": 2,
       "version_minor": 0
      },
      "text/plain": [
       "0it [00:00, ?it/s]"
      ]
     },
     "metadata": {},
     "output_type": "display_data"
    },
    {
     "name": "stdout",
     "output_type": "stream",
     "text": [
      "{'cap-shape': 'convex', 'cap-surface': 'scaly', 'cap-color': 'gray', 'bruises': 'no', 'odor': 'foul', 'gill-attachment': 'free', 'gill-spacing': 'close', 'gill-size': 'broad', 'gill-color': 'pink', 'stalk-shape': 'enlarging', 'stalk-root': 'bulbous', 'stalk-surface-above-ring': 'silky', 'stalk-surface-below-ring': 'silky', 'stalk-color-above-ring': 'buff', 'stalk-color-below-ring': 'brown', 'veil-color': 'white', 'ring-number': 'one', 'ring-type': 'large', 'spore-print-color': 'chocolate', 'population': 'solitary', 'habitat': 'grasses'}\n"
     ]
    },
    {
     "data": {
      "application/vnd.jupyter.widget-view+json": {
       "model_id": "4c138e55c81d4b83a87d62fd1a2d4e78",
       "version_major": 2,
       "version_minor": 0
      },
      "text/plain": [
       "0it [00:00, ?it/s]"
      ]
     },
     "metadata": {},
     "output_type": "display_data"
    },
    {
     "data": {
      "application/vnd.jupyter.widget-view+json": {
       "model_id": "5b4af07be677445993c7344a5c892a55",
       "version_major": 2,
       "version_minor": 0
      },
      "text/plain": [
       "0it [00:00, ?it/s]"
      ]
     },
     "metadata": {},
     "output_type": "display_data"
    },
    {
     "name": "stdout",
     "output_type": "stream",
     "text": [
      "{'cap-shape': 'flat', 'cap-surface': 'scaly', 'cap-color': 'brown', 'bruises': 'no', 'odor': 'fishy', 'gill-attachment': 'free', 'gill-spacing': 'close', 'gill-size': 'narrow', 'gill-color': 'buff', 'stalk-shape': 'tapering', 'stalk-root': 'bulbous', 'stalk-surface-above-ring': 'smooth', 'stalk-surface-below-ring': 'silky', 'stalk-color-above-ring': 'white', 'stalk-color-below-ring': 'pink', 'veil-color': 'white', 'ring-number': 'one', 'ring-type': 'evanescent', 'spore-print-color': 'white', 'population': 'several', 'habitat': 'paths'}\n"
     ]
    },
    {
     "data": {
      "application/vnd.jupyter.widget-view+json": {
       "model_id": "93da07b1f9a54c18b9163478f78b2d0f",
       "version_major": 2,
       "version_minor": 0
      },
      "text/plain": [
       "0it [00:00, ?it/s]"
      ]
     },
     "metadata": {},
     "output_type": "display_data"
    },
    {
     "data": {
      "application/vnd.jupyter.widget-view+json": {
       "model_id": "53e7a8096f1b48a8a7723576012b6800",
       "version_major": 2,
       "version_minor": 0
      },
      "text/plain": [
       "0it [00:00, ?it/s]"
      ]
     },
     "metadata": {},
     "output_type": "display_data"
    },
    {
     "name": "stdout",
     "output_type": "stream",
     "text": [
      "{'cap-shape': 'convex', 'cap-surface': 'scaly', 'cap-color': 'yellow', 'bruises': 'bruises', 'odor': 'almond', 'gill-attachment': 'free', 'gill-spacing': 'close', 'gill-size': 'broad', 'gill-color': 'gray', 'stalk-shape': 'enlarging', 'stalk-root': 'club', 'stalk-surface-above-ring': 'smooth', 'stalk-surface-below-ring': 'smooth', 'stalk-color-above-ring': 'white', 'stalk-color-below-ring': 'white', 'veil-color': 'white', 'ring-number': 'one', 'ring-type': 'pendant', 'spore-print-color': 'brown', 'population': 'scattered', 'habitat': 'grasses'}\n"
     ]
    },
    {
     "data": {
      "application/vnd.jupyter.widget-view+json": {
       "model_id": "890e2357ac744b928445bbfb6ee34318",
       "version_major": 2,
       "version_minor": 0
      },
      "text/plain": [
       "0it [00:00, ?it/s]"
      ]
     },
     "metadata": {},
     "output_type": "display_data"
    },
    {
     "data": {
      "application/vnd.jupyter.widget-view+json": {
       "model_id": "3e16fad9ff2b45d9901721df0f44094a",
       "version_major": 2,
       "version_minor": 0
      },
      "text/plain": [
       "0it [00:00, ?it/s]"
      ]
     },
     "metadata": {},
     "output_type": "display_data"
    },
    {
     "name": "stdout",
     "output_type": "stream",
     "text": [
      "{'cap-shape': 'convex', 'cap-surface': 'fibrous', 'cap-color': 'brown', 'bruises': 'bruises', 'odor': 'none', 'gill-attachment': 'free', 'gill-spacing': 'close', 'gill-size': 'broad', 'gill-color': 'white', 'stalk-shape': 'tapering', 'stalk-root': 'bulbous', 'stalk-surface-above-ring': 'smooth', 'stalk-surface-below-ring': 'smooth', 'stalk-color-above-ring': 'pink', 'stalk-color-below-ring': 'white', 'veil-color': 'white', 'ring-number': 'one', 'ring-type': 'pendant', 'spore-print-color': 'brown', 'population': 'several', 'habitat': 'woods'}\n"
     ]
    },
    {
     "data": {
      "application/vnd.jupyter.widget-view+json": {
       "model_id": "67a9612b97d544fe82b2e2fcbc9b7c1b",
       "version_major": 2,
       "version_minor": 0
      },
      "text/plain": [
       "0it [00:00, ?it/s]"
      ]
     },
     "metadata": {},
     "output_type": "display_data"
    },
    {
     "data": {
      "application/vnd.jupyter.widget-view+json": {
       "model_id": "e9432e21709f4cc0abeca039c2888406",
       "version_major": 2,
       "version_minor": 0
      },
      "text/plain": [
       "0it [00:00, ?it/s]"
      ]
     },
     "metadata": {},
     "output_type": "display_data"
    },
    {
     "name": "stdout",
     "output_type": "stream",
     "text": [
      "{'cap-shape': 'convex', 'cap-surface': 'fibrous', 'cap-color': 'white', 'bruises': 'no', 'odor': 'none', 'gill-attachment': 'free', 'gill-spacing': 'crowded', 'gill-size': 'broad', 'gill-color': 'pink', 'stalk-shape': 'tapering', 'stalk-root': 'equal', 'stalk-surface-above-ring': 'smooth', 'stalk-surface-below-ring': 'fibrous', 'stalk-color-above-ring': 'white', 'stalk-color-below-ring': 'white', 'veil-color': 'white', 'ring-number': 'one', 'ring-type': 'evanescent', 'spore-print-color': 'brown', 'population': 'abundant', 'habitat': 'grasses'}\n"
     ]
    },
    {
     "data": {
      "application/vnd.jupyter.widget-view+json": {
       "model_id": "477b32a08dfa4ec49d3494086c444d0b",
       "version_major": 2,
       "version_minor": 0
      },
      "text/plain": [
       "0it [00:00, ?it/s]"
      ]
     },
     "metadata": {},
     "output_type": "display_data"
    },
    {
     "data": {
      "application/vnd.jupyter.widget-view+json": {
       "model_id": "030fc3ad991f44faa74a193f8a7da360",
       "version_major": 2,
       "version_minor": 0
      },
      "text/plain": [
       "0it [00:00, ?it/s]"
      ]
     },
     "metadata": {},
     "output_type": "display_data"
    },
    {
     "name": "stdout",
     "output_type": "stream",
     "text": [
      "{'cap-shape': 'flat', 'cap-surface': 'scaly', 'cap-color': 'gray', 'bruises': 'no', 'odor': 'foul', 'gill-attachment': 'free', 'gill-spacing': 'close', 'gill-size': 'broad', 'gill-color': 'chocolate', 'stalk-shape': 'enlarging', 'stalk-root': 'bulbous', 'stalk-surface-above-ring': 'silky', 'stalk-surface-below-ring': 'silky', 'stalk-color-above-ring': 'buff', 'stalk-color-below-ring': 'buff', 'veil-color': 'white', 'ring-number': 'one', 'ring-type': 'large', 'spore-print-color': 'chocolate', 'population': 'solitary', 'habitat': 'grasses'}\n"
     ]
    },
    {
     "data": {
      "application/vnd.jupyter.widget-view+json": {
       "model_id": "b9b4771e039b466ba2a2224e0276af2f",
       "version_major": 2,
       "version_minor": 0
      },
      "text/plain": [
       "0it [00:00, ?it/s]"
      ]
     },
     "metadata": {},
     "output_type": "display_data"
    },
    {
     "data": {
      "application/vnd.jupyter.widget-view+json": {
       "model_id": "ef813c2649354a91a924c60a2be47c93",
       "version_major": 2,
       "version_minor": 0
      },
      "text/plain": [
       "0it [00:00, ?it/s]"
      ]
     },
     "metadata": {},
     "output_type": "display_data"
    },
    {
     "name": "stdout",
     "output_type": "stream",
     "text": [
      "{'cap-shape': 'flat', 'cap-surface': 'scaly', 'cap-color': 'brown', 'bruises': 'bruises', 'odor': 'none', 'gill-attachment': 'free', 'gill-spacing': 'close', 'gill-size': 'broad', 'gill-color': 'purple', 'stalk-shape': 'tapering', 'stalk-root': 'bulbous', 'stalk-surface-above-ring': 'smooth', 'stalk-surface-below-ring': 'smooth', 'stalk-color-above-ring': 'white', 'stalk-color-below-ring': 'pink', 'veil-color': 'white', 'ring-number': 'one', 'ring-type': 'pendant', 'spore-print-color': 'black', 'population': 'several', 'habitat': 'woods'}\n"
     ]
    },
    {
     "data": {
      "application/vnd.jupyter.widget-view+json": {
       "model_id": "8750c655573943a59eacc562dcfe7f2a",
       "version_major": 2,
       "version_minor": 0
      },
      "text/plain": [
       "0it [00:00, ?it/s]"
      ]
     },
     "metadata": {},
     "output_type": "display_data"
    },
    {
     "data": {
      "application/vnd.jupyter.widget-view+json": {
       "model_id": "b4bfddb597b443949ed417b4d1c9fc1f",
       "version_major": 2,
       "version_minor": 0
      },
      "text/plain": [
       "0it [00:00, ?it/s]"
      ]
     },
     "metadata": {},
     "output_type": "display_data"
    },
    {
     "name": "stdout",
     "output_type": "stream",
     "text": [
      "{'cap-shape': 'flat', 'cap-surface': 'smooth', 'cap-color': 'brown', 'bruises': 'no', 'odor': 'fishy', 'gill-attachment': 'free', 'gill-spacing': 'close', 'gill-size': 'narrow', 'gill-color': 'buff', 'stalk-shape': 'tapering', 'stalk-root': 'bulbous', 'stalk-surface-above-ring': 'smooth', 'stalk-surface-below-ring': 'silky', 'stalk-color-above-ring': 'pink', 'stalk-color-below-ring': 'pink', 'veil-color': 'white', 'ring-number': 'one', 'ring-type': 'evanescent', 'spore-print-color': 'white', 'population': 'several', 'habitat': 'leaves'}\n"
     ]
    },
    {
     "data": {
      "application/vnd.jupyter.widget-view+json": {
       "model_id": "a22e7f34e7e84212bbb1d5a0e03d6ba0",
       "version_major": 2,
       "version_minor": 0
      },
      "text/plain": [
       "0it [00:00, ?it/s]"
      ]
     },
     "metadata": {},
     "output_type": "display_data"
    },
    {
     "data": {
      "application/vnd.jupyter.widget-view+json": {
       "model_id": "7a0d7733a15a4b5abf8b0569717427f3",
       "version_major": 2,
       "version_minor": 0
      },
      "text/plain": [
       "0it [00:00, ?it/s]"
      ]
     },
     "metadata": {},
     "output_type": "display_data"
    },
    {
     "name": "stdout",
     "output_type": "stream",
     "text": [
      "{'cap-shape': 'knobbed', 'cap-surface': 'smooth', 'cap-color': 'brown', 'bruises': 'no', 'odor': 'fishy', 'gill-attachment': 'free', 'gill-spacing': 'close', 'gill-size': 'narrow', 'gill-color': 'buff', 'stalk-shape': 'tapering', 'stalk-root': 'bulbous', 'stalk-surface-above-ring': 'smooth', 'stalk-surface-below-ring': 'silky', 'stalk-color-above-ring': 'white', 'stalk-color-below-ring': 'white', 'veil-color': 'white', 'ring-number': 'one', 'ring-type': 'evanescent', 'spore-print-color': 'white', 'population': 'several', 'habitat': 'woods'}\n"
     ]
    },
    {
     "data": {
      "application/vnd.jupyter.widget-view+json": {
       "model_id": "010b1930a59f4be6889bbdd9c1ebc847",
       "version_major": 2,
       "version_minor": 0
      },
      "text/plain": [
       "0it [00:00, ?it/s]"
      ]
     },
     "metadata": {},
     "output_type": "display_data"
    },
    {
     "data": {
      "application/vnd.jupyter.widget-view+json": {
       "model_id": "4d398740ffcf4cb6acbcb100e2af61a9",
       "version_major": 2,
       "version_minor": 0
      },
      "text/plain": [
       "0it [00:00, ?it/s]"
      ]
     },
     "metadata": {},
     "output_type": "display_data"
    },
    {
     "name": "stdout",
     "output_type": "stream",
     "text": [
      "{'cap-shape': 'flat', 'cap-surface': 'fibrous', 'cap-color': 'brown', 'bruises': 'bruises', 'odor': 'none', 'gill-attachment': 'free', 'gill-spacing': 'close', 'gill-size': 'broad', 'gill-color': 'purple', 'stalk-shape': 'tapering', 'stalk-root': 'bulbous', 'stalk-surface-above-ring': 'smooth', 'stalk-surface-below-ring': 'smooth', 'stalk-color-above-ring': 'pink', 'stalk-color-below-ring': 'white', 'veil-color': 'white', 'ring-number': 'one', 'ring-type': 'pendant', 'spore-print-color': 'brown', 'population': 'several', 'habitat': 'woods'}\n"
     ]
    },
    {
     "data": {
      "application/vnd.jupyter.widget-view+json": {
       "model_id": "216f62941e7541adbe60acb4463b359f",
       "version_major": 2,
       "version_minor": 0
      },
      "text/plain": [
       "0it [00:00, ?it/s]"
      ]
     },
     "metadata": {},
     "output_type": "display_data"
    },
    {
     "data": {
      "application/vnd.jupyter.widget-view+json": {
       "model_id": "2433c5a6bcdc4b92bb5ff4c1f3399b89",
       "version_major": 2,
       "version_minor": 0
      },
      "text/plain": [
       "0it [00:00, ?it/s]"
      ]
     },
     "metadata": {},
     "output_type": "display_data"
    },
    {
     "name": "stdout",
     "output_type": "stream",
     "text": [
      "{'cap-shape': 'flat', 'cap-surface': 'fibrous', 'cap-color': 'gray', 'bruises': 'bruises', 'odor': 'none', 'gill-attachment': 'free', 'gill-spacing': 'close', 'gill-size': 'broad', 'gill-color': 'white', 'stalk-shape': 'tapering', 'stalk-root': 'bulbous', 'stalk-surface-above-ring': 'smooth', 'stalk-surface-below-ring': 'smooth', 'stalk-color-above-ring': 'pink', 'stalk-color-below-ring': 'white', 'veil-color': 'white', 'ring-number': 'one', 'ring-type': 'pendant', 'spore-print-color': 'brown', 'population': 'several', 'habitat': 'woods'}\n"
     ]
    },
    {
     "data": {
      "application/vnd.jupyter.widget-view+json": {
       "model_id": "e3c7c348767e4a3d98dcb9dccb9c9599",
       "version_major": 2,
       "version_minor": 0
      },
      "text/plain": [
       "0it [00:00, ?it/s]"
      ]
     },
     "metadata": {},
     "output_type": "display_data"
    },
    {
     "data": {
      "application/vnd.jupyter.widget-view+json": {
       "model_id": "37661ed5808642999a01481b3dd59403",
       "version_major": 2,
       "version_minor": 0
      },
      "text/plain": [
       "0it [00:00, ?it/s]"
      ]
     },
     "metadata": {},
     "output_type": "display_data"
    },
    {
     "name": "stdout",
     "output_type": "stream",
     "text": [
      "{'cap-shape': 'flat', 'cap-surface': 'scaly', 'cap-color': 'brown', 'bruises': 'no', 'odor': 'musty', 'gill-attachment': 'attached', 'gill-spacing': 'close', 'gill-size': 'broad', 'gill-color': 'yellow', 'stalk-shape': 'enlarging', 'stalk-root': 'club', 'stalk-surface-above-ring': 'silky', 'stalk-surface-below-ring': 'scaly', 'stalk-color-above-ring': 'cinnamon', 'stalk-color-below-ring': 'cinnamon', 'veil-color': 'white', 'ring-number': 'none', 'ring-type': 'none', 'spore-print-color': 'white', 'population': 'clustered', 'habitat': 'woods'}\n"
     ]
    },
    {
     "data": {
      "application/vnd.jupyter.widget-view+json": {
       "model_id": "f4848ff0bf1246c7be7d09b8424daa17",
       "version_major": 2,
       "version_minor": 0
      },
      "text/plain": [
       "0it [00:00, ?it/s]"
      ]
     },
     "metadata": {},
     "output_type": "display_data"
    },
    {
     "data": {
      "application/vnd.jupyter.widget-view+json": {
       "model_id": "18bbe06986454daf9b33b8a801aaa561",
       "version_major": 2,
       "version_minor": 0
      },
      "text/plain": [
       "0it [00:00, ?it/s]"
      ]
     },
     "metadata": {},
     "output_type": "display_data"
    },
    {
     "name": "stdout",
     "output_type": "stream",
     "text": [
      "{'cap-shape': 'knobbed', 'cap-surface': 'scaly', 'cap-color': 'brown', 'bruises': 'no', 'odor': 'fishy', 'gill-attachment': 'free', 'gill-spacing': 'close', 'gill-size': 'narrow', 'gill-color': 'buff', 'stalk-shape': 'tapering', 'stalk-root': 'bulbous', 'stalk-surface-above-ring': 'silky', 'stalk-surface-below-ring': 'smooth', 'stalk-color-above-ring': 'pink', 'stalk-color-below-ring': 'white', 'veil-color': 'white', 'ring-number': 'one', 'ring-type': 'evanescent', 'spore-print-color': 'white', 'population': 'several', 'habitat': 'woods'}\n"
     ]
    },
    {
     "data": {
      "application/vnd.jupyter.widget-view+json": {
       "model_id": "5f05ba55cd4c4a948623b4bd9a66cd33",
       "version_major": 2,
       "version_minor": 0
      },
      "text/plain": [
       "0it [00:00, ?it/s]"
      ]
     },
     "metadata": {},
     "output_type": "display_data"
    },
    {
     "data": {
      "application/vnd.jupyter.widget-view+json": {
       "model_id": "a4e1d567f72b41eb9c9ea2b71f24965c",
       "version_major": 2,
       "version_minor": 0
      },
      "text/plain": [
       "0it [00:00, ?it/s]"
      ]
     },
     "metadata": {},
     "output_type": "display_data"
    },
    {
     "name": "stdout",
     "output_type": "stream",
     "text": [
      "{'cap-shape': 'convex', 'cap-surface': 'fibrous', 'cap-color': 'brown', 'bruises': 'bruises', 'odor': 'none', 'gill-attachment': 'free', 'gill-spacing': 'close', 'gill-size': 'broad', 'gill-color': 'brown', 'stalk-shape': 'tapering', 'stalk-root': 'bulbous', 'stalk-surface-above-ring': 'smooth', 'stalk-surface-below-ring': 'smooth', 'stalk-color-above-ring': 'gray', 'stalk-color-below-ring': 'white', 'veil-color': 'white', 'ring-number': 'one', 'ring-type': 'pendant', 'spore-print-color': 'brown', 'population': 'several', 'habitat': 'woods'}\n"
     ]
    },
    {
     "data": {
      "application/vnd.jupyter.widget-view+json": {
       "model_id": "62edf149b39f467b9679c263d5d908d1",
       "version_major": 2,
       "version_minor": 0
      },
      "text/plain": [
       "0it [00:00, ?it/s]"
      ]
     },
     "metadata": {},
     "output_type": "display_data"
    },
    {
     "data": {
      "application/vnd.jupyter.widget-view+json": {
       "model_id": "1bbecb224f004955be6f144193743990",
       "version_major": 2,
       "version_minor": 0
      },
      "text/plain": [
       "0it [00:00, ?it/s]"
      ]
     },
     "metadata": {},
     "output_type": "display_data"
    },
    {
     "name": "stdout",
     "output_type": "stream",
     "text": [
      "{'cap-shape': 'convex', 'cap-surface': 'scaly', 'cap-color': 'brown', 'bruises': 'no', 'odor': 'foul', 'gill-attachment': 'free', 'gill-spacing': 'close', 'gill-size': 'narrow', 'gill-color': 'buff', 'stalk-shape': 'tapering', 'stalk-root': 'bulbous', 'stalk-surface-above-ring': 'silky', 'stalk-surface-below-ring': 'silky', 'stalk-color-above-ring': 'white', 'stalk-color-below-ring': 'white', 'veil-color': 'white', 'ring-number': 'one', 'ring-type': 'evanescent', 'spore-print-color': 'white', 'population': 'several', 'habitat': 'paths'}\n"
     ]
    },
    {
     "data": {
      "application/vnd.jupyter.widget-view+json": {
       "model_id": "8b3cc8d1498b460baa32f8db337f3e35",
       "version_major": 2,
       "version_minor": 0
      },
      "text/plain": [
       "0it [00:00, ?it/s]"
      ]
     },
     "metadata": {},
     "output_type": "display_data"
    },
    {
     "data": {
      "application/vnd.jupyter.widget-view+json": {
       "model_id": "9c81eb74004c4aff9b72668f39db3d89",
       "version_major": 2,
       "version_minor": 0
      },
      "text/plain": [
       "0it [00:00, ?it/s]"
      ]
     },
     "metadata": {},
     "output_type": "display_data"
    },
    {
     "name": "stdout",
     "output_type": "stream",
     "text": [
      "{'cap-shape': 'convex', 'cap-surface': 'smooth', 'cap-color': 'gray', 'bruises': 'bruises', 'odor': 'foul', 'gill-attachment': 'free', 'gill-spacing': 'close', 'gill-size': 'broad', 'gill-color': 'pink', 'stalk-shape': 'tapering', 'stalk-root': 'bulbous', 'stalk-surface-above-ring': 'smooth', 'stalk-surface-below-ring': 'fibrous', 'stalk-color-above-ring': 'white', 'stalk-color-below-ring': 'white', 'veil-color': 'white', 'ring-number': 'one', 'ring-type': 'pendant', 'spore-print-color': 'chocolate', 'population': 'several', 'habitat': 'grasses'}\n"
     ]
    },
    {
     "data": {
      "application/vnd.jupyter.widget-view+json": {
       "model_id": "e9147e399c3a4da0b1605e3e71be72f6",
       "version_major": 2,
       "version_minor": 0
      },
      "text/plain": [
       "0it [00:00, ?it/s]"
      ]
     },
     "metadata": {},
     "output_type": "display_data"
    },
    {
     "data": {
      "application/vnd.jupyter.widget-view+json": {
       "model_id": "f579965cfc824a3882dd34c9916b3563",
       "version_major": 2,
       "version_minor": 0
      },
      "text/plain": [
       "0it [00:00, ?it/s]"
      ]
     },
     "metadata": {},
     "output_type": "display_data"
    },
    {
     "name": "stdout",
     "output_type": "stream",
     "text": [
      "{'cap-shape': 'convex', 'cap-surface': 'scaly', 'cap-color': 'brown', 'bruises': 'no', 'odor': 'foul', 'gill-attachment': 'free', 'gill-spacing': 'close', 'gill-size': 'narrow', 'gill-color': 'buff', 'stalk-shape': 'tapering', 'stalk-root': 'bulbous', 'stalk-surface-above-ring': 'smooth', 'stalk-surface-below-ring': 'smooth', 'stalk-color-above-ring': 'pink', 'stalk-color-below-ring': 'pink', 'veil-color': 'white', 'ring-number': 'one', 'ring-type': 'evanescent', 'spore-print-color': 'white', 'population': 'several', 'habitat': 'woods'}\n"
     ]
    },
    {
     "data": {
      "application/vnd.jupyter.widget-view+json": {
       "model_id": "f74bfe6f52404f0e938edc6a728d8d29",
       "version_major": 2,
       "version_minor": 0
      },
      "text/plain": [
       "0it [00:00, ?it/s]"
      ]
     },
     "metadata": {},
     "output_type": "display_data"
    },
    {
     "data": {
      "application/vnd.jupyter.widget-view+json": {
       "model_id": "b3b8b589b845467eb34e3e70b438ab81",
       "version_major": 2,
       "version_minor": 0
      },
      "text/plain": [
       "0it [00:00, ?it/s]"
      ]
     },
     "metadata": {},
     "output_type": "display_data"
    },
    {
     "name": "stdout",
     "output_type": "stream",
     "text": [
      "{'cap-shape': 'flat', 'cap-surface': 'scaly', 'cap-color': 'yellow', 'bruises': 'bruises', 'odor': 'almond', 'gill-attachment': 'free', 'gill-spacing': 'close', 'gill-size': 'broad', 'gill-color': 'pink', 'stalk-shape': 'enlarging', 'stalk-root': 'rooted', 'stalk-surface-above-ring': 'smooth', 'stalk-surface-below-ring': 'scaly', 'stalk-color-above-ring': 'white', 'stalk-color-below-ring': 'white', 'veil-color': 'white', 'ring-number': 'one', 'ring-type': 'pendant', 'spore-print-color': 'black', 'population': 'scattered', 'habitat': 'grasses'}\n"
     ]
    },
    {
     "data": {
      "application/vnd.jupyter.widget-view+json": {
       "model_id": "0f2818d70995403c977db8cd0db4fb4b",
       "version_major": 2,
       "version_minor": 0
      },
      "text/plain": [
       "0it [00:00, ?it/s]"
      ]
     },
     "metadata": {},
     "output_type": "display_data"
    },
    {
     "data": {
      "application/vnd.jupyter.widget-view+json": {
       "model_id": "b87e46ebe26d496eafb7b206898ed3b4",
       "version_major": 2,
       "version_minor": 0
      },
      "text/plain": [
       "0it [00:00, ?it/s]"
      ]
     },
     "metadata": {},
     "output_type": "display_data"
    },
    {
     "name": "stdout",
     "output_type": "stream",
     "text": [
      "{'cap-shape': 'convex', 'cap-surface': 'scaly', 'cap-color': 'gray', 'bruises': 'no', 'odor': 'foul', 'gill-attachment': 'free', 'gill-spacing': 'close', 'gill-size': 'broad', 'gill-color': 'gray', 'stalk-shape': 'enlarging', 'stalk-root': 'bulbous', 'stalk-surface-above-ring': 'silky', 'stalk-surface-below-ring': 'silky', 'stalk-color-above-ring': 'pink', 'stalk-color-below-ring': 'buff', 'veil-color': 'white', 'ring-number': 'one', 'ring-type': 'large', 'spore-print-color': 'chocolate', 'population': 'several', 'habitat': 'grasses'}\n"
     ]
    },
    {
     "data": {
      "application/vnd.jupyter.widget-view+json": {
       "model_id": "aa64463645d54391893f7ab6bc74c296",
       "version_major": 2,
       "version_minor": 0
      },
      "text/plain": [
       "0it [00:00, ?it/s]"
      ]
     },
     "metadata": {},
     "output_type": "display_data"
    },
    {
     "data": {
      "application/vnd.jupyter.widget-view+json": {
       "model_id": "f101d0cee1414cf0a2e69460b18b10c4",
       "version_major": 2,
       "version_minor": 0
      },
      "text/plain": [
       "0it [00:00, ?it/s]"
      ]
     },
     "metadata": {},
     "output_type": "display_data"
    },
    {
     "name": "stdout",
     "output_type": "stream",
     "text": [
      "{'cap-shape': 'convex', 'cap-surface': 'scaly', 'cap-color': 'red', 'bruises': 'bruises', 'odor': 'none', 'gill-attachment': 'free', 'gill-spacing': 'close', 'gill-size': 'broad', 'gill-color': 'white', 'stalk-shape': 'tapering', 'stalk-root': 'bulbous', 'stalk-surface-above-ring': 'smooth', 'stalk-surface-below-ring': 'smooth', 'stalk-color-above-ring': 'white', 'stalk-color-below-ring': 'gray', 'veil-color': 'white', 'ring-number': 'one', 'ring-type': 'pendant', 'spore-print-color': 'black', 'population': 'several', 'habitat': 'woods'}\n"
     ]
    },
    {
     "data": {
      "application/vnd.jupyter.widget-view+json": {
       "model_id": "10364b7a443c44e2b808368248f96df4",
       "version_major": 2,
       "version_minor": 0
      },
      "text/plain": [
       "0it [00:00, ?it/s]"
      ]
     },
     "metadata": {},
     "output_type": "display_data"
    },
    {
     "data": {
      "application/vnd.jupyter.widget-view+json": {
       "model_id": "75c6fde92af048929234c649ceabaf59",
       "version_major": 2,
       "version_minor": 0
      },
      "text/plain": [
       "0it [00:00, ?it/s]"
      ]
     },
     "metadata": {},
     "output_type": "display_data"
    },
    {
     "name": "stdout",
     "output_type": "stream",
     "text": [
      "{'cap-shape': 'convex', 'cap-surface': 'fibrous', 'cap-color': 'red', 'bruises': 'bruises', 'odor': 'none', 'gill-attachment': 'free', 'gill-spacing': 'close', 'gill-size': 'broad', 'gill-color': 'purple', 'stalk-shape': 'tapering', 'stalk-root': 'bulbous', 'stalk-surface-above-ring': 'smooth', 'stalk-surface-below-ring': 'smooth', 'stalk-color-above-ring': 'gray', 'stalk-color-below-ring': 'gray', 'veil-color': 'white', 'ring-number': 'one', 'ring-type': 'pendant', 'spore-print-color': 'brown', 'population': 'several', 'habitat': 'woods'}\n"
     ]
    },
    {
     "data": {
      "application/vnd.jupyter.widget-view+json": {
       "model_id": "d6956585d55040d7aa387cd79b768303",
       "version_major": 2,
       "version_minor": 0
      },
      "text/plain": [
       "0it [00:00, ?it/s]"
      ]
     },
     "metadata": {},
     "output_type": "display_data"
    },
    {
     "data": {
      "application/vnd.jupyter.widget-view+json": {
       "model_id": "5234bfa1b60a4ff1bfb8bea13c0dfde5",
       "version_major": 2,
       "version_minor": 0
      },
      "text/plain": [
       "0it [00:00, ?it/s]"
      ]
     },
     "metadata": {},
     "output_type": "display_data"
    },
    {
     "name": "stdout",
     "output_type": "stream",
     "text": [
      "{'cap-shape': 'convex', 'cap-surface': 'fibrous', 'cap-color': 'yellow', 'bruises': 'no', 'odor': 'foul', 'gill-attachment': 'free', 'gill-spacing': 'close', 'gill-size': 'broad', 'gill-color': 'chocolate', 'stalk-shape': 'enlarging', 'stalk-root': 'bulbous', 'stalk-surface-above-ring': 'silky', 'stalk-surface-below-ring': 'silky', 'stalk-color-above-ring': 'pink', 'stalk-color-below-ring': 'brown', 'veil-color': 'white', 'ring-number': 'one', 'ring-type': 'large', 'spore-print-color': 'chocolate', 'population': 'solitary', 'habitat': 'paths'}\n"
     ]
    },
    {
     "data": {
      "application/vnd.jupyter.widget-view+json": {
       "model_id": "5a6c06bf287f48f680632dc03cc28efa",
       "version_major": 2,
       "version_minor": 0
      },
      "text/plain": [
       "0it [00:00, ?it/s]"
      ]
     },
     "metadata": {},
     "output_type": "display_data"
    },
    {
     "data": {
      "application/vnd.jupyter.widget-view+json": {
       "model_id": "42ae0d5357f34c4cb8e2df46dea3bba7",
       "version_major": 2,
       "version_minor": 0
      },
      "text/plain": [
       "0it [00:00, ?it/s]"
      ]
     },
     "metadata": {},
     "output_type": "display_data"
    },
    {
     "name": "stdout",
     "output_type": "stream",
     "text": [
      "{'cap-shape': 'convex', 'cap-surface': 'smooth', 'cap-color': 'buff', 'bruises': 'bruises', 'odor': 'foul', 'gill-attachment': 'free', 'gill-spacing': 'close', 'gill-size': 'broad', 'gill-color': 'pink', 'stalk-shape': 'tapering', 'stalk-root': 'bulbous', 'stalk-surface-above-ring': 'smooth', 'stalk-surface-below-ring': 'fibrous', 'stalk-color-above-ring': 'white', 'stalk-color-below-ring': 'white', 'veil-color': 'white', 'ring-number': 'one', 'ring-type': 'pendant', 'spore-print-color': 'chocolate', 'population': 'several', 'habitat': 'grasses'}\n"
     ]
    },
    {
     "data": {
      "application/vnd.jupyter.widget-view+json": {
       "model_id": "b2c5dd408783480984480ebcc8df8f40",
       "version_major": 2,
       "version_minor": 0
      },
      "text/plain": [
       "0it [00:00, ?it/s]"
      ]
     },
     "metadata": {},
     "output_type": "display_data"
    },
    {
     "data": {
      "application/vnd.jupyter.widget-view+json": {
       "model_id": "9b205df9164e493bb3e6104b99130b18",
       "version_major": 2,
       "version_minor": 0
      },
      "text/plain": [
       "0it [00:00, ?it/s]"
      ]
     },
     "metadata": {},
     "output_type": "display_data"
    },
    {
     "name": "stdout",
     "output_type": "stream",
     "text": [
      "{'cap-shape': 'convex', 'cap-surface': 'smooth', 'cap-color': 'brown', 'bruises': 'no', 'odor': 'foul', 'gill-attachment': 'free', 'gill-spacing': 'close', 'gill-size': 'narrow', 'gill-color': 'buff', 'stalk-shape': 'tapering', 'stalk-root': 'bulbous', 'stalk-surface-above-ring': 'silky', 'stalk-surface-below-ring': 'silky', 'stalk-color-above-ring': 'white', 'stalk-color-below-ring': 'pink', 'veil-color': 'white', 'ring-number': 'one', 'ring-type': 'evanescent', 'spore-print-color': 'white', 'population': 'several', 'habitat': 'leaves'}\n"
     ]
    },
    {
     "data": {
      "application/vnd.jupyter.widget-view+json": {
       "model_id": "111a5ef218f544fe84aac637d257c330",
       "version_major": 2,
       "version_minor": 0
      },
      "text/plain": [
       "0it [00:00, ?it/s]"
      ]
     },
     "metadata": {},
     "output_type": "display_data"
    },
    {
     "data": {
      "application/vnd.jupyter.widget-view+json": {
       "model_id": "8558da40025147e9942af6ebe172d391",
       "version_major": 2,
       "version_minor": 0
      },
      "text/plain": [
       "0it [00:00, ?it/s]"
      ]
     },
     "metadata": {},
     "output_type": "display_data"
    },
    {
     "name": "stdout",
     "output_type": "stream",
     "text": [
      "{'cap-shape': 'convex', 'cap-surface': 'scaly', 'cap-color': 'yellow', 'bruises': 'no', 'odor': 'foul', 'gill-attachment': 'free', 'gill-spacing': 'close', 'gill-size': 'broad', 'gill-color': 'pink', 'stalk-shape': 'enlarging', 'stalk-root': 'bulbous', 'stalk-surface-above-ring': 'silky', 'stalk-surface-below-ring': 'silky', 'stalk-color-above-ring': 'brown', 'stalk-color-below-ring': 'brown', 'veil-color': 'white', 'ring-number': 'one', 'ring-type': 'large', 'spore-print-color': 'chocolate', 'population': 'solitary', 'habitat': 'woods'}\n"
     ]
    },
    {
     "data": {
      "application/vnd.jupyter.widget-view+json": {
       "model_id": "8b3bf7c81c5f4fdda956a8ee5da8421d",
       "version_major": 2,
       "version_minor": 0
      },
      "text/plain": [
       "0it [00:00, ?it/s]"
      ]
     },
     "metadata": {},
     "output_type": "display_data"
    },
    {
     "data": {
      "application/vnd.jupyter.widget-view+json": {
       "model_id": "059bc34e7d244cd780285f9b7656c7a1",
       "version_major": 2,
       "version_minor": 0
      },
      "text/plain": [
       "0it [00:00, ?it/s]"
      ]
     },
     "metadata": {},
     "output_type": "display_data"
    },
    {
     "name": "stdout",
     "output_type": "stream",
     "text": [
      "{'cap-shape': 'flat', 'cap-surface': 'scaly', 'cap-color': 'brown', 'bruises': 'no', 'odor': 'spicy', 'gill-attachment': 'free', 'gill-spacing': 'close', 'gill-size': 'narrow', 'gill-color': 'buff', 'stalk-shape': 'tapering', 'stalk-root': 'bulbous', 'stalk-surface-above-ring': 'silky', 'stalk-surface-below-ring': 'smooth', 'stalk-color-above-ring': 'white', 'stalk-color-below-ring': 'pink', 'veil-color': 'white', 'ring-number': 'one', 'ring-type': 'evanescent', 'spore-print-color': 'white', 'population': 'several', 'habitat': 'paths'}\n"
     ]
    },
    {
     "data": {
      "application/vnd.jupyter.widget-view+json": {
       "model_id": "e7cb4bab87c841efaf414397d211d64b",
       "version_major": 2,
       "version_minor": 0
      },
      "text/plain": [
       "0it [00:00, ?it/s]"
      ]
     },
     "metadata": {},
     "output_type": "display_data"
    },
    {
     "data": {
      "application/vnd.jupyter.widget-view+json": {
       "model_id": "ba132247ae334c30bf403998efc9d0f7",
       "version_major": 2,
       "version_minor": 0
      },
      "text/plain": [
       "0it [00:00, ?it/s]"
      ]
     },
     "metadata": {},
     "output_type": "display_data"
    },
    {
     "name": "stdout",
     "output_type": "stream",
     "text": [
      "{'cap-shape': 'flat', 'cap-surface': 'smooth', 'cap-color': 'white', 'bruises': 'bruises', 'odor': 'pungent', 'gill-attachment': 'free', 'gill-spacing': 'close', 'gill-size': 'narrow', 'gill-color': 'black', 'stalk-shape': 'enlarging', 'stalk-root': 'equal', 'stalk-surface-above-ring': 'smooth', 'stalk-surface-below-ring': 'smooth', 'stalk-color-above-ring': 'white', 'stalk-color-below-ring': 'white', 'veil-color': 'white', 'ring-number': 'one', 'ring-type': 'pendant', 'spore-print-color': 'black', 'population': 'several', 'habitat': 'urban'}\n"
     ]
    },
    {
     "data": {
      "application/vnd.jupyter.widget-view+json": {
       "model_id": "1f885eda310f422589be1f19f5d9c15e",
       "version_major": 2,
       "version_minor": 0
      },
      "text/plain": [
       "0it [00:00, ?it/s]"
      ]
     },
     "metadata": {},
     "output_type": "display_data"
    },
    {
     "data": {
      "application/vnd.jupyter.widget-view+json": {
       "model_id": "4c055442c06a41cc9534dc2e42aa8ef3",
       "version_major": 2,
       "version_minor": 0
      },
      "text/plain": [
       "0it [00:00, ?it/s]"
      ]
     },
     "metadata": {},
     "output_type": "display_data"
    },
    {
     "name": "stdout",
     "output_type": "stream",
     "text": [
      "{'cap-shape': 'convex', 'cap-surface': 'smooth', 'cap-color': 'red', 'bruises': 'no', 'odor': 'spicy', 'gill-attachment': 'free', 'gill-spacing': 'close', 'gill-size': 'narrow', 'gill-color': 'buff', 'stalk-shape': 'tapering', 'stalk-root': 'bulbous', 'stalk-surface-above-ring': 'smooth', 'stalk-surface-below-ring': 'smooth', 'stalk-color-above-ring': 'pink', 'stalk-color-below-ring': 'white', 'veil-color': 'white', 'ring-number': 'one', 'ring-type': 'evanescent', 'spore-print-color': 'white', 'population': 'several', 'habitat': 'woods'}\n"
     ]
    },
    {
     "data": {
      "application/vnd.jupyter.widget-view+json": {
       "model_id": "dffaca9061114a6fa07e90bbd63544cc",
       "version_major": 2,
       "version_minor": 0
      },
      "text/plain": [
       "0it [00:00, ?it/s]"
      ]
     },
     "metadata": {},
     "output_type": "display_data"
    },
    {
     "data": {
      "application/vnd.jupyter.widget-view+json": {
       "model_id": "2ff6847effdb48cd8975db28bf00fed1",
       "version_major": 2,
       "version_minor": 0
      },
      "text/plain": [
       "0it [00:00, ?it/s]"
      ]
     },
     "metadata": {},
     "output_type": "display_data"
    },
    {
     "name": "stdout",
     "output_type": "stream",
     "text": [
      "{'cap-shape': 'flat', 'cap-surface': 'fibrous', 'cap-color': 'gray', 'bruises': 'bruises', 'odor': 'none', 'gill-attachment': 'free', 'gill-spacing': 'close', 'gill-size': 'broad', 'gill-color': 'brown', 'stalk-shape': 'tapering', 'stalk-root': 'bulbous', 'stalk-surface-above-ring': 'smooth', 'stalk-surface-below-ring': 'smooth', 'stalk-color-above-ring': 'white', 'stalk-color-below-ring': 'white', 'veil-color': 'white', 'ring-number': 'one', 'ring-type': 'pendant', 'spore-print-color': 'brown', 'population': 'solitary', 'habitat': 'woods'}\n"
     ]
    },
    {
     "data": {
      "application/vnd.jupyter.widget-view+json": {
       "model_id": "a101a58338e8427cbec924d098de2450",
       "version_major": 2,
       "version_minor": 0
      },
      "text/plain": [
       "0it [00:00, ?it/s]"
      ]
     },
     "metadata": {},
     "output_type": "display_data"
    },
    {
     "data": {
      "application/vnd.jupyter.widget-view+json": {
       "model_id": "149f1d95151e4e83a416a285f5fd5d87",
       "version_major": 2,
       "version_minor": 0
      },
      "text/plain": [
       "0it [00:00, ?it/s]"
      ]
     },
     "metadata": {},
     "output_type": "display_data"
    },
    {
     "name": "stdout",
     "output_type": "stream",
     "text": [
      "{'cap-shape': 'flat', 'cap-surface': 'fibrous', 'cap-color': 'brown', 'bruises': 'no', 'odor': 'none', 'gill-attachment': 'free', 'gill-spacing': 'close', 'gill-size': 'narrow', 'gill-color': 'black', 'stalk-shape': 'enlarging', 'stalk-root': 'equal', 'stalk-surface-above-ring': 'smooth', 'stalk-surface-below-ring': 'smooth', 'stalk-color-above-ring': 'white', 'stalk-color-below-ring': 'white', 'veil-color': 'white', 'ring-number': 'one', 'ring-type': 'pendant', 'spore-print-color': 'brown', 'population': 'several', 'habitat': 'urban'}\n"
     ]
    },
    {
     "data": {
      "application/vnd.jupyter.widget-view+json": {
       "model_id": "fe4cca489808427fa39525023a57ec13",
       "version_major": 2,
       "version_minor": 0
      },
      "text/plain": [
       "0it [00:00, ?it/s]"
      ]
     },
     "metadata": {},
     "output_type": "display_data"
    },
    {
     "data": {
      "application/vnd.jupyter.widget-view+json": {
       "model_id": "2f01dcb67f404fffae52226d634f08a7",
       "version_major": 2,
       "version_minor": 0
      },
      "text/plain": [
       "0it [00:00, ?it/s]"
      ]
     },
     "metadata": {},
     "output_type": "display_data"
    },
    {
     "name": "stdout",
     "output_type": "stream",
     "text": [
      "{'cap-shape': 'convex', 'cap-surface': 'scaly', 'cap-color': 'brown', 'bruises': 'bruises', 'odor': 'none', 'gill-attachment': 'free', 'gill-spacing': 'close', 'gill-size': 'broad', 'gill-color': 'brown', 'stalk-shape': 'tapering', 'stalk-root': 'bulbous', 'stalk-surface-above-ring': 'smooth', 'stalk-surface-below-ring': 'smooth', 'stalk-color-above-ring': 'pink', 'stalk-color-below-ring': 'white', 'veil-color': 'white', 'ring-number': 'one', 'ring-type': 'pendant', 'spore-print-color': 'brown', 'population': 'several', 'habitat': 'woods'}\n"
     ]
    },
    {
     "data": {
      "application/vnd.jupyter.widget-view+json": {
       "model_id": "0fc96a25616347cbb05cf905b9cbf9f5",
       "version_major": 2,
       "version_minor": 0
      },
      "text/plain": [
       "0it [00:00, ?it/s]"
      ]
     },
     "metadata": {},
     "output_type": "display_data"
    },
    {
     "data": {
      "application/vnd.jupyter.widget-view+json": {
       "model_id": "ef028e5ecc92424f820211f9e558fbde",
       "version_major": 2,
       "version_minor": 0
      },
      "text/plain": [
       "0it [00:00, ?it/s]"
      ]
     },
     "metadata": {},
     "output_type": "display_data"
    },
    {
     "name": "stdout",
     "output_type": "stream",
     "text": [
      "{'cap-shape': 'convex', 'cap-surface': 'smooth', 'cap-color': 'brown', 'bruises': 'no', 'odor': 'spicy', 'gill-attachment': 'free', 'gill-spacing': 'close', 'gill-size': 'narrow', 'gill-color': 'buff', 'stalk-shape': 'tapering', 'stalk-root': 'bulbous', 'stalk-surface-above-ring': 'smooth', 'stalk-surface-below-ring': 'smooth', 'stalk-color-above-ring': 'pink', 'stalk-color-below-ring': 'white', 'veil-color': 'white', 'ring-number': 'one', 'ring-type': 'evanescent', 'spore-print-color': 'white', 'population': 'several', 'habitat': 'woods'}\n"
     ]
    },
    {
     "data": {
      "application/vnd.jupyter.widget-view+json": {
       "model_id": "ed91291b052340c985592815b16c9e3f",
       "version_major": 2,
       "version_minor": 0
      },
      "text/plain": [
       "0it [00:00, ?it/s]"
      ]
     },
     "metadata": {},
     "output_type": "display_data"
    },
    {
     "data": {
      "application/vnd.jupyter.widget-view+json": {
       "model_id": "ea6649d0c0604cddbd03e779b4244283",
       "version_major": 2,
       "version_minor": 0
      },
      "text/plain": [
       "0it [00:00, ?it/s]"
      ]
     },
     "metadata": {},
     "output_type": "display_data"
    },
    {
     "name": "stdout",
     "output_type": "stream",
     "text": [
      "{'cap-shape': 'convex', 'cap-surface': 'smooth', 'cap-color': 'yellow', 'bruises': 'bruises', 'odor': 'anise', 'gill-attachment': 'free', 'gill-spacing': 'crowded', 'gill-size': 'narrow', 'gill-color': 'white', 'stalk-shape': 'tapering', 'stalk-root': 'bulbous', 'stalk-surface-above-ring': 'smooth', 'stalk-surface-below-ring': 'smooth', 'stalk-color-above-ring': 'white', 'stalk-color-below-ring': 'white', 'veil-color': 'white', 'ring-number': 'one', 'ring-type': 'pendant', 'spore-print-color': 'purple', 'population': 'several', 'habitat': 'woods'}\n"
     ]
    },
    {
     "data": {
      "application/vnd.jupyter.widget-view+json": {
       "model_id": "c2597af11d54444c9ac913da48114ff2",
       "version_major": 2,
       "version_minor": 0
      },
      "text/plain": [
       "0it [00:00, ?it/s]"
      ]
     },
     "metadata": {},
     "output_type": "display_data"
    },
    {
     "data": {
      "application/vnd.jupyter.widget-view+json": {
       "model_id": "3f5f78d009b749baaa7e81169ae9eefe",
       "version_major": 2,
       "version_minor": 0
      },
      "text/plain": [
       "0it [00:00, ?it/s]"
      ]
     },
     "metadata": {},
     "output_type": "display_data"
    },
    {
     "name": "stdout",
     "output_type": "stream",
     "text": [
      "{'cap-shape': 'convex', 'cap-surface': 'fibrous', 'cap-color': 'yellow', 'bruises': 'no', 'odor': 'foul', 'gill-attachment': 'free', 'gill-spacing': 'close', 'gill-size': 'broad', 'gill-color': 'chocolate', 'stalk-shape': 'enlarging', 'stalk-root': 'bulbous', 'stalk-surface-above-ring': 'silky', 'stalk-surface-below-ring': 'silky', 'stalk-color-above-ring': 'buff', 'stalk-color-below-ring': 'buff', 'veil-color': 'white', 'ring-number': 'one', 'ring-type': 'large', 'spore-print-color': 'chocolate', 'population': 'solitary', 'habitat': 'woods'}\n"
     ]
    },
    {
     "data": {
      "application/vnd.jupyter.widget-view+json": {
       "model_id": "b862e5603fee479e9004ef1fd078dc06",
       "version_major": 2,
       "version_minor": 0
      },
      "text/plain": [
       "0it [00:00, ?it/s]"
      ]
     },
     "metadata": {},
     "output_type": "display_data"
    },
    {
     "data": {
      "application/vnd.jupyter.widget-view+json": {
       "model_id": "423e0124cc344baf9c4774887b0bab12",
       "version_major": 2,
       "version_minor": 0
      },
      "text/plain": [
       "0it [00:00, ?it/s]"
      ]
     },
     "metadata": {},
     "output_type": "display_data"
    },
    {
     "name": "stdout",
     "output_type": "stream",
     "text": [
      "{'cap-shape': 'bell', 'cap-surface': 'scaly', 'cap-color': 'pink', 'bruises': 'bruises', 'odor': 'none', 'gill-attachment': 'free', 'gill-spacing': 'close', 'gill-size': 'broad', 'gill-color': 'white', 'stalk-shape': 'enlarging', 'stalk-root': 'bulbous', 'stalk-surface-above-ring': 'smooth', 'stalk-surface-below-ring': 'smooth', 'stalk-color-above-ring': 'white', 'stalk-color-below-ring': 'white', 'veil-color': 'white', 'ring-number': 'two', 'ring-type': 'pendant', 'spore-print-color': 'green', 'population': 'several', 'habitat': 'meadows'}\n"
     ]
    },
    {
     "data": {
      "application/vnd.jupyter.widget-view+json": {
       "model_id": "c82a9f60e8ef4c79a84aa3557a41d812",
       "version_major": 2,
       "version_minor": 0
      },
      "text/plain": [
       "0it [00:00, ?it/s]"
      ]
     },
     "metadata": {},
     "output_type": "display_data"
    },
    {
     "data": {
      "application/vnd.jupyter.widget-view+json": {
       "model_id": "ef1cdce407c2415088788d58b2063d4b",
       "version_major": 2,
       "version_minor": 0
      },
      "text/plain": [
       "0it [00:00, ?it/s]"
      ]
     },
     "metadata": {},
     "output_type": "display_data"
    },
    {
     "name": "stdout",
     "output_type": "stream",
     "text": [
      "{'cap-shape': 'bell', 'cap-surface': 'scaly', 'cap-color': 'yellow', 'bruises': 'bruises', 'odor': 'almond', 'gill-attachment': 'free', 'gill-spacing': 'close', 'gill-size': 'broad', 'gill-color': 'gray', 'stalk-shape': 'enlarging', 'stalk-root': 'club', 'stalk-surface-above-ring': 'smooth', 'stalk-surface-below-ring': 'smooth', 'stalk-color-above-ring': 'white', 'stalk-color-below-ring': 'white', 'veil-color': 'white', 'ring-number': 'one', 'ring-type': 'pendant', 'spore-print-color': 'brown', 'population': 'scattered', 'habitat': 'meadows'}\n"
     ]
    },
    {
     "data": {
      "application/vnd.jupyter.widget-view+json": {
       "model_id": "139fbd59484e4b0ebe59fd3aed100279",
       "version_major": 2,
       "version_minor": 0
      },
      "text/plain": [
       "0it [00:00, ?it/s]"
      ]
     },
     "metadata": {},
     "output_type": "display_data"
    },
    {
     "data": {
      "application/vnd.jupyter.widget-view+json": {
       "model_id": "2682308427f4492088f860245d407dd6",
       "version_major": 2,
       "version_minor": 0
      },
      "text/plain": [
       "0it [00:00, ?it/s]"
      ]
     },
     "metadata": {},
     "output_type": "display_data"
    },
    {
     "name": "stdout",
     "output_type": "stream",
     "text": [
      "{'cap-shape': 'flat', 'cap-surface': 'fibrous', 'cap-color': 'gray', 'bruises': 'no', 'odor': 'foul', 'gill-attachment': 'free', 'gill-spacing': 'close', 'gill-size': 'broad', 'gill-color': 'chocolate', 'stalk-shape': 'enlarging', 'stalk-root': 'bulbous', 'stalk-surface-above-ring': 'silky', 'stalk-surface-below-ring': 'silky', 'stalk-color-above-ring': 'brown', 'stalk-color-below-ring': 'brown', 'veil-color': 'white', 'ring-number': 'one', 'ring-type': 'large', 'spore-print-color': 'chocolate', 'population': 'several', 'habitat': 'woods'}\n"
     ]
    },
    {
     "data": {
      "application/vnd.jupyter.widget-view+json": {
       "model_id": "071bb559a5104b059cb31aa021f60834",
       "version_major": 2,
       "version_minor": 0
      },
      "text/plain": [
       "0it [00:00, ?it/s]"
      ]
     },
     "metadata": {},
     "output_type": "display_data"
    },
    {
     "data": {
      "application/vnd.jupyter.widget-view+json": {
       "model_id": "0c7a28e05dd5474da5dee5b357403446",
       "version_major": 2,
       "version_minor": 0
      },
      "text/plain": [
       "0it [00:00, ?it/s]"
      ]
     },
     "metadata": {},
     "output_type": "display_data"
    },
    {
     "name": "stdout",
     "output_type": "stream",
     "text": [
      "{'cap-shape': 'knobbed', 'cap-surface': 'smooth', 'cap-color': 'brown', 'bruises': 'no', 'odor': 'spicy', 'gill-attachment': 'free', 'gill-spacing': 'close', 'gill-size': 'narrow', 'gill-color': 'buff', 'stalk-shape': 'tapering', 'stalk-root': 'bulbous', 'stalk-surface-above-ring': 'silky', 'stalk-surface-below-ring': 'smooth', 'stalk-color-above-ring': 'white', 'stalk-color-below-ring': 'white', 'veil-color': 'white', 'ring-number': 'one', 'ring-type': 'evanescent', 'spore-print-color': 'white', 'population': 'several', 'habitat': 'leaves'}\n"
     ]
    },
    {
     "data": {
      "application/vnd.jupyter.widget-view+json": {
       "model_id": "04e03bfbd5704b0ebdcb037d478ea20f",
       "version_major": 2,
       "version_minor": 0
      },
      "text/plain": [
       "0it [00:00, ?it/s]"
      ]
     },
     "metadata": {},
     "output_type": "display_data"
    },
    {
     "data": {
      "application/vnd.jupyter.widget-view+json": {
       "model_id": "34a0467e1a904406a15860a2433eef27",
       "version_major": 2,
       "version_minor": 0
      },
      "text/plain": [
       "0it [00:00, ?it/s]"
      ]
     },
     "metadata": {},
     "output_type": "display_data"
    },
    {
     "name": "stdout",
     "output_type": "stream",
     "text": [
      "{'cap-shape': 'convex', 'cap-surface': 'smooth', 'cap-color': 'brown', 'bruises': 'no', 'odor': 'none', 'gill-attachment': 'free', 'gill-spacing': 'crowded', 'gill-size': 'broad', 'gill-color': 'chocolate', 'stalk-shape': 'tapering', 'stalk-root': 'equal', 'stalk-surface-above-ring': 'fibrous', 'stalk-surface-below-ring': 'fibrous', 'stalk-color-above-ring': 'white', 'stalk-color-below-ring': 'white', 'veil-color': 'white', 'ring-number': 'one', 'ring-type': 'evanescent', 'spore-print-color': 'brown', 'population': 'scattered', 'habitat': 'grasses'}\n"
     ]
    },
    {
     "data": {
      "application/vnd.jupyter.widget-view+json": {
       "model_id": "f3eee3a3cc3349bda217762050225e18",
       "version_major": 2,
       "version_minor": 0
      },
      "text/plain": [
       "0it [00:00, ?it/s]"
      ]
     },
     "metadata": {},
     "output_type": "display_data"
    },
    {
     "data": {
      "application/vnd.jupyter.widget-view+json": {
       "model_id": "228a9883a00e44599543a8c1678dede4",
       "version_major": 2,
       "version_minor": 0
      },
      "text/plain": [
       "0it [00:00, ?it/s]"
      ]
     },
     "metadata": {},
     "output_type": "display_data"
    },
    {
     "name": "stdout",
     "output_type": "stream",
     "text": [
      "{'cap-shape': 'convex', 'cap-surface': 'scaly', 'cap-color': 'yellow', 'bruises': 'no', 'odor': 'foul', 'gill-attachment': 'free', 'gill-spacing': 'close', 'gill-size': 'broad', 'gill-color': 'pink', 'stalk-shape': 'enlarging', 'stalk-root': 'bulbous', 'stalk-surface-above-ring': 'silky', 'stalk-surface-below-ring': 'silky', 'stalk-color-above-ring': 'brown', 'stalk-color-below-ring': 'brown', 'veil-color': 'white', 'ring-number': 'one', 'ring-type': 'large', 'spore-print-color': 'chocolate', 'population': 'solitary', 'habitat': 'paths'}\n"
     ]
    },
    {
     "data": {
      "application/vnd.jupyter.widget-view+json": {
       "model_id": "c782452b02ca4ce9a080315c74bde461",
       "version_major": 2,
       "version_minor": 0
      },
      "text/plain": [
       "0it [00:00, ?it/s]"
      ]
     },
     "metadata": {},
     "output_type": "display_data"
    },
    {
     "data": {
      "application/vnd.jupyter.widget-view+json": {
       "model_id": "ac7ee4012efe48448281162734d250ed",
       "version_major": 2,
       "version_minor": 0
      },
      "text/plain": [
       "0it [00:00, ?it/s]"
      ]
     },
     "metadata": {},
     "output_type": "display_data"
    },
    {
     "name": "stdout",
     "output_type": "stream",
     "text": [
      "{'cap-shape': 'convex', 'cap-surface': 'smooth', 'cap-color': 'red', 'bruises': 'no', 'odor': 'foul', 'gill-attachment': 'free', 'gill-spacing': 'close', 'gill-size': 'narrow', 'gill-color': 'buff', 'stalk-shape': 'tapering', 'stalk-root': 'bulbous', 'stalk-surface-above-ring': 'silky', 'stalk-surface-below-ring': 'smooth', 'stalk-color-above-ring': 'pink', 'stalk-color-below-ring': 'pink', 'veil-color': 'white', 'ring-number': 'one', 'ring-type': 'evanescent', 'spore-print-color': 'white', 'population': 'several', 'habitat': 'woods'}\n"
     ]
    },
    {
     "data": {
      "application/vnd.jupyter.widget-view+json": {
       "model_id": "14b1cc3ac8e24191be945b8d458a58ad",
       "version_major": 2,
       "version_minor": 0
      },
      "text/plain": [
       "0it [00:00, ?it/s]"
      ]
     },
     "metadata": {},
     "output_type": "display_data"
    },
    {
     "data": {
      "application/vnd.jupyter.widget-view+json": {
       "model_id": "6fa3750dbcbe421295fe975bb7cc6003",
       "version_major": 2,
       "version_minor": 0
      },
      "text/plain": [
       "0it [00:00, ?it/s]"
      ]
     },
     "metadata": {},
     "output_type": "display_data"
    },
    {
     "name": "stdout",
     "output_type": "stream",
     "text": [
      "{'cap-shape': 'convex', 'cap-surface': 'fibrous', 'cap-color': 'brown', 'bruises': 'no', 'odor': 'none', 'gill-attachment': 'free', 'gill-spacing': 'crowded', 'gill-size': 'broad', 'gill-color': 'brown', 'stalk-shape': 'tapering', 'stalk-root': 'equal', 'stalk-surface-above-ring': 'smooth', 'stalk-surface-below-ring': 'fibrous', 'stalk-color-above-ring': 'white', 'stalk-color-below-ring': 'white', 'veil-color': 'white', 'ring-number': 'one', 'ring-type': 'evanescent', 'spore-print-color': 'black', 'population': 'scattered', 'habitat': 'grasses'}\n"
     ]
    },
    {
     "data": {
      "application/vnd.jupyter.widget-view+json": {
       "model_id": "2c44bdf710e442e89a563413a52c814f",
       "version_major": 2,
       "version_minor": 0
      },
      "text/plain": [
       "0it [00:00, ?it/s]"
      ]
     },
     "metadata": {},
     "output_type": "display_data"
    },
    {
     "data": {
      "application/vnd.jupyter.widget-view+json": {
       "model_id": "115c96d5e53c4ea3bb492ab82f914123",
       "version_major": 2,
       "version_minor": 0
      },
      "text/plain": [
       "0it [00:00, ?it/s]"
      ]
     },
     "metadata": {},
     "output_type": "display_data"
    },
    {
     "name": "stdout",
     "output_type": "stream",
     "text": [
      "{'cap-shape': 'flat', 'cap-surface': 'fibrous', 'cap-color': 'brown', 'bruises': 'no', 'odor': 'none', 'gill-attachment': 'free', 'gill-spacing': 'crowded', 'gill-size': 'broad', 'gill-color': 'brown', 'stalk-shape': 'tapering', 'stalk-root': 'equal', 'stalk-surface-above-ring': 'smooth', 'stalk-surface-below-ring': 'smooth', 'stalk-color-above-ring': 'white', 'stalk-color-below-ring': 'white', 'veil-color': 'white', 'ring-number': 'one', 'ring-type': 'evanescent', 'spore-print-color': 'brown', 'population': 'scattered', 'habitat': 'grasses'}\n"
     ]
    },
    {
     "data": {
      "application/vnd.jupyter.widget-view+json": {
       "model_id": "12c00c9352b04d8f80167cc31d2f94be",
       "version_major": 2,
       "version_minor": 0
      },
      "text/plain": [
       "0it [00:00, ?it/s]"
      ]
     },
     "metadata": {},
     "output_type": "display_data"
    },
    {
     "data": {
      "application/vnd.jupyter.widget-view+json": {
       "model_id": "fa72946e3cfa4b58ac7063935c4f1db5",
       "version_major": 2,
       "version_minor": 0
      },
      "text/plain": [
       "0it [00:00, ?it/s]"
      ]
     },
     "metadata": {},
     "output_type": "display_data"
    },
    {
     "name": "stdout",
     "output_type": "stream",
     "text": [
      "{'cap-shape': 'flat', 'cap-surface': 'smooth', 'cap-color': 'red', 'bruises': 'no', 'odor': 'foul', 'gill-attachment': 'free', 'gill-spacing': 'close', 'gill-size': 'narrow', 'gill-color': 'buff', 'stalk-shape': 'tapering', 'stalk-root': 'bulbous', 'stalk-surface-above-ring': 'silky', 'stalk-surface-below-ring': 'smooth', 'stalk-color-above-ring': 'pink', 'stalk-color-below-ring': 'white', 'veil-color': 'white', 'ring-number': 'one', 'ring-type': 'evanescent', 'spore-print-color': 'white', 'population': 'several', 'habitat': 'paths'}\n"
     ]
    },
    {
     "data": {
      "application/vnd.jupyter.widget-view+json": {
       "model_id": "f493653107974312a78a3e48527ef56a",
       "version_major": 2,
       "version_minor": 0
      },
      "text/plain": [
       "0it [00:00, ?it/s]"
      ]
     },
     "metadata": {},
     "output_type": "display_data"
    },
    {
     "data": {
      "application/vnd.jupyter.widget-view+json": {
       "model_id": "796b05e729e24f288e2a88515591dcdb",
       "version_major": 2,
       "version_minor": 0
      },
      "text/plain": [
       "0it [00:00, ?it/s]"
      ]
     },
     "metadata": {},
     "output_type": "display_data"
    },
    {
     "name": "stdout",
     "output_type": "stream",
     "text": [
      "{'cap-shape': 'knobbed', 'cap-surface': 'scaly', 'cap-color': 'pink', 'bruises': 'bruises', 'odor': 'none', 'gill-attachment': 'free', 'gill-spacing': 'close', 'gill-size': 'broad', 'gill-color': 'white', 'stalk-shape': 'enlarging', 'stalk-root': 'bulbous', 'stalk-surface-above-ring': 'smooth', 'stalk-surface-below-ring': 'smooth', 'stalk-color-above-ring': 'red', 'stalk-color-below-ring': 'red', 'veil-color': 'white', 'ring-number': 'two', 'ring-type': 'evanescent', 'spore-print-color': 'white', 'population': 'clustered', 'habitat': 'waste'}\n"
     ]
    },
    {
     "data": {
      "application/vnd.jupyter.widget-view+json": {
       "model_id": "a0667c98f383479b81bdaaf671847000",
       "version_major": 2,
       "version_minor": 0
      },
      "text/plain": [
       "0it [00:00, ?it/s]"
      ]
     },
     "metadata": {},
     "output_type": "display_data"
    },
    {
     "data": {
      "application/vnd.jupyter.widget-view+json": {
       "model_id": "3a5fda89a0ad47969f5a54622f41a782",
       "version_major": 2,
       "version_minor": 0
      },
      "text/plain": [
       "0it [00:00, ?it/s]"
      ]
     },
     "metadata": {},
     "output_type": "display_data"
    },
    {
     "name": "stdout",
     "output_type": "stream",
     "text": [
      "{'cap-shape': 'convex', 'cap-surface': 'scaly', 'cap-color': 'yellow', 'bruises': 'bruises', 'odor': 'anise', 'gill-attachment': 'free', 'gill-spacing': 'close', 'gill-size': 'broad', 'gill-color': 'black', 'stalk-shape': 'enlarging', 'stalk-root': 'club', 'stalk-surface-above-ring': 'smooth', 'stalk-surface-below-ring': 'smooth', 'stalk-color-above-ring': 'white', 'stalk-color-below-ring': 'white', 'veil-color': 'white', 'ring-number': 'one', 'ring-type': 'pendant', 'spore-print-color': 'brown', 'population': 'scattered', 'habitat': 'meadows'}\n"
     ]
    },
    {
     "data": {
      "application/vnd.jupyter.widget-view+json": {
       "model_id": "ea52eedff90e403ca45bb7cee207ea0d",
       "version_major": 2,
       "version_minor": 0
      },
      "text/plain": [
       "0it [00:00, ?it/s]"
      ]
     },
     "metadata": {},
     "output_type": "display_data"
    },
    {
     "data": {
      "application/vnd.jupyter.widget-view+json": {
       "model_id": "16fd6e47558b41c297d69e14a7867499",
       "version_major": 2,
       "version_minor": 0
      },
      "text/plain": [
       "0it [00:00, ?it/s]"
      ]
     },
     "metadata": {},
     "output_type": "display_data"
    },
    {
     "name": "stdout",
     "output_type": "stream",
     "text": [
      "{'cap-shape': 'convex', 'cap-surface': 'fibrous', 'cap-color': 'red', 'bruises': 'bruises', 'odor': 'none', 'gill-attachment': 'free', 'gill-spacing': 'close', 'gill-size': 'broad', 'gill-color': 'pink', 'stalk-shape': 'tapering', 'stalk-root': 'bulbous', 'stalk-surface-above-ring': 'smooth', 'stalk-surface-below-ring': 'smooth', 'stalk-color-above-ring': 'gray', 'stalk-color-below-ring': 'pink', 'veil-color': 'white', 'ring-number': 'one', 'ring-type': 'pendant', 'spore-print-color': 'black', 'population': 'solitary', 'habitat': 'woods'}\n"
     ]
    },
    {
     "data": {
      "application/vnd.jupyter.widget-view+json": {
       "model_id": "01a1d05e209443aa85f0733d1f0beed7",
       "version_major": 2,
       "version_minor": 0
      },
      "text/plain": [
       "0it [00:00, ?it/s]"
      ]
     },
     "metadata": {},
     "output_type": "display_data"
    },
    {
     "data": {
      "application/vnd.jupyter.widget-view+json": {
       "model_id": "be21e6a035a64d08aded7adc801ea22b",
       "version_major": 2,
       "version_minor": 0
      },
      "text/plain": [
       "0it [00:00, ?it/s]"
      ]
     },
     "metadata": {},
     "output_type": "display_data"
    },
    {
     "name": "stdout",
     "output_type": "stream",
     "text": [
      "{'cap-shape': 'flat', 'cap-surface': 'smooth', 'cap-color': 'gray', 'bruises': 'bruises', 'odor': 'foul', 'gill-attachment': 'free', 'gill-spacing': 'close', 'gill-size': 'broad', 'gill-color': 'white', 'stalk-shape': 'tapering', 'stalk-root': 'bulbous', 'stalk-surface-above-ring': 'fibrous', 'stalk-surface-below-ring': 'smooth', 'stalk-color-above-ring': 'white', 'stalk-color-below-ring': 'white', 'veil-color': 'white', 'ring-number': 'one', 'ring-type': 'pendant', 'spore-print-color': 'chocolate', 'population': 'scattered', 'habitat': 'grasses'}\n"
     ]
    },
    {
     "data": {
      "application/vnd.jupyter.widget-view+json": {
       "model_id": "1246dde6f5de4b868dfaebd5927d7bb9",
       "version_major": 2,
       "version_minor": 0
      },
      "text/plain": [
       "0it [00:00, ?it/s]"
      ]
     },
     "metadata": {},
     "output_type": "display_data"
    },
    {
     "data": {
      "application/vnd.jupyter.widget-view+json": {
       "model_id": "63cfec580df54da29acf083974f32b92",
       "version_major": 2,
       "version_minor": 0
      },
      "text/plain": [
       "0it [00:00, ?it/s]"
      ]
     },
     "metadata": {},
     "output_type": "display_data"
    },
    {
     "name": "stdout",
     "output_type": "stream",
     "text": [
      "{'cap-shape': 'bell', 'cap-surface': 'smooth', 'cap-color': 'white', 'bruises': 'bruises', 'odor': 'anise', 'gill-attachment': 'free', 'gill-spacing': 'close', 'gill-size': 'broad', 'gill-color': 'white', 'stalk-shape': 'enlarging', 'stalk-root': 'club', 'stalk-surface-above-ring': 'smooth', 'stalk-surface-below-ring': 'smooth', 'stalk-color-above-ring': 'white', 'stalk-color-below-ring': 'white', 'veil-color': 'white', 'ring-number': 'one', 'ring-type': 'pendant', 'spore-print-color': 'black', 'population': 'scattered', 'habitat': 'grasses'}\n"
     ]
    },
    {
     "data": {
      "application/vnd.jupyter.widget-view+json": {
       "model_id": "07707871f8e74b69b2ecd0ed41d97ab9",
       "version_major": 2,
       "version_minor": 0
      },
      "text/plain": [
       "0it [00:00, ?it/s]"
      ]
     },
     "metadata": {},
     "output_type": "display_data"
    },
    {
     "data": {
      "application/vnd.jupyter.widget-view+json": {
       "model_id": "b96ef21dddfc4d018b5a3f2426b32f6f",
       "version_major": 2,
       "version_minor": 0
      },
      "text/plain": [
       "0it [00:00, ?it/s]"
      ]
     },
     "metadata": {},
     "output_type": "display_data"
    },
    {
     "name": "stdout",
     "output_type": "stream",
     "text": [
      "{'cap-shape': 'convex', 'cap-surface': 'scaly', 'cap-color': 'red', 'bruises': 'no', 'odor': 'foul', 'gill-attachment': 'free', 'gill-spacing': 'close', 'gill-size': 'narrow', 'gill-color': 'buff', 'stalk-shape': 'tapering', 'stalk-root': 'bulbous', 'stalk-surface-above-ring': 'smooth', 'stalk-surface-below-ring': 'silky', 'stalk-color-above-ring': 'pink', 'stalk-color-below-ring': 'white', 'veil-color': 'white', 'ring-number': 'one', 'ring-type': 'evanescent', 'spore-print-color': 'white', 'population': 'several', 'habitat': 'paths'}\n"
     ]
    },
    {
     "data": {
      "application/vnd.jupyter.widget-view+json": {
       "model_id": "7bbbf6c517b74ad8a3a2506a79a31eee",
       "version_major": 2,
       "version_minor": 0
      },
      "text/plain": [
       "0it [00:00, ?it/s]"
      ]
     },
     "metadata": {},
     "output_type": "display_data"
    },
    {
     "data": {
      "application/vnd.jupyter.widget-view+json": {
       "model_id": "6c56d2b765f94f39892a1a7ccffef5cf",
       "version_major": 2,
       "version_minor": 0
      },
      "text/plain": [
       "0it [00:00, ?it/s]"
      ]
     },
     "metadata": {},
     "output_type": "display_data"
    },
    {
     "name": "stdout",
     "output_type": "stream",
     "text": [
      "{'cap-shape': 'convex', 'cap-surface': 'scaly', 'cap-color': 'gray', 'bruises': 'bruises', 'odor': 'none', 'gill-attachment': 'free', 'gill-spacing': 'close', 'gill-size': 'broad', 'gill-color': 'purple', 'stalk-shape': 'tapering', 'stalk-root': 'bulbous', 'stalk-surface-above-ring': 'smooth', 'stalk-surface-below-ring': 'smooth', 'stalk-color-above-ring': 'gray', 'stalk-color-below-ring': 'white', 'veil-color': 'white', 'ring-number': 'one', 'ring-type': 'pendant', 'spore-print-color': 'black', 'population': 'several', 'habitat': 'woods'}\n"
     ]
    },
    {
     "data": {
      "application/vnd.jupyter.widget-view+json": {
       "model_id": "ff87f6291f2047a8af15661b7e34baaa",
       "version_major": 2,
       "version_minor": 0
      },
      "text/plain": [
       "0it [00:00, ?it/s]"
      ]
     },
     "metadata": {},
     "output_type": "display_data"
    },
    {
     "data": {
      "application/vnd.jupyter.widget-view+json": {
       "model_id": "c07b2565803043938a51f8fc51547a05",
       "version_major": 2,
       "version_minor": 0
      },
      "text/plain": [
       "0it [00:00, ?it/s]"
      ]
     },
     "metadata": {},
     "output_type": "display_data"
    },
    {
     "name": "stdout",
     "output_type": "stream",
     "text": [
      "{'cap-shape': 'convex', 'cap-surface': 'fibrous', 'cap-color': 'gray', 'bruises': 'no', 'odor': 'foul', 'gill-attachment': 'free', 'gill-spacing': 'close', 'gill-size': 'broad', 'gill-color': 'gray', 'stalk-shape': 'enlarging', 'stalk-root': 'bulbous', 'stalk-surface-above-ring': 'silky', 'stalk-surface-below-ring': 'silky', 'stalk-color-above-ring': 'buff', 'stalk-color-below-ring': 'brown', 'veil-color': 'white', 'ring-number': 'one', 'ring-type': 'large', 'spore-print-color': 'chocolate', 'population': 'several', 'habitat': 'woods'}\n"
     ]
    },
    {
     "data": {
      "application/vnd.jupyter.widget-view+json": {
       "model_id": "1e080785686e457782ef6746af91b288",
       "version_major": 2,
       "version_minor": 0
      },
      "text/plain": [
       "0it [00:00, ?it/s]"
      ]
     },
     "metadata": {},
     "output_type": "display_data"
    },
    {
     "data": {
      "application/vnd.jupyter.widget-view+json": {
       "model_id": "163a834788574781b358c258f5553c89",
       "version_major": 2,
       "version_minor": 0
      },
      "text/plain": [
       "0it [00:00, ?it/s]"
      ]
     },
     "metadata": {},
     "output_type": "display_data"
    },
    {
     "name": "stdout",
     "output_type": "stream",
     "text": [
      "{'cap-shape': 'convex', 'cap-surface': 'scaly', 'cap-color': 'purple', 'bruises': 'no', 'odor': 'none', 'gill-attachment': 'free', 'gill-spacing': 'close', 'gill-size': 'narrow', 'gill-color': 'pink', 'stalk-shape': 'enlarging', 'stalk-root': 'bulbous', 'stalk-surface-above-ring': 'smooth', 'stalk-surface-below-ring': 'fibrous', 'stalk-color-above-ring': 'white', 'stalk-color-below-ring': 'white', 'veil-color': 'white', 'ring-number': 'one', 'ring-type': 'flaring', 'spore-print-color': 'chocolate', 'population': 'solitary', 'habitat': 'woods'}\n"
     ]
    },
    {
     "data": {
      "application/vnd.jupyter.widget-view+json": {
       "model_id": "caca0bab4471453e8a4da3dd54feecd6",
       "version_major": 2,
       "version_minor": 0
      },
      "text/plain": [
       "0it [00:00, ?it/s]"
      ]
     },
     "metadata": {},
     "output_type": "display_data"
    },
    {
     "data": {
      "application/vnd.jupyter.widget-view+json": {
       "model_id": "b4cf4c9ed81b4470b3996b69ebbf80d6",
       "version_major": 2,
       "version_minor": 0
      },
      "text/plain": [
       "0it [00:00, ?it/s]"
      ]
     },
     "metadata": {},
     "output_type": "display_data"
    },
    {
     "name": "stdout",
     "output_type": "stream",
     "text": [
      "{'cap-shape': 'convex', 'cap-surface': 'fibrous', 'cap-color': 'brown', 'bruises': 'bruises', 'odor': 'none', 'gill-attachment': 'free', 'gill-spacing': 'close', 'gill-size': 'broad', 'gill-color': 'purple', 'stalk-shape': 'tapering', 'stalk-root': 'bulbous', 'stalk-surface-above-ring': 'smooth', 'stalk-surface-below-ring': 'smooth', 'stalk-color-above-ring': 'gray', 'stalk-color-below-ring': 'gray', 'veil-color': 'white', 'ring-number': 'one', 'ring-type': 'pendant', 'spore-print-color': 'brown', 'population': 'solitary', 'habitat': 'woods'}\n"
     ]
    },
    {
     "data": {
      "application/vnd.jupyter.widget-view+json": {
       "model_id": "d058fbd449af4755ac2069d3452fc982",
       "version_major": 2,
       "version_minor": 0
      },
      "text/plain": [
       "0it [00:00, ?it/s]"
      ]
     },
     "metadata": {},
     "output_type": "display_data"
    },
    {
     "data": {
      "application/vnd.jupyter.widget-view+json": {
       "model_id": "691a6e8992034f24b7d80ee303a868db",
       "version_major": 2,
       "version_minor": 0
      },
      "text/plain": [
       "0it [00:00, ?it/s]"
      ]
     },
     "metadata": {},
     "output_type": "display_data"
    },
    {
     "name": "stdout",
     "output_type": "stream",
     "text": [
      "{'cap-shape': 'convex', 'cap-surface': 'fibrous', 'cap-color': 'yellow', 'bruises': 'no', 'odor': 'foul', 'gill-attachment': 'free', 'gill-spacing': 'close', 'gill-size': 'broad', 'gill-color': 'chocolate', 'stalk-shape': 'enlarging', 'stalk-root': 'bulbous', 'stalk-surface-above-ring': 'silky', 'stalk-surface-below-ring': 'silky', 'stalk-color-above-ring': 'pink', 'stalk-color-below-ring': 'buff', 'veil-color': 'white', 'ring-number': 'one', 'ring-type': 'large', 'spore-print-color': 'chocolate', 'population': 'several', 'habitat': 'paths'}\n"
     ]
    },
    {
     "data": {
      "application/vnd.jupyter.widget-view+json": {
       "model_id": "a4394099d31449a893ab6f9074e67bb6",
       "version_major": 2,
       "version_minor": 0
      },
      "text/plain": [
       "0it [00:00, ?it/s]"
      ]
     },
     "metadata": {},
     "output_type": "display_data"
    },
    {
     "data": {
      "application/vnd.jupyter.widget-view+json": {
       "model_id": "babf224d44824188924aea66b9eaef51",
       "version_major": 2,
       "version_minor": 0
      },
      "text/plain": [
       "0it [00:00, ?it/s]"
      ]
     },
     "metadata": {},
     "output_type": "display_data"
    },
    {
     "name": "stdout",
     "output_type": "stream",
     "text": [
      "{'cap-shape': 'convex', 'cap-surface': 'scaly', 'cap-color': 'yellow', 'bruises': 'bruises', 'odor': 'anise', 'gill-attachment': 'free', 'gill-spacing': 'close', 'gill-size': 'broad', 'gill-color': 'gray', 'stalk-shape': 'enlarging', 'stalk-root': 'club', 'stalk-surface-above-ring': 'smooth', 'stalk-surface-below-ring': 'smooth', 'stalk-color-above-ring': 'white', 'stalk-color-below-ring': 'white', 'veil-color': 'white', 'ring-number': 'one', 'ring-type': 'pendant', 'spore-print-color': 'brown', 'population': 'numerous', 'habitat': 'grasses'}\n"
     ]
    },
    {
     "data": {
      "application/vnd.jupyter.widget-view+json": {
       "model_id": "5261bfddfc4d491f92a4d02b0a76ec5f",
       "version_major": 2,
       "version_minor": 0
      },
      "text/plain": [
       "0it [00:00, ?it/s]"
      ]
     },
     "metadata": {},
     "output_type": "display_data"
    },
    {
     "data": {
      "application/vnd.jupyter.widget-view+json": {
       "model_id": "532d98ffb79c4628b5888fb185d5768b",
       "version_major": 2,
       "version_minor": 0
      },
      "text/plain": [
       "0it [00:00, ?it/s]"
      ]
     },
     "metadata": {},
     "output_type": "display_data"
    },
    {
     "name": "stdout",
     "output_type": "stream",
     "text": [
      "{'cap-shape': 'flat', 'cap-surface': 'fibrous', 'cap-color': 'yellow', 'bruises': 'no', 'odor': 'foul', 'gill-attachment': 'free', 'gill-spacing': 'close', 'gill-size': 'broad', 'gill-color': 'chocolate', 'stalk-shape': 'enlarging', 'stalk-root': 'bulbous', 'stalk-surface-above-ring': 'silky', 'stalk-surface-below-ring': 'silky', 'stalk-color-above-ring': 'buff', 'stalk-color-below-ring': 'pink', 'veil-color': 'white', 'ring-number': 'one', 'ring-type': 'large', 'spore-print-color': 'chocolate', 'population': 'several', 'habitat': 'woods'}\n"
     ]
    },
    {
     "data": {
      "application/vnd.jupyter.widget-view+json": {
       "model_id": "2e4050bb18de4c3ea5b260d82fd27704",
       "version_major": 2,
       "version_minor": 0
      },
      "text/plain": [
       "0it [00:00, ?it/s]"
      ]
     },
     "metadata": {},
     "output_type": "display_data"
    },
    {
     "data": {
      "application/vnd.jupyter.widget-view+json": {
       "model_id": "af171feff1894ab28103dbd610a6b441",
       "version_major": 2,
       "version_minor": 0
      },
      "text/plain": [
       "0it [00:00, ?it/s]"
      ]
     },
     "metadata": {},
     "output_type": "display_data"
    },
    {
     "name": "stdout",
     "output_type": "stream",
     "text": [
      "{'cap-shape': 'convex', 'cap-surface': 'scaly', 'cap-color': 'gray', 'bruises': 'no', 'odor': 'foul', 'gill-attachment': 'free', 'gill-spacing': 'close', 'gill-size': 'broad', 'gill-color': 'chocolate', 'stalk-shape': 'enlarging', 'stalk-root': 'bulbous', 'stalk-surface-above-ring': 'silky', 'stalk-surface-below-ring': 'silky', 'stalk-color-above-ring': 'pink', 'stalk-color-below-ring': 'brown', 'veil-color': 'white', 'ring-number': 'one', 'ring-type': 'large', 'spore-print-color': 'chocolate', 'population': 'several', 'habitat': 'paths'}\n"
     ]
    },
    {
     "data": {
      "application/vnd.jupyter.widget-view+json": {
       "model_id": "02a81958150f439d9ead7c97fb86c4fa",
       "version_major": 2,
       "version_minor": 0
      },
      "text/plain": [
       "0it [00:00, ?it/s]"
      ]
     },
     "metadata": {},
     "output_type": "display_data"
    },
    {
     "data": {
      "application/vnd.jupyter.widget-view+json": {
       "model_id": "7d856a1588784341997b06c7d9882dc1",
       "version_major": 2,
       "version_minor": 0
      },
      "text/plain": [
       "0it [00:00, ?it/s]"
      ]
     },
     "metadata": {},
     "output_type": "display_data"
    },
    {
     "name": "stdout",
     "output_type": "stream",
     "text": [
      "{'cap-shape': 'knobbed', 'cap-surface': 'smooth', 'cap-color': 'red', 'bruises': 'no', 'odor': 'foul', 'gill-attachment': 'free', 'gill-spacing': 'close', 'gill-size': 'narrow', 'gill-color': 'buff', 'stalk-shape': 'tapering', 'stalk-root': 'bulbous', 'stalk-surface-above-ring': 'smooth', 'stalk-surface-below-ring': 'silky', 'stalk-color-above-ring': 'pink', 'stalk-color-below-ring': 'white', 'veil-color': 'white', 'ring-number': 'one', 'ring-type': 'evanescent', 'spore-print-color': 'white', 'population': 'several', 'habitat': 'paths'}\n"
     ]
    },
    {
     "data": {
      "application/vnd.jupyter.widget-view+json": {
       "model_id": "797c4df1f43044819fb1988ce9dd7d27",
       "version_major": 2,
       "version_minor": 0
      },
      "text/plain": [
       "0it [00:00, ?it/s]"
      ]
     },
     "metadata": {},
     "output_type": "display_data"
    },
    {
     "data": {
      "application/vnd.jupyter.widget-view+json": {
       "model_id": "44bd41ef6f83467b97abf04cb1dea568",
       "version_major": 2,
       "version_minor": 0
      },
      "text/plain": [
       "0it [00:00, ?it/s]"
      ]
     },
     "metadata": {},
     "output_type": "display_data"
    },
    {
     "name": "stdout",
     "output_type": "stream",
     "text": [
      "{'cap-shape': 'convex', 'cap-surface': 'scaly', 'cap-color': 'brown', 'bruises': 'bruises', 'odor': 'none', 'gill-attachment': 'free', 'gill-spacing': 'close', 'gill-size': 'broad', 'gill-color': 'purple', 'stalk-shape': 'tapering', 'stalk-root': 'bulbous', 'stalk-surface-above-ring': 'smooth', 'stalk-surface-below-ring': 'smooth', 'stalk-color-above-ring': 'gray', 'stalk-color-below-ring': 'gray', 'veil-color': 'white', 'ring-number': 'one', 'ring-type': 'pendant', 'spore-print-color': 'black', 'population': 'solitary', 'habitat': 'woods'}\n"
     ]
    },
    {
     "data": {
      "application/vnd.jupyter.widget-view+json": {
       "model_id": "6f3da4b3090e41838ed8ade487747d2d",
       "version_major": 2,
       "version_minor": 0
      },
      "text/plain": [
       "0it [00:00, ?it/s]"
      ]
     },
     "metadata": {},
     "output_type": "display_data"
    },
    {
     "data": {
      "application/vnd.jupyter.widget-view+json": {
       "model_id": "4a6d4fc7c9af46d49ef8ba6e2d843334",
       "version_major": 2,
       "version_minor": 0
      },
      "text/plain": [
       "0it [00:00, ?it/s]"
      ]
     },
     "metadata": {},
     "output_type": "display_data"
    },
    {
     "name": "stdout",
     "output_type": "stream",
     "text": [
      "{'cap-shape': 'flat', 'cap-surface': 'scaly', 'cap-color': 'yellow', 'bruises': 'no', 'odor': 'foul', 'gill-attachment': 'free', 'gill-spacing': 'close', 'gill-size': 'broad', 'gill-color': 'pink', 'stalk-shape': 'enlarging', 'stalk-root': 'bulbous', 'stalk-surface-above-ring': 'silky', 'stalk-surface-below-ring': 'silky', 'stalk-color-above-ring': 'pink', 'stalk-color-below-ring': 'brown', 'veil-color': 'white', 'ring-number': 'one', 'ring-type': 'large', 'spore-print-color': 'chocolate', 'population': 'several', 'habitat': 'grasses'}\n"
     ]
    },
    {
     "data": {
      "application/vnd.jupyter.widget-view+json": {
       "model_id": "3f63321fcf7544528c602138a78e6f0a",
       "version_major": 2,
       "version_minor": 0
      },
      "text/plain": [
       "0it [00:00, ?it/s]"
      ]
     },
     "metadata": {},
     "output_type": "display_data"
    },
    {
     "data": {
      "application/vnd.jupyter.widget-view+json": {
       "model_id": "1fb10c744b7c4df8953c44e8dc88fc7d",
       "version_major": 2,
       "version_minor": 0
      },
      "text/plain": [
       "0it [00:00, ?it/s]"
      ]
     },
     "metadata": {},
     "output_type": "display_data"
    },
    {
     "name": "stdout",
     "output_type": "stream",
     "text": [
      "{'cap-shape': 'flat', 'cap-surface': 'scaly', 'cap-color': 'brown', 'bruises': 'no', 'odor': 'foul', 'gill-attachment': 'free', 'gill-spacing': 'close', 'gill-size': 'narrow', 'gill-color': 'buff', 'stalk-shape': 'tapering', 'stalk-root': 'bulbous', 'stalk-surface-above-ring': 'smooth', 'stalk-surface-below-ring': 'silky', 'stalk-color-above-ring': 'pink', 'stalk-color-below-ring': 'pink', 'veil-color': 'white', 'ring-number': 'one', 'ring-type': 'evanescent', 'spore-print-color': 'white', 'population': 'several', 'habitat': 'paths'}\n"
     ]
    },
    {
     "data": {
      "application/vnd.jupyter.widget-view+json": {
       "model_id": "b2920ea97fce4db1ae6b1595334230a6",
       "version_major": 2,
       "version_minor": 0
      },
      "text/plain": [
       "0it [00:00, ?it/s]"
      ]
     },
     "metadata": {},
     "output_type": "display_data"
    },
    {
     "data": {
      "application/vnd.jupyter.widget-view+json": {
       "model_id": "28dccc3a30f04d219e6e4bd67f6891f3",
       "version_major": 2,
       "version_minor": 0
      },
      "text/plain": [
       "0it [00:00, ?it/s]"
      ]
     },
     "metadata": {},
     "output_type": "display_data"
    },
    {
     "name": "stdout",
     "output_type": "stream",
     "text": [
      "{'cap-shape': 'knobbed', 'cap-surface': 'scaly', 'cap-color': 'red', 'bruises': 'no', 'odor': 'fishy', 'gill-attachment': 'free', 'gill-spacing': 'close', 'gill-size': 'narrow', 'gill-color': 'buff', 'stalk-shape': 'tapering', 'stalk-root': 'bulbous', 'stalk-surface-above-ring': 'silky', 'stalk-surface-below-ring': 'silky', 'stalk-color-above-ring': 'pink', 'stalk-color-below-ring': 'white', 'veil-color': 'white', 'ring-number': 'one', 'ring-type': 'evanescent', 'spore-print-color': 'white', 'population': 'several', 'habitat': 'paths'}\n"
     ]
    },
    {
     "data": {
      "application/vnd.jupyter.widget-view+json": {
       "model_id": "b6f1e3c378c1483ab80d4b5c8b44db3d",
       "version_major": 2,
       "version_minor": 0
      },
      "text/plain": [
       "0it [00:00, ?it/s]"
      ]
     },
     "metadata": {},
     "output_type": "display_data"
    },
    {
     "data": {
      "application/vnd.jupyter.widget-view+json": {
       "model_id": "8de0573864fb438eb46800aaf651df72",
       "version_major": 2,
       "version_minor": 0
      },
      "text/plain": [
       "0it [00:00, ?it/s]"
      ]
     },
     "metadata": {},
     "output_type": "display_data"
    },
    {
     "name": "stdout",
     "output_type": "stream",
     "text": [
      "{'cap-shape': 'bell', 'cap-surface': 'scaly', 'cap-color': 'yellow', 'bruises': 'bruises', 'odor': 'almond', 'gill-attachment': 'free', 'gill-spacing': 'close', 'gill-size': 'broad', 'gill-color': 'brown', 'stalk-shape': 'enlarging', 'stalk-root': 'club', 'stalk-surface-above-ring': 'smooth', 'stalk-surface-below-ring': 'smooth', 'stalk-color-above-ring': 'white', 'stalk-color-below-ring': 'white', 'veil-color': 'white', 'ring-number': 'one', 'ring-type': 'pendant', 'spore-print-color': 'brown', 'population': 'numerous', 'habitat': 'grasses'}\n"
     ]
    },
    {
     "data": {
      "application/vnd.jupyter.widget-view+json": {
       "model_id": "61ebea184061430eba7c601dccb09ac9",
       "version_major": 2,
       "version_minor": 0
      },
      "text/plain": [
       "0it [00:00, ?it/s]"
      ]
     },
     "metadata": {},
     "output_type": "display_data"
    },
    {
     "data": {
      "application/vnd.jupyter.widget-view+json": {
       "model_id": "2dcf3f034f944d318de67810adb1fd10",
       "version_major": 2,
       "version_minor": 0
      },
      "text/plain": [
       "0it [00:00, ?it/s]"
      ]
     },
     "metadata": {},
     "output_type": "display_data"
    },
    {
     "name": "stdout",
     "output_type": "stream",
     "text": [
      "{'cap-shape': 'convex', 'cap-surface': 'scaly', 'cap-color': 'gray', 'bruises': 'bruises', 'odor': 'none', 'gill-attachment': 'free', 'gill-spacing': 'close', 'gill-size': 'broad', 'gill-color': 'brown', 'stalk-shape': 'tapering', 'stalk-root': 'bulbous', 'stalk-surface-above-ring': 'smooth', 'stalk-surface-below-ring': 'smooth', 'stalk-color-above-ring': 'pink', 'stalk-color-below-ring': 'white', 'veil-color': 'white', 'ring-number': 'one', 'ring-type': 'pendant', 'spore-print-color': 'brown', 'population': 'several', 'habitat': 'woods'}\n"
     ]
    },
    {
     "data": {
      "application/vnd.jupyter.widget-view+json": {
       "model_id": "acc1003fa2f24ec9b084c727e743bd54",
       "version_major": 2,
       "version_minor": 0
      },
      "text/plain": [
       "0it [00:00, ?it/s]"
      ]
     },
     "metadata": {},
     "output_type": "display_data"
    },
    {
     "data": {
      "application/vnd.jupyter.widget-view+json": {
       "model_id": "c02a79de21bf42da9b13b85612616893",
       "version_major": 2,
       "version_minor": 0
      },
      "text/plain": [
       "0it [00:00, ?it/s]"
      ]
     },
     "metadata": {},
     "output_type": "display_data"
    },
    {
     "name": "stdout",
     "output_type": "stream",
     "text": [
      "{'cap-shape': 'convex', 'cap-surface': 'smooth', 'cap-color': 'white', 'bruises': 'no', 'odor': 'none', 'gill-attachment': 'free', 'gill-spacing': 'crowded', 'gill-size': 'broad', 'gill-color': 'white', 'stalk-shape': 'enlarging', 'stalk-root': 'equal', 'stalk-surface-above-ring': 'smooth', 'stalk-surface-below-ring': 'smooth', 'stalk-color-above-ring': 'white', 'stalk-color-below-ring': 'white', 'veil-color': 'white', 'ring-number': 'two', 'ring-type': 'pendant', 'spore-print-color': 'white', 'population': 'numerous', 'habitat': 'grasses'}\n"
     ]
    },
    {
     "data": {
      "application/vnd.jupyter.widget-view+json": {
       "model_id": "fd8957fbc0e0472f81a79aa2c704b0b9",
       "version_major": 2,
       "version_minor": 0
      },
      "text/plain": [
       "0it [00:00, ?it/s]"
      ]
     },
     "metadata": {},
     "output_type": "display_data"
    },
    {
     "data": {
      "application/vnd.jupyter.widget-view+json": {
       "model_id": "4cf9a9ed186340c9a80f32005dc7ecd9",
       "version_major": 2,
       "version_minor": 0
      },
      "text/plain": [
       "0it [00:00, ?it/s]"
      ]
     },
     "metadata": {},
     "output_type": "display_data"
    },
    {
     "name": "stdout",
     "output_type": "stream",
     "text": [
      "{'cap-shape': 'knobbed', 'cap-surface': 'smooth', 'cap-color': 'brown', 'bruises': 'no', 'odor': 'spicy', 'gill-attachment': 'free', 'gill-spacing': 'close', 'gill-size': 'narrow', 'gill-color': 'buff', 'stalk-shape': 'tapering', 'stalk-root': 'bulbous', 'stalk-surface-above-ring': 'smooth', 'stalk-surface-below-ring': 'smooth', 'stalk-color-above-ring': 'pink', 'stalk-color-below-ring': 'white', 'veil-color': 'white', 'ring-number': 'one', 'ring-type': 'evanescent', 'spore-print-color': 'white', 'population': 'several', 'habitat': 'woods'}\n"
     ]
    },
    {
     "data": {
      "application/vnd.jupyter.widget-view+json": {
       "model_id": "ed4b9491b16940cebfe05425e712fb00",
       "version_major": 2,
       "version_minor": 0
      },
      "text/plain": [
       "0it [00:00, ?it/s]"
      ]
     },
     "metadata": {},
     "output_type": "display_data"
    },
    {
     "data": {
      "application/vnd.jupyter.widget-view+json": {
       "model_id": "306a6171865a48849749db7ef0478a23",
       "version_major": 2,
       "version_minor": 0
      },
      "text/plain": [
       "0it [00:00, ?it/s]"
      ]
     },
     "metadata": {},
     "output_type": "display_data"
    },
    {
     "name": "stdout",
     "output_type": "stream",
     "text": [
      "{'cap-shape': 'convex', 'cap-surface': 'scaly', 'cap-color': 'yellow', 'bruises': 'no', 'odor': 'foul', 'gill-attachment': 'free', 'gill-spacing': 'close', 'gill-size': 'broad', 'gill-color': 'gray', 'stalk-shape': 'enlarging', 'stalk-root': 'bulbous', 'stalk-surface-above-ring': 'silky', 'stalk-surface-below-ring': 'silky', 'stalk-color-above-ring': 'brown', 'stalk-color-below-ring': 'buff', 'veil-color': 'white', 'ring-number': 'one', 'ring-type': 'large', 'spore-print-color': 'chocolate', 'population': 'several', 'habitat': 'grasses'}\n"
     ]
    },
    {
     "data": {
      "application/vnd.jupyter.widget-view+json": {
       "model_id": "350e006e060d46c8b9a5ab3da437ad5e",
       "version_major": 2,
       "version_minor": 0
      },
      "text/plain": [
       "0it [00:00, ?it/s]"
      ]
     },
     "metadata": {},
     "output_type": "display_data"
    },
    {
     "data": {
      "application/vnd.jupyter.widget-view+json": {
       "model_id": "069513d9409e47f894a37801d3e6148b",
       "version_major": 2,
       "version_minor": 0
      },
      "text/plain": [
       "0it [00:00, ?it/s]"
      ]
     },
     "metadata": {},
     "output_type": "display_data"
    },
    {
     "name": "stdout",
     "output_type": "stream",
     "text": [
      "{'cap-shape': 'knobbed', 'cap-surface': 'smooth', 'cap-color': 'gray', 'bruises': 'no', 'odor': 'none', 'gill-attachment': 'free', 'gill-spacing': 'crowded', 'gill-size': 'broad', 'gill-color': 'pink', 'stalk-shape': 'enlarging', 'stalk-root': 'bulbous', 'stalk-surface-above-ring': 'silky', 'stalk-surface-below-ring': 'silky', 'stalk-color-above-ring': 'white', 'stalk-color-below-ring': 'white', 'veil-color': 'white', 'ring-number': 'two', 'ring-type': 'pendant', 'spore-print-color': 'white', 'population': 'scattered', 'habitat': 'grasses'}\n"
     ]
    },
    {
     "data": {
      "application/vnd.jupyter.widget-view+json": {
       "model_id": "c3a1869e8f5d4dd88a785afcdb9a9879",
       "version_major": 2,
       "version_minor": 0
      },
      "text/plain": [
       "0it [00:00, ?it/s]"
      ]
     },
     "metadata": {},
     "output_type": "display_data"
    },
    {
     "data": {
      "application/vnd.jupyter.widget-view+json": {
       "model_id": "04a2a9eab63a48178a7cee9dc3d4eb9d",
       "version_major": 2,
       "version_minor": 0
      },
      "text/plain": [
       "0it [00:00, ?it/s]"
      ]
     },
     "metadata": {},
     "output_type": "display_data"
    },
    {
     "name": "stdout",
     "output_type": "stream",
     "text": [
      "{'cap-shape': 'flat', 'cap-surface': 'fibrous', 'cap-color': 'gray', 'bruises': 'no', 'odor': 'foul', 'gill-attachment': 'free', 'gill-spacing': 'close', 'gill-size': 'broad', 'gill-color': 'chocolate', 'stalk-shape': 'enlarging', 'stalk-root': 'bulbous', 'stalk-surface-above-ring': 'silky', 'stalk-surface-below-ring': 'silky', 'stalk-color-above-ring': 'pink', 'stalk-color-below-ring': 'buff', 'veil-color': 'white', 'ring-number': 'one', 'ring-type': 'large', 'spore-print-color': 'chocolate', 'population': 'solitary', 'habitat': 'paths'}\n"
     ]
    },
    {
     "data": {
      "application/vnd.jupyter.widget-view+json": {
       "model_id": "80937bf87e254ad1b4760fbd9cad489d",
       "version_major": 2,
       "version_minor": 0
      },
      "text/plain": [
       "0it [00:00, ?it/s]"
      ]
     },
     "metadata": {},
     "output_type": "display_data"
    },
    {
     "data": {
      "application/vnd.jupyter.widget-view+json": {
       "model_id": "c3ddd19da2b14e60a063a260149d89ab",
       "version_major": 2,
       "version_minor": 0
      },
      "text/plain": [
       "0it [00:00, ?it/s]"
      ]
     },
     "metadata": {},
     "output_type": "display_data"
    },
    {
     "name": "stdout",
     "output_type": "stream",
     "text": [
      "{'cap-shape': 'flat', 'cap-surface': 'fibrous', 'cap-color': 'gray', 'bruises': 'no', 'odor': 'none', 'gill-attachment': 'free', 'gill-spacing': 'crowded', 'gill-size': 'broad', 'gill-color': 'black', 'stalk-shape': 'tapering', 'stalk-root': 'equal', 'stalk-surface-above-ring': 'smooth', 'stalk-surface-below-ring': 'fibrous', 'stalk-color-above-ring': 'white', 'stalk-color-below-ring': 'white', 'veil-color': 'white', 'ring-number': 'one', 'ring-type': 'evanescent', 'spore-print-color': 'black', 'population': 'abundant', 'habitat': 'grasses'}\n"
     ]
    },
    {
     "data": {
      "application/vnd.jupyter.widget-view+json": {
       "model_id": "1b5857cd65f940978c993a7a59461a15",
       "version_major": 2,
       "version_minor": 0
      },
      "text/plain": [
       "0it [00:00, ?it/s]"
      ]
     },
     "metadata": {},
     "output_type": "display_data"
    },
    {
     "data": {
      "application/vnd.jupyter.widget-view+json": {
       "model_id": "f43e78e69a3748eba2807bbd5662eceb",
       "version_major": 2,
       "version_minor": 0
      },
      "text/plain": [
       "0it [00:00, ?it/s]"
      ]
     },
     "metadata": {},
     "output_type": "display_data"
    },
    {
     "name": "stdout",
     "output_type": "stream",
     "text": [
      "{'cap-shape': 'convex', 'cap-surface': 'fibrous', 'cap-color': 'gray', 'bruises': 'no', 'odor': 'creosote', 'gill-attachment': 'free', 'gill-spacing': 'crowded', 'gill-size': 'narrow', 'gill-color': 'pink', 'stalk-shape': 'enlarging', 'stalk-root': 'bulbous', 'stalk-surface-above-ring': 'smooth', 'stalk-surface-below-ring': 'smooth', 'stalk-color-above-ring': 'white', 'stalk-color-below-ring': 'white', 'veil-color': 'white', 'ring-number': 'one', 'ring-type': 'pendant', 'spore-print-color': 'black', 'population': 'several', 'habitat': 'woods'}\n"
     ]
    },
    {
     "data": {
      "application/vnd.jupyter.widget-view+json": {
       "model_id": "df0d1563021b49ccae104b8c4fdd5e50",
       "version_major": 2,
       "version_minor": 0
      },
      "text/plain": [
       "0it [00:00, ?it/s]"
      ]
     },
     "metadata": {},
     "output_type": "display_data"
    },
    {
     "data": {
      "application/vnd.jupyter.widget-view+json": {
       "model_id": "e0fb87cba54347e1aef3426664fb54d6",
       "version_major": 2,
       "version_minor": 0
      },
      "text/plain": [
       "0it [00:00, ?it/s]"
      ]
     },
     "metadata": {},
     "output_type": "display_data"
    },
    {
     "name": "stdout",
     "output_type": "stream",
     "text": [
      "{'cap-shape': 'flat', 'cap-surface': 'smooth', 'cap-color': 'white', 'bruises': 'bruises', 'odor': 'foul', 'gill-attachment': 'free', 'gill-spacing': 'close', 'gill-size': 'broad', 'gill-color': 'pink', 'stalk-shape': 'tapering', 'stalk-root': 'bulbous', 'stalk-surface-above-ring': 'smooth', 'stalk-surface-below-ring': 'fibrous', 'stalk-color-above-ring': 'white', 'stalk-color-below-ring': 'white', 'veil-color': 'white', 'ring-number': 'one', 'ring-type': 'pendant', 'spore-print-color': 'chocolate', 'population': 'scattered', 'habitat': 'urban'}\n"
     ]
    },
    {
     "data": {
      "application/vnd.jupyter.widget-view+json": {
       "model_id": "9e895ad6e3e44f859abf70d278e47215",
       "version_major": 2,
       "version_minor": 0
      },
      "text/plain": [
       "0it [00:00, ?it/s]"
      ]
     },
     "metadata": {},
     "output_type": "display_data"
    },
    {
     "data": {
      "application/vnd.jupyter.widget-view+json": {
       "model_id": "b83f115dbe454b74b113a257c2adf043",
       "version_major": 2,
       "version_minor": 0
      },
      "text/plain": [
       "0it [00:00, ?it/s]"
      ]
     },
     "metadata": {},
     "output_type": "display_data"
    },
    {
     "name": "stdout",
     "output_type": "stream",
     "text": [
      "{'cap-shape': 'flat', 'cap-surface': 'smooth', 'cap-color': 'red', 'bruises': 'no', 'odor': 'fishy', 'gill-attachment': 'free', 'gill-spacing': 'close', 'gill-size': 'narrow', 'gill-color': 'buff', 'stalk-shape': 'tapering', 'stalk-root': 'bulbous', 'stalk-surface-above-ring': 'smooth', 'stalk-surface-below-ring': 'silky', 'stalk-color-above-ring': 'pink', 'stalk-color-below-ring': 'pink', 'veil-color': 'white', 'ring-number': 'one', 'ring-type': 'evanescent', 'spore-print-color': 'white', 'population': 'several', 'habitat': 'woods'}\n"
     ]
    },
    {
     "data": {
      "application/vnd.jupyter.widget-view+json": {
       "model_id": "3fa58830eab64166a5c8de61fe3a23a3",
       "version_major": 2,
       "version_minor": 0
      },
      "text/plain": [
       "0it [00:00, ?it/s]"
      ]
     },
     "metadata": {},
     "output_type": "display_data"
    },
    {
     "data": {
      "application/vnd.jupyter.widget-view+json": {
       "model_id": "dc59f5678d17414d80075ef396c42cef",
       "version_major": 2,
       "version_minor": 0
      },
      "text/plain": [
       "0it [00:00, ?it/s]"
      ]
     },
     "metadata": {},
     "output_type": "display_data"
    },
    {
     "name": "stdout",
     "output_type": "stream",
     "text": [
      "{'cap-shape': 'flat', 'cap-surface': 'scaly', 'cap-color': 'red', 'bruises': 'bruises', 'odor': 'none', 'gill-attachment': 'free', 'gill-spacing': 'close', 'gill-size': 'broad', 'gill-color': 'white', 'stalk-shape': 'tapering', 'stalk-root': 'bulbous', 'stalk-surface-above-ring': 'smooth', 'stalk-surface-below-ring': 'smooth', 'stalk-color-above-ring': 'gray', 'stalk-color-below-ring': 'pink', 'veil-color': 'white', 'ring-number': 'one', 'ring-type': 'pendant', 'spore-print-color': 'black', 'population': 'several', 'habitat': 'woods'}\n"
     ]
    },
    {
     "data": {
      "application/vnd.jupyter.widget-view+json": {
       "model_id": "a2ee1f558f1e4e2e87ec529b016993e7",
       "version_major": 2,
       "version_minor": 0
      },
      "text/plain": [
       "0it [00:00, ?it/s]"
      ]
     },
     "metadata": {},
     "output_type": "display_data"
    },
    {
     "data": {
      "application/vnd.jupyter.widget-view+json": {
       "model_id": "c250290db577430aa7932def39f00e8b",
       "version_major": 2,
       "version_minor": 0
      },
      "text/plain": [
       "0it [00:00, ?it/s]"
      ]
     },
     "metadata": {},
     "output_type": "display_data"
    },
    {
     "name": "stdout",
     "output_type": "stream",
     "text": [
      "{'cap-shape': 'convex', 'cap-surface': 'scaly', 'cap-color': 'red', 'bruises': 'bruises', 'odor': 'none', 'gill-attachment': 'free', 'gill-spacing': 'close', 'gill-size': 'broad', 'gill-color': 'white', 'stalk-shape': 'tapering', 'stalk-root': 'bulbous', 'stalk-surface-above-ring': 'smooth', 'stalk-surface-below-ring': 'smooth', 'stalk-color-above-ring': 'white', 'stalk-color-below-ring': 'pink', 'veil-color': 'white', 'ring-number': 'one', 'ring-type': 'pendant', 'spore-print-color': 'brown', 'population': 'several', 'habitat': 'woods'}\n"
     ]
    },
    {
     "data": {
      "application/vnd.jupyter.widget-view+json": {
       "model_id": "608aae95247c4df4982251fd2338f09d",
       "version_major": 2,
       "version_minor": 0
      },
      "text/plain": [
       "0it [00:00, ?it/s]"
      ]
     },
     "metadata": {},
     "output_type": "display_data"
    },
    {
     "data": {
      "application/vnd.jupyter.widget-view+json": {
       "model_id": "078da88c4c61457685ad5b66fdd5c292",
       "version_major": 2,
       "version_minor": 0
      },
      "text/plain": [
       "0it [00:00, ?it/s]"
      ]
     },
     "metadata": {},
     "output_type": "display_data"
    },
    {
     "name": "stdout",
     "output_type": "stream",
     "text": [
      "{'cap-shape': 'flat', 'cap-surface': 'scaly', 'cap-color': 'brown', 'bruises': 'no', 'odor': 'spicy', 'gill-attachment': 'free', 'gill-spacing': 'close', 'gill-size': 'narrow', 'gill-color': 'buff', 'stalk-shape': 'tapering', 'stalk-root': 'bulbous', 'stalk-surface-above-ring': 'silky', 'stalk-surface-below-ring': 'silky', 'stalk-color-above-ring': 'pink', 'stalk-color-below-ring': 'pink', 'veil-color': 'white', 'ring-number': 'one', 'ring-type': 'evanescent', 'spore-print-color': 'white', 'population': 'several', 'habitat': 'woods'}\n"
     ]
    },
    {
     "data": {
      "application/vnd.jupyter.widget-view+json": {
       "model_id": "a6f65cfc60f14250bf5eeef15efddf58",
       "version_major": 2,
       "version_minor": 0
      },
      "text/plain": [
       "0it [00:00, ?it/s]"
      ]
     },
     "metadata": {},
     "output_type": "display_data"
    },
    {
     "data": {
      "application/vnd.jupyter.widget-view+json": {
       "model_id": "0465993cf6dd4f01a1ba73010d5741ed",
       "version_major": 2,
       "version_minor": 0
      },
      "text/plain": [
       "0it [00:00, ?it/s]"
      ]
     },
     "metadata": {},
     "output_type": "display_data"
    },
    {
     "name": "stdout",
     "output_type": "stream",
     "text": [
      "{'cap-shape': 'convex', 'cap-surface': 'fibrous', 'cap-color': 'yellow', 'bruises': 'no', 'odor': 'foul', 'gill-attachment': 'free', 'gill-spacing': 'close', 'gill-size': 'broad', 'gill-color': 'pink', 'stalk-shape': 'enlarging', 'stalk-root': 'bulbous', 'stalk-surface-above-ring': 'silky', 'stalk-surface-below-ring': 'silky', 'stalk-color-above-ring': 'pink', 'stalk-color-below-ring': 'pink', 'veil-color': 'white', 'ring-number': 'one', 'ring-type': 'large', 'spore-print-color': 'chocolate', 'population': 'solitary', 'habitat': 'paths'}\n"
     ]
    },
    {
     "data": {
      "application/vnd.jupyter.widget-view+json": {
       "model_id": "4aaa1c22cd5a41f994fc16e10d5dc1d0",
       "version_major": 2,
       "version_minor": 0
      },
      "text/plain": [
       "0it [00:00, ?it/s]"
      ]
     },
     "metadata": {},
     "output_type": "display_data"
    },
    {
     "data": {
      "application/vnd.jupyter.widget-view+json": {
       "model_id": "5a36d62cdaf046b389c598c2d7d63cde",
       "version_major": 2,
       "version_minor": 0
      },
      "text/plain": [
       "0it [00:00, ?it/s]"
      ]
     },
     "metadata": {},
     "output_type": "display_data"
    },
    {
     "name": "stdout",
     "output_type": "stream",
     "text": [
      "{'cap-shape': 'convex', 'cap-surface': 'scaly', 'cap-color': 'red', 'bruises': 'bruises', 'odor': 'none', 'gill-attachment': 'free', 'gill-spacing': 'close', 'gill-size': 'broad', 'gill-color': 'brown', 'stalk-shape': 'tapering', 'stalk-root': 'bulbous', 'stalk-surface-above-ring': 'smooth', 'stalk-surface-below-ring': 'smooth', 'stalk-color-above-ring': 'gray', 'stalk-color-below-ring': 'pink', 'veil-color': 'white', 'ring-number': 'one', 'ring-type': 'pendant', 'spore-print-color': 'brown', 'population': 'solitary', 'habitat': 'woods'}\n"
     ]
    },
    {
     "data": {
      "application/vnd.jupyter.widget-view+json": {
       "model_id": "9e1a8c0f3a7a4bd1a634c978fdccbe18",
       "version_major": 2,
       "version_minor": 0
      },
      "text/plain": [
       "0it [00:00, ?it/s]"
      ]
     },
     "metadata": {},
     "output_type": "display_data"
    },
    {
     "data": {
      "application/vnd.jupyter.widget-view+json": {
       "model_id": "d7e2a319507440dc832433da8cd174ea",
       "version_major": 2,
       "version_minor": 0
      },
      "text/plain": [
       "0it [00:00, ?it/s]"
      ]
     },
     "metadata": {},
     "output_type": "display_data"
    },
    {
     "name": "stdout",
     "output_type": "stream",
     "text": [
      "{'cap-shape': 'convex', 'cap-surface': 'scaly', 'cap-color': 'brown', 'bruises': 'no', 'odor': 'foul', 'gill-attachment': 'free', 'gill-spacing': 'close', 'gill-size': 'narrow', 'gill-color': 'buff', 'stalk-shape': 'tapering', 'stalk-root': 'bulbous', 'stalk-surface-above-ring': 'silky', 'stalk-surface-below-ring': 'smooth', 'stalk-color-above-ring': 'white', 'stalk-color-below-ring': 'pink', 'veil-color': 'white', 'ring-number': 'one', 'ring-type': 'evanescent', 'spore-print-color': 'white', 'population': 'several', 'habitat': 'paths'}\n"
     ]
    },
    {
     "data": {
      "application/vnd.jupyter.widget-view+json": {
       "model_id": "5e9417b8eef34307abcac3d2e9492c6a",
       "version_major": 2,
       "version_minor": 0
      },
      "text/plain": [
       "0it [00:00, ?it/s]"
      ]
     },
     "metadata": {},
     "output_type": "display_data"
    },
    {
     "data": {
      "application/vnd.jupyter.widget-view+json": {
       "model_id": "87c33248524a4054aaf36c2fe069c7d2",
       "version_major": 2,
       "version_minor": 0
      },
      "text/plain": [
       "0it [00:00, ?it/s]"
      ]
     },
     "metadata": {},
     "output_type": "display_data"
    },
    {
     "name": "stdout",
     "output_type": "stream",
     "text": [
      "{'cap-shape': 'convex', 'cap-surface': 'scaly', 'cap-color': 'brown', 'bruises': 'bruises', 'odor': 'none', 'gill-attachment': 'free', 'gill-spacing': 'close', 'gill-size': 'broad', 'gill-color': 'brown', 'stalk-shape': 'tapering', 'stalk-root': 'bulbous', 'stalk-surface-above-ring': 'smooth', 'stalk-surface-below-ring': 'smooth', 'stalk-color-above-ring': 'white', 'stalk-color-below-ring': 'white', 'veil-color': 'white', 'ring-number': 'one', 'ring-type': 'pendant', 'spore-print-color': 'black', 'population': 'solitary', 'habitat': 'woods'}\n"
     ]
    },
    {
     "data": {
      "application/vnd.jupyter.widget-view+json": {
       "model_id": "ef36fa43721c4edd91b97cf6cc98a43b",
       "version_major": 2,
       "version_minor": 0
      },
      "text/plain": [
       "0it [00:00, ?it/s]"
      ]
     },
     "metadata": {},
     "output_type": "display_data"
    },
    {
     "data": {
      "application/vnd.jupyter.widget-view+json": {
       "model_id": "b9d60e027f704d56acd474a275ea7e1c",
       "version_major": 2,
       "version_minor": 0
      },
      "text/plain": [
       "0it [00:00, ?it/s]"
      ]
     },
     "metadata": {},
     "output_type": "display_data"
    },
    {
     "name": "stdout",
     "output_type": "stream",
     "text": [
      "{'cap-shape': 'convex', 'cap-surface': 'fibrous', 'cap-color': 'gray', 'bruises': 'no', 'odor': 'foul', 'gill-attachment': 'free', 'gill-spacing': 'close', 'gill-size': 'broad', 'gill-color': 'chocolate', 'stalk-shape': 'enlarging', 'stalk-root': 'bulbous', 'stalk-surface-above-ring': 'silky', 'stalk-surface-below-ring': 'silky', 'stalk-color-above-ring': 'brown', 'stalk-color-below-ring': 'pink', 'veil-color': 'white', 'ring-number': 'one', 'ring-type': 'large', 'spore-print-color': 'chocolate', 'population': 'solitary', 'habitat': 'paths'}\n"
     ]
    },
    {
     "data": {
      "application/vnd.jupyter.widget-view+json": {
       "model_id": "593267f5d17e44aeb91d46750ee666a8",
       "version_major": 2,
       "version_minor": 0
      },
      "text/plain": [
       "0it [00:00, ?it/s]"
      ]
     },
     "metadata": {},
     "output_type": "display_data"
    },
    {
     "data": {
      "application/vnd.jupyter.widget-view+json": {
       "model_id": "906d9c6d1a174411915e303cfc192939",
       "version_major": 2,
       "version_minor": 0
      },
      "text/plain": [
       "0it [00:00, ?it/s]"
      ]
     },
     "metadata": {},
     "output_type": "display_data"
    },
    {
     "name": "stdout",
     "output_type": "stream",
     "text": [
      "{'cap-shape': 'convex', 'cap-surface': 'scaly', 'cap-color': 'yellow', 'bruises': 'no', 'odor': 'foul', 'gill-attachment': 'free', 'gill-spacing': 'close', 'gill-size': 'broad', 'gill-color': 'chocolate', 'stalk-shape': 'enlarging', 'stalk-root': 'bulbous', 'stalk-surface-above-ring': 'silky', 'stalk-surface-below-ring': 'silky', 'stalk-color-above-ring': 'buff', 'stalk-color-below-ring': 'brown', 'veil-color': 'white', 'ring-number': 'one', 'ring-type': 'large', 'spore-print-color': 'chocolate', 'population': 'several', 'habitat': 'woods'}\n"
     ]
    },
    {
     "data": {
      "application/vnd.jupyter.widget-view+json": {
       "model_id": "c1b1c73b996c4cd49b39fccea43a7717",
       "version_major": 2,
       "version_minor": 0
      },
      "text/plain": [
       "0it [00:00, ?it/s]"
      ]
     },
     "metadata": {},
     "output_type": "display_data"
    },
    {
     "data": {
      "application/vnd.jupyter.widget-view+json": {
       "model_id": "0db253ff4e7340f2b1599b648cab187e",
       "version_major": 2,
       "version_minor": 0
      },
      "text/plain": [
       "0it [00:00, ?it/s]"
      ]
     },
     "metadata": {},
     "output_type": "display_data"
    },
    {
     "name": "stdout",
     "output_type": "stream",
     "text": [
      "{'cap-shape': 'knobbed', 'cap-surface': 'scaly', 'cap-color': 'red', 'bruises': 'no', 'odor': 'spicy', 'gill-attachment': 'free', 'gill-spacing': 'close', 'gill-size': 'narrow', 'gill-color': 'buff', 'stalk-shape': 'tapering', 'stalk-root': 'bulbous', 'stalk-surface-above-ring': 'silky', 'stalk-surface-below-ring': 'smooth', 'stalk-color-above-ring': 'white', 'stalk-color-below-ring': 'white', 'veil-color': 'white', 'ring-number': 'one', 'ring-type': 'evanescent', 'spore-print-color': 'white', 'population': 'several', 'habitat': 'paths'}\n"
     ]
    },
    {
     "data": {
      "application/vnd.jupyter.widget-view+json": {
       "model_id": "5d7f168d35b843fc9531b296205a3b45",
       "version_major": 2,
       "version_minor": 0
      },
      "text/plain": [
       "0it [00:00, ?it/s]"
      ]
     },
     "metadata": {},
     "output_type": "display_data"
    },
    {
     "data": {
      "application/vnd.jupyter.widget-view+json": {
       "model_id": "30c7ffc5e76941eb8da689e1a3c8c122",
       "version_major": 2,
       "version_minor": 0
      },
      "text/plain": [
       "0it [00:00, ?it/s]"
      ]
     },
     "metadata": {},
     "output_type": "display_data"
    },
    {
     "name": "stdout",
     "output_type": "stream",
     "text": [
      "{'cap-shape': 'convex', 'cap-surface': 'smooth', 'cap-color': 'brown', 'bruises': 'no', 'odor': 'spicy', 'gill-attachment': 'free', 'gill-spacing': 'close', 'gill-size': 'narrow', 'gill-color': 'buff', 'stalk-shape': 'tapering', 'stalk-root': 'bulbous', 'stalk-surface-above-ring': 'silky', 'stalk-surface-below-ring': 'smooth', 'stalk-color-above-ring': 'white', 'stalk-color-below-ring': 'white', 'veil-color': 'white', 'ring-number': 'one', 'ring-type': 'evanescent', 'spore-print-color': 'white', 'population': 'several', 'habitat': 'leaves'}\n"
     ]
    },
    {
     "data": {
      "application/vnd.jupyter.widget-view+json": {
       "model_id": "e3501531f1fa4922ae975414c09f3737",
       "version_major": 2,
       "version_minor": 0
      },
      "text/plain": [
       "0it [00:00, ?it/s]"
      ]
     },
     "metadata": {},
     "output_type": "display_data"
    },
    {
     "data": {
      "application/vnd.jupyter.widget-view+json": {
       "model_id": "0f0b8c19771149e9ab6344eed120b368",
       "version_major": 2,
       "version_minor": 0
      },
      "text/plain": [
       "0it [00:00, ?it/s]"
      ]
     },
     "metadata": {},
     "output_type": "display_data"
    },
    {
     "name": "stdout",
     "output_type": "stream",
     "text": [
      "{'cap-shape': 'flat', 'cap-surface': 'smooth', 'cap-color': 'red', 'bruises': 'no', 'odor': 'spicy', 'gill-attachment': 'free', 'gill-spacing': 'close', 'gill-size': 'narrow', 'gill-color': 'buff', 'stalk-shape': 'tapering', 'stalk-root': 'bulbous', 'stalk-surface-above-ring': 'smooth', 'stalk-surface-below-ring': 'silky', 'stalk-color-above-ring': 'white', 'stalk-color-below-ring': 'white', 'veil-color': 'white', 'ring-number': 'one', 'ring-type': 'evanescent', 'spore-print-color': 'white', 'population': 'several', 'habitat': 'leaves'}\n"
     ]
    },
    {
     "data": {
      "application/vnd.jupyter.widget-view+json": {
       "model_id": "e6f9341227304f4fa5bb2ab02ed8c0e1",
       "version_major": 2,
       "version_minor": 0
      },
      "text/plain": [
       "0it [00:00, ?it/s]"
      ]
     },
     "metadata": {},
     "output_type": "display_data"
    },
    {
     "data": {
      "application/vnd.jupyter.widget-view+json": {
       "model_id": "9b6c1f02364b4566aebd3e2b5fe2b09b",
       "version_major": 2,
       "version_minor": 0
      },
      "text/plain": [
       "0it [00:00, ?it/s]"
      ]
     },
     "metadata": {},
     "output_type": "display_data"
    },
    {
     "name": "stdout",
     "output_type": "stream",
     "text": [
      "{'cap-shape': 'flat', 'cap-surface': 'scaly', 'cap-color': 'gray', 'bruises': 'no', 'odor': 'foul', 'gill-attachment': 'free', 'gill-spacing': 'close', 'gill-size': 'broad', 'gill-color': 'pink', 'stalk-shape': 'enlarging', 'stalk-root': 'bulbous', 'stalk-surface-above-ring': 'silky', 'stalk-surface-below-ring': 'silky', 'stalk-color-above-ring': 'brown', 'stalk-color-below-ring': 'brown', 'veil-color': 'white', 'ring-number': 'one', 'ring-type': 'large', 'spore-print-color': 'chocolate', 'population': 'several', 'habitat': 'grasses'}\n"
     ]
    },
    {
     "data": {
      "application/vnd.jupyter.widget-view+json": {
       "model_id": "84946842d1b84836aa2afdf891b24d42",
       "version_major": 2,
       "version_minor": 0
      },
      "text/plain": [
       "0it [00:00, ?it/s]"
      ]
     },
     "metadata": {},
     "output_type": "display_data"
    },
    {
     "data": {
      "application/vnd.jupyter.widget-view+json": {
       "model_id": "4b1e37198e8f44ab947749b280c1a107",
       "version_major": 2,
       "version_minor": 0
      },
      "text/plain": [
       "0it [00:00, ?it/s]"
      ]
     },
     "metadata": {},
     "output_type": "display_data"
    },
    {
     "name": "stdout",
     "output_type": "stream",
     "text": [
      "{'cap-shape': 'convex', 'cap-surface': 'scaly', 'cap-color': 'gray', 'bruises': 'bruises', 'odor': 'none', 'gill-attachment': 'free', 'gill-spacing': 'close', 'gill-size': 'broad', 'gill-color': 'purple', 'stalk-shape': 'tapering', 'stalk-root': 'bulbous', 'stalk-surface-above-ring': 'smooth', 'stalk-surface-below-ring': 'smooth', 'stalk-color-above-ring': 'gray', 'stalk-color-below-ring': 'gray', 'veil-color': 'white', 'ring-number': 'one', 'ring-type': 'pendant', 'spore-print-color': 'black', 'population': 'solitary', 'habitat': 'woods'}\n"
     ]
    },
    {
     "data": {
      "application/vnd.jupyter.widget-view+json": {
       "model_id": "ce9e4dcd60da43be808aa4caa270b225",
       "version_major": 2,
       "version_minor": 0
      },
      "text/plain": [
       "0it [00:00, ?it/s]"
      ]
     },
     "metadata": {},
     "output_type": "display_data"
    },
    {
     "data": {
      "application/vnd.jupyter.widget-view+json": {
       "model_id": "eea0f3dc226542e1aeefcbf77453e123",
       "version_major": 2,
       "version_minor": 0
      },
      "text/plain": [
       "0it [00:00, ?it/s]"
      ]
     },
     "metadata": {},
     "output_type": "display_data"
    },
    {
     "name": "stdout",
     "output_type": "stream",
     "text": [
      "{'cap-shape': 'convex', 'cap-surface': 'scaly', 'cap-color': 'brown', 'bruises': 'bruises', 'odor': 'none', 'gill-attachment': 'free', 'gill-spacing': 'close', 'gill-size': 'broad', 'gill-color': 'pink', 'stalk-shape': 'tapering', 'stalk-root': 'bulbous', 'stalk-surface-above-ring': 'smooth', 'stalk-surface-below-ring': 'smooth', 'stalk-color-above-ring': 'white', 'stalk-color-below-ring': 'pink', 'veil-color': 'white', 'ring-number': 'one', 'ring-type': 'pendant', 'spore-print-color': 'brown', 'population': 'several', 'habitat': 'woods'}\n"
     ]
    },
    {
     "data": {
      "application/vnd.jupyter.widget-view+json": {
       "model_id": "d2d5b40fdbc8407b8ca72bf7e5e28490",
       "version_major": 2,
       "version_minor": 0
      },
      "text/plain": [
       "0it [00:00, ?it/s]"
      ]
     },
     "metadata": {},
     "output_type": "display_data"
    },
    {
     "data": {
      "application/vnd.jupyter.widget-view+json": {
       "model_id": "7873b8fe2e4c45b6b979dca008872acc",
       "version_major": 2,
       "version_minor": 0
      },
      "text/plain": [
       "0it [00:00, ?it/s]"
      ]
     },
     "metadata": {},
     "output_type": "display_data"
    },
    {
     "name": "stdout",
     "output_type": "stream",
     "text": [
      "{'cap-shape': 'flat', 'cap-surface': 'smooth', 'cap-color': 'red', 'bruises': 'no', 'odor': 'foul', 'gill-attachment': 'free', 'gill-spacing': 'close', 'gill-size': 'narrow', 'gill-color': 'buff', 'stalk-shape': 'tapering', 'stalk-root': 'bulbous', 'stalk-surface-above-ring': 'silky', 'stalk-surface-below-ring': 'smooth', 'stalk-color-above-ring': 'white', 'stalk-color-below-ring': 'pink', 'veil-color': 'white', 'ring-number': 'one', 'ring-type': 'evanescent', 'spore-print-color': 'white', 'population': 'several', 'habitat': 'paths'}\n"
     ]
    },
    {
     "data": {
      "application/vnd.jupyter.widget-view+json": {
       "model_id": "99a8f2dc720e4368acab2c9213095d54",
       "version_major": 2,
       "version_minor": 0
      },
      "text/plain": [
       "0it [00:00, ?it/s]"
      ]
     },
     "metadata": {},
     "output_type": "display_data"
    },
    {
     "data": {
      "application/vnd.jupyter.widget-view+json": {
       "model_id": "df8b4fc175d042068f6020c92d2a17eb",
       "version_major": 2,
       "version_minor": 0
      },
      "text/plain": [
       "0it [00:00, ?it/s]"
      ]
     },
     "metadata": {},
     "output_type": "display_data"
    },
    {
     "name": "stdout",
     "output_type": "stream",
     "text": [
      "{'cap-shape': 'flat', 'cap-surface': 'scaly', 'cap-color': 'buff', 'bruises': 'bruises', 'odor': 'none', 'gill-attachment': 'free', 'gill-spacing': 'close', 'gill-size': 'broad', 'gill-color': 'white', 'stalk-shape': 'enlarging', 'stalk-root': 'bulbous', 'stalk-surface-above-ring': 'smooth', 'stalk-surface-below-ring': 'smooth', 'stalk-color-above-ring': 'white', 'stalk-color-below-ring': 'red', 'veil-color': 'white', 'ring-number': 'two', 'ring-type': 'evanescent', 'spore-print-color': 'white', 'population': 'clustered', 'habitat': 'waste'}\n"
     ]
    },
    {
     "data": {
      "application/vnd.jupyter.widget-view+json": {
       "model_id": "debffa1dbe8343ae9498d9070cbe0774",
       "version_major": 2,
       "version_minor": 0
      },
      "text/plain": [
       "0it [00:00, ?it/s]"
      ]
     },
     "metadata": {},
     "output_type": "display_data"
    },
    {
     "data": {
      "application/vnd.jupyter.widget-view+json": {
       "model_id": "14cca1d6aa1b46eba93ed74af75cabd8",
       "version_major": 2,
       "version_minor": 0
      },
      "text/plain": [
       "0it [00:00, ?it/s]"
      ]
     },
     "metadata": {},
     "output_type": "display_data"
    },
    {
     "name": "stdout",
     "output_type": "stream",
     "text": [
      "{'cap-shape': 'convex', 'cap-surface': 'scaly', 'cap-color': 'gray', 'bruises': 'bruises', 'odor': 'none', 'gill-attachment': 'free', 'gill-spacing': 'close', 'gill-size': 'broad', 'gill-color': 'purple', 'stalk-shape': 'tapering', 'stalk-root': 'bulbous', 'stalk-surface-above-ring': 'smooth', 'stalk-surface-below-ring': 'smooth', 'stalk-color-above-ring': 'pink', 'stalk-color-below-ring': 'white', 'veil-color': 'white', 'ring-number': 'one', 'ring-type': 'pendant', 'spore-print-color': 'brown', 'population': 'several', 'habitat': 'woods'}\n"
     ]
    },
    {
     "data": {
      "application/vnd.jupyter.widget-view+json": {
       "model_id": "21ca442a6c894f03b06722f96c889e9a",
       "version_major": 2,
       "version_minor": 0
      },
      "text/plain": [
       "0it [00:00, ?it/s]"
      ]
     },
     "metadata": {},
     "output_type": "display_data"
    },
    {
     "data": {
      "application/vnd.jupyter.widget-view+json": {
       "model_id": "3ea24e1b8d534f7eb060f5d05f8e3179",
       "version_major": 2,
       "version_minor": 0
      },
      "text/plain": [
       "0it [00:00, ?it/s]"
      ]
     },
     "metadata": {},
     "output_type": "display_data"
    },
    {
     "name": "stdout",
     "output_type": "stream",
     "text": [
      "{'cap-shape': 'convex', 'cap-surface': 'fibrous', 'cap-color': 'gray', 'bruises': 'bruises', 'odor': 'none', 'gill-attachment': 'free', 'gill-spacing': 'close', 'gill-size': 'broad', 'gill-color': 'purple', 'stalk-shape': 'tapering', 'stalk-root': 'bulbous', 'stalk-surface-above-ring': 'smooth', 'stalk-surface-below-ring': 'smooth', 'stalk-color-above-ring': 'white', 'stalk-color-below-ring': 'white', 'veil-color': 'white', 'ring-number': 'one', 'ring-type': 'pendant', 'spore-print-color': 'brown', 'population': 'solitary', 'habitat': 'woods'}\n"
     ]
    },
    {
     "data": {
      "application/vnd.jupyter.widget-view+json": {
       "model_id": "4b37ae3b80e94b979438ce005255c39c",
       "version_major": 2,
       "version_minor": 0
      },
      "text/plain": [
       "0it [00:00, ?it/s]"
      ]
     },
     "metadata": {},
     "output_type": "display_data"
    },
    {
     "data": {
      "application/vnd.jupyter.widget-view+json": {
       "model_id": "0ba1829e67e2459bac8fb14c89fb5bd8",
       "version_major": 2,
       "version_minor": 0
      },
      "text/plain": [
       "0it [00:00, ?it/s]"
      ]
     },
     "metadata": {},
     "output_type": "display_data"
    },
    {
     "name": "stdout",
     "output_type": "stream",
     "text": [
      "{'cap-shape': 'convex', 'cap-surface': 'scaly', 'cap-color': 'yellow', 'bruises': 'no', 'odor': 'foul', 'gill-attachment': 'free', 'gill-spacing': 'close', 'gill-size': 'broad', 'gill-color': 'pink', 'stalk-shape': 'enlarging', 'stalk-root': 'bulbous', 'stalk-surface-above-ring': 'silky', 'stalk-surface-below-ring': 'silky', 'stalk-color-above-ring': 'buff', 'stalk-color-below-ring': 'pink', 'veil-color': 'white', 'ring-number': 'one', 'ring-type': 'large', 'spore-print-color': 'chocolate', 'population': 'several', 'habitat': 'woods'}\n"
     ]
    },
    {
     "data": {
      "application/vnd.jupyter.widget-view+json": {
       "model_id": "bfd7663f89a74c62bccb8d949a90c796",
       "version_major": 2,
       "version_minor": 0
      },
      "text/plain": [
       "0it [00:00, ?it/s]"
      ]
     },
     "metadata": {},
     "output_type": "display_data"
    },
    {
     "data": {
      "application/vnd.jupyter.widget-view+json": {
       "model_id": "45a163ec3a304aac801c06749b16ce37",
       "version_major": 2,
       "version_minor": 0
      },
      "text/plain": [
       "0it [00:00, ?it/s]"
      ]
     },
     "metadata": {},
     "output_type": "display_data"
    },
    {
     "name": "stdout",
     "output_type": "stream",
     "text": [
      "{'cap-shape': 'convex', 'cap-surface': 'smooth', 'cap-color': 'white', 'bruises': 'bruises', 'odor': 'anise', 'gill-attachment': 'free', 'gill-spacing': 'close', 'gill-size': 'broad', 'gill-color': 'gray', 'stalk-shape': 'enlarging', 'stalk-root': 'club', 'stalk-surface-above-ring': 'smooth', 'stalk-surface-below-ring': 'smooth', 'stalk-color-above-ring': 'white', 'stalk-color-below-ring': 'white', 'veil-color': 'white', 'ring-number': 'one', 'ring-type': 'pendant', 'spore-print-color': 'brown', 'population': 'numerous', 'habitat': 'meadows'}\n"
     ]
    },
    {
     "data": {
      "application/vnd.jupyter.widget-view+json": {
       "model_id": "409caf0ae1a44853a320d3babc7f55e1",
       "version_major": 2,
       "version_minor": 0
      },
      "text/plain": [
       "0it [00:00, ?it/s]"
      ]
     },
     "metadata": {},
     "output_type": "display_data"
    },
    {
     "data": {
      "application/vnd.jupyter.widget-view+json": {
       "model_id": "a1d34da1d0164db3b703313c5d234097",
       "version_major": 2,
       "version_minor": 0
      },
      "text/plain": [
       "0it [00:00, ?it/s]"
      ]
     },
     "metadata": {},
     "output_type": "display_data"
    },
    {
     "name": "stdout",
     "output_type": "stream",
     "text": [
      "{'cap-shape': 'knobbed', 'cap-surface': 'smooth', 'cap-color': 'red', 'bruises': 'bruises', 'odor': 'none', 'gill-attachment': 'free', 'gill-spacing': 'close', 'gill-size': 'broad', 'gill-color': 'red', 'stalk-shape': 'enlarging', 'stalk-root': 'bulbous', 'stalk-surface-above-ring': 'smooth', 'stalk-surface-below-ring': 'smooth', 'stalk-color-above-ring': 'white', 'stalk-color-below-ring': 'white', 'veil-color': 'white', 'ring-number': 'two', 'ring-type': 'evanescent', 'spore-print-color': 'white', 'population': 'clustered', 'habitat': 'waste'}\n"
     ]
    },
    {
     "data": {
      "application/vnd.jupyter.widget-view+json": {
       "model_id": "2dfbd1b951014afe9888ae2e42a47b6b",
       "version_major": 2,
       "version_minor": 0
      },
      "text/plain": [
       "0it [00:00, ?it/s]"
      ]
     },
     "metadata": {},
     "output_type": "display_data"
    },
    {
     "data": {
      "application/vnd.jupyter.widget-view+json": {
       "model_id": "4e7ddb6f6ea04f6dafe6ceb23a1ecee8",
       "version_major": 2,
       "version_minor": 0
      },
      "text/plain": [
       "0it [00:00, ?it/s]"
      ]
     },
     "metadata": {},
     "output_type": "display_data"
    },
    {
     "name": "stdout",
     "output_type": "stream",
     "text": [
      "{'cap-shape': 'convex', 'cap-surface': 'scaly', 'cap-color': 'red', 'bruises': 'bruises', 'odor': 'none', 'gill-attachment': 'free', 'gill-spacing': 'close', 'gill-size': 'broad', 'gill-color': 'pink', 'stalk-shape': 'tapering', 'stalk-root': 'bulbous', 'stalk-surface-above-ring': 'smooth', 'stalk-surface-below-ring': 'smooth', 'stalk-color-above-ring': 'white', 'stalk-color-below-ring': 'pink', 'veil-color': 'white', 'ring-number': 'one', 'ring-type': 'pendant', 'spore-print-color': 'black', 'population': 'solitary', 'habitat': 'woods'}\n"
     ]
    },
    {
     "data": {
      "application/vnd.jupyter.widget-view+json": {
       "model_id": "1e18988e3f8842ec87a154c528fc50b1",
       "version_major": 2,
       "version_minor": 0
      },
      "text/plain": [
       "0it [00:00, ?it/s]"
      ]
     },
     "metadata": {},
     "output_type": "display_data"
    },
    {
     "data": {
      "application/vnd.jupyter.widget-view+json": {
       "model_id": "14af150077284c1bbb8291ca287454bb",
       "version_major": 2,
       "version_minor": 0
      },
      "text/plain": [
       "0it [00:00, ?it/s]"
      ]
     },
     "metadata": {},
     "output_type": "display_data"
    },
    {
     "name": "stdout",
     "output_type": "stream",
     "text": [
      "{'cap-shape': 'convex', 'cap-surface': 'fibrous', 'cap-color': 'gray', 'bruises': 'no', 'odor': 'foul', 'gill-attachment': 'free', 'gill-spacing': 'close', 'gill-size': 'broad', 'gill-color': 'chocolate', 'stalk-shape': 'enlarging', 'stalk-root': 'bulbous', 'stalk-surface-above-ring': 'silky', 'stalk-surface-below-ring': 'silky', 'stalk-color-above-ring': 'brown', 'stalk-color-below-ring': 'buff', 'veil-color': 'white', 'ring-number': 'one', 'ring-type': 'large', 'spore-print-color': 'chocolate', 'population': 'several', 'habitat': 'paths'}\n"
     ]
    },
    {
     "data": {
      "application/vnd.jupyter.widget-view+json": {
       "model_id": "e7126c808fd046929ccfb783228b6f1c",
       "version_major": 2,
       "version_minor": 0
      },
      "text/plain": [
       "0it [00:00, ?it/s]"
      ]
     },
     "metadata": {},
     "output_type": "display_data"
    },
    {
     "data": {
      "application/vnd.jupyter.widget-view+json": {
       "model_id": "1a55de3e97f94ce6b0ab9b2d9edfb11e",
       "version_major": 2,
       "version_minor": 0
      },
      "text/plain": [
       "0it [00:00, ?it/s]"
      ]
     },
     "metadata": {},
     "output_type": "display_data"
    },
    {
     "name": "stdout",
     "output_type": "stream",
     "text": [
      "{'cap-shape': 'bell', 'cap-surface': 'scaly', 'cap-color': 'white', 'bruises': 'bruises', 'odor': 'anise', 'gill-attachment': 'free', 'gill-spacing': 'close', 'gill-size': 'broad', 'gill-color': 'gray', 'stalk-shape': 'enlarging', 'stalk-root': 'club', 'stalk-surface-above-ring': 'smooth', 'stalk-surface-below-ring': 'smooth', 'stalk-color-above-ring': 'white', 'stalk-color-below-ring': 'white', 'veil-color': 'white', 'ring-number': 'one', 'ring-type': 'pendant', 'spore-print-color': 'brown', 'population': 'numerous', 'habitat': 'meadows'}\n"
     ]
    },
    {
     "data": {
      "application/vnd.jupyter.widget-view+json": {
       "model_id": "b2c0d2cf6d5e460cb96b48b2725aeac4",
       "version_major": 2,
       "version_minor": 0
      },
      "text/plain": [
       "0it [00:00, ?it/s]"
      ]
     },
     "metadata": {},
     "output_type": "display_data"
    },
    {
     "data": {
      "application/vnd.jupyter.widget-view+json": {
       "model_id": "2432d0182d8f4af9acb517714571ff80",
       "version_major": 2,
       "version_minor": 0
      },
      "text/plain": [
       "0it [00:00, ?it/s]"
      ]
     },
     "metadata": {},
     "output_type": "display_data"
    },
    {
     "name": "stdout",
     "output_type": "stream",
     "text": [
      "{'cap-shape': 'convex', 'cap-surface': 'fibrous', 'cap-color': 'yellow', 'bruises': 'no', 'odor': 'foul', 'gill-attachment': 'free', 'gill-spacing': 'close', 'gill-size': 'broad', 'gill-color': 'gray', 'stalk-shape': 'enlarging', 'stalk-root': 'bulbous', 'stalk-surface-above-ring': 'silky', 'stalk-surface-below-ring': 'silky', 'stalk-color-above-ring': 'buff', 'stalk-color-below-ring': 'brown', 'veil-color': 'white', 'ring-number': 'one', 'ring-type': 'large', 'spore-print-color': 'chocolate', 'population': 'solitary', 'habitat': 'grasses'}\n"
     ]
    },
    {
     "data": {
      "application/vnd.jupyter.widget-view+json": {
       "model_id": "30e41ba6e6e44276b454fbcb754bc1a8",
       "version_major": 2,
       "version_minor": 0
      },
      "text/plain": [
       "0it [00:00, ?it/s]"
      ]
     },
     "metadata": {},
     "output_type": "display_data"
    },
    {
     "data": {
      "application/vnd.jupyter.widget-view+json": {
       "model_id": "b08139e2d4c64123beeadcd8cf6cb0ab",
       "version_major": 2,
       "version_minor": 0
      },
      "text/plain": [
       "0it [00:00, ?it/s]"
      ]
     },
     "metadata": {},
     "output_type": "display_data"
    },
    {
     "name": "stdout",
     "output_type": "stream",
     "text": [
      "{'cap-shape': 'convex', 'cap-surface': 'fibrous', 'cap-color': 'gray', 'bruises': 'no', 'odor': 'none', 'gill-attachment': 'free', 'gill-spacing': 'crowded', 'gill-size': 'broad', 'gill-color': 'black', 'stalk-shape': 'tapering', 'stalk-root': 'equal', 'stalk-surface-above-ring': 'fibrous', 'stalk-surface-below-ring': 'fibrous', 'stalk-color-above-ring': 'white', 'stalk-color-below-ring': 'white', 'veil-color': 'white', 'ring-number': 'one', 'ring-type': 'evanescent', 'spore-print-color': 'brown', 'population': 'abundant', 'habitat': 'grasses'}\n"
     ]
    },
    {
     "data": {
      "application/vnd.jupyter.widget-view+json": {
       "model_id": "597b745dfc3e49498475bb780805d843",
       "version_major": 2,
       "version_minor": 0
      },
      "text/plain": [
       "0it [00:00, ?it/s]"
      ]
     },
     "metadata": {},
     "output_type": "display_data"
    },
    {
     "data": {
      "application/vnd.jupyter.widget-view+json": {
       "model_id": "605221f083ca4f5c8ed27a0a58f21821",
       "version_major": 2,
       "version_minor": 0
      },
      "text/plain": [
       "0it [00:00, ?it/s]"
      ]
     },
     "metadata": {},
     "output_type": "display_data"
    },
    {
     "name": "stdout",
     "output_type": "stream",
     "text": [
      "{'cap-shape': 'flat', 'cap-surface': 'fibrous', 'cap-color': 'white', 'bruises': 'bruises', 'odor': 'almond', 'gill-attachment': 'free', 'gill-spacing': 'crowded', 'gill-size': 'narrow', 'gill-color': 'brown', 'stalk-shape': 'tapering', 'stalk-root': 'bulbous', 'stalk-surface-above-ring': 'smooth', 'stalk-surface-below-ring': 'smooth', 'stalk-color-above-ring': 'white', 'stalk-color-below-ring': 'white', 'veil-color': 'white', 'ring-number': 'one', 'ring-type': 'pendant', 'spore-print-color': 'brown', 'population': 'several', 'habitat': 'woods'}\n"
     ]
    },
    {
     "data": {
      "application/vnd.jupyter.widget-view+json": {
       "model_id": "7d029fd08e9f42de874f445cc8fae8df",
       "version_major": 2,
       "version_minor": 0
      },
      "text/plain": [
       "0it [00:00, ?it/s]"
      ]
     },
     "metadata": {},
     "output_type": "display_data"
    },
    {
     "data": {
      "application/vnd.jupyter.widget-view+json": {
       "model_id": "01c4acdfa4ea49ff9d38c0a59031b7f8",
       "version_major": 2,
       "version_minor": 0
      },
      "text/plain": [
       "0it [00:00, ?it/s]"
      ]
     },
     "metadata": {},
     "output_type": "display_data"
    },
    {
     "name": "stdout",
     "output_type": "stream",
     "text": [
      "{'cap-shape': 'flat', 'cap-surface': 'fibrous', 'cap-color': 'red', 'bruises': 'bruises', 'odor': 'none', 'gill-attachment': 'free', 'gill-spacing': 'close', 'gill-size': 'broad', 'gill-color': 'purple', 'stalk-shape': 'tapering', 'stalk-root': 'bulbous', 'stalk-surface-above-ring': 'smooth', 'stalk-surface-below-ring': 'smooth', 'stalk-color-above-ring': 'gray', 'stalk-color-below-ring': 'pink', 'veil-color': 'white', 'ring-number': 'one', 'ring-type': 'pendant', 'spore-print-color': 'black', 'population': 'several', 'habitat': 'woods'}\n"
     ]
    },
    {
     "data": {
      "application/vnd.jupyter.widget-view+json": {
       "model_id": "086c96ac27924f0c84ea8c86b57245ff",
       "version_major": 2,
       "version_minor": 0
      },
      "text/plain": [
       "0it [00:00, ?it/s]"
      ]
     },
     "metadata": {},
     "output_type": "display_data"
    },
    {
     "data": {
      "application/vnd.jupyter.widget-view+json": {
       "model_id": "f3afcd179b874ad5825e2cc4241e7b9a",
       "version_major": 2,
       "version_minor": 0
      },
      "text/plain": [
       "0it [00:00, ?it/s]"
      ]
     },
     "metadata": {},
     "output_type": "display_data"
    },
    {
     "name": "stdout",
     "output_type": "stream",
     "text": [
      "{'cap-shape': 'convex', 'cap-surface': 'smooth', 'cap-color': 'gray', 'bruises': 'no', 'odor': 'none', 'gill-attachment': 'free', 'gill-spacing': 'crowded', 'gill-size': 'broad', 'gill-color': 'chocolate', 'stalk-shape': 'tapering', 'stalk-root': 'equal', 'stalk-surface-above-ring': 'smooth', 'stalk-surface-below-ring': 'fibrous', 'stalk-color-above-ring': 'white', 'stalk-color-below-ring': 'white', 'veil-color': 'white', 'ring-number': 'one', 'ring-type': 'evanescent', 'spore-print-color': 'black', 'population': 'scattered', 'habitat': 'grasses'}\n"
     ]
    },
    {
     "data": {
      "application/vnd.jupyter.widget-view+json": {
       "model_id": "b7cdbdef24a240f095dd9db8735feb4a",
       "version_major": 2,
       "version_minor": 0
      },
      "text/plain": [
       "0it [00:00, ?it/s]"
      ]
     },
     "metadata": {},
     "output_type": "display_data"
    },
    {
     "data": {
      "application/vnd.jupyter.widget-view+json": {
       "model_id": "27e34a3564534ff28671f4b769610aa2",
       "version_major": 2,
       "version_minor": 0
      },
      "text/plain": [
       "0it [00:00, ?it/s]"
      ]
     },
     "metadata": {},
     "output_type": "display_data"
    },
    {
     "name": "stdout",
     "output_type": "stream",
     "text": [
      "{'cap-shape': 'convex', 'cap-surface': 'fibrous', 'cap-color': 'gray', 'bruises': 'no', 'odor': 'none', 'gill-attachment': 'free', 'gill-spacing': 'crowded', 'gill-size': 'broad', 'gill-color': 'black', 'stalk-shape': 'tapering', 'stalk-root': 'equal', 'stalk-surface-above-ring': 'fibrous', 'stalk-surface-below-ring': 'smooth', 'stalk-color-above-ring': 'white', 'stalk-color-below-ring': 'white', 'veil-color': 'white', 'ring-number': 'one', 'ring-type': 'evanescent', 'spore-print-color': 'brown', 'population': 'abundant', 'habitat': 'grasses'}\n"
     ]
    },
    {
     "data": {
      "application/vnd.jupyter.widget-view+json": {
       "model_id": "4f7e411d256748d3a275cde75c5986d1",
       "version_major": 2,
       "version_minor": 0
      },
      "text/plain": [
       "0it [00:00, ?it/s]"
      ]
     },
     "metadata": {},
     "output_type": "display_data"
    },
    {
     "data": {
      "application/vnd.jupyter.widget-view+json": {
       "model_id": "535081f6e99f4e199854400784f7a73c",
       "version_major": 2,
       "version_minor": 0
      },
      "text/plain": [
       "0it [00:00, ?it/s]"
      ]
     },
     "metadata": {},
     "output_type": "display_data"
    },
    {
     "name": "stdout",
     "output_type": "stream",
     "text": [
      "{'cap-shape': 'convex', 'cap-surface': 'smooth', 'cap-color': 'white', 'bruises': 'no', 'odor': 'none', 'gill-attachment': 'free', 'gill-spacing': 'crowded', 'gill-size': 'broad', 'gill-color': 'pink', 'stalk-shape': 'tapering', 'stalk-root': 'equal', 'stalk-surface-above-ring': 'fibrous', 'stalk-surface-below-ring': 'fibrous', 'stalk-color-above-ring': 'white', 'stalk-color-below-ring': 'white', 'veil-color': 'white', 'ring-number': 'one', 'ring-type': 'evanescent', 'spore-print-color': 'black', 'population': 'abundant', 'habitat': 'grasses'}\n"
     ]
    },
    {
     "data": {
      "application/vnd.jupyter.widget-view+json": {
       "model_id": "a37d93ba78b5457ebc82398f5bce496e",
       "version_major": 2,
       "version_minor": 0
      },
      "text/plain": [
       "0it [00:00, ?it/s]"
      ]
     },
     "metadata": {},
     "output_type": "display_data"
    },
    {
     "data": {
      "application/vnd.jupyter.widget-view+json": {
       "model_id": "c6a7283e31df4c3e94568b150f735bd9",
       "version_major": 2,
       "version_minor": 0
      },
      "text/plain": [
       "0it [00:00, ?it/s]"
      ]
     },
     "metadata": {},
     "output_type": "display_data"
    },
    {
     "name": "stdout",
     "output_type": "stream",
     "text": [
      "{'cap-shape': 'convex', 'cap-surface': 'fibrous', 'cap-color': 'red', 'bruises': 'bruises', 'odor': 'none', 'gill-attachment': 'free', 'gill-spacing': 'close', 'gill-size': 'broad', 'gill-color': 'brown', 'stalk-shape': 'tapering', 'stalk-root': 'bulbous', 'stalk-surface-above-ring': 'smooth', 'stalk-surface-below-ring': 'smooth', 'stalk-color-above-ring': 'gray', 'stalk-color-below-ring': 'pink', 'veil-color': 'white', 'ring-number': 'one', 'ring-type': 'pendant', 'spore-print-color': 'brown', 'population': 'several', 'habitat': 'woods'}\n"
     ]
    },
    {
     "data": {
      "application/vnd.jupyter.widget-view+json": {
       "model_id": "f20ef37f333f444791815aed69db49df",
       "version_major": 2,
       "version_minor": 0
      },
      "text/plain": [
       "0it [00:00, ?it/s]"
      ]
     },
     "metadata": {},
     "output_type": "display_data"
    },
    {
     "data": {
      "application/vnd.jupyter.widget-view+json": {
       "model_id": "7c4188eabaa64ddb8db1e16cfde1017b",
       "version_major": 2,
       "version_minor": 0
      },
      "text/plain": [
       "0it [00:00, ?it/s]"
      ]
     },
     "metadata": {},
     "output_type": "display_data"
    },
    {
     "name": "stdout",
     "output_type": "stream",
     "text": [
      "{'cap-shape': 'bell', 'cap-surface': 'scaly', 'cap-color': 'white', 'bruises': 'bruises', 'odor': 'almond', 'gill-attachment': 'free', 'gill-spacing': 'close', 'gill-size': 'broad', 'gill-color': 'gray', 'stalk-shape': 'enlarging', 'stalk-root': 'club', 'stalk-surface-above-ring': 'smooth', 'stalk-surface-below-ring': 'smooth', 'stalk-color-above-ring': 'white', 'stalk-color-below-ring': 'white', 'veil-color': 'white', 'ring-number': 'one', 'ring-type': 'pendant', 'spore-print-color': 'black', 'population': 'numerous', 'habitat': 'meadows'}\n"
     ]
    },
    {
     "data": {
      "application/vnd.jupyter.widget-view+json": {
       "model_id": "1f263d848fff41c59617567d2ba70f36",
       "version_major": 2,
       "version_minor": 0
      },
      "text/plain": [
       "0it [00:00, ?it/s]"
      ]
     },
     "metadata": {},
     "output_type": "display_data"
    },
    {
     "data": {
      "application/vnd.jupyter.widget-view+json": {
       "model_id": "a8cf73fbcda34994bf1181aaa1ba6bc8",
       "version_major": 2,
       "version_minor": 0
      },
      "text/plain": [
       "0it [00:00, ?it/s]"
      ]
     },
     "metadata": {},
     "output_type": "display_data"
    },
    {
     "name": "stdout",
     "output_type": "stream",
     "text": [
      "{'cap-shape': 'bell', 'cap-surface': 'fibrous', 'cap-color': 'white', 'bruises': 'no', 'odor': 'none', 'gill-attachment': 'free', 'gill-spacing': 'crowded', 'gill-size': 'broad', 'gill-color': 'pink', 'stalk-shape': 'enlarging', 'stalk-root': 'bulbous', 'stalk-surface-above-ring': 'silky', 'stalk-surface-below-ring': 'silky', 'stalk-color-above-ring': 'white', 'stalk-color-below-ring': 'white', 'veil-color': 'white', 'ring-number': 'two', 'ring-type': 'pendant', 'spore-print-color': 'white', 'population': 'numerous', 'habitat': 'grasses'}\n"
     ]
    },
    {
     "data": {
      "application/vnd.jupyter.widget-view+json": {
       "model_id": "10103be793384ce889513d29a0977161",
       "version_major": 2,
       "version_minor": 0
      },
      "text/plain": [
       "0it [00:00, ?it/s]"
      ]
     },
     "metadata": {},
     "output_type": "display_data"
    },
    {
     "data": {
      "application/vnd.jupyter.widget-view+json": {
       "model_id": "16f559b4154f41738d0e1dd5ad85caef",
       "version_major": 2,
       "version_minor": 0
      },
      "text/plain": [
       "0it [00:00, ?it/s]"
      ]
     },
     "metadata": {},
     "output_type": "display_data"
    },
    {
     "name": "stdout",
     "output_type": "stream",
     "text": [
      "{'cap-shape': 'convex', 'cap-surface': 'scaly', 'cap-color': 'brown', 'bruises': 'bruises', 'odor': 'none', 'gill-attachment': 'free', 'gill-spacing': 'close', 'gill-size': 'broad', 'gill-color': 'purple', 'stalk-shape': 'tapering', 'stalk-root': 'bulbous', 'stalk-surface-above-ring': 'smooth', 'stalk-surface-below-ring': 'smooth', 'stalk-color-above-ring': 'white', 'stalk-color-below-ring': 'white', 'veil-color': 'white', 'ring-number': 'one', 'ring-type': 'pendant', 'spore-print-color': 'black', 'population': 'solitary', 'habitat': 'woods'}\n"
     ]
    },
    {
     "data": {
      "application/vnd.jupyter.widget-view+json": {
       "model_id": "35d6b0f5d9f945a09e232bbac26cc85f",
       "version_major": 2,
       "version_minor": 0
      },
      "text/plain": [
       "0it [00:00, ?it/s]"
      ]
     },
     "metadata": {},
     "output_type": "display_data"
    },
    {
     "data": {
      "application/vnd.jupyter.widget-view+json": {
       "model_id": "f91d4f7baf7b43dab705878f9eaf2b7d",
       "version_major": 2,
       "version_minor": 0
      },
      "text/plain": [
       "0it [00:00, ?it/s]"
      ]
     },
     "metadata": {},
     "output_type": "display_data"
    },
    {
     "name": "stdout",
     "output_type": "stream",
     "text": [
      "{'cap-shape': 'flat', 'cap-surface': 'smooth', 'cap-color': 'red', 'bruises': 'no', 'odor': 'foul', 'gill-attachment': 'free', 'gill-spacing': 'close', 'gill-size': 'narrow', 'gill-color': 'buff', 'stalk-shape': 'tapering', 'stalk-root': 'bulbous', 'stalk-surface-above-ring': 'silky', 'stalk-surface-below-ring': 'smooth', 'stalk-color-above-ring': 'white', 'stalk-color-below-ring': 'pink', 'veil-color': 'white', 'ring-number': 'one', 'ring-type': 'evanescent', 'spore-print-color': 'white', 'population': 'several', 'habitat': 'leaves'}\n"
     ]
    },
    {
     "data": {
      "application/vnd.jupyter.widget-view+json": {
       "model_id": "a2df020b61fc4f59b3f04a33bd0d2cd0",
       "version_major": 2,
       "version_minor": 0
      },
      "text/plain": [
       "0it [00:00, ?it/s]"
      ]
     },
     "metadata": {},
     "output_type": "display_data"
    },
    {
     "data": {
      "application/vnd.jupyter.widget-view+json": {
       "model_id": "fbe856f7f80843fdbdf8fd45df3505bc",
       "version_major": 2,
       "version_minor": 0
      },
      "text/plain": [
       "0it [00:00, ?it/s]"
      ]
     },
     "metadata": {},
     "output_type": "display_data"
    },
    {
     "name": "stdout",
     "output_type": "stream",
     "text": [
      "{'cap-shape': 'flat', 'cap-surface': 'scaly', 'cap-color': 'gray', 'bruises': 'no', 'odor': 'foul', 'gill-attachment': 'free', 'gill-spacing': 'close', 'gill-size': 'broad', 'gill-color': 'chocolate', 'stalk-shape': 'enlarging', 'stalk-root': 'bulbous', 'stalk-surface-above-ring': 'silky', 'stalk-surface-below-ring': 'silky', 'stalk-color-above-ring': 'pink', 'stalk-color-below-ring': 'buff', 'veil-color': 'white', 'ring-number': 'one', 'ring-type': 'large', 'spore-print-color': 'chocolate', 'population': 'several', 'habitat': 'grasses'}\n"
     ]
    },
    {
     "data": {
      "application/vnd.jupyter.widget-view+json": {
       "model_id": "eb03795432ed4dfca2c4777b237c1eaf",
       "version_major": 2,
       "version_minor": 0
      },
      "text/plain": [
       "0it [00:00, ?it/s]"
      ]
     },
     "metadata": {},
     "output_type": "display_data"
    },
    {
     "data": {
      "application/vnd.jupyter.widget-view+json": {
       "model_id": "9d790fafdfce424f81b29f8a78b54fed",
       "version_major": 2,
       "version_minor": 0
      },
      "text/plain": [
       "0it [00:00, ?it/s]"
      ]
     },
     "metadata": {},
     "output_type": "display_data"
    },
    {
     "name": "stdout",
     "output_type": "stream",
     "text": [
      "{'cap-shape': 'knobbed', 'cap-surface': 'scaly', 'cap-color': 'brown', 'bruises': 'no', 'odor': 'none', 'gill-attachment': 'free', 'gill-spacing': 'close', 'gill-size': 'broad', 'gill-color': 'white', 'stalk-shape': 'enlarging', 'stalk-root': 'bulbous', 'stalk-surface-above-ring': 'scaly', 'stalk-surface-below-ring': 'scaly', 'stalk-color-above-ring': 'brown', 'stalk-color-below-ring': 'brown', 'veil-color': 'white', 'ring-number': 'two', 'ring-type': 'pendant', 'spore-print-color': 'white', 'population': 'solitary', 'habitat': 'woods'}\n"
     ]
    },
    {
     "data": {
      "application/vnd.jupyter.widget-view+json": {
       "model_id": "d8da2483f20341a7b19d8c63c1485fef",
       "version_major": 2,
       "version_minor": 0
      },
      "text/plain": [
       "0it [00:00, ?it/s]"
      ]
     },
     "metadata": {},
     "output_type": "display_data"
    },
    {
     "data": {
      "application/vnd.jupyter.widget-view+json": {
       "model_id": "dcf2b4cbd951402ca5b31a6579e635c0",
       "version_major": 2,
       "version_minor": 0
      },
      "text/plain": [
       "0it [00:00, ?it/s]"
      ]
     },
     "metadata": {},
     "output_type": "display_data"
    },
    {
     "name": "stdout",
     "output_type": "stream",
     "text": [
      "{'cap-shape': 'convex', 'cap-surface': 'smooth', 'cap-color': 'white', 'bruises': 'bruises', 'odor': 'pungent', 'gill-attachment': 'free', 'gill-spacing': 'close', 'gill-size': 'narrow', 'gill-color': 'brown', 'stalk-shape': 'enlarging', 'stalk-root': 'equal', 'stalk-surface-above-ring': 'smooth', 'stalk-surface-below-ring': 'smooth', 'stalk-color-above-ring': 'white', 'stalk-color-below-ring': 'white', 'veil-color': 'white', 'ring-number': 'one', 'ring-type': 'pendant', 'spore-print-color': 'brown', 'population': 'several', 'habitat': 'grasses'}\n"
     ]
    },
    {
     "data": {
      "application/vnd.jupyter.widget-view+json": {
       "model_id": "33e755520ac540b7b2ba0b3dcc408018",
       "version_major": 2,
       "version_minor": 0
      },
      "text/plain": [
       "0it [00:00, ?it/s]"
      ]
     },
     "metadata": {},
     "output_type": "display_data"
    },
    {
     "data": {
      "application/vnd.jupyter.widget-view+json": {
       "model_id": "84e1ebb6ae294eb2996c0f20978f12a7",
       "version_major": 2,
       "version_minor": 0
      },
      "text/plain": [
       "0it [00:00, ?it/s]"
      ]
     },
     "metadata": {},
     "output_type": "display_data"
    },
    {
     "name": "stdout",
     "output_type": "stream",
     "text": [
      "{'cap-shape': 'convex', 'cap-surface': 'fibrous', 'cap-color': 'yellow', 'bruises': 'no', 'odor': 'foul', 'gill-attachment': 'free', 'gill-spacing': 'close', 'gill-size': 'broad', 'gill-color': 'gray', 'stalk-shape': 'enlarging', 'stalk-root': 'bulbous', 'stalk-surface-above-ring': 'silky', 'stalk-surface-below-ring': 'silky', 'stalk-color-above-ring': 'pink', 'stalk-color-below-ring': 'brown', 'veil-color': 'white', 'ring-number': 'one', 'ring-type': 'large', 'spore-print-color': 'chocolate', 'population': 'several', 'habitat': 'grasses'}\n"
     ]
    },
    {
     "data": {
      "application/vnd.jupyter.widget-view+json": {
       "model_id": "4a1eca7c40ce47749ee7f67fc3144ada",
       "version_major": 2,
       "version_minor": 0
      },
      "text/plain": [
       "0it [00:00, ?it/s]"
      ]
     },
     "metadata": {},
     "output_type": "display_data"
    },
    {
     "data": {
      "application/vnd.jupyter.widget-view+json": {
       "model_id": "82c97a4b9ea041108c1a5c4f8125c305",
       "version_major": 2,
       "version_minor": 0
      },
      "text/plain": [
       "0it [00:00, ?it/s]"
      ]
     },
     "metadata": {},
     "output_type": "display_data"
    },
    {
     "name": "stdout",
     "output_type": "stream",
     "text": [
      "{'cap-shape': 'flat', 'cap-surface': 'fibrous', 'cap-color': 'brown', 'bruises': 'bruises', 'odor': 'none', 'gill-attachment': 'free', 'gill-spacing': 'close', 'gill-size': 'broad', 'gill-color': 'white', 'stalk-shape': 'tapering', 'stalk-root': 'bulbous', 'stalk-surface-above-ring': 'smooth', 'stalk-surface-below-ring': 'smooth', 'stalk-color-above-ring': 'white', 'stalk-color-below-ring': 'gray', 'veil-color': 'white', 'ring-number': 'one', 'ring-type': 'pendant', 'spore-print-color': 'black', 'population': 'several', 'habitat': 'woods'}\n"
     ]
    },
    {
     "data": {
      "application/vnd.jupyter.widget-view+json": {
       "model_id": "1fcc30b0f1bc420289eb6fdc2eaffcbc",
       "version_major": 2,
       "version_minor": 0
      },
      "text/plain": [
       "0it [00:00, ?it/s]"
      ]
     },
     "metadata": {},
     "output_type": "display_data"
    },
    {
     "data": {
      "application/vnd.jupyter.widget-view+json": {
       "model_id": "60badc960f564f3b9f1bff25bfc448b8",
       "version_major": 2,
       "version_minor": 0
      },
      "text/plain": [
       "0it [00:00, ?it/s]"
      ]
     },
     "metadata": {},
     "output_type": "display_data"
    },
    {
     "name": "stdout",
     "output_type": "stream",
     "text": [
      "{'cap-shape': 'convex', 'cap-surface': 'fibrous', 'cap-color': 'yellow', 'bruises': 'no', 'odor': 'foul', 'gill-attachment': 'free', 'gill-spacing': 'close', 'gill-size': 'broad', 'gill-color': 'gray', 'stalk-shape': 'enlarging', 'stalk-root': 'bulbous', 'stalk-surface-above-ring': 'silky', 'stalk-surface-below-ring': 'silky', 'stalk-color-above-ring': 'brown', 'stalk-color-below-ring': 'buff', 'veil-color': 'white', 'ring-number': 'one', 'ring-type': 'large', 'spore-print-color': 'chocolate', 'population': 'solitary', 'habitat': 'paths'}\n"
     ]
    },
    {
     "data": {
      "application/vnd.jupyter.widget-view+json": {
       "model_id": "73917278e9d543ac9b9a8328ffddda44",
       "version_major": 2,
       "version_minor": 0
      },
      "text/plain": [
       "0it [00:00, ?it/s]"
      ]
     },
     "metadata": {},
     "output_type": "display_data"
    },
    {
     "data": {
      "application/vnd.jupyter.widget-view+json": {
       "model_id": "005337e2bdb44c2f9c0476d0f6b26b61",
       "version_major": 2,
       "version_minor": 0
      },
      "text/plain": [
       "0it [00:00, ?it/s]"
      ]
     },
     "metadata": {},
     "output_type": "display_data"
    },
    {
     "name": "stdout",
     "output_type": "stream",
     "text": [
      "{'cap-shape': 'convex', 'cap-surface': 'scaly', 'cap-color': 'brown', 'bruises': 'bruises', 'odor': 'none', 'gill-attachment': 'free', 'gill-spacing': 'close', 'gill-size': 'broad', 'gill-color': 'white', 'stalk-shape': 'tapering', 'stalk-root': 'bulbous', 'stalk-surface-above-ring': 'smooth', 'stalk-surface-below-ring': 'smooth', 'stalk-color-above-ring': 'white', 'stalk-color-below-ring': 'gray', 'veil-color': 'white', 'ring-number': 'one', 'ring-type': 'pendant', 'spore-print-color': 'brown', 'population': 'several', 'habitat': 'woods'}\n"
     ]
    },
    {
     "data": {
      "application/vnd.jupyter.widget-view+json": {
       "model_id": "b5f9f698c2ee461ea2fd4777b6615311",
       "version_major": 2,
       "version_minor": 0
      },
      "text/plain": [
       "0it [00:00, ?it/s]"
      ]
     },
     "metadata": {},
     "output_type": "display_data"
    },
    {
     "data": {
      "application/vnd.jupyter.widget-view+json": {
       "model_id": "d74913db932940fe83c641b66dd4a4e4",
       "version_major": 2,
       "version_minor": 0
      },
      "text/plain": [
       "0it [00:00, ?it/s]"
      ]
     },
     "metadata": {},
     "output_type": "display_data"
    },
    {
     "name": "stdout",
     "output_type": "stream",
     "text": [
      "{'cap-shape': 'convex', 'cap-surface': 'scaly', 'cap-color': 'brown', 'bruises': 'bruises', 'odor': 'none', 'gill-attachment': 'free', 'gill-spacing': 'close', 'gill-size': 'broad', 'gill-color': 'purple', 'stalk-shape': 'tapering', 'stalk-root': 'bulbous', 'stalk-surface-above-ring': 'smooth', 'stalk-surface-below-ring': 'smooth', 'stalk-color-above-ring': 'pink', 'stalk-color-below-ring': 'pink', 'veil-color': 'white', 'ring-number': 'one', 'ring-type': 'pendant', 'spore-print-color': 'brown', 'population': 'several', 'habitat': 'woods'}\n"
     ]
    },
    {
     "data": {
      "application/vnd.jupyter.widget-view+json": {
       "model_id": "16e72b157ae749fc888fc8365c879aa5",
       "version_major": 2,
       "version_minor": 0
      },
      "text/plain": [
       "0it [00:00, ?it/s]"
      ]
     },
     "metadata": {},
     "output_type": "display_data"
    },
    {
     "data": {
      "application/vnd.jupyter.widget-view+json": {
       "model_id": "adf8fcd56a3748868b6485bd65e7ac7f",
       "version_major": 2,
       "version_minor": 0
      },
      "text/plain": [
       "0it [00:00, ?it/s]"
      ]
     },
     "metadata": {},
     "output_type": "display_data"
    },
    {
     "name": "stdout",
     "output_type": "stream",
     "text": [
      "{'cap-shape': 'flat', 'cap-surface': 'smooth', 'cap-color': 'gray', 'bruises': 'bruises', 'odor': 'foul', 'gill-attachment': 'free', 'gill-spacing': 'close', 'gill-size': 'broad', 'gill-color': 'pink', 'stalk-shape': 'tapering', 'stalk-root': 'bulbous', 'stalk-surface-above-ring': 'smooth', 'stalk-surface-below-ring': 'smooth', 'stalk-color-above-ring': 'white', 'stalk-color-below-ring': 'white', 'veil-color': 'white', 'ring-number': 'one', 'ring-type': 'pendant', 'spore-print-color': 'chocolate', 'population': 'scattered', 'habitat': 'grasses'}\n"
     ]
    },
    {
     "data": {
      "application/vnd.jupyter.widget-view+json": {
       "model_id": "8664f1522c5745e4bd75120b0b5e6833",
       "version_major": 2,
       "version_minor": 0
      },
      "text/plain": [
       "0it [00:00, ?it/s]"
      ]
     },
     "metadata": {},
     "output_type": "display_data"
    },
    {
     "data": {
      "application/vnd.jupyter.widget-view+json": {
       "model_id": "ed0c5d424f6d439bb6b433b0ef00f610",
       "version_major": 2,
       "version_minor": 0
      },
      "text/plain": [
       "0it [00:00, ?it/s]"
      ]
     },
     "metadata": {},
     "output_type": "display_data"
    },
    {
     "name": "stdout",
     "output_type": "stream",
     "text": [
      "{'cap-shape': 'flat', 'cap-surface': 'scaly', 'cap-color': 'red', 'bruises': 'no', 'odor': 'foul', 'gill-attachment': 'free', 'gill-spacing': 'close', 'gill-size': 'narrow', 'gill-color': 'buff', 'stalk-shape': 'tapering', 'stalk-root': 'bulbous', 'stalk-surface-above-ring': 'silky', 'stalk-surface-below-ring': 'smooth', 'stalk-color-above-ring': 'white', 'stalk-color-below-ring': 'pink', 'veil-color': 'white', 'ring-number': 'one', 'ring-type': 'evanescent', 'spore-print-color': 'white', 'population': 'several', 'habitat': 'leaves'}\n"
     ]
    },
    {
     "data": {
      "application/vnd.jupyter.widget-view+json": {
       "model_id": "140a48b2da9a434fa8f2bc54453f4c24",
       "version_major": 2,
       "version_minor": 0
      },
      "text/plain": [
       "0it [00:00, ?it/s]"
      ]
     },
     "metadata": {},
     "output_type": "display_data"
    },
    {
     "data": {
      "application/vnd.jupyter.widget-view+json": {
       "model_id": "b5e3f4348f974506a759150e5bc5e9c5",
       "version_major": 2,
       "version_minor": 0
      },
      "text/plain": [
       "0it [00:00, ?it/s]"
      ]
     },
     "metadata": {},
     "output_type": "display_data"
    },
    {
     "name": "stdout",
     "output_type": "stream",
     "text": [
      "{'cap-shape': 'flat', 'cap-surface': 'scaly', 'cap-color': 'brown', 'bruises': 'bruises', 'odor': 'none', 'gill-attachment': 'free', 'gill-spacing': 'close', 'gill-size': 'broad', 'gill-color': 'pink', 'stalk-shape': 'tapering', 'stalk-root': 'bulbous', 'stalk-surface-above-ring': 'smooth', 'stalk-surface-below-ring': 'smooth', 'stalk-color-above-ring': 'pink', 'stalk-color-below-ring': 'gray', 'veil-color': 'white', 'ring-number': 'one', 'ring-type': 'pendant', 'spore-print-color': 'black', 'population': 'several', 'habitat': 'woods'}\n"
     ]
    },
    {
     "data": {
      "application/vnd.jupyter.widget-view+json": {
       "model_id": "480da98ae61f487b9ca05d99472de540",
       "version_major": 2,
       "version_minor": 0
      },
      "text/plain": [
       "0it [00:00, ?it/s]"
      ]
     },
     "metadata": {},
     "output_type": "display_data"
    },
    {
     "data": {
      "application/vnd.jupyter.widget-view+json": {
       "model_id": "ac48876ab96a4b7383a6a3e76a1573e2",
       "version_major": 2,
       "version_minor": 0
      },
      "text/plain": [
       "0it [00:00, ?it/s]"
      ]
     },
     "metadata": {},
     "output_type": "display_data"
    },
    {
     "name": "stdout",
     "output_type": "stream",
     "text": [
      "{'cap-shape': 'flat', 'cap-surface': 'fibrous', 'cap-color': 'gray', 'bruises': 'no', 'odor': 'none', 'gill-attachment': 'free', 'gill-spacing': 'crowded', 'gill-size': 'broad', 'gill-color': 'brown', 'stalk-shape': 'tapering', 'stalk-root': 'equal', 'stalk-surface-above-ring': 'fibrous', 'stalk-surface-below-ring': 'fibrous', 'stalk-color-above-ring': 'white', 'stalk-color-below-ring': 'white', 'veil-color': 'white', 'ring-number': 'one', 'ring-type': 'evanescent', 'spore-print-color': 'brown', 'population': 'scattered', 'habitat': 'grasses'}\n"
     ]
    },
    {
     "data": {
      "application/vnd.jupyter.widget-view+json": {
       "model_id": "6e1a09be5c344484bcc1600f09f91496",
       "version_major": 2,
       "version_minor": 0
      },
      "text/plain": [
       "0it [00:00, ?it/s]"
      ]
     },
     "metadata": {},
     "output_type": "display_data"
    },
    {
     "data": {
      "application/vnd.jupyter.widget-view+json": {
       "model_id": "73463b86bb4544f7b671bb4092dff26c",
       "version_major": 2,
       "version_minor": 0
      },
      "text/plain": [
       "0it [00:00, ?it/s]"
      ]
     },
     "metadata": {},
     "output_type": "display_data"
    },
    {
     "name": "stdout",
     "output_type": "stream",
     "text": [
      "{'cap-shape': 'flat', 'cap-surface': 'smooth', 'cap-color': 'buff', 'bruises': 'bruises', 'odor': 'foul', 'gill-attachment': 'free', 'gill-spacing': 'close', 'gill-size': 'broad', 'gill-color': 'chocolate', 'stalk-shape': 'tapering', 'stalk-root': 'bulbous', 'stalk-surface-above-ring': 'fibrous', 'stalk-surface-below-ring': 'fibrous', 'stalk-color-above-ring': 'white', 'stalk-color-below-ring': 'white', 'veil-color': 'white', 'ring-number': 'one', 'ring-type': 'pendant', 'spore-print-color': 'chocolate', 'population': 'scattered', 'habitat': 'grasses'}\n"
     ]
    },
    {
     "data": {
      "application/vnd.jupyter.widget-view+json": {
       "model_id": "8fbe710157c3441a92aaba1e18a6368e",
       "version_major": 2,
       "version_minor": 0
      },
      "text/plain": [
       "0it [00:00, ?it/s]"
      ]
     },
     "metadata": {},
     "output_type": "display_data"
    },
    {
     "data": {
      "application/vnd.jupyter.widget-view+json": {
       "model_id": "99683aefc9844822b3e964b1017b3b75",
       "version_major": 2,
       "version_minor": 0
      },
      "text/plain": [
       "0it [00:00, ?it/s]"
      ]
     },
     "metadata": {},
     "output_type": "display_data"
    },
    {
     "name": "stdout",
     "output_type": "stream",
     "text": [
      "{'cap-shape': 'flat', 'cap-surface': 'fibrous', 'cap-color': 'gray', 'bruises': 'no', 'odor': 'foul', 'gill-attachment': 'free', 'gill-spacing': 'close', 'gill-size': 'broad', 'gill-color': 'gray', 'stalk-shape': 'enlarging', 'stalk-root': 'bulbous', 'stalk-surface-above-ring': 'silky', 'stalk-surface-below-ring': 'silky', 'stalk-color-above-ring': 'brown', 'stalk-color-below-ring': 'brown', 'veil-color': 'white', 'ring-number': 'one', 'ring-type': 'large', 'spore-print-color': 'chocolate', 'population': 'solitary', 'habitat': 'paths'}\n"
     ]
    },
    {
     "data": {
      "application/vnd.jupyter.widget-view+json": {
       "model_id": "cbd585f08e9344ddb7a8b816dae00ecd",
       "version_major": 2,
       "version_minor": 0
      },
      "text/plain": [
       "0it [00:00, ?it/s]"
      ]
     },
     "metadata": {},
     "output_type": "display_data"
    },
    {
     "data": {
      "application/vnd.jupyter.widget-view+json": {
       "model_id": "135e551227da46d99b88afb697d39f6f",
       "version_major": 2,
       "version_minor": 0
      },
      "text/plain": [
       "0it [00:00, ?it/s]"
      ]
     },
     "metadata": {},
     "output_type": "display_data"
    },
    {
     "name": "stdout",
     "output_type": "stream",
     "text": [
      "{'cap-shape': 'convex', 'cap-surface': 'smooth', 'cap-color': 'pink', 'bruises': 'no', 'odor': 'creosote', 'gill-attachment': 'free', 'gill-spacing': 'crowded', 'gill-size': 'narrow', 'gill-color': 'gray', 'stalk-shape': 'enlarging', 'stalk-root': 'bulbous', 'stalk-surface-above-ring': 'smooth', 'stalk-surface-below-ring': 'smooth', 'stalk-color-above-ring': 'white', 'stalk-color-below-ring': 'white', 'veil-color': 'white', 'ring-number': 'one', 'ring-type': 'pendant', 'spore-print-color': 'brown', 'population': 'several', 'habitat': 'woods'}\n"
     ]
    },
    {
     "data": {
      "application/vnd.jupyter.widget-view+json": {
       "model_id": "8fb2ae8d0c454c3ab604ebb9a2eab921",
       "version_major": 2,
       "version_minor": 0
      },
      "text/plain": [
       "0it [00:00, ?it/s]"
      ]
     },
     "metadata": {},
     "output_type": "display_data"
    },
    {
     "data": {
      "application/vnd.jupyter.widget-view+json": {
       "model_id": "334d0330b74648a485365a2cd6f65d3c",
       "version_major": 2,
       "version_minor": 0
      },
      "text/plain": [
       "0it [00:00, ?it/s]"
      ]
     },
     "metadata": {},
     "output_type": "display_data"
    },
    {
     "name": "stdout",
     "output_type": "stream",
     "text": [
      "{'cap-shape': 'convex', 'cap-surface': 'scaly', 'cap-color': 'red', 'bruises': 'no', 'odor': 'foul', 'gill-attachment': 'free', 'gill-spacing': 'close', 'gill-size': 'narrow', 'gill-color': 'buff', 'stalk-shape': 'tapering', 'stalk-root': 'bulbous', 'stalk-surface-above-ring': 'silky', 'stalk-surface-below-ring': 'silky', 'stalk-color-above-ring': 'pink', 'stalk-color-below-ring': 'white', 'veil-color': 'white', 'ring-number': 'one', 'ring-type': 'evanescent', 'spore-print-color': 'white', 'population': 'several', 'habitat': 'woods'}\n"
     ]
    },
    {
     "data": {
      "application/vnd.jupyter.widget-view+json": {
       "model_id": "99fc76506eab42e2b2af6503dd06a635",
       "version_major": 2,
       "version_minor": 0
      },
      "text/plain": [
       "0it [00:00, ?it/s]"
      ]
     },
     "metadata": {},
     "output_type": "display_data"
    },
    {
     "data": {
      "application/vnd.jupyter.widget-view+json": {
       "model_id": "c57293efb0b24367bba92e69c1add114",
       "version_major": 2,
       "version_minor": 0
      },
      "text/plain": [
       "0it [00:00, ?it/s]"
      ]
     },
     "metadata": {},
     "output_type": "display_data"
    },
    {
     "name": "stdout",
     "output_type": "stream",
     "text": [
      "{'cap-shape': 'convex', 'cap-surface': 'scaly', 'cap-color': 'yellow', 'bruises': 'bruises', 'odor': 'anise', 'gill-attachment': 'free', 'gill-spacing': 'close', 'gill-size': 'broad', 'gill-color': 'brown', 'stalk-shape': 'enlarging', 'stalk-root': 'rooted', 'stalk-surface-above-ring': 'smooth', 'stalk-surface-below-ring': 'scaly', 'stalk-color-above-ring': 'white', 'stalk-color-below-ring': 'white', 'veil-color': 'white', 'ring-number': 'one', 'ring-type': 'pendant', 'spore-print-color': 'brown', 'population': 'solitary', 'habitat': 'paths'}\n"
     ]
    },
    {
     "data": {
      "application/vnd.jupyter.widget-view+json": {
       "model_id": "c1d1a94d280143afa3f47dfda6a2e250",
       "version_major": 2,
       "version_minor": 0
      },
      "text/plain": [
       "0it [00:00, ?it/s]"
      ]
     },
     "metadata": {},
     "output_type": "display_data"
    },
    {
     "data": {
      "application/vnd.jupyter.widget-view+json": {
       "model_id": "65674ee463e848e1995d08400c5f0f27",
       "version_major": 2,
       "version_minor": 0
      },
      "text/plain": [
       "0it [00:00, ?it/s]"
      ]
     },
     "metadata": {},
     "output_type": "display_data"
    },
    {
     "name": "stdout",
     "output_type": "stream",
     "text": [
      "{'cap-shape': 'flat', 'cap-surface': 'smooth', 'cap-color': 'yellow', 'bruises': 'bruises', 'odor': 'anise', 'gill-attachment': 'free', 'gill-spacing': 'crowded', 'gill-size': 'narrow', 'gill-color': 'pink', 'stalk-shape': 'tapering', 'stalk-root': 'bulbous', 'stalk-surface-above-ring': 'smooth', 'stalk-surface-below-ring': 'smooth', 'stalk-color-above-ring': 'white', 'stalk-color-below-ring': 'white', 'veil-color': 'white', 'ring-number': 'one', 'ring-type': 'pendant', 'spore-print-color': 'brown', 'population': 'several', 'habitat': 'woods'}\n"
     ]
    },
    {
     "data": {
      "application/vnd.jupyter.widget-view+json": {
       "model_id": "c8302b15814d42a1a71d78e52c836f5e",
       "version_major": 2,
       "version_minor": 0
      },
      "text/plain": [
       "0it [00:00, ?it/s]"
      ]
     },
     "metadata": {},
     "output_type": "display_data"
    },
    {
     "data": {
      "application/vnd.jupyter.widget-view+json": {
       "model_id": "dce65999fc964df792256b710706eed9",
       "version_major": 2,
       "version_minor": 0
      },
      "text/plain": [
       "0it [00:00, ?it/s]"
      ]
     },
     "metadata": {},
     "output_type": "display_data"
    },
    {
     "name": "stdout",
     "output_type": "stream",
     "text": [
      "{'cap-shape': 'flat', 'cap-surface': 'fibrous', 'cap-color': 'gray', 'bruises': 'no', 'odor': 'foul', 'gill-attachment': 'free', 'gill-spacing': 'close', 'gill-size': 'broad', 'gill-color': 'pink', 'stalk-shape': 'enlarging', 'stalk-root': 'bulbous', 'stalk-surface-above-ring': 'silky', 'stalk-surface-below-ring': 'silky', 'stalk-color-above-ring': 'brown', 'stalk-color-below-ring': 'pink', 'veil-color': 'white', 'ring-number': 'one', 'ring-type': 'large', 'spore-print-color': 'chocolate', 'population': 'solitary', 'habitat': 'woods'}\n"
     ]
    },
    {
     "data": {
      "application/vnd.jupyter.widget-view+json": {
       "model_id": "97978b4b49f749dbbf8c3475385ee571",
       "version_major": 2,
       "version_minor": 0
      },
      "text/plain": [
       "0it [00:00, ?it/s]"
      ]
     },
     "metadata": {},
     "output_type": "display_data"
    },
    {
     "data": {
      "application/vnd.jupyter.widget-view+json": {
       "model_id": "933c8969bbac4bde9126c3e96573da77",
       "version_major": 2,
       "version_minor": 0
      },
      "text/plain": [
       "0it [00:00, ?it/s]"
      ]
     },
     "metadata": {},
     "output_type": "display_data"
    },
    {
     "name": "stdout",
     "output_type": "stream",
     "text": [
      "{'cap-shape': 'convex', 'cap-surface': 'fibrous', 'cap-color': 'white', 'bruises': 'no', 'odor': 'none', 'gill-attachment': 'free', 'gill-spacing': 'crowded', 'gill-size': 'broad', 'gill-color': 'pink', 'stalk-shape': 'enlarging', 'stalk-root': 'equal', 'stalk-surface-above-ring': 'silky', 'stalk-surface-below-ring': 'smooth', 'stalk-color-above-ring': 'white', 'stalk-color-below-ring': 'white', 'veil-color': 'white', 'ring-number': 'two', 'ring-type': 'pendant', 'spore-print-color': 'white', 'population': 'scattered', 'habitat': 'grasses'}\n"
     ]
    },
    {
     "data": {
      "application/vnd.jupyter.widget-view+json": {
       "model_id": "d05cd1c5ebf14cc98b6f75c0035c5b26",
       "version_major": 2,
       "version_minor": 0
      },
      "text/plain": [
       "0it [00:00, ?it/s]"
      ]
     },
     "metadata": {},
     "output_type": "display_data"
    },
    {
     "data": {
      "application/vnd.jupyter.widget-view+json": {
       "model_id": "f69a77b132df47c4b0a736e1dc32b0e7",
       "version_major": 2,
       "version_minor": 0
      },
      "text/plain": [
       "0it [00:00, ?it/s]"
      ]
     },
     "metadata": {},
     "output_type": "display_data"
    },
    {
     "name": "stdout",
     "output_type": "stream",
     "text": [
      "{'cap-shape': 'convex', 'cap-surface': 'smooth', 'cap-color': 'yellow', 'bruises': 'bruises', 'odor': 'anise', 'gill-attachment': 'free', 'gill-spacing': 'close', 'gill-size': 'broad', 'gill-color': 'white', 'stalk-shape': 'enlarging', 'stalk-root': 'club', 'stalk-surface-above-ring': 'smooth', 'stalk-surface-below-ring': 'smooth', 'stalk-color-above-ring': 'white', 'stalk-color-below-ring': 'white', 'veil-color': 'white', 'ring-number': 'one', 'ring-type': 'pendant', 'spore-print-color': 'black', 'population': 'scattered', 'habitat': 'meadows'}\n"
     ]
    },
    {
     "data": {
      "application/vnd.jupyter.widget-view+json": {
       "model_id": "e563b5afd1c44824acf7ee51884c065d",
       "version_major": 2,
       "version_minor": 0
      },
      "text/plain": [
       "0it [00:00, ?it/s]"
      ]
     },
     "metadata": {},
     "output_type": "display_data"
    },
    {
     "data": {
      "application/vnd.jupyter.widget-view+json": {
       "model_id": "4f43bc58dc734cefa6d9304a810d59d6",
       "version_major": 2,
       "version_minor": 0
      },
      "text/plain": [
       "0it [00:00, ?it/s]"
      ]
     },
     "metadata": {},
     "output_type": "display_data"
    },
    {
     "name": "stdout",
     "output_type": "stream",
     "text": [
      "{'cap-shape': 'knobbed', 'cap-surface': 'scaly', 'cap-color': 'brown', 'bruises': 'no', 'odor': 'spicy', 'gill-attachment': 'free', 'gill-spacing': 'close', 'gill-size': 'narrow', 'gill-color': 'buff', 'stalk-shape': 'tapering', 'stalk-root': 'bulbous', 'stalk-surface-above-ring': 'silky', 'stalk-surface-below-ring': 'silky', 'stalk-color-above-ring': 'pink', 'stalk-color-below-ring': 'pink', 'veil-color': 'white', 'ring-number': 'one', 'ring-type': 'evanescent', 'spore-print-color': 'white', 'population': 'several', 'habitat': 'paths'}\n"
     ]
    },
    {
     "data": {
      "application/vnd.jupyter.widget-view+json": {
       "model_id": "de6005077583485aa9487eb5aaa8bc88",
       "version_major": 2,
       "version_minor": 0
      },
      "text/plain": [
       "0it [00:00, ?it/s]"
      ]
     },
     "metadata": {},
     "output_type": "display_data"
    },
    {
     "data": {
      "application/vnd.jupyter.widget-view+json": {
       "model_id": "9bc40e4c798a468380c4f9f90c40ee5d",
       "version_major": 2,
       "version_minor": 0
      },
      "text/plain": [
       "0it [00:00, ?it/s]"
      ]
     },
     "metadata": {},
     "output_type": "display_data"
    },
    {
     "name": "stdout",
     "output_type": "stream",
     "text": [
      "{'cap-shape': 'convex', 'cap-surface': 'smooth', 'cap-color': 'white', 'bruises': 'bruises', 'odor': 'pungent', 'gill-attachment': 'free', 'gill-spacing': 'close', 'gill-size': 'narrow', 'gill-color': 'black', 'stalk-shape': 'enlarging', 'stalk-root': 'equal', 'stalk-surface-above-ring': 'smooth', 'stalk-surface-below-ring': 'smooth', 'stalk-color-above-ring': 'white', 'stalk-color-below-ring': 'white', 'veil-color': 'white', 'ring-number': 'one', 'ring-type': 'pendant', 'spore-print-color': 'brown', 'population': 'several', 'habitat': 'grasses'}\n"
     ]
    },
    {
     "data": {
      "application/vnd.jupyter.widget-view+json": {
       "model_id": "3750fb9856264b21af0f3aec02e36220",
       "version_major": 2,
       "version_minor": 0
      },
      "text/plain": [
       "0it [00:00, ?it/s]"
      ]
     },
     "metadata": {},
     "output_type": "display_data"
    },
    {
     "data": {
      "application/vnd.jupyter.widget-view+json": {
       "model_id": "810381ad1b5046a796abda8d14e7bf23",
       "version_major": 2,
       "version_minor": 0
      },
      "text/plain": [
       "0it [00:00, ?it/s]"
      ]
     },
     "metadata": {},
     "output_type": "display_data"
    },
    {
     "name": "stdout",
     "output_type": "stream",
     "text": [
      "{'cap-shape': 'flat', 'cap-surface': 'scaly', 'cap-color': 'brown', 'bruises': 'bruises', 'odor': 'none', 'gill-attachment': 'free', 'gill-spacing': 'close', 'gill-size': 'broad', 'gill-color': 'brown', 'stalk-shape': 'tapering', 'stalk-root': 'bulbous', 'stalk-surface-above-ring': 'smooth', 'stalk-surface-below-ring': 'smooth', 'stalk-color-above-ring': 'white', 'stalk-color-below-ring': 'pink', 'veil-color': 'white', 'ring-number': 'one', 'ring-type': 'pendant', 'spore-print-color': 'black', 'population': 'several', 'habitat': 'woods'}\n"
     ]
    },
    {
     "data": {
      "application/vnd.jupyter.widget-view+json": {
       "model_id": "f3526068969a4413a10426858773e1c3",
       "version_major": 2,
       "version_minor": 0
      },
      "text/plain": [
       "0it [00:00, ?it/s]"
      ]
     },
     "metadata": {},
     "output_type": "display_data"
    },
    {
     "data": {
      "application/vnd.jupyter.widget-view+json": {
       "model_id": "ee815bc7f8a14447880f48f4ad9fa53f",
       "version_major": 2,
       "version_minor": 0
      },
      "text/plain": [
       "0it [00:00, ?it/s]"
      ]
     },
     "metadata": {},
     "output_type": "display_data"
    },
    {
     "name": "stdout",
     "output_type": "stream",
     "text": [
      "{'cap-shape': 'flat', 'cap-surface': 'scaly', 'cap-color': 'brown', 'bruises': 'no', 'odor': 'spicy', 'gill-attachment': 'free', 'gill-spacing': 'close', 'gill-size': 'narrow', 'gill-color': 'buff', 'stalk-shape': 'tapering', 'stalk-root': 'bulbous', 'stalk-surface-above-ring': 'silky', 'stalk-surface-below-ring': 'smooth', 'stalk-color-above-ring': 'white', 'stalk-color-below-ring': 'pink', 'veil-color': 'white', 'ring-number': 'one', 'ring-type': 'evanescent', 'spore-print-color': 'white', 'population': 'several', 'habitat': 'leaves'}\n"
     ]
    },
    {
     "data": {
      "application/vnd.jupyter.widget-view+json": {
       "model_id": "bf2453d3f8a041bba379c9aecfff9b45",
       "version_major": 2,
       "version_minor": 0
      },
      "text/plain": [
       "0it [00:00, ?it/s]"
      ]
     },
     "metadata": {},
     "output_type": "display_data"
    },
    {
     "data": {
      "application/vnd.jupyter.widget-view+json": {
       "model_id": "34303e37ef3a41c1aee29599757d70fa",
       "version_major": 2,
       "version_minor": 0
      },
      "text/plain": [
       "0it [00:00, ?it/s]"
      ]
     },
     "metadata": {},
     "output_type": "display_data"
    },
    {
     "name": "stdout",
     "output_type": "stream",
     "text": [
      "{'cap-shape': 'flat', 'cap-surface': 'fibrous', 'cap-color': 'red', 'bruises': 'bruises', 'odor': 'none', 'gill-attachment': 'free', 'gill-spacing': 'close', 'gill-size': 'broad', 'gill-color': 'pink', 'stalk-shape': 'tapering', 'stalk-root': 'bulbous', 'stalk-surface-above-ring': 'smooth', 'stalk-surface-below-ring': 'smooth', 'stalk-color-above-ring': 'pink', 'stalk-color-below-ring': 'pink', 'veil-color': 'white', 'ring-number': 'one', 'ring-type': 'pendant', 'spore-print-color': 'black', 'population': 'several', 'habitat': 'woods'}\n"
     ]
    },
    {
     "data": {
      "application/vnd.jupyter.widget-view+json": {
       "model_id": "4cbafbd100764aa79d92ff67f1d915d7",
       "version_major": 2,
       "version_minor": 0
      },
      "text/plain": [
       "0it [00:00, ?it/s]"
      ]
     },
     "metadata": {},
     "output_type": "display_data"
    },
    {
     "data": {
      "application/vnd.jupyter.widget-view+json": {
       "model_id": "52a0f5c362c6429183861d4cfe8aa54b",
       "version_major": 2,
       "version_minor": 0
      },
      "text/plain": [
       "0it [00:00, ?it/s]"
      ]
     },
     "metadata": {},
     "output_type": "display_data"
    },
    {
     "name": "stdout",
     "output_type": "stream",
     "text": [
      "{'cap-shape': 'flat', 'cap-surface': 'scaly', 'cap-color': 'red', 'bruises': 'bruises', 'odor': 'none', 'gill-attachment': 'free', 'gill-spacing': 'close', 'gill-size': 'broad', 'gill-color': 'purple', 'stalk-shape': 'tapering', 'stalk-root': 'bulbous', 'stalk-surface-above-ring': 'smooth', 'stalk-surface-below-ring': 'smooth', 'stalk-color-above-ring': 'pink', 'stalk-color-below-ring': 'gray', 'veil-color': 'white', 'ring-number': 'one', 'ring-type': 'pendant', 'spore-print-color': 'black', 'population': 'several', 'habitat': 'woods'}\n"
     ]
    },
    {
     "data": {
      "application/vnd.jupyter.widget-view+json": {
       "model_id": "dc33eb78e7064b2fade3d4899a4ba3c8",
       "version_major": 2,
       "version_minor": 0
      },
      "text/plain": [
       "0it [00:00, ?it/s]"
      ]
     },
     "metadata": {},
     "output_type": "display_data"
    },
    {
     "data": {
      "application/vnd.jupyter.widget-view+json": {
       "model_id": "b6e851c0fa5b4a5cbd9e55553965d7c1",
       "version_major": 2,
       "version_minor": 0
      },
      "text/plain": [
       "0it [00:00, ?it/s]"
      ]
     },
     "metadata": {},
     "output_type": "display_data"
    },
    {
     "name": "stdout",
     "output_type": "stream",
     "text": [
      "{'cap-shape': 'knobbed', 'cap-surface': 'scaly', 'cap-color': 'red', 'bruises': 'no', 'odor': 'fishy', 'gill-attachment': 'free', 'gill-spacing': 'close', 'gill-size': 'narrow', 'gill-color': 'buff', 'stalk-shape': 'tapering', 'stalk-root': 'bulbous', 'stalk-surface-above-ring': 'smooth', 'stalk-surface-below-ring': 'smooth', 'stalk-color-above-ring': 'white', 'stalk-color-below-ring': 'pink', 'veil-color': 'white', 'ring-number': 'one', 'ring-type': 'evanescent', 'spore-print-color': 'white', 'population': 'several', 'habitat': 'paths'}\n"
     ]
    },
    {
     "data": {
      "application/vnd.jupyter.widget-view+json": {
       "model_id": "962099e9520e4431ba158ee9c5af3f76",
       "version_major": 2,
       "version_minor": 0
      },
      "text/plain": [
       "0it [00:00, ?it/s]"
      ]
     },
     "metadata": {},
     "output_type": "display_data"
    },
    {
     "data": {
      "application/vnd.jupyter.widget-view+json": {
       "model_id": "789420ed820d4fffa63684f1ad319656",
       "version_major": 2,
       "version_minor": 0
      },
      "text/plain": [
       "0it [00:00, ?it/s]"
      ]
     },
     "metadata": {},
     "output_type": "display_data"
    },
    {
     "name": "stdout",
     "output_type": "stream",
     "text": [
      "{'cap-shape': 'convex', 'cap-surface': 'smooth', 'cap-color': 'red', 'bruises': 'no', 'odor': 'spicy', 'gill-attachment': 'free', 'gill-spacing': 'close', 'gill-size': 'narrow', 'gill-color': 'buff', 'stalk-shape': 'tapering', 'stalk-root': 'bulbous', 'stalk-surface-above-ring': 'silky', 'stalk-surface-below-ring': 'smooth', 'stalk-color-above-ring': 'pink', 'stalk-color-below-ring': 'pink', 'veil-color': 'white', 'ring-number': 'one', 'ring-type': 'evanescent', 'spore-print-color': 'white', 'population': 'several', 'habitat': 'woods'}\n"
     ]
    },
    {
     "data": {
      "application/vnd.jupyter.widget-view+json": {
       "model_id": "a5e23c4c48c740a9a3ebec9bbf756b24",
       "version_major": 2,
       "version_minor": 0
      },
      "text/plain": [
       "0it [00:00, ?it/s]"
      ]
     },
     "metadata": {},
     "output_type": "display_data"
    },
    {
     "data": {
      "application/vnd.jupyter.widget-view+json": {
       "model_id": "fc7a5d4d75f642f1ac7ab3e2b039c9c7",
       "version_major": 2,
       "version_minor": 0
      },
      "text/plain": [
       "0it [00:00, ?it/s]"
      ]
     },
     "metadata": {},
     "output_type": "display_data"
    }
   ],
   "source": [
    "# Define the test dataset\n",
    "test_data = df_puNew.sample(400)\n",
    "actual_values = test_data['Label']\n",
    "test_data = test_data.drop(['Label'], axis=1)\n",
    "\n",
    "# Create an inference object\n",
    "infer = VariableElimination(best_model)\n",
    "\n",
    "# Predict the 'heartdisease' column\n",
    "predictions = []\n",
    "for index, data_point in test_data.iterrows():\n",
    "    evidence = data_point.to_dict()\n",
    "    evidence_ = {var: val for var, val in evidence.items() if var in best_model.nodes() and pd.isna(val)==False}\n",
    "    print(evidence_)\n",
    "    prediction = infer.map_query(variables=['Label'], evidence=evidence_)\n",
    "    predictions.append(prediction['Label'])\n",
    "\n",
    "# Calculate the accuracy\n",
    "accuracy = accuracy_score(actual_values, predictions)"
   ]
  },
  {
   "cell_type": "code",
   "execution_count": 26,
   "metadata": {},
   "outputs": [
    {
     "data": {
      "text/plain": [
       "1.0"
      ]
     },
     "execution_count": 26,
     "metadata": {},
     "output_type": "execute_result"
    }
   ],
   "source": [
    "accuracy"
   ]
  },
  {
   "cell_type": "markdown",
   "metadata": {},
   "source": [
    "\n",
    "\n",
    "\n",
    "\n",
    "\n",
    "\n",
    "\n",
    "\n",
    "\n",
    "\n",
    "\n",
    "\n",
    "\n",
    "\n",
    "\n",
    "\n"
   ]
  },
  {
   "cell_type": "code",
   "execution_count": null,
   "metadata": {},
   "outputs": [],
   "source": [
    "# X_private = read_data_from_csv('assignment_8_private.csv')\n",
    "# print('Shape of X_private:', X_private.shape)  # k_sample, m_feature (1625, 22)\n",
    "# # remove and make your own predictions.\n",
    "# preds = [' '] * len(X_private)\n",
    "\n",
    "# '''\n",
    "# CODE HERE!\n",
    "# e.g.,\n",
    "# preds = [' '] * len(X_private)\n",
    "# '''\n",
    "\n",
    "# submission = pd.DataFrame({'Label': preds})\n",
    "# submission.to_csv('assignment_8.csv', index=True, index_label='Id')"
   ]
  }
 ],
 "metadata": {
  "kernelspec": {
   "display_name": "Python 3",
   "language": "python",
   "name": "python3"
  },
  "language_info": {
   "codemirror_mode": {
    "name": "ipython",
    "version": 3
   },
   "file_extension": ".py",
   "mimetype": "text/x-python",
   "name": "python",
   "nbconvert_exporter": "python",
   "pygments_lexer": "ipython3",
   "version": "3.11.4"
  }
 },
 "nbformat": 4,
 "nbformat_minor": 2
}
