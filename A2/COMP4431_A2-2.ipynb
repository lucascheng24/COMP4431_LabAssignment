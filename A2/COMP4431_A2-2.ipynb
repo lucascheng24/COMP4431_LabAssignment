{
 "cells": [
  {
   "cell_type": "code",
   "execution_count": 45,
   "metadata": {},
   "outputs": [],
   "source": [
    "import heapq\n",
    "from typing import List\n",
    "\n",
    "def solve(grid: List[List[str]]) -> int:\n",
    "    \"\"\"Your solution to the problem goes in this function.\n",
    "    Args:\n",
    "        grid (List[List[str]]): The warehouse layout, e.g., [[\"@\", \"@\", \"@\"], [\"@\", \"R\", \"$\"], [\"@\", \"@\", \"T\"]]\n",
    "    Returns:\n",
    "        int: the minimum number of pushes required for the robot to move the item to an empty shelf.\n",
    "    \"\"\"\n",
    "    # Your solution here\n",
    "    player = None\n",
    "    box  = None\n",
    "    # target  = None\n",
    "    target_list = []\n",
    "    graph = set()\n",
    "    visited = set()\n",
    "\n",
    "    for i in range(len(grid)):\n",
    "        for j in range(len(grid[0])):\n",
    "            if grid[i][j] == \"@\":\n",
    "                continue\n",
    "            if grid[i][j] == \"R\":\n",
    "                player = (i, j)\n",
    "            if grid[i][j] == \"T\":\n",
    "                # there can be more than one target\n",
    "                target_list.append((i, j))\n",
    "            if grid[i][j] == \"$\":\n",
    "                box = (i, j)\n",
    "            graph.add((i, j))    # Add all available positions to the graph set\n",
    "            \n",
    "    \n",
    "\n",
    "    # print(\"graph:\", graph)\n",
    "\n",
    "    # check whether can push the box to the targat one by one \n",
    "    for xTarget, yTarget in target_list:\n",
    "        min_heap = [(0, *player, *box)]\n",
    "        target = (xTarget, yTarget)\n",
    "        \n",
    "        while min_heap:\n",
    "            pushes, curr_playerRow, curr_playerCol, curr_boxRow, curr_boxCol = heapq.heappop(min_heap)\n",
    "\n",
    "            if (curr_boxRow, curr_boxCol) == target:\n",
    "                return pushes\n",
    "            if (curr_playerRow, curr_playerCol, curr_boxRow, curr_boxCol) in visited:\n",
    "                continue\n",
    "            visited.add((curr_playerRow, curr_playerCol, curr_boxRow, curr_boxCol))\n",
    "\n",
    "            # check the adjacent direction\n",
    "            directions = [(-1, 0), (1, 0), (0, -1), (0, 1)]\n",
    "            for row, col in directions:\n",
    "                next_playerPos = (curr_playerRow + row, curr_playerCol + col)\n",
    "                next_boxPos = (curr_boxRow + row, curr_boxCol + col)\n",
    "\n",
    "                if next_playerPos == (curr_boxRow, curr_boxCol) and next_boxPos in graph:\n",
    "                    heapq.heappush(min_heap, (pushes+1, *next_playerPos, *next_boxPos)) # Push box\n",
    "                elif next_playerPos != (curr_boxRow, curr_boxCol) and next_playerPos in graph:\n",
    "                    heapq.heappush(min_heap, (pushes, *next_playerPos, curr_boxRow, curr_boxCol))   # Move player\n",
    "    return -1"
   ]
  },
  {
   "cell_type": "code",
   "execution_count": 40,
   "metadata": {},
   "outputs": [
    {
     "name": "stdout",
     "output_type": "stream",
     "text": [
      "Passed test case 1...\n"
     ]
    }
   ],
   "source": [
    "# test case 1\n",
    "grid1 = [\n",
    "[\"@\", \"@\", \"@\", \"@\", \"@\", \"@\"], \n",
    "[\"@\", \"@\", \"@\", \"@\", \"T\", \"@\"], \n",
    "[\"@\", \"#\", \"$\", \"#\", \"#\", \"@\"], \n",
    "[\"@\", \"#\", \"@\", \"@\", \"#\", \"@\"], \n",
    "[\"@\", \"R\", \"#\", \"#\", \"#\", \"@\"], \n",
    "[\"@\", \"T\", \"@\", \"@\", \"@\", \"@\"]]\n",
    "answer1 = 3\n",
    "result1 = solve(grid1)\n",
    "assert result1 == answer1, f\"Test case 1: expected {answer1}, got {result1}\"\n",
    "print('Passed test case 1...')"
   ]
  },
  {
   "cell_type": "code",
   "execution_count": 41,
   "metadata": {},
   "outputs": [
    {
     "name": "stdout",
     "output_type": "stream",
     "text": [
      "Passed test case 2...\n"
     ]
    }
   ],
   "source": [
    "# test case 2\n",
    "grid2 = [\n",
    "[\"@\", \"T\", \"@\", \"@\", \"@\", \"@\"], \n",
    "[\"@\", \"#\", \"@\", \"@\", \"@\", \"@\"], \n",
    "[\"@\", \"#\", \"#\", \"#\", \"$\", \"@\"], \n",
    "[\"@\", \"#\", \"@\", \"@\", \"@\", \"@\"], \n",
    "[\"@\", \"R\", \"#\", \"#\", \"T\", \"@\"], \n",
    "[\"@\", \"@\", \"@\", \"@\", \"@\", \"@\"]]\n",
    "answer2 = -1\n",
    "result2 = solve(grid2)\n",
    "assert result2 == answer2, f\"Test case 2: expected {answer2}, got {result2}\"\n",
    "print('Passed test case 2...')"
   ]
  },
  {
   "cell_type": "code",
   "execution_count": 42,
   "metadata": {},
   "outputs": [
    {
     "name": "stdout",
     "output_type": "stream",
     "text": [
      "Passed test case 3...\n"
     ]
    }
   ],
   "source": [
    "# test case 3\n",
    "grid3 = [\n",
    "[\"@\", \"T\", \"@\", \"@\", \"@\", \"@\"], \n",
    "[\"@\", \"#\", \"@\", \"@\", \"@\", \"@\"], \n",
    "[\"@\", \"#\", \"#\", \"#\", \"$\", \"@\"], \n",
    "[\"@\", \"#\", \"@\", \"@\", \"@\", \"@\"], \n",
    "[\"@\", \"R\", \"#\", \"#\", \"T\", \"@\"], \n",
    "[\"@\", \"@\", \"@\", \"@\", \"@\", \"@\"]]\n",
    "answer3 = -1\n",
    "result3 = solve(grid3)\n",
    "assert result3 == answer3, f\"Test case 3: expected {answer3}, got {result3}\"\n",
    "print('Passed test case 3...')"
   ]
  },
  {
   "cell_type": "code",
   "execution_count": 43,
   "metadata": {},
   "outputs": [
    {
     "name": "stdout",
     "output_type": "stream",
     "text": [
      "Passed test case 3...\n"
     ]
    }
   ],
   "source": [
    "# test case 4\n",
    "grid4 = [\n",
    "[\"@\", \"@\", \"@\", \"@\", \"@\", \"@\"],\n",
    "[\"@\", \"@\", \"@\", \"@\", \"@\", \"@\"],\n",
    "[\"@\", \"#\", \"$\", \"#\", \"#\", \"@\"],\n",
    "[\"@\", \"#\", \"@\", \"@\", \"#\", \"@\"],\n",
    "[\"@\", \"R\", \"#\", \"#\", \"#\", \"@\"],\n",
    "[\"@\", \"T\", \"@\", \"@\", \"@\", \"@\"]]\n",
    "\n",
    "answer3 = -1\n",
    "result3 = solve(grid4)\n",
    "assert result3 == answer3, f\"Test case 3: expected {answer3}, got {result3}\"\n",
    "print('Passed test case 3...')"
   ]
  },
  {
   "cell_type": "code",
   "execution_count": 44,
   "metadata": {},
   "outputs": [
    {
     "name": "stdout",
     "output_type": "stream",
     "text": [
      "Passed test case 3...\n"
     ]
    }
   ],
   "source": [
    "# test case 5\n",
    "grid5 = [\n",
    "[\"@\", \"@\", \"@\", \"@\", \"@\", \"@\"],\n",
    "[\"@\", \"#\", \"#\", \"#\", \"@\", \"@\"],\n",
    "[\"@\", \"#\", \"$\", \"#\", \"#\", \"@\"],\n",
    "[\"@\", \"#\", \"@\", \"@\", \"#\", \"@\"],\n",
    "[\"@\", \"R\", \"#\", \"#\", \"#\", \"@\"],\n",
    "[\"@\", \"T\", \"@\", \"@\", \"@\", \"@\"]]\n",
    "\n",
    "answer5 = 4\n",
    "result5 = solve(grid5)\n",
    "assert result5 == answer5, f\"Test case 3: expected {answer5}, got {result5}\"\n",
    "print('Passed test case 3...')"
   ]
  },
  {
   "cell_type": "code",
   "execution_count": 46,
   "metadata": {},
   "outputs": [
    {
     "name": "stdout",
     "output_type": "stream",
     "text": [
      "Passed test case 6...\n"
     ]
    }
   ],
   "source": [
    "# test case 6\n",
    "grid6 = [\n",
    "[\"@\", \"@\", \"@\", \"@\", \"@\", \"@\", \"@\", \"@\", \"@\", \"@\", \"@\"],\n",
    "[\"@\", \"R\", \"#\", \"#\", \"$\", \"#\", \"#\", \"#\", \"#\", \"T\", \"@\"],\n",
    "[\"@\", \"@\", \"@\", \"@\", \"@\", \"@\", \"@\", \"@\", \"@\", \"@\", \"@\"],\n",
    "\n",
    "]\n",
    "\n",
    "answer6 = 5\n",
    "result6 = solve(grid6)\n",
    "assert result6 == answer6, f\"Test case 5: expected {answer6}, got {result6}\"\n",
    "print('Passed test case 6...')"
   ]
  },
  {
   "cell_type": "code",
   "execution_count": 47,
   "metadata": {},
   "outputs": [
    {
     "name": "stdout",
     "output_type": "stream",
     "text": [
      "Passed test case 7...\n"
     ]
    }
   ],
   "source": [
    "# test case 7\n",
    "grid7 = [\n",
    "[\"@\", \"@\", \"@\", \"@\", \"@\", \"@\", \"@\", \"@\", \"@\", \"@\", \"@\"],\n",
    "[\"@\", \"R\", \"#\", \"#\", \"$\", \"#\", \"#\", \"#\", \"#\", \"#\", \"@\"],\n",
    "[\"@\", \"@\", \"@\", \"@\", \"@\", \"@\", \"@\", \"@\", \"@\", \"#\", \"@\"],\n",
    "[\"@\", \"@\", \"@\", \"@\", \"@\", \"@\", \"@\", \"@\", \"@\", \"#\", \"@\"],\n",
    "[\"@\", \"@\", \"@\", \"@\", \"@\", \"@\", \"@\", \"@\", \"@\", \"T\", \"@\"],\n",
    "[\"@\", \"@\", \"@\", \"@\", \"@\", \"@\", \"@\", \"@\", \"@\", \"@\", \"@\"],\n",
    "\n",
    "]\n",
    "\n",
    "answer6 = -1\n",
    "result6 = solve(grid7)\n",
    "assert result6 == answer6, f\"Test case 7: expected {answer6}, got {result6}\"\n",
    "print('Passed test case 7...')"
   ]
  }
 ],
 "metadata": {
  "kernelspec": {
   "display_name": "Python 3",
   "language": "python",
   "name": "python3"
  },
  "language_info": {
   "codemirror_mode": {
    "name": "ipython",
    "version": 3
   },
   "file_extension": ".py",
   "mimetype": "text/x-python",
   "name": "python",
   "nbconvert_exporter": "python",
   "pygments_lexer": "ipython3",
   "version": "3.11.4"
  }
 },
 "nbformat": 4,
 "nbformat_minor": 2
}
