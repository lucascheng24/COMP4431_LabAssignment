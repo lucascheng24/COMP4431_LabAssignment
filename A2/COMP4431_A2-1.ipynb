{
 "cells": [
  {
   "cell_type": "code",
   "execution_count": 1,
   "metadata": {},
   "outputs": [],
   "source": [
    "import heapq  # for implementing the priority queue\n",
    "\n",
    "def calculate_manhattan_distance(point1, point2):\n",
    "    # Calculate Manhattan distance between two points\n",
    "    return abs(point1[0] - point2[0]) + abs(point1[1] - point2[1])\n",
    "\n",
    "def find_min_pushes(grid):\n",
    "    # Define the possible moves (up, down, left, right)\n",
    "    moves = [(0, -1), (0, 1), (-1, 0), (1, 0)]  \n",
    "    \n",
    "    robot_position = None\n",
    "    item_position = None\n",
    "    shelf_positions = []\n",
    "    \n",
    "    for i in range(len(grid)):\n",
    "        for j in range(len(grid[0])):\n",
    "            if grid[i][j] == \"R\":\n",
    "                robot_position = (i, j)\n",
    "            elif grid[i][j] == \"$\":\n",
    "                item_position = (i, j)\n",
    "            elif grid[i][j] == \"T\":\n",
    "                shelf_positions.append((i, j))\n",
    "    \n",
    "    # Define a state as ((item_x, item_y), push_count)\n",
    "    start_state = (item_position, 0)\n",
    "    \n",
    "    # Initialize the open list with the start state and its estimated cost (heuristic value)\n",
    "    open_list = [(calculate_manhattan_distance(start_state[0], shelf), start_state) for shelf in shelf_positions]\n",
    "    heapq.heapify(open_list)\n",
    "    \n",
    "    # Initialize the closed list\n",
    "    closed_list = set()\n",
    "    \n",
    "    while open_list:\n",
    "        # Pop the state with the smallest heuristic value from the open list\n",
    "        current_state = heapq.heappop(open_list)[1]\n",
    "        \n",
    "        # Check if the item is placed on a shelf\n",
    "        if current_state[0] in shelf_positions:\n",
    "            return current_state[1]\n",
    "        \n",
    "        closed_list.add(current_state)\n",
    "        \n",
    "        # Generate the next possible states\n",
    "        for move in moves:\n",
    "            new_item_pos = (current_state[0][0] + move[0], current_state[0][1] + move[1])\n",
    "            new_robot_pos = (current_state[0][0] - move[0], current_state[0][1] - move[1])\n",
    "            new_push_count = current_state[1] + 1\n",
    "            \n",
    "            # Check if the new state is valid and not in the closed list\n",
    "            if new_item_pos[0] >= 0 and new_item_pos[0] < len(grid) \\\n",
    "                and new_item_pos[1] >= 0 and new_item_pos[1] < len(grid[0]) \\\n",
    "                and grid[new_item_pos[0]][new_item_pos[1]] != \"@\" \\\n",
    "                and grid[new_robot_pos[0]][new_robot_pos[1]] != \"@\" \\\n",
    "                and (new_item_pos, new_push_count) not in closed_list:\n",
    "                \n",
    "                new_state = (new_item_pos, new_push_count)\n",
    "                new_total_cost = calculate_manhattan_distance(new_item_pos, item_position) + new_push_count\n",
    "                \n",
    "                # Push the new state into the open list with its total cost\n",
    "                heapq.heappush(open_list, (new_total_cost, new_state))\n",
    "    \n",
    "    return -1  # If it's impossible to place the item on any shelf"
   ]
  },
  {
   "cell_type": "code",
   "execution_count": 3,
   "metadata": {},
   "outputs": [
    {
     "name": "stdout",
     "output_type": "stream",
     "text": [
      "Passed test case 1...\n"
     ]
    }
   ],
   "source": [
    "# test case 1\n",
    "grid1 = [\n",
    "[\"@\", \"@\", \"@\", \"@\", \"@\", \"@\"], \n",
    "[\"@\", \"@\", \"@\", \"@\", \"T\", \"@\"], \n",
    "[\"@\", \"#\", \"$\", \"#\", \"#\", \"@\"], \n",
    "[\"@\", \"#\", \"@\", \"@\", \"#\", \"@\"], \n",
    "[\"@\", \"R\", \"#\", \"#\", \"#\", \"@\"], \n",
    "[\"@\", \"T\", \"@\", \"@\", \"@\", \"@\"]]\n",
    "answer1 = 3\n",
    "result1 = find_min_pushes(grid1)\n",
    "assert result1 == answer1, f\"Test case 1: expected {answer1}, got {result1}\"\n",
    "print('Passed test case 1...')"
   ]
  },
  {
   "cell_type": "code",
   "execution_count": 5,
   "metadata": {},
   "outputs": [
    {
     "name": "stdout",
     "output_type": "stream",
     "text": [
      "Passed test case 2...\n"
     ]
    }
   ],
   "source": [
    "# test case 2\n",
    "grid2 = [\n",
    "[\"@\", \"T\", \"@\", \"@\", \"@\", \"@\"], \n",
    "[\"@\", \"#\", \"@\", \"@\", \"@\", \"@\"], \n",
    "[\"@\", \"#\", \"#\", \"#\", \"$\", \"@\"], \n",
    "[\"@\", \"#\", \"@\", \"@\", \"@\", \"@\"], \n",
    "[\"@\", \"R\", \"#\", \"#\", \"T\", \"@\"], \n",
    "[\"@\", \"@\", \"@\", \"@\", \"@\", \"@\"]]\n",
    "answer2 = -1\n",
    "result2 = find_min_pushes(grid2)\n",
    "assert result2 == answer2, f\"Test case 2: expected {answer2}, got {result2}\"\n",
    "print('Passed test case 2...')"
   ]
  },
  {
   "cell_type": "code",
   "execution_count": null,
   "metadata": {},
   "outputs": [],
   "source": [
    "# test case 3\n",
    "grid3 = [\n",
    "[\"@\", \"T\", \"@\", \"@\", \"@\", \"@\"], \n",
    "[\"@\", \"#\", \"@\", \"@\", \"@\", \"@\"], \n",
    "[\"@\", \"#\", \"#\", \"#\", \"$\", \"@\"], \n",
    "[\"@\", \"#\", \"@\", \"@\", \"@\", \"@\"], \n",
    "[\"@\", \"R\", \"#\", \"#\", \"T\", \"@\"], \n",
    "[\"@\", \"@\", \"@\", \"@\", \"@\", \"@\"]]\n",
    "answer3 = -1\n",
    "result3 = find_min_pushes(grid3)\n",
    "assert result3 == answer3, f\"Test case 3: expected {answer3}, got {result3}\"\n",
    "print('Passed test case 3...')"
   ]
  }
 ],
 "metadata": {
  "kernelspec": {
   "display_name": "Python 3",
   "language": "python",
   "name": "python3"
  },
  "language_info": {
   "codemirror_mode": {
    "name": "ipython",
    "version": 3
   },
   "file_extension": ".py",
   "mimetype": "text/x-python",
   "name": "python",
   "nbconvert_exporter": "python",
   "pygments_lexer": "ipython3",
   "version": "3.11.4"
  }
 },
 "nbformat": 4,
 "nbformat_minor": 2
}
