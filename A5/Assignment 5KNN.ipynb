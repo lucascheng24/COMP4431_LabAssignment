{
  "cells": [
    {
      "cell_type": "code",
      "source": [
        "import pandas as pd\n",
        "import os\n",
        "\n",
        "def read_data_from_csv(path):\n",
        "    \"\"\"Load datasets from CSV files.\n",
        "    Args:\n",
        "        path (str): Path to the CSV file.\n",
        "    Returns:\n",
        "        X (np.ndarray): Features of samples.\n",
        "        y (np.ndarray): Labels of samples, only provided in the public datasets.\n",
        "    \"\"\"\n",
        "    assert os.path.exists(path), f'File not found: {path}!'\n",
        "    assert os.path.splitext(path)[\n",
        "        -1] == '.csv', f'Unsupported file type {os.path.splitext(path)[-1]}!'\n",
        "\n",
        "    data = pd.read_csv(path)\n",
        "    column_list = data.columns.values.tolist()\n",
        "\n",
        "    if 'Label' in column_list:\n",
        "        # for the public dataset, label column is provided.\n",
        "        column_list.remove('Label')\n",
        "        X = data[column_list].values\n",
        "        y = data['Label'].astype('int').values\n",
        "        return X, y\n",
        "    else:\n",
        "        # for the private dataset, label column is not provided.\n",
        "        X = data[column_list].values\n",
        "        return X\n",
        "\n",
        "\n",
        "X_public, y_public = read_data_from_csv('assignment_5_public.csv')\n",
        "print('Shape of X_public:', X_public.shape)  # n_sample, m_feature (30000, 58)\n",
        "print('Shape of y_public:', y_public.shape)  # n_sample (30000,)\n",
        "\n",
        "'''\n",
        "CODE HERE!\n",
        "'''\n",
        "\n",
        "X_private = read_data_from_csv('assignment_5_private.csv')\n",
        "print('Shape of X_private:', X_private.shape)  # k_sample, m_feature (5000, 58)\n",
        "\n",
        "import numpy as np\n",
        "\n",
        "# remove and make your own predictions.\n",
        "preds = np.full(len(X_private), -1,\n",
        "                dtype=int)\n",
        "'''\n",
        "CODE HERE!\n",
        "e.g.,\n",
        "preds = np.full(len(X_private), -1, dtype=int)\n",
        "'''\n",
        "\n",
        "submission = pd.DataFrame({'Label': preds})\n",
        "submission.to_csv('assignment_5.csv', index=True, index_label='Id')"
      ],
      "metadata": {
        "colab": {
          "base_uri": "https://localhost:8080/"
        },
        "id": "PQ5wpclsHDXD",
        "outputId": "aa97d96d-f140-4d0b-89d1-fb7eacf30e1a"
      },
      "id": "PQ5wpclsHDXD",
      "execution_count": 14,
      "outputs": [
        {
          "output_type": "stream",
          "name": "stdout",
          "text": [
            "Shape of X_public: (30000, 58)\n",
            "Shape of y_public: (30000,)\n",
            "Shape of X_private: (5000, 58)\n"
          ]
        }
      ]
    },
    {
      "cell_type": "code",
      "source": [
        "# Step 6: Implement feature scaling\n",
        "from sklearn.preprocessing import MinMaxScaler\n",
        "\n",
        "# Exclude the output column from feature scaling\n",
        "columns_to_scale = [58]\n",
        "\n",
        "# Initialize the scaler\n",
        "scaler = MinMaxScaler()\n",
        "\n",
        "# Fit and transform the data\n",
        "X_public[columns_to_scale] = scaler.fit_transform(X_public[columns_to_scale])\n",
        "\n",
        "# Display the modified dataset after feature scaling\n",
        "print(X_public)"
      ],
      "metadata": {
        "colab": {
          "base_uri": "https://localhost:8080/"
        },
        "id": "AZjS1_QjMAL5",
        "outputId": "e9e70f00-0656-4e6f-c7bd-3f6ec2064829"
      },
      "id": "AZjS1_QjMAL5",
      "execution_count": 19,
      "outputs": [
        {
          "output_type": "stream",
          "name": "stdout",
          "text": [
            "[[8.00000000e+00 2.06000000e+02 6.37305696e-01 ... 8.00000000e-01\n",
            "  5.00000000e-01 8.00000000e-01]\n",
            " [8.00000000e+00 2.10000000e+02 6.66666663e-01 ... 0.00000000e+00\n",
            "  5.00000000e-01 0.00000000e+00]\n",
            " [9.00000000e+00 2.64000000e+02 5.66265058e-01 ... 0.00000000e+00\n",
            "  5.00000000e-01 0.00000000e+00]\n",
            " ...\n",
            " [9.00000000e+00 3.25000000e+02 5.89506171e-01 ... 0.00000000e+00\n",
            "  5.00000000e-01 0.00000000e+00]\n",
            " [1.10000000e+01 1.52800000e+03 4.25333333e-01 ... 0.00000000e+00\n",
            "  3.75000000e-01 0.00000000e+00]\n",
            " [1.00000000e+01 1.27000000e+02 6.98412693e-01 ... 3.50000000e-01\n",
            "  5.00000000e-02 3.50000000e-01]]\n"
          ]
        }
      ]
    },
    {
      "cell_type": "code",
      "source": [
        "import warnings\n",
        "warnings.filterwarnings(\"ignore\",category=FutureWarning,module=\"sklearn\")\n",
        "\n",
        "from sklearn.model_selection import GridSearchCV\n",
        "from sklearn.neighbors import KNeighborsClassifier\n",
        "from sklearn.metrics import accuracy_score\n",
        "from sklearn.model_selection import train_test_split\n",
        "\n",
        "\n",
        "# Step 8: Split the dataset into training and testing data\n",
        "X_train, X_test, y_train, y_test = train_test_split(X_public, y_public, test_size=0.2, random_state=42)\n",
        "\n",
        "# Step 9: Define the parameter grid\n",
        "param_grid = {\n",
        "    'n_neighbors': [3, 5, 7, 10],\n",
        "    'metric': ['euclidean', 'manhattan']\n",
        "}\n",
        "\n",
        "# Step 10: Initialize the K-Nearest Neighbors classifier\n",
        "knn = KNeighborsClassifier()\n",
        "\n",
        "# Step 11: Perform grid search to find the best parameters\n",
        "grid_search = GridSearchCV(knn, param_grid, cv=5)\n",
        "grid_search.fit(X_train, y_train)\n",
        "\n",
        "# Step 12: Make predictions on the test data using the best model\n",
        "best_model = grid_search.best_estimator_\n",
        "y_pred = best_model.predict(X_test)\n",
        "\n",
        "# Step 13: Evaluate the accuracy of the best model\n",
        "accuracy = accuracy_score(y_test, y_pred)\n",
        "print(\"Accuracy (Best Model): {:.2f}%\".format(accuracy * 100))\n",
        "\n",
        "# Step 14: Print the best parameters found by grid search\n",
        "print(\"Best Parameters:\", grid_search.best_params_)"
      ],
      "metadata": {
        "colab": {
          "base_uri": "https://localhost:8080/"
        },
        "id": "-bFRcj1ePxnQ",
        "outputId": "c7aead1b-b180-49af-bac0-7ab6ce59e9ec"
      },
      "id": "-bFRcj1ePxnQ",
      "execution_count": 21,
      "outputs": [
        {
          "output_type": "stream",
          "name": "stdout",
          "text": [
            "Accuracy (Best Model): 57.58%\n",
            "Best Parameters: {'metric': 'manhattan', 'n_neighbors': 7}\n"
          ]
        }
      ]
    },
    {
      "cell_type": "code",
      "source": [
        "pred=grid_search.predict(X_private)"
      ],
      "metadata": {
        "id": "9LYeVew1cTMd"
      },
      "id": "9LYeVew1cTMd",
      "execution_count": 22,
      "outputs": []
    },
    {
      "cell_type": "code",
      "source": [
        "pred"
      ],
      "metadata": {
        "colab": {
          "base_uri": "https://localhost:8080/"
        },
        "id": "MFwxBtnQchRd",
        "outputId": "1455b24e-d022-4f23-cb27-7efe2e726c06"
      },
      "id": "MFwxBtnQchRd",
      "execution_count": 23,
      "outputs": [
        {
          "output_type": "execute_result",
          "data": {
            "text/plain": [
              "array([0, 0, 1, ..., 0, 1, 0])"
            ]
          },
          "metadata": {},
          "execution_count": 23
        }
      ]
    }
  ],
  "metadata": {
    "kernelspec": {
      "display_name": "Python 3 (ipykernel)",
      "language": "python",
      "name": "python3"
    },
    "language_info": {
      "codemirror_mode": {
        "name": "ipython",
        "version": 3
      },
      "file_extension": ".py",
      "mimetype": "text/x-python",
      "name": "python",
      "nbconvert_exporter": "python",
      "pygments_lexer": "ipython3",
      "version": "3.9.13"
    },
    "colab": {
      "provenance": []
    }
  },
  "nbformat": 4,
  "nbformat_minor": 5
}