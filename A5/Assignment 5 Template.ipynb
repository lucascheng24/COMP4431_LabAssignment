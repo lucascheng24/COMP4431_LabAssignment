{
 "cells": [
  {
   "attachments": {},
   "cell_type": "markdown",
   "id": "6d151c6a",
   "metadata": {},
   "source": [
    "## Template for Assignment 5 submission"
   ]
  },
  {
   "cell_type": "markdown",
   "id": "061919f7",
   "metadata": {},
   "source": [
    "```\n",
    "import pandas as pd\n",
    "import os\n",
    "\n",
    "def read_data_from_csv(path):\n",
    "    \"\"\"Load datasets from CSV files.\n",
    "    Args:\n",
    "        path (str): Path to the CSV file.\n",
    "    Returns:\n",
    "        X (np.ndarray): Features of samples.\n",
    "        y (np.ndarray): Labels of samples, only provided in the public datasets.\n",
    "    \"\"\"\n",
    "    assert os.path.exists(path), f'File not found: {path}!'\n",
    "    assert os.path.splitext(path)[\n",
    "        -1] == '.csv', f'Unsupported file type {os.path.splitext(path)[-1]}!'\n",
    "\n",
    "    data = pd.read_csv(path)\n",
    "    column_list = data.columns.values.tolist()\n",
    "\n",
    "    if 'Label' in column_list:\n",
    "        # for the public dataset, label column is provided.\n",
    "        column_list.remove('Label')\n",
    "        X = data[column_list].values\n",
    "        y = data['Label'].astype('int').values\n",
    "        return X, y\n",
    "    else:\n",
    "        # for the private dataset, label column is not provided.\n",
    "        X = data[column_list].values\n",
    "        return X\n",
    "    \n",
    "\n",
    "X_public, y_public = read_data_from_csv('assignment_5_public.csv')\n",
    "print('Shape of X_public:', X_public.shape)  # n_sample, m_feature (30000, 58)\n",
    "print('Shape of y_public:', y_public.shape)  # n_sample (30000,)\n",
    "\n",
    "'''\n",
    "CODE HERE!\n",
    "'''\n",
    "\n",
    "X_private = read_data_from_csv('assignment_5_private.csv')\n",
    "print('Shape of X_private:', X_private.shape)  # k_sample, m_feature (5000, 58)\n",
    "\n",
    "import numpy as np\n",
    "\n",
    "# remove and make your own predictions.\n",
    "preds = np.full(len(X_private), -1,\n",
    "                dtype=int)\n",
    "'''\n",
    "CODE HERE!\n",
    "e.g.,\n",
    "preds = np.full(len(X_private), -1, dtype=int)\n",
    "'''\n",
    "\n",
    "submission = pd.DataFrame({'Label': preds})\n",
    "submission.to_csv('assignment_5.csv', index=True, index_label='Id')\n",
    "```"
   ]
  }
 ],
 "metadata": {
  "kernelspec": {
   "display_name": "Python 3 (ipykernel)",
   "language": "python",
   "name": "python3"
  },
  "language_info": {
   "codemirror_mode": {
    "name": "ipython",
    "version": 3
   },
   "file_extension": ".py",
   "mimetype": "text/x-python",
   "name": "python",
   "nbconvert_exporter": "python",
   "pygments_lexer": "ipython3",
   "version": "3.9.13"
  }
 },
 "nbformat": 4,
 "nbformat_minor": 5
}
