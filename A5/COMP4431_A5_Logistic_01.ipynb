{
 "cells": [
  {
   "cell_type": "code",
   "execution_count": 38,
   "metadata": {},
   "outputs": [
    {
     "name": "stdout",
     "output_type": "stream",
     "text": [
      "Shape of X_public: (30000, 58)\n",
      "Shape of y_public: (30000,)\n"
     ]
    },
    {
     "data": {
      "text/plain": [
       "'\\nCODE HERE!\\n'"
      ]
     },
     "execution_count": 38,
     "metadata": {},
     "output_type": "execute_result"
    }
   ],
   "source": [
    "import os\n",
    "import numpy as np\n",
    "import pandas as pd\n",
    "from sklearn.preprocessing import MinMaxScaler\n",
    "from sklearn.linear_model import LogisticRegression\n",
    "from sklearn.model_selection import KFold, cross_val_score\n",
    "\n",
    "def read_data_from_csv(path):\n",
    "    \"\"\"Load datasets from CSV files.\n",
    "    Args:\n",
    "        path (str): Path to the CSV file.\n",
    "    Returns:\n",
    "        X (np.ndarray): Features of samples.\n",
    "        y (np.ndarray): Labels of samples, only provided in the public datasets.\n",
    "    \"\"\"\n",
    "    assert os.path.exists(path), f'File not found: {path}!'\n",
    "    assert os.path.splitext(path)[\n",
    "        -1] == '.csv', f'Unsupported file type {os.path.splitext(path)[-1]}!'\n",
    "\n",
    "    data = pd.read_csv(path)\n",
    "    column_list = data.columns.values.tolist()\n",
    "\n",
    "    if 'Label' in column_list:\n",
    "        # for the public dataset, label column is provided.\n",
    "        column_list.remove('Label')\n",
    "        X = data[column_list].values\n",
    "        y = data['Label'].astype('int').values\n",
    "        return X, y\n",
    "    else:\n",
    "        # for the private dataset, label column is not provided.\n",
    "        X = data[column_list].values\n",
    "        return X\n",
    "    \n",
    "\n",
    "X_public, y_public = read_data_from_csv('assignment_5_public.csv')\n",
    "print('Shape of X_public:', X_public.shape)  # n_sample, m_feature (30000, 58)\n",
    "print('Shape of y_public:', y_public.shape)  # n_sample (30000,)\n",
    "\n",
    "'''\n",
    "CODE HERE!\n",
    "'''\n",
    "\n",
    "\n",
    "\n",
    "\n"
   ]
  },
  {
   "cell_type": "markdown",
   "metadata": {},
   "source": [
    "|   Features                    |    Types\t        |       data types      | \n",
    "|-------------------------------|-------------------|-----------------------|\n",
    "|       1-11, 18-29, 38-58      |    Continuous     |       numberic number |\n",
    "|       12-17, 30-37            |   Categorical     |       boolean(1/0)    |"
   ]
  },
  {
   "cell_type": "code",
   "execution_count": 15,
   "metadata": {},
   "outputs": [],
   "source": [
    "df_x = pd.DataFrame(X_public).head()"
   ]
  },
  {
   "cell_type": "code",
   "execution_count": 4,
   "metadata": {},
   "outputs": [
    {
     "data": {
      "text/html": [
       "<div>\n",
       "<style scoped>\n",
       "    .dataframe tbody tr th:only-of-type {\n",
       "        vertical-align: middle;\n",
       "    }\n",
       "\n",
       "    .dataframe tbody tr th {\n",
       "        vertical-align: top;\n",
       "    }\n",
       "\n",
       "    .dataframe thead th {\n",
       "        text-align: right;\n",
       "    }\n",
       "</style>\n",
       "<table border=\"1\" class=\"dataframe\">\n",
       "  <thead>\n",
       "    <tr style=\"text-align: right;\">\n",
       "      <th></th>\n",
       "      <th>0</th>\n",
       "    </tr>\n",
       "  </thead>\n",
       "  <tbody>\n",
       "    <tr>\n",
       "      <th>0</th>\n",
       "      <td>0</td>\n",
       "    </tr>\n",
       "    <tr>\n",
       "      <th>1</th>\n",
       "      <td>0</td>\n",
       "    </tr>\n",
       "    <tr>\n",
       "      <th>2</th>\n",
       "      <td>1</td>\n",
       "    </tr>\n",
       "    <tr>\n",
       "      <th>3</th>\n",
       "      <td>1</td>\n",
       "    </tr>\n",
       "    <tr>\n",
       "      <th>4</th>\n",
       "      <td>0</td>\n",
       "    </tr>\n",
       "  </tbody>\n",
       "</table>\n",
       "</div>"
      ],
      "text/plain": [
       "   0\n",
       "0  0\n",
       "1  0\n",
       "2  1\n",
       "3  1\n",
       "4  0"
      ]
     },
     "execution_count": 4,
     "metadata": {},
     "output_type": "execute_result"
    }
   ],
   "source": [
    "pd.DataFrame(y_public).head()"
   ]
  },
  {
   "cell_type": "code",
   "execution_count": 12,
   "metadata": {},
   "outputs": [
    {
     "name": "stdout",
     "output_type": "stream",
     "text": [
      "Cross Validation Scores:  [0.65786667 0.65066667 0.66426667 0.64906667 0.64453333 0.64506667\n",
      " 0.66506667 0.6496    ]\n",
      "\n",
      "Average CV Score:  0.6532666666666667\n"
     ]
    }
   ],
   "source": [
    "# try construct the model without any preprocess\n",
    "\n",
    "k_folds = KFold(n_splits = 8)\n",
    "\n",
    "logisticReg_model = LogisticRegression(solver = 'liblinear', class_weight = 'balanced', max_iter =300, penalty = 'l1')\n",
    "\n",
    "scores = cross_val_score(logisticReg_model, X_public, y_public, cv = k_folds)\n",
    "\n",
    "print(\"Cross Validation Scores: \", scores)\n",
    "print(\"\\nAverage CV Score: \", scores.mean())"
   ]
  },
  {
   "cell_type": "code",
   "execution_count": 35,
   "metadata": {},
   "outputs": [],
   "source": [
    "normalized_x = df_x\n",
    "# Continuous features   1-11, 18-29, 38-58\n",
    "df_1T11 = df_x.iloc[:, 0:11]  \n",
    "df_18T19 = df_x.iloc[:, 17:29]\n",
    "df_38T58 = df_x.iloc[:, 37:58]\n",
    "\n",
    "# Categorical features  12-17, 30-37 \n",
    "df_12T17 = df_x.iloc[:, 11:17]  \n",
    "df_30T37 = df_x.iloc[:, 29:37]  "
   ]
  },
  {
   "cell_type": "code",
   "execution_count": 36,
   "metadata": {},
   "outputs": [
    {
     "name": "stdout",
     "output_type": "stream",
     "text": [
      "(5, 44)\n",
      "(5, 14)\n"
     ]
    }
   ],
   "source": [
    "# concatenating along columns\n",
    "horizontal_Continuous_concat = pd.concat([df_1T11, df_18T19, df_38T58], axis=1)\n",
    "horizontal_Categorical_concat = pd.concat([df_12T17, df_30T37], axis=1)\n",
    "\n",
    "print(horizontal_Continuous_concat.shape)\n",
    "print(horizontal_Categorical_concat.shape)"
   ]
  },
  {
   "cell_type": "code",
   "execution_count": 39,
   "metadata": {},
   "outputs": [],
   "source": [
    "# Normalize the numeric features\n",
    "scaler = MinMaxScaler()\n",
    "normalized_Continuous = scaler.fit_transform(pd.DataFrame(horizontal_Continuous_concat))\n"
   ]
  },
  {
   "cell_type": "code",
   "execution_count": null,
   "metadata": {},
   "outputs": [],
   "source": [
    "X_private = read_data_from_csv('assignment_5_private.csv')\n",
    "print('Shape of X_private:', X_private.shape)  # k_sample, m_feature (5000, 58)\n",
    "\n",
    "\n",
    "\n",
    "# remove and make your own predictions.\n",
    "preds = np.full(len(X_private), -1,\n",
    "                dtype=int)\n",
    "'''\n",
    "CODE HERE!\n",
    "e.g.,\n",
    "preds = np.full(len(X_private), -1, dtype=int)\n",
    "'''"
   ]
  },
  {
   "cell_type": "code",
   "execution_count": null,
   "metadata": {},
   "outputs": [],
   "source": [
    "submission = pd.DataFrame({'Label': preds})\n",
    "submission.to_csv('assignment_5.csv', index=True, index_label='Id')"
   ]
  }
 ],
 "metadata": {
  "kernelspec": {
   "display_name": "Python 3",
   "language": "python",
   "name": "python3"
  },
  "language_info": {
   "codemirror_mode": {
    "name": "ipython",
    "version": 3
   },
   "file_extension": ".py",
   "mimetype": "text/x-python",
   "name": "python",
   "nbconvert_exporter": "python",
   "pygments_lexer": "ipython3",
   "version": "3.11.4"
  }
 },
 "nbformat": 4,
 "nbformat_minor": 2
}
