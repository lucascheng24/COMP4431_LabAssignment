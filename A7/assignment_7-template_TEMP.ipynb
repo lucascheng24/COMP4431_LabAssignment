{
  "cells": [
    {
      "cell_type": "code",
      "execution_count": 10,
      "metadata": {
        "id": "4PiwCFfg9imD",
        "outputId": "75895607-5f0c-44a2-a37a-f672261faaa6",
        "colab": {
          "base_uri": "https://localhost:8080/"
        }
      },
      "outputs": [
        {
          "output_type": "stream",
          "name": "stdout",
          "text": [
            "Requirement already satisfied: opencv-python in /usr/local/lib/python3.10/dist-packages (4.8.0.76)\n",
            "Requirement already satisfied: numpy>=1.21.2 in /usr/local/lib/python3.10/dist-packages (from opencv-python) (1.23.5)\n"
          ]
        }
      ],
      "source": [
        "!pip install opencv-python\n",
        "\n",
        "import os\n",
        "import cv2\n",
        "\n",
        "import pandas as pd\n",
        "from PIL import Image\n",
        "from typing import Any, Tuple, Optional, Callable\n",
        "from torch.utils.data import Dataset\n",
        "\n",
        "def read_csv(path: str) -> pd.DataFrame:\n",
        "    '''\n",
        "    Read a csv file.\n",
        "\n",
        "    Args:\n",
        "        path (str): Path to the csv file.\n",
        "\n",
        "    Returns:\n",
        "        pd.DataFrame: Dataframe with the csv file data.\n",
        "    '''\n",
        "\n",
        "    assert os.path.exists(path), f'CSV file not found: {path}!'\n",
        "    assert os.path.splitext(path)[\n",
        "    -1] == '.csv', f'Unsupported file type {os.path.splitext(path)[-1]}!'\n",
        "    return pd.read_csv(path)\n",
        "\n",
        "class ImageDataset(Dataset):\n",
        "    def __init__(self, dataframe: pd.DataFrame, images_folder: str = '/content/drive/My Drive/images', transform: Optional[Callable] = None, target_transform: Optional[Callable] = None) -> None:\n",
        "        '''\n",
        "        Image dataset.\n",
        "\n",
        "        Args:\n",
        "            dataframe (pd.DataFrame): Dataframe with the image filenames and labels.\n",
        "            images_folder (str): Directory with all the images.\n",
        "            transform (callable, optional): Optional transform to be applied on a sample.\n",
        "            target_transform (callable, optional): Optional transform to be applied on a target.\n",
        "        '''\n",
        "        assert 'Filename' in dataframe.columns, f'Filename column not found!'\n",
        "        assert os.path.exists(images_folder), f'Image folder not found: {images_folder}!'\n",
        "\n",
        "        self.dataframe = dataframe\n",
        "        self.images_folder = images_folder\n",
        "        self.transform = transform\n",
        "        self.target_transform = target_transform\n",
        "\n",
        "        data = []\n",
        "        targets = []\n",
        "\n",
        "        for i, sample in dataframe.iterrows():\n",
        "            image = cv2.imread(os.path.join(images_folder, sample['Filename']))\n",
        "            data.append(image)\n",
        "\n",
        "            targets.append(int(sample['Label']) if 'Label' in sample else -1)\n",
        "\n",
        "        self.data = data\n",
        "        self.targets = targets\n",
        "\n",
        "    def __len__(self) -> int:\n",
        "        '''\n",
        "        Returns:\n",
        "            int: Length of the dataset.\n",
        "        '''\n",
        "        return len(self.data)\n",
        "\n",
        "    def __getitem__(self, index: int) -> Tuple[Any, Any]:\n",
        "        '''\n",
        "        Args:\n",
        "            index (int): Index\n",
        "\n",
        "        Returns:\n",
        "            tuple: (image, target) where target is class_index of the target class. For the public test set, target is a class from [0, 1, 2, 3, 4, 5, 6, 7, 8]. For the private test set (before releasing the test set labels), target is -1.\n",
        "        '''\n",
        "        img = self.data[index]\n",
        "        target = self.targets[index]\n",
        "\n",
        "        img = Image.fromarray(img)\n",
        "\n",
        "        if self.transform is not None:\n",
        "            img = self.transform(img)\n",
        "\n",
        "        if self.target_transform is not None:\n",
        "            target = self.target_transform(target)\n",
        "\n",
        "        return img, target"
      ]
    },
    {
      "cell_type": "code",
      "execution_count": 8,
      "metadata": {
        "id": "ydqBmAmZ9imF",
        "outputId": "cbd17958-0208-4a84-ca3c-c11c5cfc2596",
        "colab": {
          "base_uri": "https://localhost:8080/",
          "height": 369
        }
      },
      "outputs": [
        {
          "output_type": "error",
          "ename": "AssertionError",
          "evalue": "ignored",
          "traceback": [
            "\u001b[0;31m---------------------------------------------------------------------------\u001b[0m",
            "\u001b[0;31mAssertionError\u001b[0m                            Traceback (most recent call last)",
            "\u001b[0;32m<ipython-input-8-ed3adde62f82>\u001b[0m in \u001b[0;36m<cell line: 2>\u001b[0;34m()\u001b[0m\n\u001b[1;32m      1\u001b[0m \u001b[0mpublic_dataframe\u001b[0m \u001b[0;34m=\u001b[0m \u001b[0mread_csv\u001b[0m\u001b[0;34m(\u001b[0m\u001b[0;34m'assignment_7_public.csv'\u001b[0m\u001b[0;34m)\u001b[0m\u001b[0;34m\u001b[0m\u001b[0;34m\u001b[0m\u001b[0m\n\u001b[0;32m----> 2\u001b[0;31m \u001b[0mpublic_dataset\u001b[0m \u001b[0;34m=\u001b[0m \u001b[0mImageDataset\u001b[0m\u001b[0;34m(\u001b[0m\u001b[0mpublic_dataframe\u001b[0m\u001b[0;34m)\u001b[0m\u001b[0;34m\u001b[0m\u001b[0;34m\u001b[0m\u001b[0m\n\u001b[0m\u001b[1;32m      3\u001b[0m \u001b[0;34m\u001b[0m\u001b[0m\n\u001b[1;32m      4\u001b[0m \u001b[0mprint\u001b[0m\u001b[0;34m(\u001b[0m\u001b[0;34m'Image'\u001b[0m\u001b[0;34m,\u001b[0m \u001b[0mtype\u001b[0m\u001b[0;34m(\u001b[0m\u001b[0mpublic_dataset\u001b[0m\u001b[0;34m[\u001b[0m\u001b[0;36m0\u001b[0m\u001b[0;34m]\u001b[0m\u001b[0;34m[\u001b[0m\u001b[0;36m0\u001b[0m\u001b[0;34m]\u001b[0m\u001b[0;34m)\u001b[0m\u001b[0;34m,\u001b[0m \u001b[0mpublic_dataset\u001b[0m\u001b[0;34m[\u001b[0m\u001b[0;36m0\u001b[0m\u001b[0;34m]\u001b[0m\u001b[0;34m[\u001b[0m\u001b[0;36m0\u001b[0m\u001b[0;34m]\u001b[0m\u001b[0;34m.\u001b[0m\u001b[0msize\u001b[0m\u001b[0;34m)\u001b[0m \u001b[0;31m# Image <class 'PIL.Image.Image'> (28, 28)\u001b[0m\u001b[0;34m\u001b[0m\u001b[0;34m\u001b[0m\u001b[0m\n\u001b[1;32m      5\u001b[0m \u001b[0mprint\u001b[0m\u001b[0;34m(\u001b[0m\u001b[0;34m'Target'\u001b[0m\u001b[0;34m,\u001b[0m \u001b[0mtype\u001b[0m\u001b[0;34m(\u001b[0m\u001b[0mpublic_dataset\u001b[0m\u001b[0;34m[\u001b[0m\u001b[0;36m0\u001b[0m\u001b[0;34m]\u001b[0m\u001b[0;34m[\u001b[0m\u001b[0;36m1\u001b[0m\u001b[0;34m]\u001b[0m\u001b[0;34m)\u001b[0m\u001b[0;34m)\u001b[0m \u001b[0;31m# Target <class 'int'>\u001b[0m\u001b[0;34m\u001b[0m\u001b[0;34m\u001b[0m\u001b[0m\n",
            "\u001b[0;32m<ipython-input-7-d2af567378e2>\u001b[0m in \u001b[0;36m__init__\u001b[0;34m(self, dataframe, images_folder, transform, target_transform)\u001b[0m\n\u001b[1;32m     37\u001b[0m         '''\n\u001b[1;32m     38\u001b[0m         \u001b[0;32massert\u001b[0m \u001b[0;34m'Filename'\u001b[0m \u001b[0;32min\u001b[0m \u001b[0mdataframe\u001b[0m\u001b[0;34m.\u001b[0m\u001b[0mcolumns\u001b[0m\u001b[0;34m,\u001b[0m \u001b[0;34mf'Filename column not found!'\u001b[0m\u001b[0;34m\u001b[0m\u001b[0;34m\u001b[0m\u001b[0m\n\u001b[0;32m---> 39\u001b[0;31m         \u001b[0;32massert\u001b[0m \u001b[0mos\u001b[0m\u001b[0;34m.\u001b[0m\u001b[0mpath\u001b[0m\u001b[0;34m.\u001b[0m\u001b[0mexists\u001b[0m\u001b[0;34m(\u001b[0m\u001b[0mimages_folder\u001b[0m\u001b[0;34m)\u001b[0m\u001b[0;34m,\u001b[0m \u001b[0;34mf'Image folder not found: {images_folder}!'\u001b[0m\u001b[0;34m\u001b[0m\u001b[0;34m\u001b[0m\u001b[0m\n\u001b[0m\u001b[1;32m     40\u001b[0m \u001b[0;34m\u001b[0m\u001b[0m\n\u001b[1;32m     41\u001b[0m         \u001b[0mself\u001b[0m\u001b[0;34m.\u001b[0m\u001b[0mdataframe\u001b[0m \u001b[0;34m=\u001b[0m \u001b[0mdataframe\u001b[0m\u001b[0;34m\u001b[0m\u001b[0;34m\u001b[0m\u001b[0m\n",
            "\u001b[0;31mAssertionError\u001b[0m: Image folder not found: /content/drive/My Drive/images!"
          ]
        }
      ],
      "source": [
        "public_dataframe = read_csv('assignment_7_public.csv')\n",
        "public_dataset = ImageDataset(public_dataframe)\n",
        "\n",
        "print('Image', type(public_dataset[0][0]), public_dataset[0][0].size) # Image <class 'PIL.Image.Image'> (28, 28)\n",
        "print('Target', type(public_dataset[0][1])) # Target <class 'int'>\n",
        "print('Length', len(public_dataset)) # Length 85744\n",
        "\n",
        "'''\n",
        "CODE HERE!\n",
        "'''"
      ]
    },
    {
      "cell_type": "code",
      "execution_count": null,
      "metadata": {
        "id": "cz63m9MD9imF"
      },
      "outputs": [],
      "source": [
        "private_dataframe = read_csv('assignment_7_private.csv')\n",
        "private_dataset = ImageDataset(private_dataframe)\n",
        "\n",
        "print('Image', type(private_dataset[0][0])) # Image <class 'PIL.Image.Image'> (28, 28)\n",
        "print('Length', len(private_dataset)) # Length 21436\n",
        "\n",
        "import numpy as np\n",
        "\n",
        "# remove and make your own predictions.\n",
        "preds = np.full(len(private_dataset), -1,\n",
        "                dtype=int)\n",
        "'''\n",
        "CODE HERE!\n",
        "e.g.,\n",
        "preds = np.full(len(X_private), -1, dtype=int)\n",
        "'''\n",
        "\n",
        "submission = pd.DataFrame({'Label': preds})\n",
        "submission.to_csv('assignment_7.csv', index=True, index_label='Id')"
      ]
    },
    {
      "cell_type": "code",
      "source": [
        "from google.colab import drive\n",
        "drive.mount('/content/drive')"
      ],
      "metadata": {
        "id": "Q20WVzJu-F_X",
        "outputId": "ecc0c0a2-a6c2-401c-8760-b43c6936b644",
        "colab": {
          "base_uri": "https://localhost:8080/"
        }
      },
      "execution_count": 5,
      "outputs": [
        {
          "output_type": "stream",
          "name": "stdout",
          "text": [
            "Drive already mounted at /content/drive; to attempt to forcibly remount, call drive.mount(\"/content/drive\", force_remount=True).\n"
          ]
        }
      ]
    }
  ],
  "metadata": {
    "kernelspec": {
      "display_name": "Python 3 (ipykernel)",
      "language": "python",
      "name": "python3"
    },
    "language_info": {
      "codemirror_mode": {
        "name": "ipython",
        "version": 3
      },
      "file_extension": ".py",
      "mimetype": "text/x-python",
      "name": "python",
      "nbconvert_exporter": "python",
      "pygments_lexer": "ipython3",
      "version": "3.11.5"
    },
    "colab": {
      "provenance": []
    }
  },
  "nbformat": 4,
  "nbformat_minor": 0
}