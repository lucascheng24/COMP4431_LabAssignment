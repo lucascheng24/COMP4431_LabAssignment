{
  "cells": [
    {
      "cell_type": "code",
      "source": [
        "from google.colab import drive\n",
        "drive.mount('/content/drive')"
      ],
      "metadata": {
        "id": "Q20WVzJu-F_X",
        "outputId": "aa3c7cf1-a1c5-4efe-8c6c-6a4e88a01ab2",
        "colab": {
          "base_uri": "https://localhost:8080/"
        }
      },
      "execution_count": 2,
      "outputs": [
        {
          "output_type": "stream",
          "name": "stdout",
          "text": [
            "Mounted at /content/drive\n"
          ]
        }
      ]
    },
    {
      "cell_type": "code",
      "execution_count": 69,
      "metadata": {
        "id": "4PiwCFfg9imD",
        "outputId": "b29e35b5-5e5d-469e-d9ef-3bf95cdb93ea",
        "colab": {
          "base_uri": "https://localhost:8080/"
        }
      },
      "outputs": [
        {
          "output_type": "stream",
          "name": "stdout",
          "text": [
            "Requirement already satisfied: opencv-python in /usr/local/lib/python3.10/dist-packages (4.8.0.76)\n",
            "Requirement already satisfied: numpy>=1.21.2 in /usr/local/lib/python3.10/dist-packages (from opencv-python) (1.23.5)\n"
          ]
        }
      ],
      "source": [
        "!pip install opencv-python\n",
        "\n",
        "import os\n",
        "import cv2\n",
        "\n",
        "import pandas as pd\n",
        "from PIL import Image\n",
        "from typing import Any, Tuple, Optional, Callable\n",
        "from torch.utils.data import Dataset\n",
        "\n",
        "def read_csv(path: str) -> pd.DataFrame:\n",
        "    '''\n",
        "    Read a csv file.\n",
        "\n",
        "    Args:\n",
        "        path (str): Path to the csv file.\n",
        "\n",
        "    Returns:\n",
        "        pd.DataFrame: Dataframe with the csv file data.\n",
        "    '''\n",
        "\n",
        "    assert os.path.exists(path), f'CSV file not found: {path}!'\n",
        "    assert os.path.splitext(path)[\n",
        "    -1] == '.csv', f'Unsupported file type {os.path.splitext(path)[-1]}!'\n",
        "    return pd.read_csv(path)\n",
        "\n",
        "class ImageDataset(Dataset):\n",
        "    def __init__(self, dataframe: pd.DataFrame, images_folder: str = '/content/drive/My Drive/images', transform: Optional[Callable] = None, target_transform: Optional[Callable] = None) -> None:\n",
        "        '''\n",
        "        Image dataset.\n",
        "\n",
        "        Args:\n",
        "            dataframe (pd.DataFrame): Dataframe with the image filenames and labels.\n",
        "            images_folder (str): Directory with all the images.\n",
        "            transform (callable, optional): Optional transform to be applied on a sample.\n",
        "            target_transform (callable, optional): Optional transform to be applied on a target.\n",
        "        '''\n",
        "        assert 'Filename' in dataframe.columns, f'Filename column not found!'\n",
        "        assert os.path.exists(images_folder), f'Image folder not found: {images_folder}!'\n",
        "\n",
        "        self.dataframe = dataframe\n",
        "        self.images_folder = images_folder\n",
        "        self.transform = transform\n",
        "        self.target_transform = target_transform\n",
        "\n",
        "        data = []\n",
        "        targets = []\n",
        "\n",
        "        for i, sample in dataframe.iterrows():\n",
        "            image = cv2.imread(os.path.join(images_folder, sample['Filename']))\n",
        "            data.append(image)\n",
        "\n",
        "            targets.append(int(sample['Label']) if 'Label' in sample else -1)\n",
        "\n",
        "        self.data = data\n",
        "        self.targets = targets\n",
        "\n",
        "    def __len__(self) -> int:\n",
        "        '''\n",
        "        Returns:\n",
        "            int: Length of the dataset.\n",
        "        '''\n",
        "        return len(self.data)\n",
        "\n",
        "    def __getitem__(self, index: int) -> Tuple[Any, Any]:\n",
        "        '''\n",
        "        Args:\n",
        "            index (int): Index\n",
        "\n",
        "        Returns:\n",
        "            tuple: (image, target) where target is class_index of the target class. For the public test set, target is a class from [0, 1, 2, 3, 4, 5, 6, 7, 8]. For the private test set (before releasing the test set labels), target is -1.\n",
        "        '''\n",
        "        img = self.data[index]\n",
        "        target = self.targets[index]\n",
        "\n",
        "        img = Image.fromarray(img)\n",
        "\n",
        "        if self.transform is not None:\n",
        "            img = self.transform(img)\n",
        "\n",
        "        if self.target_transform is not None:\n",
        "            target = self.target_transform(target)\n",
        "\n",
        "        return img, target"
      ]
    },
    {
      "cell_type": "code",
      "execution_count": 47,
      "metadata": {
        "id": "ydqBmAmZ9imF",
        "outputId": "152f78b5-0553-4dfb-e95e-6d81b99dd727",
        "colab": {
          "base_uri": "https://localhost:8080/",
          "height": 87
        }
      },
      "outputs": [
        {
          "output_type": "stream",
          "name": "stdout",
          "text": [
            "Image <class 'PIL.Image.Image'> (28, 28)\n",
            "Target <class 'int'>\n",
            "Length 701\n"
          ]
        },
        {
          "output_type": "execute_result",
          "data": {
            "text/plain": [
              "'\\nCODE HERE!\\n'"
            ],
            "application/vnd.google.colaboratory.intrinsic+json": {
              "type": "string"
            }
          },
          "metadata": {},
          "execution_count": 47
        }
      ],
      "source": [
        "public_dataframe = read_csv('assignment_7_public.csv')\n",
        "public_dataset = ImageDataset(public_dataframe)\n",
        "\n",
        "print('Image', type(public_dataset[0][0]), public_dataset[0][0].size) # Image <class 'PIL.Image.Image'> (28, 28)\n",
        "print('Target', type(public_dataset[0][1])) # Target <class 'int'>\n",
        "print('Length', len(public_dataset)) # Length 85744\n",
        "\n",
        "'''\n",
        "CODE HERE!\n",
        "'''\n"
      ]
    },
    {
      "cell_type": "code",
      "source": [
        "from tensorflow import keras\n",
        "from sklearn.model_selection import train_test_split\n",
        "import numpy as np\n",
        "\n",
        "# Assuming the label column is named 'label' in public_dataframe\n",
        "labels = np.array(public_dataframe['Label'])\n",
        "\n",
        "# Extract the image data from the ImageDataset\n",
        "images = np.asarray([np.array(sample[0]) for sample in public_dataset])\n",
        "\n",
        "# Split the data into training and testing sets\n",
        "X_train, X_test, y_train, y_test = train_test_split(images, labels, test_size=0.2, random_state=42)\n",
        "\n",
        "# Normalize the input data (assuming it is in the range of 0-255)\n",
        "X_train = X_train.astype('float32') / 255.0\n",
        "X_test = X_test.astype('float32') / 255.0\n",
        "\n",
        "input_shape = (28, 28, 3)\n",
        "\n",
        "# Define the model architecture\n",
        "model = keras.Sequential(\n",
        "    [\n",
        "        keras.Input(shape=input_shape),\n",
        "        keras.layers.Conv2D(32, kernel_size=(3, 3), activation=\"relu\"),\n",
        "        keras.layers.MaxPooling2D(pool_size=(2, 2)),\n",
        "        keras.layers.Conv2D(64, kernel_size=(3, 3), activation=\"relu\"),\n",
        "        keras.layers.MaxPooling2D(pool_size=(2, 2)),\n",
        "        keras.layers.Conv2D(128, kernel_size=(3, 3), activation=\"relu\"),\n",
        "        keras.layers.MaxPooling2D(pool_size=(2, 2)),\n",
        "        keras.layers.Flatten(),\n",
        "        keras.layers.Dropout(0.5),\n",
        "        keras.layers.Dense(9, activation=\"softmax\"),\n",
        "    ]\n",
        ")\n",
        "\n",
        "model.compile(optimizer='Adam', loss='sparse_categorical_crossentropy', metrics=['accuracy'])\n",
        "\n",
        "# Train the model\n",
        "model.fit(X_train, y_train, epochs=70, validation_data=(X_test, y_test))\n",
        "\n",
        "# Evaluate the model on the test data\n",
        "_, accuracy = model.evaluate(X_test, y_test)\n",
        "\n",
        "# Print the accuracy\n",
        "print(\"Accuracy:\", accuracy)\n"
      ],
      "metadata": {
        "id": "_wIhxK9VYDUK",
        "outputId": "b3415840-5fb8-483f-dcf6-3cd0e3fb9411",
        "colab": {
          "base_uri": "https://localhost:8080/"
        }
      },
      "execution_count": 67,
      "outputs": [
        {
          "output_type": "stream",
          "name": "stdout",
          "text": [
            "Epoch 1/70\n",
            "18/18 [==============================] - 4s 44ms/step - loss: 2.2073 - accuracy: 0.1143 - val_loss: 2.1661 - val_accuracy: 0.2766\n",
            "Epoch 2/70\n",
            "18/18 [==============================] - 1s 35ms/step - loss: 2.1802 - accuracy: 0.1179 - val_loss: 2.1472 - val_accuracy: 0.1773\n",
            "Epoch 3/70\n",
            "18/18 [==============================] - 1s 33ms/step - loss: 2.1410 - accuracy: 0.2018 - val_loss: 2.0941 - val_accuracy: 0.2057\n",
            "Epoch 4/70\n",
            "18/18 [==============================] - 1s 33ms/step - loss: 2.1078 - accuracy: 0.2054 - val_loss: 1.9944 - val_accuracy: 0.3262\n",
            "Epoch 5/70\n",
            "18/18 [==============================] - 1s 34ms/step - loss: 2.0363 - accuracy: 0.2321 - val_loss: 1.9093 - val_accuracy: 0.3050\n",
            "Epoch 6/70\n",
            "18/18 [==============================] - 1s 33ms/step - loss: 1.9861 - accuracy: 0.2464 - val_loss: 1.9846 - val_accuracy: 0.2695\n",
            "Epoch 7/70\n",
            "18/18 [==============================] - 1s 34ms/step - loss: 1.9730 - accuracy: 0.2625 - val_loss: 1.8553 - val_accuracy: 0.2979\n",
            "Epoch 8/70\n",
            "18/18 [==============================] - 1s 33ms/step - loss: 1.9141 - accuracy: 0.2643 - val_loss: 1.7970 - val_accuracy: 0.3404\n",
            "Epoch 9/70\n",
            "18/18 [==============================] - 1s 34ms/step - loss: 1.9230 - accuracy: 0.2732 - val_loss: 1.7622 - val_accuracy: 0.3688\n",
            "Epoch 10/70\n",
            "18/18 [==============================] - 1s 34ms/step - loss: 1.8454 - accuracy: 0.3232 - val_loss: 1.7359 - val_accuracy: 0.3404\n",
            "Epoch 11/70\n",
            "18/18 [==============================] - 1s 33ms/step - loss: 1.8149 - accuracy: 0.3071 - val_loss: 1.6417 - val_accuracy: 0.3830\n",
            "Epoch 12/70\n",
            "18/18 [==============================] - 1s 35ms/step - loss: 1.7957 - accuracy: 0.3268 - val_loss: 1.6599 - val_accuracy: 0.3972\n",
            "Epoch 13/70\n",
            "18/18 [==============================] - 1s 33ms/step - loss: 1.7969 - accuracy: 0.3518 - val_loss: 1.5709 - val_accuracy: 0.4255\n",
            "Epoch 14/70\n",
            "18/18 [==============================] - 1s 39ms/step - loss: 1.7648 - accuracy: 0.3679 - val_loss: 1.6316 - val_accuracy: 0.3688\n",
            "Epoch 15/70\n",
            "18/18 [==============================] - 1s 59ms/step - loss: 1.6775 - accuracy: 0.3982 - val_loss: 1.5101 - val_accuracy: 0.4043\n",
            "Epoch 16/70\n",
            "18/18 [==============================] - 1s 59ms/step - loss: 1.6766 - accuracy: 0.3839 - val_loss: 1.4711 - val_accuracy: 0.4184\n",
            "Epoch 17/70\n",
            "18/18 [==============================] - 1s 59ms/step - loss: 1.6120 - accuracy: 0.4125 - val_loss: 1.5932 - val_accuracy: 0.3759\n",
            "Epoch 18/70\n",
            "18/18 [==============================] - 1s 56ms/step - loss: 1.6295 - accuracy: 0.4304 - val_loss: 1.4610 - val_accuracy: 0.4255\n",
            "Epoch 19/70\n",
            "18/18 [==============================] - 1s 59ms/step - loss: 1.5369 - accuracy: 0.4196 - val_loss: 1.4949 - val_accuracy: 0.4113\n",
            "Epoch 20/70\n",
            "18/18 [==============================] - 1s 57ms/step - loss: 1.5339 - accuracy: 0.4339 - val_loss: 1.5109 - val_accuracy: 0.4255\n",
            "Epoch 21/70\n",
            "18/18 [==============================] - 1s 54ms/step - loss: 1.5435 - accuracy: 0.4411 - val_loss: 1.4220 - val_accuracy: 0.4113\n",
            "Epoch 22/70\n",
            "18/18 [==============================] - 1s 44ms/step - loss: 1.6123 - accuracy: 0.4161 - val_loss: 1.5145 - val_accuracy: 0.3617\n",
            "Epoch 23/70\n",
            "18/18 [==============================] - 1s 33ms/step - loss: 1.5946 - accuracy: 0.4143 - val_loss: 1.4006 - val_accuracy: 0.4681\n",
            "Epoch 24/70\n",
            "18/18 [==============================] - 1s 33ms/step - loss: 1.4669 - accuracy: 0.4429 - val_loss: 1.3903 - val_accuracy: 0.4468\n",
            "Epoch 25/70\n",
            "18/18 [==============================] - 1s 33ms/step - loss: 1.4476 - accuracy: 0.4536 - val_loss: 1.4202 - val_accuracy: 0.4468\n",
            "Epoch 26/70\n",
            "18/18 [==============================] - 1s 34ms/step - loss: 1.4575 - accuracy: 0.4625 - val_loss: 1.3691 - val_accuracy: 0.5035\n",
            "Epoch 27/70\n",
            "18/18 [==============================] - 1s 34ms/step - loss: 1.4012 - accuracy: 0.4696 - val_loss: 1.2908 - val_accuracy: 0.4823\n",
            "Epoch 28/70\n",
            "18/18 [==============================] - 1s 33ms/step - loss: 1.3762 - accuracy: 0.4839 - val_loss: 1.2844 - val_accuracy: 0.4539\n",
            "Epoch 29/70\n",
            "18/18 [==============================] - 1s 34ms/step - loss: 1.3792 - accuracy: 0.4643 - val_loss: 1.3081 - val_accuracy: 0.4610\n",
            "Epoch 30/70\n",
            "18/18 [==============================] - 1s 33ms/step - loss: 1.3767 - accuracy: 0.4750 - val_loss: 1.2696 - val_accuracy: 0.4965\n",
            "Epoch 31/70\n",
            "18/18 [==============================] - 1s 34ms/step - loss: 1.4234 - accuracy: 0.4893 - val_loss: 1.2975 - val_accuracy: 0.4681\n",
            "Epoch 32/70\n",
            "18/18 [==============================] - 1s 34ms/step - loss: 1.3902 - accuracy: 0.4768 - val_loss: 1.2641 - val_accuracy: 0.5035\n",
            "Epoch 33/70\n",
            "18/18 [==============================] - 1s 34ms/step - loss: 1.3723 - accuracy: 0.4786 - val_loss: 1.3114 - val_accuracy: 0.5035\n",
            "Epoch 34/70\n",
            "18/18 [==============================] - 1s 38ms/step - loss: 1.3315 - accuracy: 0.5125 - val_loss: 1.2358 - val_accuracy: 0.5319\n",
            "Epoch 35/70\n",
            "18/18 [==============================] - 1s 49ms/step - loss: 1.2839 - accuracy: 0.5107 - val_loss: 1.2022 - val_accuracy: 0.5603\n",
            "Epoch 36/70\n",
            "18/18 [==============================] - 1s 33ms/step - loss: 1.2590 - accuracy: 0.5196 - val_loss: 1.1778 - val_accuracy: 0.5674\n",
            "Epoch 37/70\n",
            "18/18 [==============================] - 1s 35ms/step - loss: 1.2428 - accuracy: 0.5339 - val_loss: 1.2110 - val_accuracy: 0.5532\n",
            "Epoch 38/70\n",
            "18/18 [==============================] - 1s 56ms/step - loss: 1.2884 - accuracy: 0.5036 - val_loss: 1.1815 - val_accuracy: 0.5674\n",
            "Epoch 39/70\n",
            "18/18 [==============================] - 1s 55ms/step - loss: 1.2586 - accuracy: 0.5161 - val_loss: 1.2360 - val_accuracy: 0.5035\n",
            "Epoch 40/70\n",
            "18/18 [==============================] - 1s 58ms/step - loss: 1.2531 - accuracy: 0.5464 - val_loss: 1.1918 - val_accuracy: 0.5390\n",
            "Epoch 41/70\n",
            "18/18 [==============================] - 1s 59ms/step - loss: 1.2518 - accuracy: 0.5196 - val_loss: 1.2701 - val_accuracy: 0.5461\n",
            "Epoch 42/70\n",
            "18/18 [==============================] - 1s 62ms/step - loss: 1.1813 - accuracy: 0.5429 - val_loss: 1.2042 - val_accuracy: 0.5532\n",
            "Epoch 43/70\n",
            "18/18 [==============================] - 1s 62ms/step - loss: 1.1985 - accuracy: 0.5446 - val_loss: 1.1659 - val_accuracy: 0.5390\n",
            "Epoch 44/70\n",
            "18/18 [==============================] - 1s 60ms/step - loss: 1.2005 - accuracy: 0.5536 - val_loss: 1.2388 - val_accuracy: 0.5106\n",
            "Epoch 45/70\n",
            "18/18 [==============================] - 1s 46ms/step - loss: 1.1936 - accuracy: 0.5321 - val_loss: 1.1714 - val_accuracy: 0.5390\n",
            "Epoch 46/70\n",
            "18/18 [==============================] - 1s 34ms/step - loss: 1.2214 - accuracy: 0.5464 - val_loss: 1.1611 - val_accuracy: 0.5532\n",
            "Epoch 47/70\n",
            "18/18 [==============================] - 1s 34ms/step - loss: 1.1445 - accuracy: 0.5911 - val_loss: 1.2089 - val_accuracy: 0.5106\n",
            "Epoch 48/70\n",
            "18/18 [==============================] - 1s 34ms/step - loss: 1.1948 - accuracy: 0.5804 - val_loss: 1.2356 - val_accuracy: 0.5248\n",
            "Epoch 49/70\n",
            "18/18 [==============================] - 1s 33ms/step - loss: 1.1776 - accuracy: 0.5696 - val_loss: 1.1619 - val_accuracy: 0.5957\n",
            "Epoch 50/70\n",
            "18/18 [==============================] - 1s 33ms/step - loss: 1.1300 - accuracy: 0.5768 - val_loss: 1.1646 - val_accuracy: 0.5887\n",
            "Epoch 51/70\n",
            "18/18 [==============================] - 1s 33ms/step - loss: 1.1184 - accuracy: 0.5750 - val_loss: 1.1161 - val_accuracy: 0.5745\n",
            "Epoch 52/70\n",
            "18/18 [==============================] - 1s 34ms/step - loss: 1.1495 - accuracy: 0.5482 - val_loss: 1.1599 - val_accuracy: 0.5248\n",
            "Epoch 53/70\n",
            "18/18 [==============================] - 1s 33ms/step - loss: 1.1270 - accuracy: 0.5571 - val_loss: 1.1492 - val_accuracy: 0.5603\n",
            "Epoch 54/70\n",
            "18/18 [==============================] - 1s 34ms/step - loss: 1.1174 - accuracy: 0.5911 - val_loss: 1.2326 - val_accuracy: 0.5603\n",
            "Epoch 55/70\n",
            "18/18 [==============================] - 1s 34ms/step - loss: 1.0957 - accuracy: 0.5679 - val_loss: 1.1981 - val_accuracy: 0.5461\n",
            "Epoch 56/70\n",
            "18/18 [==============================] - 1s 33ms/step - loss: 1.0567 - accuracy: 0.6161 - val_loss: 1.1130 - val_accuracy: 0.5816\n",
            "Epoch 57/70\n",
            "18/18 [==============================] - 1s 34ms/step - loss: 0.9999 - accuracy: 0.6125 - val_loss: 1.0910 - val_accuracy: 0.5745\n",
            "Epoch 58/70\n",
            "18/18 [==============================] - 1s 33ms/step - loss: 1.0608 - accuracy: 0.5875 - val_loss: 1.0706 - val_accuracy: 0.5957\n",
            "Epoch 59/70\n",
            "18/18 [==============================] - 1s 34ms/step - loss: 1.0972 - accuracy: 0.5679 - val_loss: 1.0679 - val_accuracy: 0.6099\n",
            "Epoch 60/70\n",
            "18/18 [==============================] - 1s 35ms/step - loss: 1.0134 - accuracy: 0.6161 - val_loss: 1.1096 - val_accuracy: 0.5816\n",
            "Epoch 61/70\n",
            "18/18 [==============================] - 1s 33ms/step - loss: 0.9880 - accuracy: 0.6339 - val_loss: 1.0921 - val_accuracy: 0.6454\n",
            "Epoch 62/70\n",
            "18/18 [==============================] - 1s 56ms/step - loss: 1.0546 - accuracy: 0.6304 - val_loss: 1.0605 - val_accuracy: 0.5674\n",
            "Epoch 63/70\n",
            "18/18 [==============================] - 1s 57ms/step - loss: 0.9589 - accuracy: 0.6500 - val_loss: 1.1457 - val_accuracy: 0.5887\n",
            "Epoch 64/70\n",
            "18/18 [==============================] - 1s 62ms/step - loss: 0.9998 - accuracy: 0.5982 - val_loss: 1.3508 - val_accuracy: 0.4894\n",
            "Epoch 65/70\n",
            "18/18 [==============================] - 1s 56ms/step - loss: 1.1325 - accuracy: 0.5625 - val_loss: 1.0309 - val_accuracy: 0.5816\n",
            "Epoch 66/70\n",
            "18/18 [==============================] - 1s 59ms/step - loss: 1.1409 - accuracy: 0.5714 - val_loss: 1.1056 - val_accuracy: 0.5816\n",
            "Epoch 67/70\n",
            "18/18 [==============================] - 1s 57ms/step - loss: 0.9960 - accuracy: 0.6232 - val_loss: 1.1543 - val_accuracy: 0.5461\n",
            "Epoch 68/70\n",
            "18/18 [==============================] - 1s 61ms/step - loss: 1.0014 - accuracy: 0.6179 - val_loss: 1.0285 - val_accuracy: 0.6170\n",
            "Epoch 69/70\n",
            "18/18 [==============================] - 1s 49ms/step - loss: 0.9342 - accuracy: 0.6429 - val_loss: 1.0070 - val_accuracy: 0.6312\n",
            "Epoch 70/70\n",
            "18/18 [==============================] - 1s 36ms/step - loss: 0.8995 - accuracy: 0.6679 - val_loss: 1.0342 - val_accuracy: 0.6028\n",
            "5/5 [==============================] - 0s 10ms/step - loss: 1.0342 - accuracy: 0.6028\n",
            "Accuracy: 0.6028369069099426\n"
          ]
        }
      ]
    },
    {
      "cell_type": "code",
      "execution_count": 68,
      "metadata": {
        "id": "cz63m9MD9imF",
        "outputId": "2df611d0-24dc-4a1d-fdac-8a25bacd5a98",
        "colab": {
          "base_uri": "https://localhost:8080/"
        }
      },
      "outputs": [
        {
          "output_type": "stream",
          "name": "stdout",
          "text": [
            "Image <class 'PIL.Image.Image'>\n",
            "Length 100\n",
            "4/4 [==============================] - 0s 13ms/step\n"
          ]
        }
      ],
      "source": [
        "private_dataframe = read_csv('assignment_7_private.csv')\n",
        "private_dataset = ImageDataset(private_dataframe)\n",
        "\n",
        "print('Image', type(private_dataset[0][0])) # Image <class 'PIL.Image.Image'> (28, 28)\n",
        "print('Length', len(private_dataset)) # Length 21436\n",
        "\n",
        "import numpy as np\n",
        "\n",
        "# remove and make your own predictions.\n",
        "preds = np.full(len(private_dataset), -1,\n",
        "                dtype=int)\n",
        "'''\n",
        "CODE HERE!\n",
        "e.g.,\n",
        "preds = np.full(len(X_private), -1, dtype=int)\n",
        "'''\n",
        "\n",
        "# Convert images to numpy arrays and normalize\n",
        "predict_imgages = np.asarray([np.array(sample[0]) for sample in private_dataset])\n",
        "predict_imgages = predict_imgages.astype('float32') / 255.0\n",
        "\n",
        "# Make predictions using the trained model\n",
        "predicted_labels = model.predict(predict_imgages)\n",
        "\n",
        "# Get the predicted labels\n",
        "preds = np.argmax(predicted_labels, axis=1)\n",
        "\n",
        "\n",
        "submission = pd.DataFrame({'Label': preds})\n",
        "submission.to_csv('assignment_7.csv', index=True, index_label='Id')"
      ]
    }
  ],
  "metadata": {
    "kernelspec": {
      "display_name": "Python 3 (ipykernel)",
      "language": "python",
      "name": "python3"
    },
    "language_info": {
      "codemirror_mode": {
        "name": "ipython",
        "version": 3
      },
      "file_extension": ".py",
      "mimetype": "text/x-python",
      "name": "python",
      "nbconvert_exporter": "python",
      "pygments_lexer": "ipython3",
      "version": "3.11.5"
    },
    "colab": {
      "provenance": []
    }
  },
  "nbformat": 4,
  "nbformat_minor": 0
}